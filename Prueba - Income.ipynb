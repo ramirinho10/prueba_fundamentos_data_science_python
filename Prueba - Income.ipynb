{
 "cells": [
  {
   "cell_type": "markdown",
   "id": "49ecc418",
   "metadata": {},
   "source": [
    "<img src=https://desafiolatam.com/assets/home/logo-academia-bla-790873cdf66b0e681dfbe640ace8a602f5330bec301c409744c358330e823ae3.png>"
   ]
  },
  {
   "cell_type": "markdown",
   "id": "af3ce9d9",
   "metadata": {},
   "source": [
    "   ###### Nombre Alumno: Ramiro Silva   \n",
    "   ###### Generación: G48\n",
    "   ###### Profesores: Geanina Salomó  /  Gonzalo Peña\n",
    "   ###### Fecha : 18-08-2022"
   ]
  },
  {
   "cell_type": "markdown",
   "id": "065826a9",
   "metadata": {},
   "source": [
    "<img src=\"prueba.png\" width=\"900\" height=\"900\"/>\n"
   ]
  },
  {
   "cell_type": "markdown",
   "id": "babd26ba",
   "metadata": {},
   "source": [
    "<img src=\"condiciones_generales.png\" width=\"900\" height=\"900\"/>\n"
   ]
  },
  {
   "cell_type": "markdown",
   "id": "7eea432d",
   "metadata": {},
   "source": [
    "<img src=\"puntuacion_y_correccion.png\" width=\"900\" height=\"900\"/>\n"
   ]
  },
  {
   "cell_type": "markdown",
   "id": "fa79dfff",
   "metadata": {},
   "source": [
    "<img src=\"condiciones_generales.png\" width=\"900\" height=\"900\"/>\n"
   ]
  },
  {
   "cell_type": "markdown",
   "id": "08a5f810",
   "metadata": {},
   "source": [
    "# Hito 1 Determinantes del ingreso"
   ]
  },
  {
   "cell_type": "markdown",
   "id": "dd91a89c",
   "metadata": {},
   "source": [
    "<img src=\"determinantes_del_ingreso.png\" width=\"900\" height=\"900\"/>\n"
   ]
  },
  {
   "cell_type": "markdown",
   "id": "c4172932",
   "metadata": {},
   "source": [
    "## Descripción de la DB\n",
    "\n",
    "\n",
    "<p> Para desarrollar este desafío se debe utilizar la base de datos income-db.csv. </p>\n",
    "\n",
    "<p> Las variables que componen esta base se detallan a continuación: </p>\n",
    "\n",
    "- `age`: Edad del individuo.\n",
    "\n",
    "- `workclass`: Naturaleza de la organización que emplea al individuo.\n",
    "\n",
    "- `education`: Nivel educacional del individuo:Bachelors (Licenciado), Some-college\n",
    "(Superior incompleta), 11th (3ro medio), HS-grad (Secundaria completa), Prof-school\n",
    "(Escuela profesional), Assoc-acdm (Técnico superior administrativo) , Assoc-voc\n",
    "(Técnico superior vocacional), 9th (1ro medio), 7th-8th (7mo-8vo), 12th (4to medio),\n",
    "Masters (Maestría de postgrado), 1st-4th (1ro-4to básico), 10th(2do medio),\n",
    "Doctorate (Doctorado), 5th-6th (5to-6to), Preschool (Preescolar).\n",
    "\n",
    "- `capital-gains`: Ingresos generados por inversiones fuera del trabajo asalariado =\n",
    "Ingresos generados por inversiones fuera del trabajo asalariado.\n",
    "\n",
    "- `capital-losses`: Pérdidas generadas por inversiones fuera del trabajo asalariado.\n",
    "- `fnlwgt`: Ponderador muestral.\n",
    "\n",
    "- `marital-status`: Estado civil del individuo: Married-civ-spouse (Casado/a régimen\n",
    "civil), Divorced (Divorciado/a), Never-married (Soltero/a), Separated (Separado/a),\n",
    "Widowed (Viudo/a), Married-spouse-absent (Casado con esposo/a ausente),\n",
    "Married-AF-spouse (Casado/a régimen castrense).\n",
    "\n",
    "- `occupation`: Ocupación del individuo: Tech-support (Soporte técnico), Craft-repair\n",
    "(Reparaciones), Other-service (Otros servicios), Sales (Ventas), Exec-managerial\n",
    "(Ejecutivo administrativos), Prof-specialty (Profesores), Handlers-cleaners (Aseo y\n",
    "ornato), Machine-op-inspct (Inspectores de maquinarias), Adm-clerical\n",
    "(Administrativos servicio al cliente), Farming-fishing (Pesca-ganadería),\n",
    "Transport-moving (Transporte), Priv-house-serv (Asesor del hogar), Protective-serv\n",
    "(servicios de seguridad), Armed-Forces (Fuerzas armadas).\n",
    "\n",
    "- `relationship`: Relación respecto a su familia Wife(Esposa), Own-child (hijo único),\n",
    "Husband (Esposo), Not-in-family (No pertenece a la familia), Other-relative (Familiar\n",
    "de otro tipo), Unmarried (Soltero).\n",
    "\n",
    "- `race`: Raza del encuestado White(Blanco caucásico), Asian-Pac-Islander (Isleño del\n",
    "Asia Pacífico), Amer-Indian-Eskimo (Pertenenciente a pueblos originarios), Other\n",
    "(Otro grupo), Black (Afroamericano).\n",
    "\n",
    "- `sex`: Sexo del encuestado.\n",
    "\n",
    "- `hours-per-week`: Cantidad de horas trabajadas por semana.\n",
    "\n",
    "- `native-country`: País de origen. United-States, Cambodia, England, Puerto-Rico,\n",
    "Canada, Germany, Outlying-US(Guam-USVI-etc), India, Japan, Greece, South, China,\n",
    "Cuba, Iran, Honduras, Philippines, Italy, Poland, Jamaica, Vietnam, Mexico, Portugal,\n",
    "Ireland, France, Dominican-Republic, Laos, Ecuador, Taiwan, Haiti, Columbia, Hungary,\n",
    "Guatemala, Nicaragua, Scotland, Thailand, Yugoslavia, El-Salvador, Trinadad&Tobago,\n",
    "Peru, Hong, Holand-Netherlands.\n",
    "\n",
    "- `income`: <=50K Si el individuo percibe ingresos inferiores a 50.000 dólares anuales,\n",
    ">50K si el individuo percibe ingresos superiores a 50.000 dólares anuales. Este es su\n",
    "vector objetivo."
   ]
  },
  {
   "cell_type": "markdown",
   "id": "b4bdf77d",
   "metadata": {},
   "source": [
    "# Preliminares\n",
    "\n",
    "## Descripción del problema\n",
    "\n",
    "\n",
    "\n",
    "\n",
    "Para el caso de \"Determinantes del ingreso\" se considera que el Vector Objetivo es la variable \"Income\" la cual es una variable dicotomica,  ya que indica las personas que tienen ingresos mayores a 50.000 y menores o iguales a 50.000 dólares anuales y es debido a ello, que nos estamos refieriendo de un problema de clasificación.\n",
    "\n",
    "Ya teniendo en cuenta que el Vector objetivo es una variable dicotomica y además que ya se sabe a priori los resultados del vector en estudio, se descarta un modelo de regresión lineal y se realizaran modelo econometrico y de machine learning.\n",
    "\n",
    "Para el modelo logistico al contar un df con muchos registros alrededor de 48.000 se falicitará a la hora de dividar el df para entrenar el modelo y para realizar el test.\n",
    "\n",
    "Respecto a los datos perdidos que vienen en forma \"?\" se deben transformar a nulos para su posterior eliminación. Se justifica la eliminación de estos registros ya que se cuenta con un df con bastantes registros lo cual en cierta forma no afectaría tanto a la hora de utilizar estos datos para generar modelos para entreamiento y testeo.\n",
    "\n",
    "Otro punto a considerar es que existen varaibles discretas que deben ser recodificadas a traves de binary encoding. Como a su vez se hace necesaria transformar el vector objetivo debido que se comento en lienas anteriores viene como un string.\n",
    "\n",
    "Finalmente como se trata de un modelo de machine learning lo que se busca es que el error a la hora de predecir sea el minimo.\n",
    "Para lo anteriormente utilizado se utilizarán las metricas de desempeño: Recall, F1, Acurrancy y Precision.\n",
    "Respecto al modelo econometrico se debe considerar como metricas de ajsutes el log-likelihood y ll-null."
   ]
  },
  {
   "cell_type": "markdown",
   "id": "20c6c5a8",
   "metadata": {},
   "source": [
    "# Aspectos Computacionales\n",
    "\n",
    "\n",
    "Para el desarrollo de la regresión lineal se deben considerar las siguientes librerías\n",
    "\n",
    "**import pandas as pd** # Es una librería orientada a la manipulación y limpieza de estructuras de datos.                       \n",
    "**import numpy as np**  # Es una librería orientada a la computación científica.                                               \n",
    "**import scipy.stats as stats** # Esta librería contiene un y nos ayuda a generar distribuciones\n",
    "\n",
    "**import matplotlib.pyplot as plt**   # Esta librería nos ayudará a generar gráficos.  \n",
    "**import seaborn as sns** # Esta librería podremos generar gráficos elegantes y se complementa con matplotlib.\n",
    "\n",
    "**import scipy.stats as stats**  # Es una libreria que sirve para simular y generar distribuciones.                             \n",
    "**from sklearn.preprocessing import LabelEncoder** # Es una librería y podremos recodificar variables.                         \n",
    "**from sklearn.model_selection import train_test_split** # Generamos los subset para entrenamiento y testeo del modelo.         \n",
    "**from sklearn.preprocessing import StandardScaler** # Esta librería nos sirve para estendarizar datos. \n",
    "**from sklearn.metrics import confusion_matrix** # Esta librería nos sirve para generar la matriz de confusión, una metrica.   \n",
    "\n",
    "\n",
    "**import statsmodels.api as sm**   # podremos generar un modelo                                                                 \n",
    "**import statsmodels.formula.api as smf**  #  librería que sirve para crear modelos Logistico o Regresion \n",
    "\n",
    "**import warnings**  # Esta es una librería que muestra los warning.                                                           \n",
    "**warnings.filterwarnings(\"ignore\", category=DeprecationWarning)** # con esto se evita que genere warnings de metodos o funciones desactualizadas.                                                                                                     \n"
   ]
  },
  {
   "cell_type": "markdown",
   "id": "9fef3df6",
   "metadata": {},
   "source": [
    "<img src=\"hito2.png\" width=\"900\" height=\"900\"/>\n"
   ]
  },
  {
   "cell_type": "code",
   "execution_count": 1,
   "id": "8bec9cb7",
   "metadata": {},
   "outputs": [
    {
     "data": {
      "text/html": [
       "<div>\n",
       "<style scoped>\n",
       "    .dataframe tbody tr th:only-of-type {\n",
       "        vertical-align: middle;\n",
       "    }\n",
       "\n",
       "    .dataframe tbody tr th {\n",
       "        vertical-align: top;\n",
       "    }\n",
       "\n",
       "    .dataframe thead th {\n",
       "        text-align: right;\n",
       "    }\n",
       "</style>\n",
       "<table border=\"1\" class=\"dataframe\">\n",
       "  <thead>\n",
       "    <tr style=\"text-align: right;\">\n",
       "      <th></th>\n",
       "      <th>age</th>\n",
       "      <th>workclass</th>\n",
       "      <th>fnlwgt</th>\n",
       "      <th>education</th>\n",
       "      <th>educational-num</th>\n",
       "      <th>marital-status</th>\n",
       "      <th>occupation</th>\n",
       "      <th>relationship</th>\n",
       "      <th>race</th>\n",
       "      <th>gender</th>\n",
       "      <th>capital-gain</th>\n",
       "      <th>capital-loss</th>\n",
       "      <th>hours-per-week</th>\n",
       "      <th>native-country</th>\n",
       "      <th>income</th>\n",
       "    </tr>\n",
       "  </thead>\n",
       "  <tbody>\n",
       "    <tr>\n",
       "      <th>0</th>\n",
       "      <td>25</td>\n",
       "      <td>Private</td>\n",
       "      <td>226802</td>\n",
       "      <td>11th</td>\n",
       "      <td>7</td>\n",
       "      <td>Never-married</td>\n",
       "      <td>Machine-op-inspct</td>\n",
       "      <td>Own-child</td>\n",
       "      <td>Black</td>\n",
       "      <td>Male</td>\n",
       "      <td>0</td>\n",
       "      <td>0</td>\n",
       "      <td>40</td>\n",
       "      <td>United-States</td>\n",
       "      <td>&lt;=50K</td>\n",
       "    </tr>\n",
       "    <tr>\n",
       "      <th>1</th>\n",
       "      <td>38</td>\n",
       "      <td>Private</td>\n",
       "      <td>89814</td>\n",
       "      <td>HS-grad</td>\n",
       "      <td>9</td>\n",
       "      <td>Married-civ-spouse</td>\n",
       "      <td>Farming-fishing</td>\n",
       "      <td>Husband</td>\n",
       "      <td>White</td>\n",
       "      <td>Male</td>\n",
       "      <td>0</td>\n",
       "      <td>0</td>\n",
       "      <td>50</td>\n",
       "      <td>United-States</td>\n",
       "      <td>&lt;=50K</td>\n",
       "    </tr>\n",
       "    <tr>\n",
       "      <th>2</th>\n",
       "      <td>28</td>\n",
       "      <td>Local-gov</td>\n",
       "      <td>336951</td>\n",
       "      <td>Assoc-acdm</td>\n",
       "      <td>12</td>\n",
       "      <td>Married-civ-spouse</td>\n",
       "      <td>Protective-serv</td>\n",
       "      <td>Husband</td>\n",
       "      <td>White</td>\n",
       "      <td>Male</td>\n",
       "      <td>0</td>\n",
       "      <td>0</td>\n",
       "      <td>40</td>\n",
       "      <td>United-States</td>\n",
       "      <td>&gt;50K</td>\n",
       "    </tr>\n",
       "    <tr>\n",
       "      <th>3</th>\n",
       "      <td>44</td>\n",
       "      <td>Private</td>\n",
       "      <td>160323</td>\n",
       "      <td>Some-college</td>\n",
       "      <td>10</td>\n",
       "      <td>Married-civ-spouse</td>\n",
       "      <td>Machine-op-inspct</td>\n",
       "      <td>Husband</td>\n",
       "      <td>Black</td>\n",
       "      <td>Male</td>\n",
       "      <td>7688</td>\n",
       "      <td>0</td>\n",
       "      <td>40</td>\n",
       "      <td>United-States</td>\n",
       "      <td>&gt;50K</td>\n",
       "    </tr>\n",
       "    <tr>\n",
       "      <th>4</th>\n",
       "      <td>18</td>\n",
       "      <td>?</td>\n",
       "      <td>103497</td>\n",
       "      <td>Some-college</td>\n",
       "      <td>10</td>\n",
       "      <td>Never-married</td>\n",
       "      <td>?</td>\n",
       "      <td>Own-child</td>\n",
       "      <td>White</td>\n",
       "      <td>Female</td>\n",
       "      <td>0</td>\n",
       "      <td>0</td>\n",
       "      <td>30</td>\n",
       "      <td>United-States</td>\n",
       "      <td>&lt;=50K</td>\n",
       "    </tr>\n",
       "  </tbody>\n",
       "</table>\n",
       "</div>"
      ],
      "text/plain": [
       "   age  workclass  fnlwgt     education  educational-num      marital-status  \\\n",
       "0   25    Private  226802          11th                7       Never-married   \n",
       "1   38    Private   89814       HS-grad                9  Married-civ-spouse   \n",
       "2   28  Local-gov  336951    Assoc-acdm               12  Married-civ-spouse   \n",
       "3   44    Private  160323  Some-college               10  Married-civ-spouse   \n",
       "4   18          ?  103497  Some-college               10       Never-married   \n",
       "\n",
       "          occupation relationship   race  gender  capital-gain  capital-loss  \\\n",
       "0  Machine-op-inspct    Own-child  Black    Male             0             0   \n",
       "1    Farming-fishing      Husband  White    Male             0             0   \n",
       "2    Protective-serv      Husband  White    Male             0             0   \n",
       "3  Machine-op-inspct      Husband  Black    Male          7688             0   \n",
       "4                  ?    Own-child  White  Female             0             0   \n",
       "\n",
       "   hours-per-week native-country income  \n",
       "0              40  United-States  <=50K  \n",
       "1              50  United-States  <=50K  \n",
       "2              40  United-States   >50K  \n",
       "3              40  United-States   >50K  \n",
       "4              30  United-States  <=50K  "
      ]
     },
     "execution_count": 1,
     "metadata": {},
     "output_type": "execute_result"
    }
   ],
   "source": [
    "#Se revisa el df\n",
    "\n",
    "import pandas as pd\n",
    "import numpy as np\n",
    "import scipy.stats as stats\n",
    "import matplotlib.pyplot as plt \n",
    "import seaborn as sns\n",
    "\n",
    "df = pd.read_csv(\"income-db.csv\")\n",
    "\n",
    "df.head()"
   ]
  },
  {
   "cell_type": "code",
   "execution_count": 2,
   "id": "9f510f15",
   "metadata": {},
   "outputs": [
    {
     "data": {
      "text/plain": [
       "(48842, 15)"
      ]
     },
     "execution_count": 2,
     "metadata": {},
     "output_type": "execute_result"
    }
   ],
   "source": [
    "#Se revisa la cantidad de registros y series que tiene el df\n",
    "\n",
    "df.shape"
   ]
  },
  {
   "cell_type": "code",
   "execution_count": 3,
   "id": "852d9acc",
   "metadata": {},
   "outputs": [
    {
     "name": "stdout",
     "output_type": "stream",
     "text": [
      "<class 'pandas.core.frame.DataFrame'>\n",
      "RangeIndex: 48842 entries, 0 to 48841\n",
      "Data columns (total 15 columns):\n",
      " #   Column           Non-Null Count  Dtype \n",
      "---  ------           --------------  ----- \n",
      " 0   age              48842 non-null  int64 \n",
      " 1   workclass        48842 non-null  object\n",
      " 2   fnlwgt           48842 non-null  int64 \n",
      " 3   education        48842 non-null  object\n",
      " 4   educational-num  48842 non-null  int64 \n",
      " 5   marital-status   48842 non-null  object\n",
      " 6   occupation       48842 non-null  object\n",
      " 7   relationship     48842 non-null  object\n",
      " 8   race             48842 non-null  object\n",
      " 9   gender           48842 non-null  object\n",
      " 10  capital-gain     48842 non-null  int64 \n",
      " 11  capital-loss     48842 non-null  int64 \n",
      " 12  hours-per-week   48842 non-null  int64 \n",
      " 13  native-country   48842 non-null  object\n",
      " 14  income           48842 non-null  object\n",
      "dtypes: int64(6), object(9)\n",
      "memory usage: 5.6+ MB\n"
     ]
    }
   ],
   "source": [
    "#Se identifican el tipo dato que existe en cada serie del df\n",
    "\n",
    "df.info()"
   ]
  },
  {
   "cell_type": "code",
   "execution_count": 4,
   "id": "9c939e3b",
   "metadata": {},
   "outputs": [
    {
     "data": {
      "text/plain": [
       "age                   0\n",
       "workclass          2799\n",
       "fnlwgt                0\n",
       "education             0\n",
       "educational-num       0\n",
       "marital-status        0\n",
       "occupation         2809\n",
       "relationship          0\n",
       "race                  0\n",
       "gender                0\n",
       "capital-gain          0\n",
       "capital-loss          0\n",
       "hours-per-week        0\n",
       "native-country      857\n",
       "income                0\n",
       "dtype: int64"
      ]
     },
     "execution_count": 4,
     "metadata": {},
     "output_type": "execute_result"
    }
   ],
   "source": [
    "\"\"\"\n",
    "Se transforman los datos que vienen como \"?\" y se transforman a NaN, para luego finalmente cuantificar cuantos datos nulos\n",
    "se tienen y en que series del df se encuentran.\n",
    "\"\"\"\n",
    "\n",
    "df[\"age\"] = df[\"age\"].replace([\"?\"], [np.nan])\n",
    "df[\"workclass\"] = df[\"workclass\"].replace([\"?\"], [np.nan])\n",
    "df[\"education\"] = df[\"education\"].replace([\"?\"], [np.nan])\n",
    "df[\"fnlwgt\"] = df[\"fnlwgt\"].replace([\"?\"], [np.nan])\n",
    "df[\"educational-num\"] = df[\"educational-num\"].replace([\"?\"], [np.nan])\n",
    "df[\"marital-status\"] = df[\"marital-status\"].replace([\"?\"], [np.nan])\n",
    "df[\"occupation\"] = df[\"occupation\"].replace([\"?\"], [np.nan])\n",
    "df[\"relationship\"] = df[\"relationship\"].replace([\"?\"], [np.nan])\n",
    "df[\"race\"] = df[\"race\"].replace([\"?\"], [np.nan])\n",
    "df[\"gender\"] = df[\"gender\"].replace([\"?\"], [np.nan])\n",
    "df[\"capital-gain\"] = df[\"capital-gain\"].replace([\"?\"], [np.nan])\n",
    "df[\"capital-loss\"] = df[\"capital-loss\"].replace([\"?\"], [np.nan])\n",
    "df[\"hours-per-week\"] = df[\"hours-per-week\"].replace([\"?\"], [np.nan])\n",
    "df[\"native-country\"] = df[\"native-country\"].replace([\"?\"], [np.nan])\n",
    "df[\"income\"] = df[\"income\"].replace([\"?\"], [np.nan])\n",
    "\n",
    "\n",
    "df.isnull().sum()\n"
   ]
  },
  {
   "cell_type": "code",
   "execution_count": 5,
   "id": "c8cf4890",
   "metadata": {},
   "outputs": [],
   "source": [
    "#Funcion para realizar graficos de barra para variables discretas de mi df\n",
    "\n",
    "def grafico_barra(df, var):\n",
    "    df[var].value_counts().plot(kind=\"bar\");\n",
    "    plt.ylabel(\"Frecuencia\");\n",
    "    plt.xlabel(\"Categoria\");\n",
    "    plt.title(f\"{var}\");"
   ]
  },
  {
   "cell_type": "code",
   "execution_count": 6,
   "id": "e64475db",
   "metadata": {},
   "outputs": [],
   "source": [
    "#Funcion para realizar graficos de barra para variables continuas de mi df\n",
    "\n",
    "def plot_hist(df, var, true_mean=False):\n",
    "    plt.hist(df[var])\n",
    "    plt.title(var)\n",
    "    plt.xlabel(\"Valores\")                 \n",
    "    plt.ylabel(\"Frecuencia\")\n",
    "    \n",
    "    if true_mean:\n",
    "        plt.axvline(df[var].mean(), color=\"red\", label=f\"Promedio de {var}\")\n",
    "    \n",
    "    plt.legend()"
   ]
  },
  {
   "cell_type": "code",
   "execution_count": 7,
   "id": "c66921e7",
   "metadata": {},
   "outputs": [],
   "source": [
    "def fetch_descriptives(df, var):\n",
    "    print(f\"La media de {var} es {df[var].mean()}\")\n",
    "    print(f\"La mediana de {var} es {df[var].median()}\")\n",
    "    print(f\"La moda de {var} es {stats.mode(df[var])[0]} y su frec es {stats.mode(df[var])[1]}\")\n",
    "    print(f\"La desviacion estandar es {np.std(df[var])}\")"
   ]
  },
  {
   "cell_type": "code",
   "execution_count": 8,
   "id": "81388d3e",
   "metadata": {},
   "outputs": [],
   "source": [
    "#Se realizo un analisis exploratorio de las variables y es por ello que realizaré primero la eliminación de los valores nulos\n",
    "#y se recodificaran algunas variables discretas, para finalmente mostrar las visualizaciones de las variables."
   ]
  },
  {
   "cell_type": "code",
   "execution_count": 9,
   "id": "34f5fd69",
   "metadata": {},
   "outputs": [
    {
     "data": {
      "text/plain": [
       "(45222, 15)"
      ]
     },
     "execution_count": 9,
     "metadata": {},
     "output_type": "execute_result"
    }
   ],
   "source": [
    "\"\"\"\n",
    "Se toma la decisión de eliminar los valores nulos ya que se cuenta con df relativamente poblado con muchos registros y se pasa\n",
    "de 48842 a 45222 registros, por lo cual se eliminan alrededor de 3620 registros.\n",
    "\"\"\"\n",
    "df = df.dropna()\n",
    "\n",
    "df.shape"
   ]
  },
  {
   "cell_type": "code",
   "execution_count": 10,
   "id": "1d9c10ee",
   "metadata": {},
   "outputs": [
    {
     "name": "stdout",
     "output_type": "stream",
     "text": [
      "1    34014\n",
      "0    11208\n",
      "Name: menor_o_igual_50000, dtype: int64\n"
     ]
    }
   ],
   "source": [
    "#Se recodificara el vector objetivo y se renombra la columna\n",
    "\n",
    "df[\"menor_o_igual_50000\"] = df[\"income\"].replace([\"<=50K\", \">50K\"], [1, 0])\n",
    "\n",
    "df = df.drop(['income'], axis=1)\n",
    "\n",
    "print(df[\"menor_o_igual_50000\"].value_counts())"
   ]
  },
  {
   "cell_type": "code",
   "execution_count": 11,
   "id": "fdcc2b7c",
   "metadata": {},
   "outputs": [
    {
     "data": {
      "text/plain": [
       "white-collar    24360\n",
       "blue-collar     16040\n",
       "others           4822\n",
       "Name: collars, dtype: int64"
      ]
     },
     "execution_count": 11,
     "metadata": {},
     "output_type": "execute_result"
    }
   ],
   "source": [
    "#La variable occupation se reagrupa en 3 grandes grupos. Cabe destacar que la serie occupation se elimina del df.\n",
    "\n",
    "df[\"collars\"] = df[\"occupation\"].replace(\n",
    "    [\"Prof-specialty\", \"Exec-managerial\", \"Adm-clerical\", \"Sales\", \"Tech-support\"],\n",
    "    [\"white-collar\",\"white-collar\",\"white-collar\",\"white-collar\", \"white-collar\"])\n",
    "\n",
    "df[\"collars\"] = df[\"collars\"].replace(\n",
    "    [\"Craft-repair\", \"Machine-op-inspct\", \"Transport-moving\", \"Handlers-cleaners\", \"Farming-fishing\", \"Protective-serv\",\"Priv-house-serv\"],\n",
    "    [\"blue-collar\",\"blue-collar\",\"blue-collar\",\"blue-collar\",\"blue-collar\",\"blue-collar\",\"blue-collar\"])\n",
    "\n",
    "df[\"collars\"] = df[\"collars\"].replace(\n",
    "    [\"Other-service\", \"Armed-Forces\"],\n",
    "    [\"others\", \"others\"])\n",
    "\n",
    "df = df.drop(['occupation'], axis=1)\n",
    "\n",
    "df[\"collars\"].value_counts()"
   ]
  },
  {
   "cell_type": "code",
   "execution_count": 12,
   "id": "ccb50055",
   "metadata": {},
   "outputs": [
    {
     "data": {
      "text/plain": [
       "Private            33307\n",
       "self-employed       5442\n",
       "state-level-gov     5046\n",
       "federal-gov         1406\n",
       "unemployed            21\n",
       "Name: workclass_recod, dtype: int64"
      ]
     },
     "execution_count": 12,
     "metadata": {},
     "output_type": "execute_result"
    }
   ],
   "source": [
    "#La variable workclass se reagrupa en 5 grandes grupos. En este caso cambiamos los valores para 4 grupos.\n",
    "#Cabe destacar que luego del reemplazo de los valores se elimina la serie workclass\n",
    "\n",
    "df[\"workclass_recod\"] = df[\"workclass\"].replace(\n",
    "    [\"Federal-gov\", \"State-gov\", \"Local-gov\", \"Self-emp-inc\", \"Self-emp-not-inc\", \"Never-worked\", \"Without-pay\"],\n",
    "    [\"federal-gov\", \"state-level-gov\", \"state-level-gov\", \"self-employed\", \"self-employed\", \"unemployed\", \"unemployed\"]\n",
    ")\n",
    "\n",
    "df = df.drop(['workclass'], axis=1)\n",
    "\n",
    "df[\"workclass_recod\"].value_counts()"
   ]
  },
  {
   "cell_type": "code",
   "execution_count": 13,
   "id": "bf00c0b3",
   "metadata": {},
   "outputs": [
    {
     "data": {
      "text/plain": [
       "high-school          19701\n",
       "college              13365\n",
       "university           11413\n",
       "elementary-school      671\n",
       "Preschool               72\n",
       "Name: edu_recod, dtype: int64"
      ]
     },
     "execution_count": 13,
     "metadata": {},
     "output_type": "execute_result"
    }
   ],
   "source": [
    "#La variable education se reagrupa en 5 grandes grupos o categorias.\n",
    "#Cabe destacar que luego del reemplazo de los valores se elimina la serie education\n",
    "\n",
    "df[\"edu_recod\"] = df[\"education\"].replace([\"preschool\"], [\"Preschool\"])\n",
    "df[\"edu_recod\"] = df[\"edu_recod\"].replace([\"1st-4th\", \"5th-6th\"], [\"elementary-school\"]*2)\n",
    "df[\"edu_recod\"] = df[\"edu_recod\"].replace([\"7th-8th\", \"9th\", \"10th\",\"11th\", \"12th\", \"HS-grad\"], [\"high-school\"]*6)\n",
    "df[\"edu_recod\"] = df[\"edu_recod\"].replace([\"Assoc-voc\", \"Assoc-acdm\", \"Some-college\"], [\"college\"]*3)\n",
    "df[\"edu_recod\"] = df[\"edu_recod\"].replace([\"Bachelors\", \"Masters\", \"Prof-school\", \"Doctorate\"], [\"university\"]*4)\n",
    "\n",
    "df = df.drop(['education'], axis=1)\n",
    "\n",
    "df[\"edu_recod\"].value_counts()"
   ]
  },
  {
   "cell_type": "code",
   "execution_count": 14,
   "id": "f75815fe",
   "metadata": {},
   "outputs": [
    {
     "data": {
      "text/plain": [
       "married          21639\n",
       "Never-married    14598\n",
       "divorced          6297\n",
       "separated         1411\n",
       "widowed           1277\n",
       "Name: civstatus, dtype: int64"
      ]
     },
     "execution_count": 14,
     "metadata": {},
     "output_type": "execute_result"
    }
   ],
   "source": [
    "#En la variable marital status se reagrupan alunas categorias y ahora quedan 5 grandes categorias.\n",
    "\n",
    "df[\"civstatus\"] = df[\"marital-status\"].replace([\"Married-civ-spouse\", \"Married-spouse-absent\",\"Married-AF-spouse\"], [\"married\"]*3)\n",
    "df[\"civstatus\"] = df[\"civstatus\"].replace([\"Divorced\"], [\"divorced\"])\n",
    "df[\"civstatus\"] = df[\"civstatus\"].replace([\"Separated\"], [\"separated\"])\n",
    "df[\"civstatus\"] = df[\"civstatus\"].replace([\"Widowed\"], [\"widowed\"])\n",
    "\n",
    "df = df.drop(['marital-status'], axis=1)\n",
    "\n",
    "df[\"civstatus\"].value_counts()"
   ]
  },
  {
   "cell_type": "code",
   "execution_count": 15,
   "id": "50cae82b",
   "metadata": {},
   "outputs": [
    {
     "data": {
      "text/plain": [
       "America    43453\n",
       "Asia        1031\n",
       "Europa       738\n",
       "Name: region, dtype: int64"
      ]
     },
     "execution_count": 15,
     "metadata": {},
     "output_type": "execute_result"
    }
   ],
   "source": [
    "#En la variable native-country se clasificaron los paises por región cabe destacar que se identificaron 3 continentes.\n",
    "#Luego de la transformación de los datos se elimina la serie native-country.\n",
    "\n",
    "df[\"region\"] = df[\"native-country\"].replace([\"United-States\",\n",
    "\"Mexico\",\n",
    "\"Puerto-Rico\",\n",
    "\"Canada\",\n",
    "\"El-Salvador\",\n",
    "\"Cuba\",\n",
    "\"Jamaica\",\n",
    "\"Dominican-Republic\",\n",
    "\"Guatemala\",\n",
    "\"Columbia\",\n",
    "\"Haiti\",\n",
    "\"Nicaragua\",\n",
    "\"Peru\",\n",
    "\"Ecuador\",\n",
    "\"Trinadad&Tobago\",\n",
    "\"Outlying-US(Guam-USVI-etc)\",\n",
    "\"Honduras\"], [\"America\"]*17)\n",
    "\n",
    "\n",
    "df[\"region\"] = df[\"region\"].replace([\"Philippines\",\n",
    "\"India\",\n",
    "\"China\",\n",
    "\"South\",\n",
    "\"Japan\",\n",
    "\"Vietnam\",\n",
    "\"Iran\",\n",
    "\"Taiwan\",\n",
    "\"Thailand\",\n",
    "\"Hong\",\n",
    "\"Cambodia\",\n",
    "\"Laos\"], [\"Asia\"]*12)\n",
    "\n",
    "\n",
    "df[\"region\"] = df[\"region\"].replace([\"Germany\",\n",
    "\"England\",\n",
    "\"Italy\",\n",
    "\"Poland\",\n",
    "\"Portugal\",\n",
    "\"Greece\",\n",
    "\"France\",\n",
    "\"Ireland\",\n",
    "\"Yugoslavia\",\n",
    "\"Scotland\",\n",
    "\"Hungary\",\n",
    "\"Holand-Netherlands\"],[\"Europa\"]*12)\n",
    "\n",
    "\n",
    "df = df.drop(['native-country'], axis=1)\n",
    "\n",
    "df[\"region\"].value_counts()"
   ]
  },
  {
   "cell_type": "code",
   "execution_count": 16,
   "id": "0b0a851d",
   "metadata": {},
   "outputs": [
    {
     "data": {
      "text/html": [
       "<div>\n",
       "<style scoped>\n",
       "    .dataframe tbody tr th:only-of-type {\n",
       "        vertical-align: middle;\n",
       "    }\n",
       "\n",
       "    .dataframe tbody tr th {\n",
       "        vertical-align: top;\n",
       "    }\n",
       "\n",
       "    .dataframe thead th {\n",
       "        text-align: right;\n",
       "    }\n",
       "</style>\n",
       "<table border=\"1\" class=\"dataframe\">\n",
       "  <thead>\n",
       "    <tr style=\"text-align: right;\">\n",
       "      <th></th>\n",
       "      <th>age</th>\n",
       "      <th>fnlwgt</th>\n",
       "      <th>educational-num</th>\n",
       "      <th>relationship</th>\n",
       "      <th>race</th>\n",
       "      <th>gender</th>\n",
       "      <th>capital-gain</th>\n",
       "      <th>capital-loss</th>\n",
       "      <th>hours-per-week</th>\n",
       "      <th>menor_o_igual_50000</th>\n",
       "      <th>collars</th>\n",
       "      <th>workclass_recod</th>\n",
       "      <th>edu_recod</th>\n",
       "      <th>civstatus</th>\n",
       "      <th>region</th>\n",
       "    </tr>\n",
       "  </thead>\n",
       "  <tbody>\n",
       "    <tr>\n",
       "      <th>0</th>\n",
       "      <td>25</td>\n",
       "      <td>226802</td>\n",
       "      <td>7</td>\n",
       "      <td>Own-child</td>\n",
       "      <td>Black</td>\n",
       "      <td>Male</td>\n",
       "      <td>0</td>\n",
       "      <td>0</td>\n",
       "      <td>40</td>\n",
       "      <td>1</td>\n",
       "      <td>blue-collar</td>\n",
       "      <td>Private</td>\n",
       "      <td>high-school</td>\n",
       "      <td>Never-married</td>\n",
       "      <td>America</td>\n",
       "    </tr>\n",
       "    <tr>\n",
       "      <th>1</th>\n",
       "      <td>38</td>\n",
       "      <td>89814</td>\n",
       "      <td>9</td>\n",
       "      <td>Husband</td>\n",
       "      <td>White</td>\n",
       "      <td>Male</td>\n",
       "      <td>0</td>\n",
       "      <td>0</td>\n",
       "      <td>50</td>\n",
       "      <td>1</td>\n",
       "      <td>blue-collar</td>\n",
       "      <td>Private</td>\n",
       "      <td>high-school</td>\n",
       "      <td>married</td>\n",
       "      <td>America</td>\n",
       "    </tr>\n",
       "    <tr>\n",
       "      <th>2</th>\n",
       "      <td>28</td>\n",
       "      <td>336951</td>\n",
       "      <td>12</td>\n",
       "      <td>Husband</td>\n",
       "      <td>White</td>\n",
       "      <td>Male</td>\n",
       "      <td>0</td>\n",
       "      <td>0</td>\n",
       "      <td>40</td>\n",
       "      <td>0</td>\n",
       "      <td>blue-collar</td>\n",
       "      <td>state-level-gov</td>\n",
       "      <td>college</td>\n",
       "      <td>married</td>\n",
       "      <td>America</td>\n",
       "    </tr>\n",
       "    <tr>\n",
       "      <th>3</th>\n",
       "      <td>44</td>\n",
       "      <td>160323</td>\n",
       "      <td>10</td>\n",
       "      <td>Husband</td>\n",
       "      <td>Black</td>\n",
       "      <td>Male</td>\n",
       "      <td>7688</td>\n",
       "      <td>0</td>\n",
       "      <td>40</td>\n",
       "      <td>0</td>\n",
       "      <td>blue-collar</td>\n",
       "      <td>Private</td>\n",
       "      <td>college</td>\n",
       "      <td>married</td>\n",
       "      <td>America</td>\n",
       "    </tr>\n",
       "    <tr>\n",
       "      <th>5</th>\n",
       "      <td>34</td>\n",
       "      <td>198693</td>\n",
       "      <td>6</td>\n",
       "      <td>Not-in-family</td>\n",
       "      <td>White</td>\n",
       "      <td>Male</td>\n",
       "      <td>0</td>\n",
       "      <td>0</td>\n",
       "      <td>30</td>\n",
       "      <td>1</td>\n",
       "      <td>others</td>\n",
       "      <td>Private</td>\n",
       "      <td>high-school</td>\n",
       "      <td>Never-married</td>\n",
       "      <td>America</td>\n",
       "    </tr>\n",
       "  </tbody>\n",
       "</table>\n",
       "</div>"
      ],
      "text/plain": [
       "   age  fnlwgt  educational-num   relationship   race gender  capital-gain  \\\n",
       "0   25  226802                7      Own-child  Black   Male             0   \n",
       "1   38   89814                9        Husband  White   Male             0   \n",
       "2   28  336951               12        Husband  White   Male             0   \n",
       "3   44  160323               10        Husband  Black   Male          7688   \n",
       "5   34  198693                6  Not-in-family  White   Male             0   \n",
       "\n",
       "   capital-loss  hours-per-week  menor_o_igual_50000      collars  \\\n",
       "0             0              40                    1  blue-collar   \n",
       "1             0              50                    1  blue-collar   \n",
       "2             0              40                    0  blue-collar   \n",
       "3             0              40                    0  blue-collar   \n",
       "5             0              30                    1       others   \n",
       "\n",
       "   workclass_recod    edu_recod      civstatus   region  \n",
       "0          Private  high-school  Never-married  America  \n",
       "1          Private  high-school        married  America  \n",
       "2  state-level-gov      college        married  America  \n",
       "3          Private      college        married  America  \n",
       "5          Private  high-school  Never-married  America  "
      ]
     },
     "execution_count": 16,
     "metadata": {},
     "output_type": "execute_result"
    }
   ],
   "source": [
    "df.head()"
   ]
  },
  {
   "cell_type": "code",
   "execution_count": 17,
   "id": "cc46f5c9",
   "metadata": {},
   "outputs": [
    {
     "data": {
      "image/png": "[encoded data removed]",
      "text/plain": [
       "<Figure size 432x288 with 1 Axes>"
      ]
     },
     "metadata": {
      "needs_background": "light"
     },
     "output_type": "display_data"
    }
   ],
   "source": [
    "#Inspeccion de la Vatiable Objetivo\n",
    "#Se puede apreciar que existen mas registros donde las personas tienen ingresos iguales o por debajo de los 50.000 dolares.\n",
    "#Por otro lado comentar que se recodificara esta variable de forma bonaria.\n",
    "\n",
    "grafico_barra(df, \"menor_o_igual_50000\")"
   ]
  },
  {
   "cell_type": "code",
   "execution_count": 18,
   "id": "ef582c47",
   "metadata": {},
   "outputs": [
    {
     "name": "stdout",
     "output_type": "stream",
     "text": [
      "La media de age es 38.547941267524656\n",
      "La mediana de age es 37.0\n",
      "La moda de age es [36] y su frec es [1283]\n",
      "La desviacion estandar es 13.217724074001213\n"
     ]
    },
    {
     "data": {
      "image/png": "[encoded data removed]",
      "text/plain": [
       "<Figure size 432x288 with 1 Axes>"
      ]
     },
     "metadata": {
      "needs_background": "light"
     },
     "output_type": "display_data"
    }
   ],
   "source": [
    "#La variable age es una variable del tipo continua a priori se ve que tiene una distribución de forma normal levemente sesgada hacia la izquierda\n",
    "#Por otro lado comentar que los valores se concentran entre los 20 a 50 años con una media de 38 años.\n",
    "\n",
    "fetch_descriptives(df, \"age\")\n",
    "                   \n",
    "plot_hist(df, \"age\", True)"
   ]
  },
  {
   "cell_type": "code",
   "execution_count": 19,
   "id": "35e05bd4",
   "metadata": {},
   "outputs": [
    {
     "name": "stdout",
     "output_type": "stream",
     "text": [
      "La media de fnlwgt es 189734.7343107337\n",
      "La mediana de fnlwgt es 178316.0\n",
      "La moda de fnlwgt es [203488] y su frec es [21]\n",
      "La desviacion estandar es 105638.02712109563\n"
     ]
    },
    {
     "data": {
      "image/png": "[encoded data removed]",
      "text/plain": [
       "<Figure size 432x288 with 1 Axes>"
      ]
     },
     "metadata": {
      "needs_background": "light"
     },
     "output_type": "display_data"
    }
   ],
   "source": [
    "#La variable fnlwgt es una variable del tipo continua se aprecia que es una distribución sesgada hacia la izquierda\n",
    "\n",
    "fetch_descriptives(df, \"fnlwgt\")\n",
    "\n",
    "plot_hist(df, \"fnlwgt\", True)"
   ]
  },
  {
   "cell_type": "code",
   "execution_count": 20,
   "id": "0c045d40",
   "metadata": {},
   "outputs": [
    {
     "name": "stdout",
     "output_type": "stream",
     "text": [
      "La media de educational-num es 10.118460041572686\n",
      "La mediana de educational-num es 10.0\n",
      "La moda de educational-num es [9] y su frec es [14783]\n",
      "La desviacion estandar es 2.552852968821456\n"
     ]
    },
    {
     "data": {
      "image/png": "[encoded data removed]",
      "text/plain": [
       "<Figure size 432x288 with 1 Axes>"
      ]
     },
     "metadata": {
      "needs_background": "light"
     },
     "output_type": "display_data"
    }
   ],
   "source": [
    "#La variable educational-num\" es una variable del tipo continua, no queda del todo claro si es una distribución normal,\n",
    "#pero según la media, mediana y moda podría ser una Distribución normal.\n",
    "#Por otro lado comentar que la mayória de los datos se concentra entre los 9 y 14, con una media de 10.11 me iamgino que son años.\n",
    "\n",
    "fetch_descriptives(df, \"educational-num\")\n",
    "\n",
    "plot_hist(df, \"educational-num\", True)"
   ]
  },
  {
   "cell_type": "code",
   "execution_count": 21,
   "id": "7d5497b7",
   "metadata": {},
   "outputs": [
    {
     "name": "stdout",
     "output_type": "stream",
     "text": [
      "La media de capital-gain es 1101.4303436380524\n",
      "La mediana de capital-gain es 0.0\n",
      "La moda de capital-gain es [0] y su frec es [41432]\n",
      "La desviacion estandar es 7506.3470879530305\n"
     ]
    },
    {
     "data": {
      "image/png": "[encoded data removed]",
      "text/plain": [
       "<Figure size 432x288 with 1 Axes>"
      ]
     },
     "metadata": {
      "needs_background": "light"
     },
     "output_type": "display_data"
    }
   ],
   "source": [
    "#La variable capital-gain es una variable del tipo continua\n",
    "#Se aprecia que no es una distribución normal y se podría solucionar aplicando logaritmo.\n",
    "#Se aprecia que la media de ingresos generados por inversiones fuera del trabajo para las personas es de 1079 dolares, lo cual es algo engañoso.\n",
    "#Se aprecia que el 50% de las personas no cuenta con ingresos generados por inversiones fuera del trabajo.\n",
    "\n",
    "fetch_descriptives(df, \"capital-gain\")\n",
    "\n",
    "plot_hist(df, \"capital-gain\", True)"
   ]
  },
  {
   "cell_type": "code",
   "execution_count": 22,
   "id": "e1f5abee",
   "metadata": {},
   "outputs": [
    {
     "name": "stdout",
     "output_type": "stream",
     "text": [
      "La media de capital-loss es 88.595418159303\n",
      "La mediana de capital-loss es 0.0\n",
      "La moda de capital-loss es [0] y su frec es [43082]\n",
      "La desviacion estandar es 404.9516146108138\n"
     ]
    },
    {
     "data": {
      "image/png": "[encoded data removed]",
      "text/plain": [
       "<Figure size 432x288 with 1 Axes>"
      ]
     },
     "metadata": {
      "needs_background": "light"
     },
     "output_type": "display_data"
    }
   ],
   "source": [
    "#La variable capital-loss es una variable del tipo continua.\n",
    "#Se aprecia que la gran mayoría no cuenta con perdidas generadas por inversiones fuera del trabajo ya que no cuentan con inversiones.+\n",
    "#Por otro lado comentar que las perdias se conencentran entre los 1500 y 2500 dolares.\n",
    "\n",
    "fetch_descriptives(df, \"capital-loss\")\n",
    "\n",
    "plot_hist(df, \"capital-loss\", True)"
   ]
  },
  {
   "cell_type": "code",
   "execution_count": 23,
   "id": "ea31f0f9",
   "metadata": {},
   "outputs": [
    {
     "name": "stdout",
     "output_type": "stream",
     "text": [
      "La media de hours-per-week es 40.93801689443191\n",
      "La mediana de hours-per-week es 40.0\n",
      "La moda de hours-per-week es [40] y su frec es [21358]\n",
      "La desviacion estandar es 12.007375467501145\n"
     ]
    },
    {
     "data": {
      "image/png": "[encoded data removed]",
      "text/plain": [
       "<Figure size 432x288 with 1 Axes>"
      ]
     },
     "metadata": {
      "needs_background": "light"
     },
     "output_type": "display_data"
    }
   ],
   "source": [
    "#La variable hours-per-week es una variable del tipo continua\n",
    "#Se aprecia que tiene forma de una distribución normaly se puede apreciar que tanto la media, mediana y moda rondan las 40 hrs.\n",
    "\n",
    "fetch_descriptives(df, \"hours-per-week\")\n",
    "\n",
    "plot_hist(df, \"hours-per-week\", True)"
   ]
  },
  {
   "cell_type": "code",
   "execution_count": 32,
   "id": "fb30d1a9",
   "metadata": {},
   "outputs": [
    {
     "data": {
      "image/png": "[encoded data removed]",
      "text/plain": [
       "<Figure size 432x288 with 1 Axes>"
      ]
     },
     "metadata": {
      "needs_background": "light"
     },
     "output_type": "display_data"
    }
   ],
   "source": [
    "#La variable workclass es del tipo discreta. Cabe destacar que esta variable se reagrupará en grandes grupos y se llamará collars\n",
    "#Se aprecia que la mayor frecuencia de los datos estan en la categoría Private en la natutaleza del empleo\n",
    "\n",
    "grafico_barra(df, \"workclass_recod\")"
   ]
  },
  {
   "cell_type": "code",
   "execution_count": 33,
   "id": "0b7a28ff",
   "metadata": {},
   "outputs": [
    {
     "data": {
      "image/png": "[encoded data removed]",
      "text/plain": [
       "<Figure size 432x288 with 1 Axes>"
      ]
     },
     "metadata": {
      "needs_background": "light"
     },
     "output_type": "display_data"
    }
   ],
   "source": [
    "#La variable education es del tipo discreta. Cabe destacar que esta variable se reagrupo en 5 categorías y se renombro a educ_recod \n",
    "\n",
    "#Se aprecia que la categoria High-school es la que cuenta con mayor frecuencia y Preschool es la que cuenta con una menor frecuencia.\n",
    "\n",
    "grafico_barra(df, \"edu_recod\")"
   ]
  },
  {
   "cell_type": "code",
   "execution_count": 36,
   "id": "cf52f530",
   "metadata": {},
   "outputs": [
    {
     "name": "stdout",
     "output_type": "stream",
     "text": [
      "married          0.478506\n",
      "Never-married    0.322807\n",
      "divorced         0.139246\n",
      "separated        0.031202\n",
      "widowed          0.028238\n",
      "Name: civstatus, dtype: float64\n"
     ]
    },
    {
     "data": {
      "image/png": "[encoded data removed]",
      "text/plain": [
       "<Figure size 432x288 with 1 Axes>"
      ]
     },
     "metadata": {
      "needs_background": "light"
     },
     "output_type": "display_data"
    }
   ],
   "source": [
    "#La variable marital-status es del tipo discreta. Cabe destacar que esta variable se reagrupo en 5 categorías y se renombro civstatus\n",
    "\n",
    "#Se aprecia que para la serie civstatus la categoría married cuenta con mayor frecuencia equivalente a un 0.48 de prob\n",
    "\n",
    "print(df[\"civstatus\"].value_counts('%'))\n",
    "grafico_barra(df, \"civstatus\")"
   ]
  },
  {
   "cell_type": "code",
   "execution_count": 38,
   "id": "99e67e75",
   "metadata": {},
   "outputs": [
    {
     "name": "stdout",
     "output_type": "stream",
     "text": [
      "white-collar    0.538676\n",
      "blue-collar     0.354695\n",
      "others          0.106630\n",
      "Name: collars, dtype: float64\n"
     ]
    },
    {
     "data": {
      "image/png": "[encoded data removed]",
      "text/plain": [
       "<Figure size 432x288 with 1 Axes>"
      ]
     },
     "metadata": {
      "needs_background": "light"
     },
     "output_type": "display_data"
    }
   ],
   "source": [
    "#La variable marital-status es del tipo discreta. Cabe destacar que esta variable se reagrupó en 5 categorías y se renombró a civstatus\n",
    "\n",
    "#Se aprecia que la categoria white-collar cuenta con amyor frecuencia en la serie equivalente a un 0.54 de prob.\n",
    "\n",
    "print(df[\"collars\"].value_counts('%'))\n",
    "\n",
    "grafico_barra(df, \"collars\")"
   ]
  },
  {
   "cell_type": "code",
   "execution_count": 40,
   "id": "663dc30d",
   "metadata": {},
   "outputs": [
    {
     "name": "stdout",
     "output_type": "stream",
     "text": [
      "Husband           0.412764\n",
      "Not-in-family     0.258768\n",
      "Own-child         0.146522\n",
      "Unmarried         0.105878\n",
      "Wife              0.046239\n",
      "Other-relative    0.029831\n",
      "Name: relationship, dtype: float64\n"
     ]
    },
    {
     "data": {
      "image/png": "[encoded data removed]",
      "text/plain": [
       "<Figure size 432x288 with 1 Axes>"
      ]
     },
     "metadata": {
      "needs_background": "light"
     },
     "output_type": "display_data"
    }
   ],
   "source": [
    "#Se aprecia que la mayor frecuencia en la serie relationship es la categoria Husband correspondiente a un 0.41.\n",
    "\n",
    "grafico_barra(df, \"relationship\")\n",
    "\n",
    "print(df[\"relationship\"].value_counts('%'))\n"
   ]
  },
  {
   "cell_type": "code",
   "execution_count": 43,
   "id": "f7e3218f",
   "metadata": {},
   "outputs": [
    {
     "name": "stdout",
     "output_type": "stream",
     "text": [
      "White                 0.860267\n",
      "Black                 0.093494\n",
      "Asian-Pac-Islander    0.028813\n",
      "Amer-Indian-Eskimo    0.009619\n",
      "Other                 0.007806\n",
      "Name: race, dtype: float64\n"
     ]
    },
    {
     "data": {
      "image/png": "[encoded data removed]",
      "text/plain": [
       "<Figure size 432x288 with 1 Axes>"
      ]
     },
     "metadata": {
      "needs_background": "light"
     },
     "output_type": "display_data"
    }
   ],
   "source": [
    "#Se aprecia la variable race es del tipo categorica y que la mayor frecuencia la tiene la raza blanca con 86% del total.\n",
    "\n",
    "grafico_barra(df, \"race\")\n",
    "\n",
    "print(df[\"race\"].value_counts('%'))\n"
   ]
  },
  {
   "cell_type": "code",
   "execution_count": 46,
   "id": "82f7afe5",
   "metadata": {},
   "outputs": [
    {
     "name": "stdout",
     "output_type": "stream",
     "text": [
      "Male      0.675048\n",
      "Female    0.324952\n",
      "Name: gender, dtype: float64\n"
     ]
    },
    {
     "data": {
      "image/png": "[encoded data removed]",
      "text/plain": [
       "<Figure size 432x288 with 1 Axes>"
      ]
     },
     "metadata": {
      "needs_background": "light"
     },
     "output_type": "display_data"
    }
   ],
   "source": [
    "#Se aprecia que la serie gender es binaria y que la mayor frecuencia de personas es del tipo Male, equivalente un 68% del total.\n",
    "\n",
    "grafico_barra(df, \"gender\")\n",
    "\n",
    "print(df[\"gender\"].value_counts('%'))\n"
   ]
  },
  {
   "cell_type": "code",
   "execution_count": 49,
   "id": "e950e279",
   "metadata": {},
   "outputs": [
    {
     "name": "stdout",
     "output_type": "stream",
     "text": [
      "America    0.960882\n",
      "Asia       0.022799\n",
      "Europa     0.016319\n",
      "Name: region, dtype: float64\n"
     ]
    },
    {
     "data": {
      "image/png": "[encoded data removed]",
      "text/plain": [
       "<Figure size 432x288 with 1 Axes>"
      ]
     },
     "metadata": {
      "needs_background": "light"
     },
     "output_type": "display_data"
    }
   ],
   "source": [
    "#La variable region fue recodificada de la serie native-country.\n",
    "#Por otro lado comentar que según los datos de la serie el 96% del total de personas pertenecen al continente Americano.\n",
    "\n",
    "grafico_barra(df, \"region\")\n",
    "\n",
    "print(df[\"region\"].value_counts('%'))\n"
   ]
  },
  {
   "cell_type": "code",
   "execution_count": null,
   "id": "56135c0c",
   "metadata": {},
   "outputs": [],
   "source": []
  }
 ],
 "metadata": {
  "hide_input": false,
  "kernelspec": {
   "display_name": "Python 3 (ipykernel)",
   "language": "python",
   "name": "python3"
  },
  "language_info": {
   "codemirror_mode": {
    "name": "ipython",
    "version": 3
   },
   "file_extension": ".py",
   "mimetype": "text/x-python",
   "name": "python",
   "nbconvert_exporter": "python",
   "pygments_lexer": "ipython3",
   "version": "3.9.12"
  },
  "toc": {
   "base_numbering": 1,
   "nav_menu": {},
   "number_sections": true,
   "sideBar": true,
   "skip_h1_title": false,
   "title_cell": "Table of Contents",
   "title_sidebar": "Contents",
   "toc_cell": false,
   "toc_position": {},
   "toc_section_display": true,
   "toc_window_display": false
  },
  "varInspector": {
   "cols": {
    "lenName": 16,
    "lenType": 16,
    "lenVar": 40
   },
   "kernels_config": {
    "python": {
     "delete_cmd_postfix": "",
     "delete_cmd_prefix": "del ",
     "library": "var_list.py",
     "varRefreshCmd": "print(var_dic_list())"
    },
    "r": {
     "delete_cmd_postfix": ") ",
     "delete_cmd_prefix": "rm(",
     "library": "var_list.r",
     "varRefreshCmd": "cat(var_dic_list()) "
    }
   },
   "types_to_exclude": [
    "module",
    "function",
    "builtin_function_or_method",
    "instance",
    "_Feature"
   ],
   "window_display": false
  }
 },
 "nbformat": 4,
 "nbformat_minor": 5
}
