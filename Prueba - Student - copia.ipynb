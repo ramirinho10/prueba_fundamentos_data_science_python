{
 "cells": [
  {
   "cell_type": "markdown",
   "id": "49ecc418",
   "metadata": {},
   "source": [
    "<img src=https://desafiolatam.com/assets/home/logo-academia-bla-790873cdf66b0e681dfbe640ace8a602f5330bec301c409744c358330e823ae3.png>"
   ]
  },
  {
   "cell_type": "markdown",
   "id": "af3ce9d9",
   "metadata": {},
   "source": [
    "   ###### Nombre Alumno: Ramiro Silva   \n",
    "   ###### Generación: G48\n",
    "   ###### Profesores: Geanina Salomó  /  Gonzalo Peña\n",
    "   ###### Fecha : 18-08-2022"
   ]
  },
  {
   "cell_type": "markdown",
   "id": "065826a9",
   "metadata": {},
   "source": [
    "<img src=\"prueba.png\" width=\"900\" height=\"900\"/>\n"
   ]
  },
  {
   "cell_type": "markdown",
   "id": "babd26ba",
   "metadata": {},
   "source": [
    "<img src=\"condiciones_generales.png\" width=\"900\" height=\"900\"/>\n"
   ]
  },
  {
   "cell_type": "markdown",
   "id": "7eea432d",
   "metadata": {},
   "source": [
    "<img src=\"puntuacion_y_correccion.png\" width=\"900\" height=\"900\"/>\n"
   ]
  },
  {
   "cell_type": "markdown",
   "id": "08a5f810",
   "metadata": {},
   "source": [
    "# Hito 1 Rendimiento Escolar"
   ]
  },
  {
   "cell_type": "markdown",
   "id": "dd91a89c",
   "metadata": {},
   "source": [
    "<img src=\"rendimiento_escolar.png\" width=\"900\" height=\"900\"/>\n",
    "\n"
   ]
  },
  {
   "cell_type": "markdown",
   "id": "9467a263",
   "metadata": {},
   "source": [
    "<img src=\"aspectos_adicionales_rendimiento_escolar.png\" width=\"900\" height=\"900\"/>\n"
   ]
  },
  {
   "cell_type": "markdown",
   "id": "c4172932",
   "metadata": {},
   "source": [
    "## Descripción de la DB\n",
    "\n",
    "\n",
    "<p> Para desarrollar este desafío se debe utilizar la base de datos income-db.csv. </p>\n",
    "\n",
    "<p> Las variables que componen esta base se detallan a continuación: </p>\n",
    "\n",
    "\n",
    "* `school:` Escuela del estudiante. (binaria: 'GP' - Gabriel Pereira o 'MS' - Mousinho da Silveira).\n",
    "* `sex:` Sexo del estudiante. (binaria: 'F' - Mujer o 'M' - Hombre).\n",
    "* `age:` Edad del estudiante. (numérica: de 15 a 22).\n",
    "* `address:` Ubicación de la casa del estudiante. (binaria: 'U' - urbana o 'R' - rural).\n",
    "* `famsize:` Tamaño de la familia. (binaria: 'LE3' - less or equal to 3 or 'GT3' - greaterthan 3).\n",
    "* `Pstatus:` Estado cohabitacional de los padres. (binaria: 'T' - cohabitando juntos o 'A' - viviendo separados).\n",
    "* `Medu:` Nivel educacional de la madre. (numérica: 0 - ninguno, 1 - educación básica (4to), 2 - de 5to a 9, 3 - educación media, o 4 - educación superior).\n",
    "* `Fedu:` Nivel educacional del padre. (numérica: 0 - ninguno, 1 - educación básica (4to), 2 - de 5to a 9, 3 - educación media, o 4 - educación superior).\n",
    "* `Mjob:` Ocupación de la madre. (nominal: 'teacher' profesora, 'health' relacionada a salud, 'services' (e.g. administración pública o policía), 'at_home' en casa u 'other'\n",
    "otra)\n",
    "* `job:` Ocupación del padre (nominal: 'teacher' profesor, 'health' relacionado a salud,'services' (e.g. administración pública o policía), 'at_home' en casa u 'other' otra).\n",
    "* `reason:` Razón para escoger la escuela (nominal: 'home' cercano a casa, 'reputation'reputación de la escuela, 'course' preferencia de cursos u 'other' otra).\n",
    "* `guardian:` Apoderado del estudiante (nominal: 'mother' madre, 'father' padre u 'other'otro).\n",
    "* `traveltime:` Tiempo de viaje entre hogar y colegio. Se debe codificar como:\n",
    "     * `1` si es menos de 15 min,\n",
    "     * `2` si es de 15 a 30 min,\n",
    "     * `3` si es de 30 min. a 1 hora,\n",
    "     * `4` - si es más de 1 hora).\n",
    "* studytime: Horas semanales dedicadas al estudio. Se debe codificar como:\n",
    "     * `1` si es menos de 2 horas,\n",
    "     * `2` si es de 2 a 5 horas,\n",
    "     * `3` si es de 5 a 10 horas,\n",
    "     * `o` 4 si es más de 10 horas.\n",
    "* `failures:` Número de clases reprobadas. (numérica: n si 1<=n<3, de lo contrario 4).\n",
    "* `schoolsup:` Apoyo educacional del colegio. (binaria: si o no).\n",
    "* `famsup:` Apoyo educacional familiar. (binaria: si o no).\n",
    "* `paid:` Clases particulares pagadas (matemáticas o portugués) (binaria: sí o no).\n",
    "* `activities:` Actividades extracurriculares. (binaria: si o no).\n",
    "* `nursery:` Asistió a guardería infantil. (binaria: si o no).\n",
    "* `higher:` Desea proseguir estudios superiores (binaria: si o no).\n",
    "* `internet:` Acceso a internet desde el hogar (binaria: si o no).\n",
    "* `romantic:` Relación romántica (binaria: si o no).\n",
    "* `famrel:` Calidad de las relaciones familiares. (numérica: de 1 - muy malas a 5 -excelentes).\n",
    "* `freetime:` Tiempo libre fuera del colegio (numérica: de 1 - muy poco a 5 - mucho).\n",
    "* `goout:` Salidas con amigos (numérica: de 1 - muy pocas a 5 - muchas).\n",
    "* `Dalc:` Consumo de alcohol en día de semana (numérica: de 1 - muy bajo a 5 - muy alto).\n",
    "* `Walc:` Consumo de alcohol en fines de semana (numérica: de 1 - muy bajo a 5 - muy alto).\n",
    "* `health:` Estado de salud actual (numérica: from 1 - muy malo to 5 - muy bueno).\n",
    "* `absences:` Cantidad de ausencias escolares (numérica: de 0 a 93).\n",
    "* `G1:` Notas durante el primer semestre (numérica: de 0 a 20). Este es uno de sus vectores objetivos para el modelo descriptivo.\n",
    "* `G2:` Notas durante el segundo semestre (numérica: de 0 a 20). Este es uno de sus vectores objetivos para el modelo descriptivo.\n",
    "* `G3:` Promedio final (numérica: de 0 a 20). Este es uno de sus vectores objetivos para el modelo descriptivo y el vector a predecir en el modelo predictivo.\n"
   ]
  },
  {
   "cell_type": "markdown",
   "id": "2ea8c196",
   "metadata": {},
   "source": [
    "# Preliminares\n",
    "\n",
    "## Descripción del problema\n",
    "\n",
    "\n",
    "\n",
    "Para el caso de \"Rendimiento Escolar\" se considera que los Vectores Objetivos son las variables \"G1\", \"G2\" y \"G3\" las cuales son variables continuas y es en base a la variable objetivo que es un problema de regresión.\n",
    "\n",
    "Ya teniendo en cuentas que las variables objetivos son del tipo continuas se realizarán modelos desde el punto econometrico y del machine learning ya que en punto se considera un modelo que explique para los vectores objetivos G1, G2 y G3 y por otro lado de un modelo que para predecir las notas de G3.\n",
    "\n",
    "Cabe destacar que existen variables en df que son del tipo discreta y deben ser recodificadas ejemplo address, Pstatus entre otras ya que al tratarse de una función matematica estas variables deben ser trabnsformadas a números.\n",
    "\n",
    "Respecto a los datos nulos si existiesen se evaluará si borrarlos o utilizar un promedio debido a que este df a diferencia del determiante del ingreso cuenta con pocos registros lo cual podría afectar en nuestros modelos.\n",
    "\n",
    "Respecto al modelo de machine learning se debe deben generar 4subset para el entreamiento del modelo y su respectivo testeo.\n",
    "\n",
    "Para el modelo de regresion lineal desde el punto de la econometria se utilizarán las metricas de R si se trata de una variable independiente que se utilizará en el modelo, el r2 si se trata de 3 o mas variables independientes que se utilizarán en el modelo y finalmente el Metodo de Minicos Cuadrados Ordinarios,\n",
    "\n"
   ]
  },
  {
   "cell_type": "markdown",
   "id": "eb2da28c",
   "metadata": {},
   "source": [
    "# Aspectos Computacionales\n",
    "\n",
    "\n",
    "Para el desarrollo de la regresión lineal se deben considerar las siguientes librerías\n",
    "\n",
    "**import pandas as pd** # Es una librería orientada a la manipulación y limpieza de estructuras de datos.                       \n",
    "**import numpy as np**  # Es una librería orientada a la computación científica.                                               \n",
    "**import scipy.stats as stats** # Esta librería contiene un y nos ayuda a generar distribuciones\n",
    "\n",
    "**import matplotlib.pyplot as plt**   # Esta librería nos ayudará a generar gráficos.  \n",
    "**import seaborn as sns** # Esta librería podremos generar gráficos elegantes y se complementa con matplotlib.\n",
    "\n",
    "**import scipy.stats as stats**  # Es una libreria que sirve para simular y generar distribuciones.                             \n",
    "**from sklearn.preprocessing import LabelEncoder** # Es una librería y podremos recodificar variables.                         \n",
    "**from sklearn.model_selection import train_test_split** # Generamos los subset para entrenamiento y testeo del modelo.         \n",
    "**from sklearn.preprocessing import StandardScaler** # Esta librería nos sirve para estendarizar datos. \n",
    "**from sklearn.metrics import confusion_matrix** # Esta librería nos sirve para generar la matriz de confusión, una metrica.   \n",
    "\n",
    "\n",
    "**import statsmodels.api as sm**   # podremos generar un modelo                                                                 \n",
    "**import statsmodels.formula.api as smf**  #  librería que sirve para crear modelos Logistico o Regresion \n",
    "\n",
    "**import warnings**  # Esta es una librería que muestra los warning.                                                           \n",
    "**warnings.filterwarnings(\"ignore\", category=DeprecationWarning)** # con esto se evita que genere warnings de metodos o funciones desactualizadas.                                                                                                     \n"
   ]
  },
  {
   "cell_type": "markdown",
   "id": "2d14c775",
   "metadata": {},
   "source": [
    "<img src=\"hito2.png\" width=\"900\" height=\"900\"/>\n"
   ]
  },
  {
   "cell_type": "code",
   "execution_count": 1,
   "id": "685ba900",
   "metadata": {},
   "outputs": [
    {
     "data": {
      "text/html": [
       "<div>\n",
       "<style scoped>\n",
       "    .dataframe tbody tr th:only-of-type {\n",
       "        vertical-align: middle;\n",
       "    }\n",
       "\n",
       "    .dataframe tbody tr th {\n",
       "        vertical-align: top;\n",
       "    }\n",
       "\n",
       "    .dataframe thead th {\n",
       "        text-align: right;\n",
       "    }\n",
       "</style>\n",
       "<table border=\"1\" class=\"dataframe\">\n",
       "  <thead>\n",
       "    <tr style=\"text-align: right;\">\n",
       "      <th></th>\n",
       "      <th>0</th>\n",
       "      <th>1</th>\n",
       "      <th>2</th>\n",
       "      <th>3</th>\n",
       "      <th>4</th>\n",
       "    </tr>\n",
       "  </thead>\n",
       "  <tbody>\n",
       "    <tr>\n",
       "      <th>school</th>\n",
       "      <td>GP</td>\n",
       "      <td>GP</td>\n",
       "      <td>GP</td>\n",
       "      <td>GP</td>\n",
       "      <td>GP</td>\n",
       "    </tr>\n",
       "    <tr>\n",
       "      <th>sex</th>\n",
       "      <td>F</td>\n",
       "      <td>F</td>\n",
       "      <td>F</td>\n",
       "      <td>F</td>\n",
       "      <td>F</td>\n",
       "    </tr>\n",
       "    <tr>\n",
       "      <th>age</th>\n",
       "      <td>nulidade</td>\n",
       "      <td>\"17\"</td>\n",
       "      <td>\"15\"</td>\n",
       "      <td>\"15\"</td>\n",
       "      <td>sem validade</td>\n",
       "    </tr>\n",
       "    <tr>\n",
       "      <th>address</th>\n",
       "      <td>U</td>\n",
       "      <td>U</td>\n",
       "      <td>U</td>\n",
       "      <td>U</td>\n",
       "      <td>U</td>\n",
       "    </tr>\n",
       "    <tr>\n",
       "      <th>famsize</th>\n",
       "      <td>GT3</td>\n",
       "      <td>GT3</td>\n",
       "      <td>LE3</td>\n",
       "      <td>GT3</td>\n",
       "      <td>GT3</td>\n",
       "    </tr>\n",
       "    <tr>\n",
       "      <th>Pstatus</th>\n",
       "      <td>A</td>\n",
       "      <td>T</td>\n",
       "      <td>T</td>\n",
       "      <td>T</td>\n",
       "      <td>T</td>\n",
       "    </tr>\n",
       "    <tr>\n",
       "      <th>Medu</th>\n",
       "      <td>4</td>\n",
       "      <td>1</td>\n",
       "      <td>1</td>\n",
       "      <td>4</td>\n",
       "      <td>3</td>\n",
       "    </tr>\n",
       "    <tr>\n",
       "      <th>Fedu</th>\n",
       "      <td>4</td>\n",
       "      <td>1</td>\n",
       "      <td>1</td>\n",
       "      <td>2</td>\n",
       "      <td>3</td>\n",
       "    </tr>\n",
       "    <tr>\n",
       "      <th>Mjob</th>\n",
       "      <td>at_home</td>\n",
       "      <td>at_home</td>\n",
       "      <td>at_home</td>\n",
       "      <td>health</td>\n",
       "      <td>other</td>\n",
       "    </tr>\n",
       "    <tr>\n",
       "      <th>Fjob</th>\n",
       "      <td>teacher</td>\n",
       "      <td>other</td>\n",
       "      <td>other</td>\n",
       "      <td>services</td>\n",
       "      <td>other</td>\n",
       "    </tr>\n",
       "    <tr>\n",
       "      <th>reason</th>\n",
       "      <td>course</td>\n",
       "      <td>course</td>\n",
       "      <td>other</td>\n",
       "      <td>home</td>\n",
       "      <td>home</td>\n",
       "    </tr>\n",
       "    <tr>\n",
       "      <th>guardian</th>\n",
       "      <td>mother</td>\n",
       "      <td>father</td>\n",
       "      <td>mother</td>\n",
       "      <td>mother</td>\n",
       "      <td>father</td>\n",
       "    </tr>\n",
       "    <tr>\n",
       "      <th>traveltime</th>\n",
       "      <td>2</td>\n",
       "      <td>1</td>\n",
       "      <td>1</td>\n",
       "      <td>1</td>\n",
       "      <td>1</td>\n",
       "    </tr>\n",
       "    <tr>\n",
       "      <th>studytime</th>\n",
       "      <td>2</td>\n",
       "      <td>2</td>\n",
       "      <td>2</td>\n",
       "      <td>3</td>\n",
       "      <td>2</td>\n",
       "    </tr>\n",
       "    <tr>\n",
       "      <th>failures</th>\n",
       "      <td>0</td>\n",
       "      <td>0</td>\n",
       "      <td>3</td>\n",
       "      <td>0</td>\n",
       "      <td>0</td>\n",
       "    </tr>\n",
       "    <tr>\n",
       "      <th>schoolsup</th>\n",
       "      <td>yes</td>\n",
       "      <td>no</td>\n",
       "      <td>yes</td>\n",
       "      <td>no</td>\n",
       "      <td>no</td>\n",
       "    </tr>\n",
       "    <tr>\n",
       "      <th>famsup</th>\n",
       "      <td>no</td>\n",
       "      <td>yes</td>\n",
       "      <td>no</td>\n",
       "      <td>yes</td>\n",
       "      <td>yes</td>\n",
       "    </tr>\n",
       "    <tr>\n",
       "      <th>paid</th>\n",
       "      <td>no</td>\n",
       "      <td>no</td>\n",
       "      <td>yes</td>\n",
       "      <td>yes</td>\n",
       "      <td>yes</td>\n",
       "    </tr>\n",
       "    <tr>\n",
       "      <th>activities</th>\n",
       "      <td>no</td>\n",
       "      <td>no</td>\n",
       "      <td>no</td>\n",
       "      <td>yes</td>\n",
       "      <td>no</td>\n",
       "    </tr>\n",
       "    <tr>\n",
       "      <th>nursery</th>\n",
       "      <td>yes</td>\n",
       "      <td>no</td>\n",
       "      <td>yes</td>\n",
       "      <td>yes</td>\n",
       "      <td>yes</td>\n",
       "    </tr>\n",
       "    <tr>\n",
       "      <th>higher</th>\n",
       "      <td>yes</td>\n",
       "      <td>yes</td>\n",
       "      <td>yes</td>\n",
       "      <td>yes</td>\n",
       "      <td>yes</td>\n",
       "    </tr>\n",
       "    <tr>\n",
       "      <th>internet</th>\n",
       "      <td>no</td>\n",
       "      <td>yes</td>\n",
       "      <td>yes</td>\n",
       "      <td>yes</td>\n",
       "      <td>no</td>\n",
       "    </tr>\n",
       "    <tr>\n",
       "      <th>romantic</th>\n",
       "      <td>no</td>\n",
       "      <td>no</td>\n",
       "      <td>no</td>\n",
       "      <td>yes</td>\n",
       "      <td>no</td>\n",
       "    </tr>\n",
       "    <tr>\n",
       "      <th>famrel</th>\n",
       "      <td>4</td>\n",
       "      <td>5</td>\n",
       "      <td>4</td>\n",
       "      <td>3</td>\n",
       "      <td>4</td>\n",
       "    </tr>\n",
       "    <tr>\n",
       "      <th>freetime</th>\n",
       "      <td>3</td>\n",
       "      <td>3</td>\n",
       "      <td>3</td>\n",
       "      <td>2</td>\n",
       "      <td>3</td>\n",
       "    </tr>\n",
       "    <tr>\n",
       "      <th>goout</th>\n",
       "      <td>\"4\"</td>\n",
       "      <td>\"3\"</td>\n",
       "      <td>\"2\"</td>\n",
       "      <td>\"2\"</td>\n",
       "      <td>\"2\"</td>\n",
       "    </tr>\n",
       "    <tr>\n",
       "      <th>Dalc</th>\n",
       "      <td>1</td>\n",
       "      <td>1</td>\n",
       "      <td>2</td>\n",
       "      <td>1</td>\n",
       "      <td>1</td>\n",
       "    </tr>\n",
       "    <tr>\n",
       "      <th>Walc</th>\n",
       "      <td>1</td>\n",
       "      <td>1</td>\n",
       "      <td>3</td>\n",
       "      <td>1</td>\n",
       "      <td>2</td>\n",
       "    </tr>\n",
       "    <tr>\n",
       "      <th>health</th>\n",
       "      <td>\"3\"</td>\n",
       "      <td>\"3\"</td>\n",
       "      <td>\"3\"</td>\n",
       "      <td>\"5\"</td>\n",
       "      <td>\"5\"</td>\n",
       "    </tr>\n",
       "    <tr>\n",
       "      <th>absences</th>\n",
       "      <td>6</td>\n",
       "      <td>4</td>\n",
       "      <td>10</td>\n",
       "      <td>2</td>\n",
       "      <td>4</td>\n",
       "    </tr>\n",
       "    <tr>\n",
       "      <th>G1</th>\n",
       "      <td>5</td>\n",
       "      <td>5</td>\n",
       "      <td>zero</td>\n",
       "      <td>15</td>\n",
       "      <td>6</td>\n",
       "    </tr>\n",
       "    <tr>\n",
       "      <th>G2</th>\n",
       "      <td>6</td>\n",
       "      <td>5</td>\n",
       "      <td>8</td>\n",
       "      <td>14</td>\n",
       "      <td>10</td>\n",
       "    </tr>\n",
       "    <tr>\n",
       "      <th>G3</th>\n",
       "      <td>6</td>\n",
       "      <td>6</td>\n",
       "      <td>10</td>\n",
       "      <td>15</td>\n",
       "      <td>10</td>\n",
       "    </tr>\n",
       "  </tbody>\n",
       "</table>\n",
       "</div>"
      ],
      "text/plain": [
       "                   0        1        2         3             4\n",
       "school            GP       GP       GP        GP            GP\n",
       "sex                F        F        F         F             F\n",
       "age         nulidade     \"17\"     \"15\"      \"15\"  sem validade\n",
       "address            U        U        U         U             U\n",
       "famsize          GT3      GT3      LE3       GT3           GT3\n",
       "Pstatus            A        T        T         T             T\n",
       "Medu               4        1        1         4             3\n",
       "Fedu               4        1        1         2             3\n",
       "Mjob         at_home  at_home  at_home    health         other\n",
       "Fjob         teacher    other    other  services         other\n",
       "reason        course   course    other      home          home\n",
       "guardian      mother   father   mother    mother        father\n",
       "traveltime         2        1        1         1             1\n",
       "studytime          2        2        2         3             2\n",
       "failures           0        0        3         0             0\n",
       "schoolsup        yes       no      yes        no            no\n",
       "famsup            no      yes       no       yes           yes\n",
       "paid              no       no      yes       yes           yes\n",
       "activities        no       no       no       yes            no\n",
       "nursery          yes       no      yes       yes           yes\n",
       "higher           yes      yes      yes       yes           yes\n",
       "internet          no      yes      yes       yes            no\n",
       "romantic          no       no       no       yes            no\n",
       "famrel             4        5        4         3             4\n",
       "freetime           3        3        3         2             3\n",
       "goout            \"4\"      \"3\"      \"2\"       \"2\"           \"2\"\n",
       "Dalc               1        1        2         1             1\n",
       "Walc               1        1        3         1             2\n",
       "health           \"3\"      \"3\"      \"3\"       \"5\"           \"5\"\n",
       "absences           6        4       10         2             4\n",
       "G1                 5        5     zero        15             6\n",
       "G2                 6        5        8        14            10\n",
       "G3                 6        6       10        15            10"
      ]
     },
     "execution_count": 1,
     "metadata": {},
     "output_type": "execute_result"
    }
   ],
   "source": [
    "#Se revisa el df\n",
    "\n",
    "import pandas as pd # Es una librería orientada a la manipulación y limpieza de estructuras de datos.\n",
    "import numpy as np # Es una librería orientada a la computación científica.\n",
    "import scipy.stats as stats # Esta librería contiene un y nos ayuda a generar distribuciones\n",
    "\n",
    "import matplotlib.pyplot as plt # Esta librería nos ayudará a generar gráficos.\n",
    "import seaborn as sns # Esta librería podremos generar gráficos elegantes y se complementa con matplotlib.\n",
    "\n",
    "import scipy.stats as stats # Es una libreria que sirve para simular y generar distribuciones.\n",
    "from sklearn.preprocessing import LabelEncoder # Es una librería y podremos recodificar variables.\n",
    "from sklearn.model_selection import train_test_split # Generamos los subset para entrenamiento y testeo del modelo.\n",
    "from sklearn.preprocessing import StandardScaler # Esta librería nos sirve para estendarizar datos. from sklearn.metrics import confusion_matrix # Esta librería nos sirve para generar la matriz de confusión, una metrica.\n",
    "\n",
    "import statsmodels.api as sm # podremos generar un modelo\n",
    "import statsmodels.formula.api as smf # librería que sirve para crear modelos Logistico o Regresion\n",
    "\n",
    "import warnings # Esta es una librería que muestra los warning.\n",
    "warnings.filterwarnings(\"ignore\", category=DeprecationWarning) # con esto se evita que genere warnings de metodos o funciones desactualizadas.\n",
    "\n",
    "df = pd.read_csv(\"students.csv\", delimiter='|', encoding='utf-8').drop(['Unnamed: 0'], axis=1)\n",
    "\n",
    "\n",
    "df.head().T"
   ]
  },
  {
   "cell_type": "code",
   "execution_count": 2,
   "id": "e34bf17b",
   "metadata": {},
   "outputs": [],
   "source": [
    "#Funcion para realizar graficos de barra para variables discretas de mi df\n",
    "\n",
    "def grafico_barra(df, var):\n",
    "    df[var].value_counts().plot(kind=\"bar\");\n",
    "    plt.ylabel(\"Frecuencia\");\n",
    "    plt.xlabel(\"Categoria\");\n",
    "    plt.title(f\"{var}\");"
   ]
  },
  {
   "cell_type": "code",
   "execution_count": 3,
   "id": "88b90c2f",
   "metadata": {},
   "outputs": [],
   "source": [
    "#Funcion para realizar graficos histogramas para variables continuas de mi df\n",
    "\n",
    "def plot_hist(df, var, true_mean=False):\n",
    "    plt.hist(df[var].dropna())\n",
    "    plt.title(var)\n",
    "    plt.xlabel(\"Valores\")                 \n",
    "    plt.ylabel(\"Frecuencia\")\n",
    "    \n",
    "    if true_mean:\n",
    "        plt.axvline(df[var].mean(), color=\"red\", label=f\"Promedio de {var}\")\n",
    "    \n",
    "    plt.legend()"
   ]
  },
  {
   "cell_type": "code",
   "execution_count": 4,
   "id": "74e34871",
   "metadata": {},
   "outputs": [],
   "source": [
    "def fetch_descriptives(df, var):\n",
    "    print(f\"La media de {var} es {df[var].mean()}\")\n",
    "    print(f\"La mediana de {var} es {df[var].median()}\")\n",
    "    print(f\"La moda de {var} es {stats.mode(df[var])[0]} y su frec es {stats.mode(df[var])[1]}\")\n",
    "    print(f\"La desviacion estandar es {np.std(df[var])}\")"
   ]
  },
  {
   "cell_type": "code",
   "execution_count": 5,
   "id": "86abc070",
   "metadata": {},
   "outputs": [
    {
     "data": {
      "text/plain": [
       "school        0\n",
       "sex           0\n",
       "age           0\n",
       "address       0\n",
       "famsize       0\n",
       "Pstatus       0\n",
       "Medu          0\n",
       "Fedu          0\n",
       "Mjob          0\n",
       "Fjob          0\n",
       "reason        0\n",
       "guardian      0\n",
       "traveltime    0\n",
       "studytime     0\n",
       "failures      0\n",
       "schoolsup     0\n",
       "famsup        0\n",
       "paid          0\n",
       "activities    0\n",
       "nursery       0\n",
       "higher        0\n",
       "internet      0\n",
       "romantic      0\n",
       "famrel        0\n",
       "freetime      0\n",
       "goout         0\n",
       "Dalc          0\n",
       "Walc          0\n",
       "health        0\n",
       "absences      0\n",
       "G1            0\n",
       "G2            0\n",
       "G3            0\n",
       "dtype: int64"
      ]
     },
     "execution_count": 5,
     "metadata": {},
     "output_type": "execute_result"
    }
   ],
   "source": [
    "#Se revisa si existen valores nulos en cada una de las series, en este caso no existen al menos en esta revisión.\n",
    "\n",
    "df.isnull().sum()"
   ]
  },
  {
   "cell_type": "code",
   "execution_count": 6,
   "id": "2b1b7dec",
   "metadata": {},
   "outputs": [
    {
     "name": "stdout",
     "output_type": "stream",
     "text": [
      "object\n",
      "float64\n",
      "10.0    50\n",
      "8.0     41\n",
      "11.0    38\n",
      "7.0     36\n",
      "12.0    35\n",
      "13.0    33\n",
      "9.0     31\n",
      "14.0    30\n",
      "15.0    24\n",
      "6.0     23\n",
      "16.0    22\n",
      "18.0     8\n",
      "17.0     8\n",
      "5.0      7\n",
      "NaN      4\n",
      "19.0     3\n",
      "4.0      1\n",
      "3.0      1\n",
      "Name: G1, dtype: int64\n"
     ]
    }
   ],
   "source": [
    "#Se recodifica la variable G1\n",
    "\n",
    "#Aca converti en un valor alto para no mezclarlo con los 0 ya que no podia convertir la serie cuando habia un NaN\n",
    "df[\"G1\"] = df[\"G1\"].replace([\"nulidade\", \"zero\"], [10000, 10000])\n",
    "\n",
    "#Se convierte en int\n",
    "print(df[\"G1\"].dtype)\n",
    "df[['G1']] = df[['G1']].astype(float)\n",
    "print(df[\"G1\"].dtype)\n",
    "\n",
    "#Converti el valor 10000 a NaN nuevamente\n",
    "df[\"G1\"] = df[\"G1\"].replace([10000], [np.nan])\n",
    "print(df[\"G1\"].value_counts(dropna=False))"
   ]
  },
  {
   "cell_type": "code",
   "execution_count": 7,
   "id": "9f39e978",
   "metadata": {},
   "outputs": [
    {
     "data": {
      "text/plain": [
       "10.0    50\n",
       "8.0     41\n",
       "11.0    38\n",
       "7.0     36\n",
       "12.0    35\n",
       "13.0    33\n",
       "9.0     31\n",
       "14.0    30\n",
       "15.0    24\n",
       "6.0     23\n",
       "16.0    22\n",
       "18.0     8\n",
       "17.0     8\n",
       "5.0      7\n",
       "NaN      4\n",
       "19.0     3\n",
       "4.0      1\n",
       "3.0      1\n",
       "Name: G1, dtype: int64"
      ]
     },
     "execution_count": 7,
     "metadata": {},
     "output_type": "execute_result"
    }
   ],
   "source": [
    "df[\"G1\"].value_counts(dropna=False)"
   ]
  },
  {
   "cell_type": "code",
   "execution_count": 8,
   "id": "2424e0ae",
   "metadata": {},
   "outputs": [
    {
     "data": {
      "text/plain": [
       "10.933503836317136"
      ]
     },
     "execution_count": 8,
     "metadata": {},
     "output_type": "execute_result"
    }
   ],
   "source": [
    "df[\"G1\"].mean()"
   ]
  },
  {
   "cell_type": "code",
   "execution_count": 9,
   "id": "7d0dde77",
   "metadata": {},
   "outputs": [
    {
     "name": "stdout",
     "output_type": "stream",
     "text": [
      "object\n",
      "int32\n",
      "10.0    55\n",
      "11.0    47\n",
      "0.0     37\n",
      "15.0    33\n",
      "8.0     32\n",
      "13.0    31\n",
      "12.0    31\n",
      "9.0     27\n",
      "14.0    27\n",
      "16.0    16\n",
      "6.0     15\n",
      "18.0    12\n",
      "7.0      9\n",
      "5.0      7\n",
      "17.0     6\n",
      "19.0     5\n",
      "NaN      3\n",
      "20.0     1\n",
      "4.0      1\n",
      "Name: G3, dtype: int64\n"
     ]
    }
   ],
   "source": [
    "#Se recodifica la variable\n",
    "\n",
    "\n",
    "#Aca converti en un valor alto para no mezclarlo con los 0 ya que no podia convertir la serie cuando habia un NaN\n",
    "df[\"G3\"] = df[\"G3\"].replace([\"nulidade\"], [10000])\n",
    "\n",
    "#Se convierte en int\n",
    "print(df[\"G3\"].dtype)\n",
    "df[['G3']] = df[['G3']].astype(int)\n",
    "print(df[\"G3\"].dtype)\n",
    "\n",
    "#Converti el valor 10000 a NaN nuevamente\n",
    "df[\"G3\"] = df[\"G3\"].replace([10000], [np.nan])\n",
    "print(df[\"G3\"].value_counts(dropna=False))\n"
   ]
  },
  {
   "cell_type": "code",
   "execution_count": null,
   "id": "bb8697c0",
   "metadata": {},
   "outputs": [],
   "source": []
  },
  {
   "cell_type": "code",
   "execution_count": null,
   "id": "ca4e1b1e",
   "metadata": {},
   "outputs": [],
   "source": []
  },
  {
   "cell_type": "code",
   "execution_count": 10,
   "id": "203b9974",
   "metadata": {},
   "outputs": [
    {
     "name": "stdout",
     "output_type": "stream",
     "text": [
      "int64\n",
      "float64\n"
     ]
    }
   ],
   "source": [
    "print(df[\"G2\"].dtype)\n",
    "df['G2'] = df['G2'].astype(float)\n",
    "print(df[\"G2\"].dtype)"
   ]
  },
  {
   "cell_type": "code",
   "execution_count": 11,
   "id": "5b7da018",
   "metadata": {},
   "outputs": [
    {
     "name": "stdout",
     "output_type": "stream",
     "text": [
      "La media de G1 es 10.933503836317136\n",
      "La mediana de G1 es 11.0\n",
      "La moda de G1 es [10.] y su frec es [50]\n",
      "La desviacion estandar es 3.316343740472707\n"
     ]
    },
    {
     "data": {
      "image/png": "[encoded data removed]",
      "text/plain": [
       "<Figure size 432x288 with 1 Axes>"
      ]
     },
     "metadata": {
      "needs_background": "light"
     },
     "output_type": "display_data"
    }
   ],
   "source": [
    "#Se aprecia que el vector objetivo G1 es del tipo continuo por lo cual se graficara a traves de un histograma.\n",
    "#A priori se ve que la distrución tiene forma normal con una media de 10.91 y una desviacion estandar de 3.35,\n",
    "#ademas se aprecia que los valores se concentran entre 7.5 y 12.5\n",
    "\n",
    "\n",
    "fetch_descriptives(df, \"G1\")\n",
    "\n",
    "plot_hist(df, \"G1\", True)"
   ]
  },
  {
   "cell_type": "code",
   "execution_count": 12,
   "id": "0e2ed0eb",
   "metadata": {},
   "outputs": [
    {
     "name": "stdout",
     "output_type": "stream",
     "text": [
      "La media de G2 es 10.713924050632912\n",
      "La mediana de G2 es 11.0\n",
      "La moda de G2 es [9.] y su frec es [50]\n",
      "La desviacion estandar es 3.7567402438889106\n"
     ]
    },
    {
     "data": {
      "image/png": "[encoded data removed]",
      "text/plain": [
       "<Figure size 432x288 with 1 Axes>"
      ]
     },
     "metadata": {
      "needs_background": "light"
     },
     "output_type": "display_data"
    }
   ],
   "source": [
    "#Se aprecia que el vector objetivo G2 es del tipo continuo por lo cual se graficara a traves de un histograma.\n",
    "#A priori se ve que la distrución tiene forma normal pero a diferencia G1 no es tan clara con una media de 10.71 y una \n",
    "#desviacion estandar de 3.75, ademas se aprecia que los valores se concentran entre 7.5 y 12.5\n",
    "\n",
    "\n",
    "fetch_descriptives(df, \"G2\")\n",
    "\n",
    "plot_hist(df, \"G2\", True)"
   ]
  },
  {
   "cell_type": "code",
   "execution_count": 13,
   "id": "5074c821",
   "metadata": {},
   "outputs": [
    {
     "name": "stdout",
     "output_type": "stream",
     "text": [
      "La media de G3 es 10.446428571428571\n",
      "La mediana de G3 es 11.0\n",
      "La moda de G3 es [10.] y su frec es [55]\n",
      "La desviacion estandar es 4.562176742811823\n"
     ]
    },
    {
     "data": {
      "image/png": "[encoded data removed]",
      "text/plain": [
       "<Figure size 432x288 with 1 Axes>"
      ]
     },
     "metadata": {
      "needs_background": "light"
     },
     "output_type": "display_data"
    }
   ],
   "source": [
    "#Se aprecia al igual que en los otros 2 vectores objetivos que G3 tiene una distribución al menos de forma visual que tiende a una normal.\n",
    "#Se aprecia que su media, moda y mediana son valores muy cercanos lo cual indica lo anterior de que estamos hablando de una distribució normal.\n",
    "#Por ultimo comentar que su desviación estandar es de 4.56 que es superior al de los otros dos vectores objetivos lo cual indica\n",
    "#la dispersion respecto a la media es mayor.\n",
    "\n",
    "fetch_descriptives(df, \"G3\")\n",
    "\n",
    "plot_hist(df, \"G3\", True)"
   ]
  },
  {
   "cell_type": "code",
   "execution_count": 14,
   "id": "a7f78a94",
   "metadata": {},
   "outputs": [
    {
     "data": {
      "text/plain": [
       "Index(['school', 'sex', 'age', 'address', 'famsize', 'Pstatus', 'Medu', 'Fedu',\n",
       "       'Mjob', 'Fjob', 'reason', 'guardian', 'traveltime', 'studytime',\n",
       "       'failures', 'schoolsup', 'famsup', 'paid', 'activities', 'nursery',\n",
       "       'higher', 'internet', 'romantic', 'famrel', 'freetime', 'goout', 'Dalc',\n",
       "       'Walc', 'health', 'absences', 'G1', 'G2', 'G3'],\n",
       "      dtype='object')"
      ]
     },
     "execution_count": 14,
     "metadata": {},
     "output_type": "execute_result"
    }
   ],
   "source": [
    "df.columns"
   ]
  },
  {
   "cell_type": "code",
   "execution_count": 15,
   "id": "3dc0ebb6",
   "metadata": {},
   "outputs": [
    {
     "name": "stdout",
     "output_type": "stream",
     "text": [
      "object\n",
      "float64\n"
     ]
    },
    {
     "data": {
      "text/plain": [
       "4.0    0.326582\n",
       "2.0    0.260759\n",
       "3.0    0.248101\n",
       "1.0    0.149367\n",
       "0.0    0.007595\n",
       "5.0    0.005063\n",
       "6.0    0.002532\n",
       "Name: Medu, dtype: float64"
      ]
     },
     "execution_count": 15,
     "metadata": {},
     "output_type": "execute_result"
    },
    {
     "data": {
      "image/png": "[encoded data removed]",
      "text/plain": [
       "<Figure size 432x288 with 1 Axes>"
      ]
     },
     "metadata": {
      "needs_background": "light"
     },
     "output_type": "display_data"
    }
   ],
   "source": [
    "#La serie Medu es del tipo numerica pero discreta pero sus valores estan como string por lo cual se tendran que transformar\n",
    "#nulidade = 6\n",
    "#sem validade = 5\n",
    "\n",
    "df[\"Medu\"] = df[\"Medu\"].replace([\"sem validade\", \"nulidade\"], [5, 6])\n",
    "\n",
    "print(df[\"Medu\"].dtype)\n",
    "df[['Medu']] = df[['Medu']].astype(float)\n",
    "print(df[\"Medu\"].dtype)\n",
    "\n",
    "grafico_barra(df, \"Medu\")\n",
    "\n",
    "df[\"Medu\"].value_counts('%')\n",
    "\n",
    "#Se aprecia que respecto al nivel educacional de la madre que la mayor frecuencia de madres tienen educación superior.\n"
   ]
  },
  {
   "cell_type": "code",
   "execution_count": 16,
   "id": "e74994e8",
   "metadata": {},
   "outputs": [
    {
     "name": "stdout",
     "output_type": "stream",
     "text": [
      "object\n",
      "float64\n"
     ]
    },
    {
     "data": {
      "text/plain": [
       "'\\nRespecto a la serie Fedu que indica el nivel de educación del padre, se aprecia que la mayor frecuencia se encuentra en el nivel 2\\nPor otro lado comentar que al igual que el nivel educacional de la madre existe poca freciencia de que no tengan estudios.\\n'"
      ]
     },
     "execution_count": 16,
     "metadata": {},
     "output_type": "execute_result"
    },
    {
     "data": {
      "image/png": "[encoded data removed]",
      "text/plain": [
       "<Figure size 432x288 with 1 Axes>"
      ]
     },
     "metadata": {
      "needs_background": "light"
     },
     "output_type": "display_data"
    }
   ],
   "source": [
    "df[\"Fedu\"].value_counts('%')\n",
    "\n",
    "\n",
    "#La serie age es del tipo continua pero sus valores estan como string por lo cual se tendran que transformar\n",
    "#nulidade = 6\n",
    "#sem validade = 5\n",
    "\n",
    "df[\"Fedu\"] = df[\"Fedu\"].replace([\"zero\", \"sem validade\", \"nulidade\"], [0, 5, 6])\n",
    "\n",
    "print(df[\"Fedu\"].dtype)\n",
    "df[['Fedu']] = df[['Fedu']].astype(float)\n",
    "print(df[\"Fedu\"].dtype)\n",
    "\n",
    "grafico_barra(df, \"Fedu\")\n",
    "\n",
    "df[\"Medu\"].value_counts('%')\n",
    "\n",
    "\"\"\"\n",
    "Respecto a la serie Fedu que indica el nivel de educación del padre, se aprecia que la mayor frecuencia se encuentra en el nivel 2\n",
    "Por otro lado comentar que al igual que el nivel educacional de la madre existe poca freciencia de que no tengan estudios.\n",
    "\"\"\"\n"
   ]
  },
  {
   "cell_type": "code",
   "execution_count": 17,
   "id": "8aa6c04c",
   "metadata": {},
   "outputs": [
    {
     "name": "stdout",
     "output_type": "stream",
     "text": [
      "other           0.349367\n",
      "services        0.258228\n",
      "at_home         0.149367\n",
      "teacher         0.144304\n",
      "health          0.083544\n",
      "sem validade    0.007595\n",
      "nulidade        0.005063\n",
      "zero            0.002532\n",
      "Name: Mjob, dtype: float64\n"
     ]
    },
    {
     "data": {
      "text/plain": [
       "'\\nLa serie Mjob es del tipo discreta.\\nSe aprecia en el grafico que respecto de la ocupación de la madre la mayor frecuencia se encuentra en la categoria other,\\ncon un 35% del total.\\nPor otro lado la ocupación con menos frecuencia es la categoria health relacionada al area de la salud.\\nPor otro lado comentar que existen valos que se deben tratar como nulos pero se hará en el siguiente hito al menos para esta variable.\\n'"
      ]
     },
     "execution_count": 17,
     "metadata": {},
     "output_type": "execute_result"
    },
    {
     "data": {
      "image/png": "[encoded data removed]",
      "text/plain": [
       "<Figure size 432x288 with 1 Axes>"
      ]
     },
     "metadata": {
      "needs_background": "light"
     },
     "output_type": "display_data"
    }
   ],
   "source": [
    "grafico_barra(df, \"Mjob\")\n",
    "\n",
    "print(df[\"Mjob\"].value_counts('%'))\n",
    "\n",
    "\"\"\"\n",
    "La serie Mjob es del tipo discreta.\n",
    "Se aprecia en el grafico que respecto de la ocupación de la madre la mayor frecuencia se encuentra en la categoria other,\n",
    "con un 35% del total.\n",
    "Por otro lado la ocupación con menos frecuencia es la categoria health relacionada al area de la salud.\n",
    "Por otro lado comentar que existen valos que se deben tratar como nulos pero se hará en el siguiente hito al menos para esta variable.\n",
    "\"\"\""
   ]
  },
  {
   "cell_type": "code",
   "execution_count": 18,
   "id": "4d806534",
   "metadata": {},
   "outputs": [
    {
     "name": "stdout",
     "output_type": "stream",
     "text": [
      "other       0.549367\n",
      "services    0.281013\n",
      "teacher     0.073418\n",
      "at_home     0.050633\n",
      "health      0.045570\n",
      "Name: Fjob, dtype: float64\n"
     ]
    },
    {
     "data": {
      "text/plain": [
       "'\\nLa serie Fjob es del tipo discreta.\\nSe aprecia en el grafico que respecto de la ocupación del padre la mayor frecuencia se encuentra en la categoria other,\\ncon una prob de 0.5.\\nPor otro lado la ocupación con menos frecuencia es la categoria health relacionada al area de la salud.\\n'"
      ]
     },
     "execution_count": 18,
     "metadata": {},
     "output_type": "execute_result"
    },
    {
     "data": {
      "image/png": "[encoded data removed]",
      "text/plain": [
       "<Figure size 432x288 with 1 Axes>"
      ]
     },
     "metadata": {
      "needs_background": "light"
     },
     "output_type": "display_data"
    }
   ],
   "source": [
    "grafico_barra(df, \"Fjob\")\n",
    "\n",
    "print(df[\"Fjob\"].value_counts('%'))\n",
    "\n",
    "\"\"\"\n",
    "La serie Fjob es del tipo discreta.\n",
    "Se aprecia en el grafico que respecto de la ocupación del padre la mayor frecuencia se encuentra en la categoria other,\n",
    "con una prob de 0.5.\n",
    "Por otro lado la ocupación con menos frecuencia es la categoria health relacionada al area de la salud.\n",
    "\"\"\""
   ]
  },
  {
   "cell_type": "code",
   "execution_count": 19,
   "id": "36e8562c",
   "metadata": {},
   "outputs": [
    {
     "name": "stdout",
     "output_type": "stream",
     "text": [
      "course          0.364557\n",
      "home            0.273418\n",
      "reputation      0.260759\n",
      "other           0.091139\n",
      "zero            0.005063\n",
      "sem validade    0.002532\n",
      "nulidade        0.002532\n",
      "Name: reason, dtype: float64\n"
     ]
    },
    {
     "data": {
      "text/plain": [
       "'\\nLa serie reason es del tipo discreta nominal.\\nSe aprecia que las razones para escoger una escuela la mayor frecuencia viene dado por la preferencia de cursos, con un\\n36% del total.\\nPor otro lado comentar que existen valores que se deben tratar como nulos pero se hará en el siguiente hito al menos para esta variable.\\n'"
      ]
     },
     "execution_count": 19,
     "metadata": {},
     "output_type": "execute_result"
    },
    {
     "data": {
      "image/png": "[encoded data removed]",
      "text/plain": [
       "<Figure size 432x288 with 1 Axes>"
      ]
     },
     "metadata": {
      "needs_background": "light"
     },
     "output_type": "display_data"
    }
   ],
   "source": [
    "grafico_barra(df, \"reason\")\n",
    "\n",
    "print(df[\"reason\"].value_counts('%'))\n",
    "\n",
    "\"\"\"\n",
    "La serie reason es del tipo discreta nominal.\n",
    "Se aprecia que las razones para escoger una escuela la mayor frecuencia viene dado por la preferencia de cursos, con un\n",
    "36% del total.\n",
    "Por otro lado comentar que existen valores que se deben tratar como nulos pero se hará en el siguiente hito al menos para esta variable.\n",
    "\"\"\""
   ]
  },
  {
   "cell_type": "code",
   "execution_count": 20,
   "id": "9542a042",
   "metadata": {},
   "outputs": [
    {
     "name": "stdout",
     "output_type": "stream",
     "text": [
      "mother          0.683544\n",
      "father          0.225316\n",
      "other           0.081013\n",
      "zero            0.005063\n",
      "sem validade    0.002532\n",
      "nulidade        0.002532\n",
      "Name: guardian, dtype: float64\n"
     ]
    },
    {
     "data": {
      "text/plain": [
       "'\\nLa serie guardian es del tipo discreta nominal.\\nSe aprecia que el apoderado del estudiante la mayor frecuencia es la madre con un 68% del total.\\n'"
      ]
     },
     "execution_count": 20,
     "metadata": {},
     "output_type": "execute_result"
    },
    {
     "data": {
      "image/png": "[encoded data removed]",
      "text/plain": [
       "<Figure size 432x288 with 1 Axes>"
      ]
     },
     "metadata": {
      "needs_background": "light"
     },
     "output_type": "display_data"
    }
   ],
   "source": [
    "grafico_barra(df, \"guardian\")\n",
    "\n",
    "print(df[\"guardian\"].value_counts('%'))\n",
    "\n",
    "\n",
    "\"\"\"\n",
    "La serie guardian es del tipo discreta nominal.\n",
    "Se aprecia que el apoderado del estudiante la mayor frecuencia es la madre con un 68% del total.\n",
    "\"\"\""
   ]
  },
  {
   "cell_type": "code",
   "execution_count": 21,
   "id": "2ad71768",
   "metadata": {},
   "outputs": [
    {
     "name": "stdout",
     "output_type": "stream",
     "text": [
      "1               0.643038\n",
      "2               0.270886\n",
      "3               0.058228\n",
      "4               0.020253\n",
      "nulidade        0.005063\n",
      "sem validade    0.002532\n",
      "Name: traveltime, dtype: float64\n"
     ]
    },
    {
     "data": {
      "text/plain": [
       "'\\nPrimero que todo comentar que la serie traveltime es del tipo object a pesar de que sus datos son numeros.\\nSe considera dejar como tal esto debido que no son variables continuas con la cual podriamos sacar algunas mmetricas.\\nPor otro lado comentar que la categoria con mayor frecuencia es 1, el cual indica que el viaje entre el colegio y el hogar\\nes menods de 15 minutos.\\n'"
      ]
     },
     "execution_count": 21,
     "metadata": {},
     "output_type": "execute_result"
    },
    {
     "data": {
      "image/png": "[encoded data removed]",
      "text/plain": [
       "<Figure size 432x288 with 1 Axes>"
      ]
     },
     "metadata": {
      "needs_background": "light"
     },
     "output_type": "display_data"
    }
   ],
   "source": [
    "grafico_barra(df, \"traveltime\")\n",
    "\n",
    "print(df[\"traveltime\"].value_counts('%'))\n",
    "\n",
    "\n",
    "\"\"\"\n",
    "Primero que todo comentar que la serie traveltime es del tipo object a pesar de que sus datos son numeros.\n",
    "Se considera dejar como tal esto debido que no son variables continuas con la cual podriamos sacar algunas mmetricas.\n",
    "Por otro lado comentar que la categoria con mayor frecuencia es 1, el cual indica que el viaje entre el colegio y el hogar\n",
    "es menods de 15 minutos.\n",
    "\"\"\""
   ]
  },
  {
   "cell_type": "code",
   "execution_count": 22,
   "id": "85aca97f",
   "metadata": {},
   "outputs": [
    {
     "name": "stdout",
     "output_type": "stream",
     "text": [
      "2               0.491139\n",
      "1               0.263291\n",
      "3               0.164557\n",
      "4               0.068354\n",
      "sem validade    0.010127\n",
      "nulidade        0.002532\n",
      "Name: studytime, dtype: float64\n"
     ]
    },
    {
     "data": {
      "text/plain": [
       "'\\nPrimero que todo comentar que la serie traveltime es del tipo object a pesar de que sus datos son numeros.\\nSe considera dejar como tal esto debido que no son variables continuas con la cual podriamos sacar algunas mmetricas.\\nPor otro lado comentar que la categoria con mayor frecuencia es 2, el cual indica que las horas semanales deidcas a estudio\\nrondan entre 2 a 5 horas.\\n'"
      ]
     },
     "execution_count": 22,
     "metadata": {},
     "output_type": "execute_result"
    },
    {
     "data": {
      "image/png": "[encoded data removed]",
      "text/plain": [
       "<Figure size 432x288 with 1 Axes>"
      ]
     },
     "metadata": {
      "needs_background": "light"
     },
     "output_type": "display_data"
    }
   ],
   "source": [
    "grafico_barra(df, \"studytime\")\n",
    "\n",
    "print(df[\"studytime\"].value_counts('%'))\n",
    "\n",
    "\n",
    "\"\"\"\n",
    "Primero que todo comentar que la serie traveltime es del tipo object a pesar de que sus datos son numeros.\n",
    "Se considera dejar como tal esto debido que no son variables continuas con la cual podriamos sacar algunas mmetricas.\n",
    "Por otro lado comentar que la categoria con mayor frecuencia es 2, el cual indica que las horas semanales deidcas a estudio\n",
    "rondan entre 2 a 5 horas.\n",
    "\"\"\""
   ]
  },
  {
   "cell_type": "code",
   "execution_count": 23,
   "id": "a6625735",
   "metadata": {},
   "outputs": [
    {
     "name": "stdout",
     "output_type": "stream",
     "text": [
      "no              0.853165\n",
      "yes             0.126582\n",
      "nulidade        0.007595\n",
      "sem validade    0.007595\n",
      "zero            0.005063\n",
      "Name: schoolsup, dtype: float64\n"
     ]
    },
    {
     "data": {
      "text/plain": [
       "'\\nSe aprecia respecto del grafico \\n'"
      ]
     },
     "execution_count": 23,
     "metadata": {},
     "output_type": "execute_result"
    },
    {
     "data": {
      "image/png": "[encoded data removed]",
      "text/plain": [
       "<Figure size 432x288 with 1 Axes>"
      ]
     },
     "metadata": {
      "needs_background": "light"
     },
     "output_type": "display_data"
    }
   ],
   "source": [
    "grafico_barra(df, \"schoolsup\")\n",
    "\n",
    "print(df[\"schoolsup\"].value_counts('%'))\n",
    "\n",
    "\n",
    "\"\"\"\n",
    "Se aprecia respecto del grafico \n",
    "\"\"\""
   ]
  },
  {
   "cell_type": "code",
   "execution_count": 24,
   "id": "5d05da55",
   "metadata": {},
   "outputs": [
    {
     "data": {
      "text/plain": [
       "dtype('O')"
      ]
     },
     "execution_count": 24,
     "metadata": {},
     "output_type": "execute_result"
    }
   ],
   "source": [
    "df[\"absences\"].dtype"
   ]
  },
  {
   "cell_type": "code",
   "execution_count": 25,
   "id": "a70d5767",
   "metadata": {},
   "outputs": [
    {
     "name": "stdout",
     "output_type": "stream",
     "text": [
      "object\n",
      "float64\n",
      "La media de absences es 5.702290076335878\n",
      "La mediana de absences es 4.0\n",
      "La moda de absences es [0.] y su frec es [115]\n",
      "La desviacion estandar es 8.004796262453366\n"
     ]
    },
    {
     "data": {
      "text/plain": [
       "'\\nSe aprecia que la variable absences que indica la cantidad de ausencias escolares el 50% de los datos tiene 4 o menos días de ausencia.\\nLa media es de 5.8 con una desviación estandar algo elevada de 8.0 que viene dado porque hay alumnos que tienen ausencias escolares\\nde muchos días.\\n'"
      ]
     },
     "execution_count": 25,
     "metadata": {},
     "output_type": "execute_result"
    },
    {
     "data": {
      "image/png": "[encoded data removed]",
      "text/plain": [
       "<Figure size 432x288 with 1 Axes>"
      ]
     },
     "metadata": {
      "needs_background": "light"
     },
     "output_type": "display_data"
    }
   ],
   "source": [
    "#def plot_hist(df, var, true_mean=False):\n",
    "\n",
    "\n",
    "#La seria absences es del tipo continua pero sus valores estan como string por lo cual se tendran que transformar\n",
    "#sem validade = 10000\n",
    "#sem validade = 20000\n",
    "\n",
    "df[\"absences\"] = df[\"absences\"].replace([\"zero\", \"sem validade\", \"nulidade\"], [0, 10000, 20000])\n",
    "\n",
    "print(df[\"absences\"].dtype)\n",
    "df[['absences']] = df[['absences']].astype(float)\n",
    "print(df[\"absences\"].dtype)\n",
    "\n",
    "df[\"absences\"] = df[\"absences\"].replace([10000, 20000], [np.nan, np.nan])\n",
    "\n",
    "\n",
    "plot_hist(df, \"absences\", true_mean=True)\n",
    "\n",
    "fetch_descriptives(df, \"absences\")\n",
    "\n",
    "\n",
    "\"\"\"\n",
    "Se aprecia que la variable absences que indica la cantidad de ausencias escolares el 50% de los datos tiene 4 o menos días de ausencia.\n",
    "La media es de 5.8 con una desviación estandar algo elevada de 8.0 que viene dado porque hay alumnos que tienen ausencias escolares\n",
    "de muchos días.\n",
    "\"\"\""
   ]
  },
  {
   "cell_type": "code",
   "execution_count": 26,
   "id": "165d49f0",
   "metadata": {},
   "outputs": [
    {
     "name": "stdout",
     "output_type": "stream",
     "text": [
      "La media de age es 16.69820971867008\n",
      "La mediana de age es 17.0\n",
      "La moda de age es [16.] y su frec es [101]\n",
      "La desviacion estandar es 1.277774546755104\n"
     ]
    },
    {
     "data": {
      "text/plain": [
       "'\\nLa variable age es del tipo continua a pesar de que en una primera instancia era una serie del tipo onject, \\nse recodifico de tal manera para que sea un float.\\nSe aprecia en el grafico que la variable age tiende a una distrución normal.\\nSe aprecia que sus medidas de tendencia central rondan entre los 16 y 17 años.\\n\\n'"
      ]
     },
     "execution_count": 26,
     "metadata": {},
     "output_type": "execute_result"
    },
    {
     "data": {
      "image/png": "[encoded data removed]",
      "text/plain": [
       "<Figure size 432x288 with 1 Axes>"
      ]
     },
     "metadata": {
      "needs_background": "light"
     },
     "output_type": "display_data"
    }
   ],
   "source": [
    "df['age'] = df['age'].str.replace('\\\"','')\n",
    "df['age'] = df['age'].replace([\"nulidade\", \"sem validade\"], [10000, 20000])\n",
    "df[['age']] = df[['age']].astype(int)\n",
    "df['age'] = df['age'].replace([10000, 20000], [np.nan, np.nan])\n",
    "\n",
    "plot_hist(df, \"age\", true_mean=True)\n",
    "\n",
    "fetch_descriptives(df, \"age\")\n",
    "\n",
    "\"\"\"\n",
    "La variable age es del tipo continua a pesar de que en una primera instancia era una serie del tipo onject, \n",
    "se recodifico de tal manera para que sea un float.\n",
    "Se aprecia en el grafico que la variable age tiende a una distrución normal.\n",
    "Se aprecia que sus medidas de tendencia central rondan entre los 16 y 17 años.\n",
    "\n",
    "\"\"\""
   ]
  },
  {
   "cell_type": "code",
   "execution_count": 27,
   "id": "b534383c",
   "metadata": {},
   "outputs": [
    {
     "name": "stdout",
     "output_type": "stream",
     "text": [
      "no     0.543147\n",
      "yes    0.456853\n",
      "Name: paid, dtype: float64\n"
     ]
    },
    {
     "data": {
      "text/plain": [
       "'\\nSe aprecia que la variable paid es binaria ya que cuenta con 2 posibles resultados.\\nSe aprecia en el grafico que la categoria \"no\", la cual indica que no tiene clases particulares pagadas cuenta con una mayor \\nfrecuencia, con un total de 54% del total \\n'"
      ]
     },
     "execution_count": 27,
     "metadata": {},
     "output_type": "execute_result"
    },
    {
     "data": {
      "image/png": "[encoded data removed]",
      "text/plain": [
       "<Figure size 432x288 with 1 Axes>"
      ]
     },
     "metadata": {
      "needs_background": "light"
     },
     "output_type": "display_data"
    }
   ],
   "source": [
    "df[\"paid\"].value_counts()\n",
    "\n",
    "df[\"paid\"] = df[\"paid\"].replace([\"zero\"], [np.nan])\n",
    "\n",
    "df[\"paid\"].value_counts()\n",
    "\n",
    "\n",
    "grafico_barra(df, \"paid\")\n",
    "\n",
    "print(df[\"paid\"].value_counts('%'))\n",
    "\n",
    "\"\"\"\n",
    "Se aprecia que la variable paid es binaria ya que cuenta con 2 posibles resultados.\n",
    "Se aprecia en el grafico que la categoria \"no\", la cual indica que no tiene clases particulares pagadas cuenta con una mayor \n",
    "frecuencia, con un total de 54% del total \n",
    "\"\"\""
   ]
  },
  {
   "cell_type": "code",
   "execution_count": 28,
   "id": "efe00ede",
   "metadata": {},
   "outputs": [
    {
     "name": "stdout",
     "output_type": "stream",
     "text": [
      "yes    0.510256\n",
      "no     0.489744\n",
      "Name: activities, dtype: float64\n"
     ]
    },
    {
     "data": {
      "text/plain": [
       "'\\nSe aprecia que la variable activities es binaria ya que cuenta con 2 posibles resultados.\\nSe aprecia en el grafico que las categorías tienen una frecuencia similar, siendo levemente mayor la categoria \"yes\"\\nla cual indica que si realiza actividades extracurriculares.\\n'"
      ]
     },
     "execution_count": 28,
     "metadata": {},
     "output_type": "execute_result"
    },
    {
     "data": {
      "image/png": "[encoded data removed]",
      "text/plain": [
       "<Figure size 432x288 with 1 Axes>"
      ]
     },
     "metadata": {
      "needs_background": "light"
     },
     "output_type": "display_data"
    }
   ],
   "source": [
    "df[\"activities\"].value_counts()\n",
    "\n",
    "df[\"activities\"] = df[\"activities\"].replace([\"zero\", \"nulidade\", \"sem validade\"], [np.nan]*3)\n",
    "\n",
    "df[\"activities\"].value_counts()\n",
    "\n",
    "\n",
    "grafico_barra(df, \"activities\")\n",
    "\n",
    "print(df[\"activities\"].value_counts('%'))\n",
    "\n",
    "\n",
    "\"\"\"\n",
    "Se aprecia que la variable activities es binaria ya que cuenta con 2 posibles resultados.\n",
    "Se aprecia en el grafico que las categorías tienen una frecuencia similar, siendo levemente mayor la categoria \"yes\"\n",
    "la cual indica que si realiza actividades extracurriculares.\n",
    "\"\"\""
   ]
  },
  {
   "cell_type": "code",
   "execution_count": 29,
   "id": "733a95dd",
   "metadata": {},
   "outputs": [
    {
     "name": "stdout",
     "output_type": "stream",
     "text": [
      "yes    0.794344\n",
      "no     0.205656\n",
      "Name: nursery, dtype: float64\n"
     ]
    },
    {
     "data": {
      "text/plain": [
       "'\\nSe aprecia que la variable nursery es binaria ya que cuenta con 2 posibles resultados.\\nSe aprecia en el gráfico que las categorías estan desbalanceadas ya que la categoría \"yes\" la cual indica que si asistió a una\\nguardería tiene una frecuencia relativa de un 0.79.\\n'"
      ]
     },
     "execution_count": 29,
     "metadata": {},
     "output_type": "execute_result"
    },
    {
     "data": {
      "image/png": "[encoded data removed]",
      "text/plain": [
       "<Figure size 432x288 with 1 Axes>"
      ]
     },
     "metadata": {
      "needs_background": "light"
     },
     "output_type": "display_data"
    }
   ],
   "source": [
    "df[\"nursery\"].value_counts()\n",
    "\n",
    "df[\"nursery\"] = df[\"nursery\"].replace([\"zero\", \"nulidade\", \"sem validade\"], [np.nan]*3)\n",
    "\n",
    "df[\"nursery\"].value_counts()\n",
    "\n",
    "\n",
    "grafico_barra(df, \"nursery\")\n",
    "\n",
    "print(df[\"nursery\"].value_counts('%'))\n",
    "\n",
    "\n",
    "\"\"\"\n",
    "Se aprecia que la variable nursery es binaria ya que cuenta con 2 posibles resultados.\n",
    "Se aprecia en el gráfico que las categorías estan desbalanceadas ya que la categoría \"yes\" la cual indica que si asistió a una\n",
    "guardería tiene una frecuencia relativa de un 0.79.\n",
    "\"\"\""
   ]
  },
  {
   "cell_type": "code",
   "execution_count": 30,
   "id": "4cdce8f3",
   "metadata": {},
   "outputs": [
    {
     "name": "stdout",
     "output_type": "stream",
     "text": [
      "yes    0.948586\n",
      "no     0.051414\n",
      "Name: higher, dtype: float64\n"
     ]
    },
    {
     "data": {
      "text/plain": [
       "'\\nSe aprecia que la variable higher es binaria ya que cuenta con 2 posibles resultados.\\nSe aprecia en el gráfico que el 95% de los estudiantes desea proseguir con estudios superiores.\\n'"
      ]
     },
     "execution_count": 30,
     "metadata": {},
     "output_type": "execute_result"
    },
    {
     "data": {
      "image/png": "[encoded data removed]",
      "text/plain": [
       "<Figure size 432x288 with 1 Axes>"
      ]
     },
     "metadata": {
      "needs_background": "light"
     },
     "output_type": "display_data"
    }
   ],
   "source": [
    "df[\"higher\"].value_counts()\n",
    "\n",
    "df[\"higher\"] = df[\"higher\"].replace([\"zero\", \"nulidade\", \"sem validade\"], [np.nan]*3)\n",
    "\n",
    "df[\"higher\"].value_counts()\n",
    "\n",
    "\n",
    "grafico_barra(df, \"higher\")\n",
    "\n",
    "print(df[\"higher\"].value_counts('%'))\n",
    "\n",
    "\"\"\"\n",
    "Se aprecia que la variable higher es binaria ya que cuenta con 2 posibles resultados.\n",
    "Se aprecia en el gráfico que el 95% de los estudiantes desea proseguir con estudios superiores.\n",
    "\"\"\""
   ]
  },
  {
   "cell_type": "code",
   "execution_count": 31,
   "id": "4175c3a3",
   "metadata": {},
   "outputs": [
    {
     "name": "stdout",
     "output_type": "stream",
     "text": [
      "yes    0.834184\n",
      "no     0.165816\n",
      "Name: internet, dtype: float64\n"
     ]
    },
    {
     "data": {
      "text/plain": [
       "'\\nSe aprecia que la variable higher es binaria ya que cuenta con 2 posibles resultados.\\nSe aprecia en el gráfico el 83% del total de estudiantes cuenta con acceso a internet en el hogar.\\n'"
      ]
     },
     "execution_count": 31,
     "metadata": {},
     "output_type": "execute_result"
    },
    {
     "data": {
      "image/png": "[encoded data removed]",
      "text/plain": [
       "<Figure size 432x288 with 1 Axes>"
      ]
     },
     "metadata": {
      "needs_background": "light"
     },
     "output_type": "display_data"
    }
   ],
   "source": [
    "df[\"internet\"].value_counts()\n",
    "\n",
    "df[\"internet\"] = df[\"internet\"].replace([\"zero\", \"nulidade\", \"sem validade\"], [np.nan]*3)\n",
    "\n",
    "df[\"internet\"].value_counts()\n",
    "\n",
    "\n",
    "grafico_barra(df, \"internet\")\n",
    "\n",
    "print(df[\"internet\"].value_counts('%'))\n",
    "\n",
    "\"\"\"\n",
    "Se aprecia que la variable higher es binaria ya que cuenta con 2 posibles resultados.\n",
    "Se aprecia en el gráfico el 83% del total de estudiantes cuenta con acceso a internet en el hogar.\n",
    "\"\"\""
   ]
  },
  {
   "cell_type": "code",
   "execution_count": 32,
   "id": "27d9c367",
   "metadata": {},
   "outputs": [
    {
     "name": "stdout",
     "output_type": "stream",
     "text": [
      "no     0.666667\n",
      "yes    0.333333\n",
      "Name: romantic, dtype: float64\n"
     ]
    },
    {
     "data": {
      "text/plain": [
       "'\\nSe aprecia que la variable romantic es binaria ya que cuenta con 2 posibles resultados.\\nSe aprecia que la categoría \"no\" la cual indica que no tiene una relacion romantica es la categoria con mayor frecuencia,\\ncon un 67% del total.\\n'"
      ]
     },
     "execution_count": 32,
     "metadata": {},
     "output_type": "execute_result"
    },
    {
     "data": {
      "image/png": "[encoded data removed]",
      "text/plain": [
       "<Figure size 432x288 with 1 Axes>"
      ]
     },
     "metadata": {
      "needs_background": "light"
     },
     "output_type": "display_data"
    }
   ],
   "source": [
    "df[\"romantic\"].value_counts()\n",
    "\n",
    "df[\"romantic\"] = df[\"romantic\"].replace([\"zero\", \"nulidade\", \"sem validade\"], [np.nan]*3)\n",
    "\n",
    "df[\"romantic\"].value_counts()\n",
    "\n",
    "\n",
    "grafico_barra(df, \"romantic\")\n",
    "\n",
    "print(df[\"romantic\"].value_counts('%'))\n",
    "\n",
    "\"\"\"\n",
    "Se aprecia que la variable romantic es binaria ya que cuenta con 2 posibles resultados.\n",
    "Se aprecia que la categoría \"no\" la cual indica que no tiene una relacion romantica es la categoria con mayor frecuencia,\n",
    "con un 67% del total.\n",
    "\"\"\""
   ]
  },
  {
   "cell_type": "code",
   "execution_count": 33,
   "id": "66731fb1",
   "metadata": {},
   "outputs": [
    {
     "data": {
      "text/plain": [
       "yes    369\n",
       "no      20\n",
       "Name: higher, dtype: int64"
      ]
     },
     "execution_count": 33,
     "metadata": {},
     "output_type": "execute_result"
    }
   ],
   "source": [
    "df[\"higher\"].value_counts()"
   ]
  },
  {
   "cell_type": "code",
   "execution_count": null,
   "id": "8612ec9a",
   "metadata": {},
   "outputs": [],
   "source": []
  }
 ],
 "metadata": {
  "hide_input": false,
  "kernelspec": {
   "display_name": "Python 3 (ipykernel)",
   "language": "python",
   "name": "python3"
  },
  "language_info": {
   "codemirror_mode": {
    "name": "ipython",
    "version": 3
   },
   "file_extension": ".py",
   "mimetype": "text/x-python",
   "name": "python",
   "nbconvert_exporter": "python",
   "pygments_lexer": "ipython3",
   "version": "3.9.12"
  },
  "toc": {
   "base_numbering": 1,
   "nav_menu": {},
   "number_sections": true,
   "sideBar": true,
   "skip_h1_title": false,
   "title_cell": "Table of Contents",
   "title_sidebar": "Contents",
   "toc_cell": false,
   "toc_position": {},
   "toc_section_display": true,
   "toc_window_display": false
  },
  "varInspector": {
   "cols": {
    "lenName": 16,
    "lenType": 16,
    "lenVar": 40
   },
   "kernels_config": {
    "python": {
     "delete_cmd_postfix": "",
     "delete_cmd_prefix": "del ",
     "library": "var_list.py",
     "varRefreshCmd": "print(var_dic_list())"
    },
    "r": {
     "delete_cmd_postfix": ") ",
     "delete_cmd_prefix": "rm(",
     "library": "var_list.r",
     "varRefreshCmd": "cat(var_dic_list()) "
    }
   },
   "types_to_exclude": [
    "module",
    "function",
    "builtin_function_or_method",
    "instance",
    "_Feature"
   ],
   "window_display": false
  }
 },
 "nbformat": 4,
 "nbformat_minor": 5
}
