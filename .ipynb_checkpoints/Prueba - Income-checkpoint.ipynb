{
 "cells": [
  {
   "cell_type": "markdown",
   "id": "49ecc418",
   "metadata": {},
   "source": [
    "<img src=https://desafiolatam.com/assets/home/logo-academia-bla-790873cdf66b0e681dfbe640ace8a602f5330bec301c409744c358330e823ae3.png>"
   ]
  },
  {
   "cell_type": "markdown",
   "id": "af3ce9d9",
   "metadata": {},
   "source": [
    "   ###### Nombre Alumno: Ramiro Silva   \n",
    "   ###### Generación: G48\n",
    "   ###### Profesores: Geanina Salomó  /  Gonzalo Peña\n",
    "   ###### Fecha : 18-08-2022"
   ]
  },
  {
   "cell_type": "markdown",
   "id": "065826a9",
   "metadata": {},
   "source": [
    "<img src=\"prueba.png\" width=\"900\" height=\"900\"/>\n"
   ]
  },
  {
   "cell_type": "markdown",
   "id": "babd26ba",
   "metadata": {},
   "source": [
    "<img src=\"condiciones_generales.png\" width=\"900\" height=\"900\"/>\n"
   ]
  },
  {
   "cell_type": "markdown",
   "id": "7eea432d",
   "metadata": {},
   "source": [
    "<img src=\"puntuacion_y_correccion.png\" width=\"900\" height=\"900\"/>\n"
   ]
  },
  {
   "cell_type": "markdown",
   "id": "fa79dfff",
   "metadata": {},
   "source": [
    "<img src=\"condiciones_generales.png\" width=\"900\" height=\"900\"/>\n"
   ]
  },
  {
   "cell_type": "markdown",
   "id": "6cafd079",
   "metadata": {},
   "source": [
    "<img src=\"puntuacion_y_correccion.png\" width=\"900\" height=\"900\"/>\n"
   ]
  },
  {
   "cell_type": "markdown",
   "id": "08a5f810",
   "metadata": {},
   "source": [
    "# Hito 1 Determinantes del ingreso"
   ]
  },
  {
   "cell_type": "markdown",
   "id": "dd91a89c",
   "metadata": {},
   "source": [
    "<img src=\"determinantes_del_ingreso.png\" width=\"900\" height=\"900\"/>\n"
   ]
  },
  {
   "cell_type": "markdown",
   "id": "c4172932",
   "metadata": {},
   "source": [
    "## Descripción de la DB\n",
    "\n",
    "\n",
    "<p> Para desarrollar este desafío se debe utilizar la base de datos income-db.csv. </p>\n",
    "\n",
    "<p> Las variables que componen esta base se detallan a continuación: </p>\n",
    "\n",
    "- `age`: Edad del individuo.\n",
    "\n",
    "- `workclass`: Naturaleza de la organización que emplea al individuo.\n",
    "\n",
    "- `education`: Nivel educacional del individuo:Bachelors (Licenciado), Some-college\n",
    "(Superior incompleta), 11th (3ro medio), HS-grad (Secundaria completa), Prof-school\n",
    "(Escuela profesional), Assoc-acdm (Técnico superior administrativo) , Assoc-voc\n",
    "(Técnico superior vocacional), 9th (1ro medio), 7th-8th (7mo-8vo), 12th (4to medio),\n",
    "Masters (Maestría de postgrado), 1st-4th (1ro-4to básico), 10th(2do medio),\n",
    "Doctorate (Doctorado), 5th-6th (5to-6to), Preschool (Preescolar).\n",
    "\n",
    "- `capital-gains`: Ingresos generados por inversiones fuera del trabajo asalariado =\n",
    "Ingresos generados por inversiones fuera del trabajo asalariado.\n",
    "\n",
    "- `capital-losses`: Pérdidas generadas por inversiones fuera del trabajo asalariado.\n",
    "- `fnlwgt`: Ponderador muestral.\n",
    "\n",
    "- `marital-status`: Estado civil del individuo: Married-civ-spouse (Casado/a régimen\n",
    "civil), Divorced (Divorciado/a), Never-married (Soltero/a), Separated (Separado/a),\n",
    "Widowed (Viudo/a), Married-spouse-absent (Casado con esposo/a ausente),\n",
    "Married-AF-spouse (Casado/a régimen castrense).\n",
    "\n",
    "- `occupation`: Ocupación del individuo: Tech-support (Soporte técnico), Craft-repair\n",
    "(Reparaciones), Other-service (Otros servicios), Sales (Ventas), Exec-managerial\n",
    "(Ejecutivo administrativos), Prof-specialty (Profesores), Handlers-cleaners (Aseo y\n",
    "ornato), Machine-op-inspct (Inspectores de maquinarias), Adm-clerical\n",
    "(Administrativos servicio al cliente), Farming-fishing (Pesca-ganadería),\n",
    "Transport-moving (Transporte), Priv-house-serv (Asesor del hogar), Protective-serv\n",
    "(servicios de seguridad), Armed-Forces (Fuerzas armadas).\n",
    "\n",
    "- `relationship`: Relación respecto a su familia Wife(Esposa), Own-child (hijo único),\n",
    "Husband (Esposo), Not-in-family (No pertenece a la familia), Other-relative (Familiar\n",
    "de otro tipo), Unmarried (Soltero).\n",
    "\n",
    "- `race`: Raza del encuestado White(Blanco caucásico), Asian-Pac-Islander (Isleño del\n",
    "Asia Pacífico), Amer-Indian-Eskimo (Pertenenciente a pueblos originarios), Other\n",
    "(Otro grupo), Black (Afroamericano).\n",
    "\n",
    "- `sex`: Sexo del encuestado.\n",
    "\n",
    "- `hours-per-week`: Cantidad de horas trabajadas por semana.\n",
    "\n",
    "- `native-country`: País de origen. United-States, Cambodia, England, Puerto-Rico,\n",
    "Canada, Germany, Outlying-US(Guam-USVI-etc), India, Japan, Greece, South, China,\n",
    "Cuba, Iran, Honduras, Philippines, Italy, Poland, Jamaica, Vietnam, Mexico, Portugal,\n",
    "Ireland, France, Dominican-Republic, Laos, Ecuador, Taiwan, Haiti, Columbia, Hungary,\n",
    "Guatemala, Nicaragua, Scotland, Thailand, Yugoslavia, El-Salvador, Trinadad&Tobago,\n",
    "Peru, Hong, Holand-Netherlands.\n",
    "\n",
    "- `income`: <=50K Si el individuo percibe ingresos inferiores a 50.000 dólares anuales,\n",
    ">50K si el individuo percibe ingresos superiores a 50.000 dólares anuales. Este es su\n",
    "vector objetivo."
   ]
  },
  {
   "cell_type": "markdown",
   "id": "b4bdf77d",
   "metadata": {},
   "source": [
    "# Preliminares\n",
    "\n",
    "## Descripción del problema\n",
    "\n",
    "\n",
    "\n",
    "\n",
    "Para el caso de \"Determinantes del ingreso\" se considera que el Vector Objetivo es la variable \"Income\" la cual es una variable dicotomica,  ya que indica las personas que tienen ingresos mayores a 50.000 y menores o iguales a 50.000 dólares anuales y es debido a ello, que nos estamos refieriendo de un problema de clasificación.\n",
    "\n",
    "Ya teniendo en cuenta que el Vector objetivo es una variable dicotomica y además que ya se sabe a priori los resultados del vector en estudio, se descarta un modelo de regresión lineal y se realizaran modelo econometrico y de machine learning.\n",
    "\n",
    "Para el modelo logistico al contar un df con muchos registros alrededor de 48.000 se falicitará a la hora de dividar el df para entrenar el modelo y para realizar el test.\n",
    "\n",
    "Respecto a los datos perdidos que vienen en forma \"?\" se deben transformar a nulos para su posterior eliminación. Se justifica la eliminación de estos registros ya que se cuenta con un df con bastantes registros lo cual en cierta forma no afectaría tanto a la hora de utilizar estos datos para generar modelos para entreamiento y testeo.\n",
    "\n",
    "Otro punto a considerar es que existen varaibles discretas que deben ser recodificadas a traves de binary encoding. Como a su vez se hace necesaria transformar el vector objetivo debido que se comento en lienas anteriores viene como un string.\n",
    "\n",
    "Finalmente como se trata de un modelo de machine learning lo que se busca es que el error a la hora de predecir sea el minimo.\n",
    "Para lo anteriormente utilizado se utilizarán las metricas de desempeño: Recall, F1, Acurrancy y Precision.\n",
    "Respecto al modelo econometrico se debe considerar como metricas de ajsutes el log-likelihood y ll-null."
   ]
  },
  {
   "cell_type": "markdown",
   "id": "20c6c5a8",
   "metadata": {},
   "source": [
    "# Aspectos Computacionales\n",
    "\n",
    "\n",
    "Para el desarrollo de la regresión lineal se deben considerar las siguientes librerías\n",
    "\n",
    "**import pandas as pd** # Es una librería orientada a la manipulación y limpieza de estructuras de datos.                       \n",
    "**import numpy as np**  # Es una librería orientada a la computación científica.                                               \n",
    "**import scipy.stats as stats** # Esta librería contiene un y nos ayuda a generar distribuciones\n",
    "\n",
    "**import matplotlib.pyplot as plt**   # Esta librería nos ayudará a generar gráficos.  \n",
    "**import seaborn as sns** # Esta librería podremos generar gráficos elegantes y se complementa con matplotlib.\n",
    "\n",
    "**import scipy.stats as stats**  # Es una libreria que sirve para simular y generar distribuciones.                             \n",
    "**from sklearn.preprocessing import LabelEncoder** # Es una librería y podremos recodificar variables.                         \n",
    "**from sklearn.model_selection import train_test_split** # Generamos los subset para entrenamiento y testeo del modelo.         \n",
    "**from sklearn.preprocessing import StandardScaler** # Esta librería nos sirve para estendarizar datos. \n",
    "**from sklearn.metrics import confusion_matrix** # Esta librería nos sirve para generar la matriz de confusión, una metrica.   \n",
    "\n",
    "\n",
    "**import statsmodels.api as sm**   # podremos generar un modelo                                                                 \n",
    "**import statsmodels.formula.api as smf**  #  librería que sirve para crear modelos Logistico o Regresion \n",
    "\n",
    "**import warnings**  # Esta es una librería que muestra los warning.                                                           \n",
    "**warnings.filterwarnings(\"ignore\", category=DeprecationWarning)** # con esto se evita que genere warnings de metodos o funciones desactualizadas.                                                                                                     \n",
    "\n",
    "\n"
   ]
  },
  {
   "cell_type": "markdown",
   "id": "9fef3df6",
   "metadata": {},
   "source": [
    "<img src=\"hito2.png\" width=\"900\" height=\"900\"/>\n"
   ]
  },
  {
   "cell_type": "code",
   "execution_count": 106,
   "id": "8bec9cb7",
   "metadata": {},
   "outputs": [
    {
     "data": {
      "text/html": [
       "<div>\n",
       "<style scoped>\n",
       "    .dataframe tbody tr th:only-of-type {\n",
       "        vertical-align: middle;\n",
       "    }\n",
       "\n",
       "    .dataframe tbody tr th {\n",
       "        vertical-align: top;\n",
       "    }\n",
       "\n",
       "    .dataframe thead th {\n",
       "        text-align: right;\n",
       "    }\n",
       "</style>\n",
       "<table border=\"1\" class=\"dataframe\">\n",
       "  <thead>\n",
       "    <tr style=\"text-align: right;\">\n",
       "      <th></th>\n",
       "      <th>age</th>\n",
       "      <th>workclass</th>\n",
       "      <th>fnlwgt</th>\n",
       "      <th>education</th>\n",
       "      <th>educational-num</th>\n",
       "      <th>marital-status</th>\n",
       "      <th>occupation</th>\n",
       "      <th>relationship</th>\n",
       "      <th>race</th>\n",
       "      <th>gender</th>\n",
       "      <th>capital-gain</th>\n",
       "      <th>capital-loss</th>\n",
       "      <th>hours-per-week</th>\n",
       "      <th>native-country</th>\n",
       "      <th>income</th>\n",
       "    </tr>\n",
       "  </thead>\n",
       "  <tbody>\n",
       "    <tr>\n",
       "      <th>0</th>\n",
       "      <td>25</td>\n",
       "      <td>Private</td>\n",
       "      <td>226802</td>\n",
       "      <td>11th</td>\n",
       "      <td>7</td>\n",
       "      <td>Never-married</td>\n",
       "      <td>Machine-op-inspct</td>\n",
       "      <td>Own-child</td>\n",
       "      <td>Black</td>\n",
       "      <td>Male</td>\n",
       "      <td>0</td>\n",
       "      <td>0</td>\n",
       "      <td>40</td>\n",
       "      <td>United-States</td>\n",
       "      <td>&lt;=50K</td>\n",
       "    </tr>\n",
       "    <tr>\n",
       "      <th>1</th>\n",
       "      <td>38</td>\n",
       "      <td>Private</td>\n",
       "      <td>89814</td>\n",
       "      <td>HS-grad</td>\n",
       "      <td>9</td>\n",
       "      <td>Married-civ-spouse</td>\n",
       "      <td>Farming-fishing</td>\n",
       "      <td>Husband</td>\n",
       "      <td>White</td>\n",
       "      <td>Male</td>\n",
       "      <td>0</td>\n",
       "      <td>0</td>\n",
       "      <td>50</td>\n",
       "      <td>United-States</td>\n",
       "      <td>&lt;=50K</td>\n",
       "    </tr>\n",
       "    <tr>\n",
       "      <th>2</th>\n",
       "      <td>28</td>\n",
       "      <td>Local-gov</td>\n",
       "      <td>336951</td>\n",
       "      <td>Assoc-acdm</td>\n",
       "      <td>12</td>\n",
       "      <td>Married-civ-spouse</td>\n",
       "      <td>Protective-serv</td>\n",
       "      <td>Husband</td>\n",
       "      <td>White</td>\n",
       "      <td>Male</td>\n",
       "      <td>0</td>\n",
       "      <td>0</td>\n",
       "      <td>40</td>\n",
       "      <td>United-States</td>\n",
       "      <td>&gt;50K</td>\n",
       "    </tr>\n",
       "    <tr>\n",
       "      <th>3</th>\n",
       "      <td>44</td>\n",
       "      <td>Private</td>\n",
       "      <td>160323</td>\n",
       "      <td>Some-college</td>\n",
       "      <td>10</td>\n",
       "      <td>Married-civ-spouse</td>\n",
       "      <td>Machine-op-inspct</td>\n",
       "      <td>Husband</td>\n",
       "      <td>Black</td>\n",
       "      <td>Male</td>\n",
       "      <td>7688</td>\n",
       "      <td>0</td>\n",
       "      <td>40</td>\n",
       "      <td>United-States</td>\n",
       "      <td>&gt;50K</td>\n",
       "    </tr>\n",
       "    <tr>\n",
       "      <th>4</th>\n",
       "      <td>18</td>\n",
       "      <td>?</td>\n",
       "      <td>103497</td>\n",
       "      <td>Some-college</td>\n",
       "      <td>10</td>\n",
       "      <td>Never-married</td>\n",
       "      <td>?</td>\n",
       "      <td>Own-child</td>\n",
       "      <td>White</td>\n",
       "      <td>Female</td>\n",
       "      <td>0</td>\n",
       "      <td>0</td>\n",
       "      <td>30</td>\n",
       "      <td>United-States</td>\n",
       "      <td>&lt;=50K</td>\n",
       "    </tr>\n",
       "  </tbody>\n",
       "</table>\n",
       "</div>"
      ],
      "text/plain": [
       "   age  workclass  fnlwgt     education  educational-num      marital-status  \\\n",
       "0   25    Private  226802          11th                7       Never-married   \n",
       "1   38    Private   89814       HS-grad                9  Married-civ-spouse   \n",
       "2   28  Local-gov  336951    Assoc-acdm               12  Married-civ-spouse   \n",
       "3   44    Private  160323  Some-college               10  Married-civ-spouse   \n",
       "4   18          ?  103497  Some-college               10       Never-married   \n",
       "\n",
       "          occupation relationship   race  gender  capital-gain  capital-loss  \\\n",
       "0  Machine-op-inspct    Own-child  Black    Male             0             0   \n",
       "1    Farming-fishing      Husband  White    Male             0             0   \n",
       "2    Protective-serv      Husband  White    Male             0             0   \n",
       "3  Machine-op-inspct      Husband  Black    Male          7688             0   \n",
       "4                  ?    Own-child  White  Female             0             0   \n",
       "\n",
       "   hours-per-week native-country income  \n",
       "0              40  United-States  <=50K  \n",
       "1              50  United-States  <=50K  \n",
       "2              40  United-States   >50K  \n",
       "3              40  United-States   >50K  \n",
       "4              30  United-States  <=50K  "
      ]
     },
     "execution_count": 106,
     "metadata": {},
     "output_type": "execute_result"
    }
   ],
   "source": [
    "#Se revisa el df\n",
    "\n",
    "import pandas as pd # Es una librería orientada a la manipulación y limpieza de estructuras de datos.\n",
    "import numpy as np # Es una librería orientada a la computación científica.\n",
    "import scipy.stats as stats # Esta librería contiene un y nos ayuda a generar distribuciones\n",
    "\n",
    "import matplotlib.pyplot as plt # Esta librería nos ayudará a generar gráficos.\n",
    "import seaborn as sns # Esta librería podremos generar gráficos elegantes y se complementa con matplotlib.\n",
    "\n",
    "import scipy.stats as stats # Es una libreria que sirve para simular y generar distribuciones.\n",
    "from sklearn.preprocessing import LabelEncoder # Es una librería y podremos recodificar variables.\n",
    "from sklearn.model_selection import train_test_split # Generamos los subset para entrenamiento y testeo del modelo.\n",
    "from sklearn.preprocessing import StandardScaler # Esta librería nos sirve para estendarizar datos. from sklearn.metrics import confusion_matrix # Esta librería nos sirve para generar la matriz de confusión, una metrica.\n",
    "\n",
    "import statsmodels.api as sm # podremos generar un modelo\n",
    "import statsmodels.formula.api as smf # librería que sirve para crear modelos Logistico o Regresion\n",
    "\n",
    "import warnings # Esta es una librería que muestra los warning.\n",
    "warnings.filterwarnings(\"ignore\", category=DeprecationWarning) # con esto se evita que genere warnings de metodos o funciones desactualizadas.\n",
    "\n",
    "import funciones as fx\n",
    "\n",
    "import missingno as msngo\n",
    "\n",
    "\n",
    "\n",
    "from sklearn.linear_model import LogisticRegression\n",
    "from sklearn.model_selection import train_test_split\n",
    "\n",
    "from sklearn.preprocessing import StandardScaler\n",
    "\n",
    "from sklearn.linear_model import LogisticRegression\n",
    "\n",
    "from sklearn.metrics import confusion_matrix\n",
    "\n",
    "from sklearn.metrics import accuracy_score\n",
    "\n",
    "from sklearn.metrics import recall_score\n",
    "\n",
    "from sklearn.metrics import classification_report\n",
    "\n",
    "from sklearn.metrics import roc_curve\n",
    "\n",
    "from sklearn.metrics import roc_auc_score\n",
    "\n",
    "from sklearn.metrics import f1_score\n",
    "\n",
    "from sklearn.metrics import roc_auc_score\n",
    "\n",
    "\n",
    "\n",
    "df = pd.read_csv(\"income-db.csv\")\n",
    "\n",
    "df.head()"
   ]
  },
  {
   "cell_type": "code",
   "execution_count": 107,
   "id": "9f510f15",
   "metadata": {},
   "outputs": [
    {
     "data": {
      "text/plain": [
       "(48842, 15)"
      ]
     },
     "execution_count": 107,
     "metadata": {},
     "output_type": "execute_result"
    }
   ],
   "source": [
    "#Se revisa la cantidad de registros y series que tiene el df\n",
    "\n",
    "df.shape"
   ]
  },
  {
   "cell_type": "code",
   "execution_count": 108,
   "id": "852d9acc",
   "metadata": {},
   "outputs": [
    {
     "name": "stdout",
     "output_type": "stream",
     "text": [
      "<class 'pandas.core.frame.DataFrame'>\n",
      "RangeIndex: 48842 entries, 0 to 48841\n",
      "Data columns (total 15 columns):\n",
      " #   Column           Non-Null Count  Dtype \n",
      "---  ------           --------------  ----- \n",
      " 0   age              48842 non-null  int64 \n",
      " 1   workclass        48842 non-null  object\n",
      " 2   fnlwgt           48842 non-null  int64 \n",
      " 3   education        48842 non-null  object\n",
      " 4   educational-num  48842 non-null  int64 \n",
      " 5   marital-status   48842 non-null  object\n",
      " 6   occupation       48842 non-null  object\n",
      " 7   relationship     48842 non-null  object\n",
      " 8   race             48842 non-null  object\n",
      " 9   gender           48842 non-null  object\n",
      " 10  capital-gain     48842 non-null  int64 \n",
      " 11  capital-loss     48842 non-null  int64 \n",
      " 12  hours-per-week   48842 non-null  int64 \n",
      " 13  native-country   48842 non-null  object\n",
      " 14  income           48842 non-null  object\n",
      "dtypes: int64(6), object(9)\n",
      "memory usage: 5.6+ MB\n"
     ]
    }
   ],
   "source": [
    "#Se identifican el tipo dato que existe en cada serie del df\n",
    "\n",
    "df.info()"
   ]
  },
  {
   "cell_type": "code",
   "execution_count": 109,
   "id": "9c939e3b",
   "metadata": {},
   "outputs": [
    {
     "data": {
      "text/plain": [
       "age                   0\n",
       "workclass          2799\n",
       "fnlwgt                0\n",
       "education             0\n",
       "educational-num       0\n",
       "marital-status        0\n",
       "occupation         2809\n",
       "relationship          0\n",
       "race                  0\n",
       "gender                0\n",
       "capital-gain          0\n",
       "capital-loss          0\n",
       "hours-per-week        0\n",
       "native-country      857\n",
       "income                0\n",
       "dtype: int64"
      ]
     },
     "execution_count": 109,
     "metadata": {},
     "output_type": "execute_result"
    }
   ],
   "source": [
    "\"\"\"\n",
    "Se transforman los datos que vienen como \"?\" y se transforman a NaN, para luego finalmente cuantificar cuantos datos nulos\n",
    "se tienen y en que series del df se encuentran.\n",
    "\"\"\"\n",
    "\n",
    "df[\"age\"] = df[\"age\"].replace([\"?\"], [np.nan])\n",
    "df[\"workclass\"] = df[\"workclass\"].replace([\"?\"], [np.nan])\n",
    "df[\"education\"] = df[\"education\"].replace([\"?\"], [np.nan])\n",
    "df[\"fnlwgt\"] = df[\"fnlwgt\"].replace([\"?\"], [np.nan])\n",
    "df[\"educational-num\"] = df[\"educational-num\"].replace([\"?\"], [np.nan])\n",
    "df[\"marital-status\"] = df[\"marital-status\"].replace([\"?\"], [np.nan])\n",
    "df[\"occupation\"] = df[\"occupation\"].replace([\"?\"], [np.nan])\n",
    "df[\"relationship\"] = df[\"relationship\"].replace([\"?\"], [np.nan])\n",
    "df[\"race\"] = df[\"race\"].replace([\"?\"], [np.nan])\n",
    "df[\"gender\"] = df[\"gender\"].replace([\"?\"], [np.nan])\n",
    "df[\"capital-gain\"] = df[\"capital-gain\"].replace([\"?\"], [np.nan])\n",
    "df[\"capital-loss\"] = df[\"capital-loss\"].replace([\"?\"], [np.nan])\n",
    "df[\"hours-per-week\"] = df[\"hours-per-week\"].replace([\"?\"], [np.nan])\n",
    "df[\"native-country\"] = df[\"native-country\"].replace([\"?\"], [np.nan])\n",
    "df[\"income\"] = df[\"income\"].replace([\"?\"], [np.nan])\n",
    "\n",
    "\n",
    "df.isnull().sum()"
   ]
  },
  {
   "cell_type": "code",
   "execution_count": 110,
   "id": "bf0ffaba",
   "metadata": {},
   "outputs": [
    {
     "data": {
      "text/plain": [
       "0       12\n",
       "2799     1\n",
       "2809     1\n",
       "857      1\n",
       "dtype: int64"
      ]
     },
     "execution_count": 110,
     "metadata": {},
     "output_type": "execute_result"
    }
   ],
   "source": [
    "df.isnull().sum().value_counts()"
   ]
  },
  {
   "cell_type": "code",
   "execution_count": 111,
   "id": "a6d86e01",
   "metadata": {},
   "outputs": [
    {
     "data": {
      "image/png": "[encoded data removed]",
      "text/plain": [
       "<Figure size 1800x720 with 2 Axes>"
      ]
     },
     "metadata": {
      "needs_background": "light"
     },
     "output_type": "display_data"
    }
   ],
   "source": [
    "#Forma visual de ver los datos nulos\n",
    "\n",
    "msngo.matrix(df);"
   ]
  },
  {
   "cell_type": "markdown",
   "id": "cf3d6934",
   "metadata": {},
   "source": [
    "<h4>Comentarios datos nulos</h4>\n",
    "\n",
    "<p> Se visualiza en informacion obtenida por df.isnull().sum() y tanto como en la visualización de las series en el grafico, que  las series que tienen datos nulos son workclass, ocuupation y native-country</p>"
   ]
  },
  {
   "cell_type": "code",
   "execution_count": 112,
   "id": "aa7f8624",
   "metadata": {},
   "outputs": [
    {
     "data": {
      "text/plain": [
       "(45222, 15)"
      ]
     },
     "execution_count": 112,
     "metadata": {},
     "output_type": "execute_result"
    }
   ],
   "source": [
    "#Ver la cantidad de rregistros y colummnas\n",
    "\n",
    "df = df.dropna()\n",
    "\n",
    "df.shape"
   ]
  },
  {
   "cell_type": "markdown",
   "id": "d6bf7d85",
   "metadata": {},
   "source": [
    "<h4>Comentarios eliminación de datos nulos</h4>\n",
    "\n",
    "<p> Se toma la decisión de eliminar los valores nulos ya que se cuenta con df relativamente poblado con muchos registros y se pasa de 48842 a 45222 registros, por lo cual se eliminan alrededor de 3620 registros. </p>"
   ]
  },
  {
   "cell_type": "code",
   "execution_count": 113,
   "id": "1d9c10ee",
   "metadata": {},
   "outputs": [
    {
     "name": "stdout",
     "output_type": "stream",
     "text": [
      "1    34014\n",
      "0    11208\n",
      "Name: menor_o_igual_50000, dtype: int64\n"
     ]
    }
   ],
   "source": [
    "#Se recodifica el vector objetivo y se renombra la columna a menor_o_igual_50000\n",
    "\n",
    "df[\"menor_o_igual_50000\"] = df[\"income\"].replace([\"<=50K\", \">50K\"], [1, 0])\n",
    "\n",
    "df = df.drop(['income'], axis=1)\n",
    "\n",
    "print(df[\"menor_o_igual_50000\"].value_counts())"
   ]
  },
  {
   "cell_type": "code",
   "execution_count": 114,
   "id": "df843c5e",
   "metadata": {},
   "outputs": [
    {
     "data": {
      "image/png": "[encoded data removed]",
      "text/plain": [
       "<Figure size 432x288 with 1 Axes>"
      ]
     },
     "metadata": {
      "needs_background": "light"
     },
     "output_type": "display_data"
    }
   ],
   "source": [
    "fx.grafico_barra(df, \"menor_o_igual_50000\")"
   ]
  },
  {
   "cell_type": "markdown",
   "id": "3f5c35d5",
   "metadata": {},
   "source": [
    "<h4>Comentarios Vector Objetivo</h4>\n",
    "\n",
    "<p> Se aprecia que el vector objetivo es del tipo discreto</p>\n",
    "<p> Se puede apreciar que eexisten más registros donde las personas tienen ingresos iguales o por debajo de los 50.000\n",
    "dolares. Puede ser un problema ya que claramente desbalance lo que podría afectar en los modelos.</p>\n"
   ]
  },
  {
   "cell_type": "code",
   "execution_count": 115,
   "id": "fdcc2b7c",
   "metadata": {},
   "outputs": [
    {
     "data": {
      "text/plain": [
       "white-collar    24360\n",
       "blue-collar     16040\n",
       "others           4822\n",
       "Name: collars, dtype: int64"
      ]
     },
     "execution_count": 115,
     "metadata": {},
     "output_type": "execute_result"
    }
   ],
   "source": [
    "#La variable occupation se reagrupa en 3 grandes grupos. Cabe destacar que la serie occupation se elimina del df.\n",
    "\n",
    "df[\"collars\"] = df[\"occupation\"].replace(\n",
    "    [\"Prof-specialty\", \"Exec-managerial\", \"Adm-clerical\", \"Sales\", \"Tech-support\"],\n",
    "    [\"white-collar\",\"white-collar\",\"white-collar\",\"white-collar\", \"white-collar\"])\n",
    "\n",
    "df[\"collars\"] = df[\"collars\"].replace(\n",
    "    [\"Craft-repair\", \"Machine-op-inspct\", \"Transport-moving\", \"Handlers-cleaners\", \"Farming-fishing\", \"Protective-serv\",\"Priv-house-serv\"],\n",
    "    [\"blue-collar\",\"blue-collar\",\"blue-collar\",\"blue-collar\",\"blue-collar\",\"blue-collar\",\"blue-collar\"])\n",
    "\n",
    "df[\"collars\"] = df[\"collars\"].replace(\n",
    "    [\"Other-service\", \"Armed-Forces\"],\n",
    "    [\"others\", \"others\"])\n",
    "\n",
    "df = df.drop(['occupation'], axis=1)\n",
    "\n",
    "df[\"collars\"].value_counts()"
   ]
  },
  {
   "cell_type": "code",
   "execution_count": 116,
   "id": "348ff558",
   "metadata": {},
   "outputs": [
    {
     "data": {
      "image/png": "[encoded data removed]",
      "text/plain": [
       "<Figure size 432x288 with 1 Axes>"
      ]
     },
     "metadata": {
      "needs_background": "light"
     },
     "output_type": "display_data"
    }
   ],
   "source": [
    "#La variable workclass es del tipo discreta. Cabe destacar que esta variable se reagrupará en grandes grupos y se llamará collars\n",
    "#Se aprecia que la mayor frecuencia de los datos estan en la categoría Private en la natutaleza del empleo\n",
    "\n",
    "fx.grafico_barra(df, \"collars\")"
   ]
  },
  {
   "cell_type": "markdown",
   "id": "ade220ec",
   "metadata": {},
   "source": [
    "<h4>Comentarios Variable Collars</h4>\n",
    "\n",
    "<p> La serie collars es del tipo discreta.</p>\n",
    "<p> Se aprecia que la mayor frecuencia de los datos estan en la categoría Private en la natutaleza del empleo </p>"
   ]
  },
  {
   "cell_type": "code",
   "execution_count": 117,
   "id": "ccb50055",
   "metadata": {},
   "outputs": [
    {
     "data": {
      "text/plain": [
       "Private            33307\n",
       "self-employed       5442\n",
       "state-level-gov     5046\n",
       "federal-gov         1406\n",
       "unemployed            21\n",
       "Name: workclass_recod, dtype: int64"
      ]
     },
     "execution_count": 117,
     "metadata": {},
     "output_type": "execute_result"
    }
   ],
   "source": [
    "#Recodificacion de la variable workclass y se renombra a workclass_recod\n",
    "\n",
    "df[\"workclass_recod\"] = df[\"workclass\"].replace(\n",
    "    [\"Federal-gov\", \"State-gov\", \"Local-gov\", \"Self-emp-inc\", \"Self-emp-not-inc\", \"Never-worked\", \"Without-pay\"],\n",
    "    [\"federal-gov\", \"state-level-gov\", \"state-level-gov\", \"self-employed\", \"self-employed\", \"unemployed\", \"unemployed\"]\n",
    ")\n",
    "\n",
    "df = df.drop(['workclass'], axis=1)\n",
    "\n",
    "df[\"workclass_recod\"].value_counts()"
   ]
  },
  {
   "cell_type": "code",
   "execution_count": 118,
   "id": "b6b168f5",
   "metadata": {},
   "outputs": [
    {
     "data": {
      "image/png": "[encoded data removed]",
      "text/plain": [
       "<Figure size 432x288 with 1 Axes>"
      ]
     },
     "metadata": {
      "needs_background": "light"
     },
     "output_type": "display_data"
    }
   ],
   "source": [
    "#La variable workclass es del tipo discreta. Cabe destacar que esta variable se reagrupará en grandes grupos y se llamará collars\n",
    "#Se aprecia que la mayor frecuencia de los datos estan en la categoría Private en la natutaleza del empleo\n",
    "\n",
    "fx.grafico_barra(df, \"workclass_recod\")"
   ]
  },
  {
   "cell_type": "markdown",
   "id": "d7d8828c",
   "metadata": {},
   "source": [
    "<h4>Comentarios Variable workclass_recod</h4>\n",
    "\n",
    "<p> La serie workclass_recod es del tipo discreta.</p>\n",
    "<p> Se aprecia que la mayor frecuencia de los datos estan en la categoría Private en la natutaleza del empleo </p>"
   ]
  },
  {
   "cell_type": "code",
   "execution_count": 119,
   "id": "bf00c0b3",
   "metadata": {},
   "outputs": [
    {
     "data": {
      "text/plain": [
       "high-school          19701\n",
       "college              13365\n",
       "university           11413\n",
       "elementary-school      671\n",
       "Preschool               72\n",
       "Name: edu_recod, dtype: int64"
      ]
     },
     "execution_count": 119,
     "metadata": {},
     "output_type": "execute_result"
    }
   ],
   "source": [
    "#La variable education se reagrupa en 5 grandes grupos o categorias.\n",
    "#Cabe destacar que luego del reemplazo de los valores se elimina la serie education\n",
    "\n",
    "df[\"edu_recod\"] = df[\"education\"].replace([\"preschool\"], [\"Preschool\"])\n",
    "df[\"edu_recod\"] = df[\"edu_recod\"].replace([\"1st-4th\", \"5th-6th\"], [\"elementary-school\"]*2)\n",
    "df[\"edu_recod\"] = df[\"edu_recod\"].replace([\"7th-8th\", \"9th\", \"10th\",\"11th\", \"12th\", \"HS-grad\"], [\"high-school\"]*6)\n",
    "df[\"edu_recod\"] = df[\"edu_recod\"].replace([\"Assoc-voc\", \"Assoc-acdm\", \"Some-college\"], [\"college\"]*3)\n",
    "df[\"edu_recod\"] = df[\"edu_recod\"].replace([\"Bachelors\", \"Masters\", \"Prof-school\", \"Doctorate\"], [\"university\"]*4)\n",
    "\n",
    "df = df.drop(['education'], axis=1)\n",
    "\n",
    "df[\"edu_recod\"].value_counts()"
   ]
  },
  {
   "cell_type": "code",
   "execution_count": 120,
   "id": "2190ff20",
   "metadata": {},
   "outputs": [
    {
     "data": {
      "image/png": "[encoded data removed]",
      "text/plain": [
       "<Figure size 432x288 with 1 Axes>"
      ]
     },
     "metadata": {
      "needs_background": "light"
     },
     "output_type": "display_data"
    }
   ],
   "source": [
    "#La variable education es del tipo discreta. Cabe destacar que esta variable se reagrupo en 5 categorías y se renombro a educ_recod \n",
    "\n",
    "#Se aprecia que la categoria High-school es la que cuenta con mayor frecuencia y Preschool es la que cuenta con una menor frecuencia.\n",
    "\n",
    "fx.grafico_barra(df, \"edu_recod\")"
   ]
  },
  {
   "cell_type": "markdown",
   "id": "32ca9cd7",
   "metadata": {},
   "source": [
    "<h4>Comentarios Variable edu_recod</h4>\n",
    "\n",
    "<p> La serie edu_recod es del tipo discreta.</p>\n",
    "<p> Se aprecia que la mayor frecuencia de los datos estan presente en la categoría high-school </p>"
   ]
  },
  {
   "cell_type": "code",
   "execution_count": 121,
   "id": "f75815fe",
   "metadata": {},
   "outputs": [
    {
     "data": {
      "text/plain": [
       "married          21639\n",
       "Never-married    14598\n",
       "divorced          6297\n",
       "separated         1411\n",
       "widowed           1277\n",
       "Name: civstatus, dtype: int64"
      ]
     },
     "execution_count": 121,
     "metadata": {},
     "output_type": "execute_result"
    }
   ],
   "source": [
    "#En la variable marital status se reagrupan alunas categorias y ahora quedan 5 grandes categorias.\n",
    "\n",
    "df[\"civstatus\"] = df[\"marital-status\"].replace([\"Married-civ-spouse\", \"Married-spouse-absent\",\"Married-AF-spouse\"], [\"married\"]*3)\n",
    "df[\"civstatus\"] = df[\"civstatus\"].replace([\"Divorced\"], [\"divorced\"])\n",
    "df[\"civstatus\"] = df[\"civstatus\"].replace([\"Separated\"], [\"separated\"])\n",
    "df[\"civstatus\"] = df[\"civstatus\"].replace([\"Widowed\"], [\"widowed\"])\n",
    "\n",
    "df = df.drop(['marital-status'], axis=1)\n",
    "\n",
    "df[\"civstatus\"].value_counts()"
   ]
  },
  {
   "cell_type": "code",
   "execution_count": 122,
   "id": "5b3f8b93",
   "metadata": {},
   "outputs": [
    {
     "data": {
      "image/png": "[encoded data removed]",
      "text/plain": [
       "<Figure size 432x288 with 1 Axes>"
      ]
     },
     "metadata": {
      "needs_background": "light"
     },
     "output_type": "display_data"
    }
   ],
   "source": [
    "#La variable marital-status es del tipo discreta. Cabe destacar que esta variable se reagrupo en 5 categorías y se renombro civstatus\n",
    "\n",
    "fx.grafico_barra(df, \"civstatus\")"
   ]
  },
  {
   "cell_type": "markdown",
   "id": "ee5ea048",
   "metadata": {},
   "source": [
    "<h4>Comentarios Variable civstatus</h4>\n",
    "\n",
    "<p> La serie civstatus es del tipo discreta.</p>\n",
    "<p> Se aprecia que para la serie civstatus la categoría married cuenta con mayor frecuencia equivalente a un 0.48 de prob </p>"
   ]
  },
  {
   "cell_type": "code",
   "execution_count": 123,
   "id": "50cae82b",
   "metadata": {},
   "outputs": [
    {
     "data": {
      "text/plain": [
       "America    43453\n",
       "Asia        1031\n",
       "Europa       738\n",
       "Name: region, dtype: int64"
      ]
     },
     "execution_count": 123,
     "metadata": {},
     "output_type": "execute_result"
    }
   ],
   "source": [
    "#En la variable native-country se clasificaron los paises por región cabe destacar que se identificaron 3 continentes.\n",
    "#Luego de la transformación de los datos se elimina la serie native-country.\n",
    "\n",
    "df[\"region\"] = df[\"native-country\"].replace([\"United-States\",\n",
    "\"Mexico\",\n",
    "\"Puerto-Rico\",\n",
    "\"Canada\",\n",
    "\"El-Salvador\",\n",
    "\"Cuba\",\n",
    "\"Jamaica\",\n",
    "\"Dominican-Republic\",\n",
    "\"Guatemala\",\n",
    "\"Columbia\",\n",
    "\"Haiti\",\n",
    "\"Nicaragua\",\n",
    "\"Peru\",\n",
    "\"Ecuador\",\n",
    "\"Trinadad&Tobago\",\n",
    "\"Outlying-US(Guam-USVI-etc)\",\n",
    "\"Honduras\"], [\"America\"]*17)\n",
    "\n",
    "\n",
    "df[\"region\"] = df[\"region\"].replace([\"Philippines\",\n",
    "\"India\",\n",
    "\"China\",\n",
    "\"South\",\n",
    "\"Japan\",\n",
    "\"Vietnam\",\n",
    "\"Iran\",\n",
    "\"Taiwan\",\n",
    "\"Thailand\",\n",
    "\"Hong\",\n",
    "\"Cambodia\",\n",
    "\"Laos\"], [\"Asia\"]*12)\n",
    "\n",
    "\n",
    "df[\"region\"] = df[\"region\"].replace([\"Germany\",\n",
    "\"England\",\n",
    "\"Italy\",\n",
    "\"Poland\",\n",
    "\"Portugal\",\n",
    "\"Greece\",\n",
    "\"France\",\n",
    "\"Ireland\",\n",
    "\"Yugoslavia\",\n",
    "\"Scotland\",\n",
    "\"Hungary\",\n",
    "\"Holand-Netherlands\"],[\"Europa\"]*12)\n",
    "\n",
    "\n",
    "df = df.drop(['native-country'], axis=1)\n",
    "\n",
    "df[\"region\"].value_counts()"
   ]
  },
  {
   "cell_type": "code",
   "execution_count": 124,
   "id": "c36c9c4e",
   "metadata": {},
   "outputs": [
    {
     "name": "stdout",
     "output_type": "stream",
     "text": [
      "America    0.960882\n",
      "Asia       0.022799\n",
      "Europa     0.016319\n",
      "Name: region, dtype: float64\n"
     ]
    },
    {
     "data": {
      "image/png": "[encoded data removed]",
      "text/plain": [
       "<Figure size 432x288 with 1 Axes>"
      ]
     },
     "metadata": {
      "needs_background": "light"
     },
     "output_type": "display_data"
    }
   ],
   "source": [
    "fx.grafico_barra(df, \"region\")\n",
    "\n",
    "print(df[\"region\"].value_counts('%'))"
   ]
  },
  {
   "cell_type": "markdown",
   "id": "bd1a1ac7",
   "metadata": {},
   "source": [
    "<h4>Comentarios Variable region</h4>\n",
    "\n",
    "<p> La serie region es del tipo discreta.</p>\n",
    "<p> Se aprecia que para la serie region el 96% del total de personas pertenecen al continente Americano </p>"
   ]
  },
  {
   "cell_type": "code",
   "execution_count": 125,
   "id": "ef582c47",
   "metadata": {},
   "outputs": [
    {
     "name": "stdout",
     "output_type": "stream",
     "text": [
      "La media de age es 38.547941267524656\n",
      "La mediana de age es 37.0\n",
      "La moda de age es [36] y su frec es [1283]\n",
      "La desviacion estandar es 13.217724074001213\n"
     ]
    },
    {
     "data": {
      "image/png": "[encoded data removed]",
      "text/plain": [
       "<Figure size 432x288 with 1 Axes>"
      ]
     },
     "metadata": {
      "needs_background": "light"
     },
     "output_type": "display_data"
    }
   ],
   "source": [
    "#La variable age es una variable del tipo continua a priori se ve que tiene una distribución de forma normal levemente sesgada hacia la izquierda\n",
    "#Por otro lado comentar que los valores se concentran entre los 20 a 50 años con una media de 38 años.\n",
    "\n",
    "fx.fetch_descriptives(df, \"age\")\n",
    "                   \n",
    "fx.plot_hist(df, \"age\", True)"
   ]
  },
  {
   "cell_type": "markdown",
   "id": "aa306502",
   "metadata": {},
   "source": [
    "La variable age es una variable del tipo continua a priori se ve que tiene una distribución de forma normal levemente sesgada hacia la izquierda\n",
    "Por otro lado comentar que los valores se concentran entre los 20 a 50 años con una media de 38 años."
   ]
  },
  {
   "cell_type": "code",
   "execution_count": 126,
   "id": "35e05bd4",
   "metadata": {},
   "outputs": [
    {
     "name": "stdout",
     "output_type": "stream",
     "text": [
      "La media de fnlwgt es 189734.7343107337\n",
      "La mediana de fnlwgt es 178316.0\n",
      "La moda de fnlwgt es [203488] y su frec es [21]\n",
      "La desviacion estandar es 105638.02712109563\n"
     ]
    },
    {
     "data": {
      "image/png": "[encoded data removed]",
      "text/plain": [
       "<Figure size 432x288 with 1 Axes>"
      ]
     },
     "metadata": {
      "needs_background": "light"
     },
     "output_type": "display_data"
    }
   ],
   "source": [
    "fx.fetch_descriptives(df, \"fnlwgt\")\n",
    "\n",
    "fx.plot_hist(df, \"fnlwgt\", True)"
   ]
  },
  {
   "cell_type": "markdown",
   "id": "8720c43f",
   "metadata": {},
   "source": [
    "La variable fnlwgt es una variable del tipo continua se aprecia que es una distribución sesgada hacia la izquierda"
   ]
  },
  {
   "cell_type": "code",
   "execution_count": 127,
   "id": "0c045d40",
   "metadata": {},
   "outputs": [
    {
     "name": "stdout",
     "output_type": "stream",
     "text": [
      "La media de educational-num es 10.118460041572686\n",
      "La mediana de educational-num es 10.0\n",
      "La moda de educational-num es [9] y su frec es [14783]\n",
      "La desviacion estandar es 2.552852968821456\n"
     ]
    },
    {
     "data": {
      "image/png": "[encoded data removed]",
      "text/plain": [
       "<Figure size 432x288 with 1 Axes>"
      ]
     },
     "metadata": {
      "needs_background": "light"
     },
     "output_type": "display_data"
    }
   ],
   "source": [
    "fx.fetch_descriptives(df, \"educational-num\")\n",
    "\n",
    "fx.plot_hist(df, \"educational-num\", True)"
   ]
  },
  {
   "cell_type": "markdown",
   "id": "7be749ac",
   "metadata": {},
   "source": [
    "La variable educational-num es una variable del tipo continua, no queda del todo claro si es una distribución normal,\n",
    "pero según la media, mediana y moda podría ser una Distribución normal.\n",
    "Por otro lado comentar que la mayoría de los datos se concentra entre los 9 y 14, con una media de 10.11 me iamgino que son años."
   ]
  },
  {
   "cell_type": "code",
   "execution_count": 128,
   "id": "7d5497b7",
   "metadata": {},
   "outputs": [
    {
     "name": "stdout",
     "output_type": "stream",
     "text": [
      "La media de capital-gain es 1101.4303436380524\n",
      "La mediana de capital-gain es 0.0\n",
      "La moda de capital-gain es [0] y su frec es [41432]\n",
      "La desviacion estandar es 7506.3470879530305\n"
     ]
    },
    {
     "data": {
      "image/png": "[encoded data removed]",
      "text/plain": [
       "<Figure size 432x288 with 1 Axes>"
      ]
     },
     "metadata": {
      "needs_background": "light"
     },
     "output_type": "display_data"
    }
   ],
   "source": [
    "fx.fetch_descriptives(df, \"capital-gain\")\n",
    "\n",
    "fx.plot_hist(df, \"capital-gain\", True)"
   ]
  },
  {
   "cell_type": "markdown",
   "id": "3d74b19b",
   "metadata": {},
   "source": [
    "La variable capital-gain es una variable del tipo continua.\n",
    "Se aprecia que no es una distribución normal y se podría solucionar aplicando logaritmo.\n",
    "Se aprecia que la media de ingresos generados por inversiones fuera del trabajo para las personas es de 1079 dolares, lo cual es algo engañoso.\n",
    "Se aprecia que el 50% de las personas no cuenta con ingresos generados por inversiones fuera del trabajo."
   ]
  },
  {
   "cell_type": "code",
   "execution_count": 129,
   "id": "4e2b8c4c",
   "metadata": {},
   "outputs": [
    {
     "name": "stderr",
     "output_type": "stream",
     "text": [
      "C:\\Users\\Ramiro\\anaconda3\\lib\\site-packages\\pandas\\core\\arraylike.py:397: RuntimeWarning: divide by zero encountered in log\n",
      "  result = getattr(ufunc, method)(*inputs, **kwargs)\n"
     ]
    },
    {
     "data": {
      "image/png": "[encoded data removed]",
      "text/plain": [
       "<Figure size 720x360 with 1 Axes>"
      ]
     },
     "metadata": {
      "needs_background": "light"
     },
     "output_type": "display_data"
    }
   ],
   "source": [
    "df[\"log_capital_gain\"] = np.log(df[\"capital-gain\"].dropna());\n",
    "\n",
    "sns.displot(df[\"log_capital_gain\"], kde =True, height=5, aspect=2);\n",
    "\n",
    "plt.title(\"Distribucuón de log (Capital-Gain)\");\n",
    "plt.xlabel(\"Valores log (Capital-Gain)\");\n",
    "plt.ylabel(\"Densidad\");"
   ]
  },
  {
   "cell_type": "markdown",
   "id": "df97ee29",
   "metadata": {},
   "source": [
    "Se realiza una transformación logaritmica de la variable capital-gain con tal forma de que siga una forma de distribución normal.  \n"
   ]
  },
  {
   "cell_type": "code",
   "execution_count": 130,
   "id": "e1f5abee",
   "metadata": {},
   "outputs": [
    {
     "name": "stdout",
     "output_type": "stream",
     "text": [
      "La media de capital-loss es 88.595418159303\n",
      "La mediana de capital-loss es 0.0\n",
      "La moda de capital-loss es [0] y su frec es [43082]\n",
      "La desviacion estandar es 404.9516146108138\n"
     ]
    },
    {
     "data": {
      "image/png": "[encoded data removed]",
      "text/plain": [
       "<Figure size 432x288 with 1 Axes>"
      ]
     },
     "metadata": {
      "needs_background": "light"
     },
     "output_type": "display_data"
    }
   ],
   "source": [
    "fx.fetch_descriptives(df, \"capital-loss\")\n",
    "\n",
    "fx.plot_hist(df, \"capital-loss\", True)"
   ]
  },
  {
   "cell_type": "markdown",
   "id": "9c629b24",
   "metadata": {},
   "source": [
    "La variable capital-loss es una variable del tipo continua.\n",
    "Se aprecia que la gran mayoría no cuenta con perdidas generadas por inversiones fuera del trabajo ya que no cuentan con inversiones.+\n",
    "Por otro lado comentar que las perdias se conencentran entre los 1500 y 2500 dolares."
   ]
  },
  {
   "cell_type": "code",
   "execution_count": 131,
   "id": "1da5e08a",
   "metadata": {},
   "outputs": [
    {
     "name": "stderr",
     "output_type": "stream",
     "text": [
      "C:\\Users\\Ramiro\\anaconda3\\lib\\site-packages\\pandas\\core\\arraylike.py:397: RuntimeWarning: divide by zero encountered in log\n",
      "  result = getattr(ufunc, method)(*inputs, **kwargs)\n"
     ]
    },
    {
     "data": {
      "image/png": "[encoded data removed]",
      "text/plain": [
       "<Figure size 720x360 with 1 Axes>"
      ]
     },
     "metadata": {
      "needs_background": "light"
     },
     "output_type": "display_data"
    }
   ],
   "source": [
    "df[\"log_capital_loss\"] = np.log(df[\"capital-loss\"].dropna())\n",
    "\n",
    "sns.displot(df[\"log_capital_loss\"], kde =True, height=5, aspect=2);\n",
    "\n",
    "plt.title(\"Distribucuón de log (Capital-Loss)\");\n",
    "plt.xlabel(\"Valores log (Capital-Loss)\");\n",
    "plt.ylabel(\"Densidad\");"
   ]
  },
  {
   "cell_type": "markdown",
   "id": "ddd4ca90",
   "metadata": {},
   "source": [
    "Se realiza una transformación logaritmica de la variable capital-loss con tal forma de que siga una forma de distribución normal.  "
   ]
  },
  {
   "cell_type": "code",
   "execution_count": 132,
   "id": "ea31f0f9",
   "metadata": {},
   "outputs": [
    {
     "name": "stdout",
     "output_type": "stream",
     "text": [
      "La media de hours-per-week es 40.93801689443191\n",
      "La mediana de hours-per-week es 40.0\n",
      "La moda de hours-per-week es [40] y su frec es [21358]\n",
      "La desviacion estandar es 12.007375467501145\n"
     ]
    },
    {
     "data": {
      "image/png": "[encoded data removed]",
      "text/plain": [
       "<Figure size 432x288 with 1 Axes>"
      ]
     },
     "metadata": {
      "needs_background": "light"
     },
     "output_type": "display_data"
    }
   ],
   "source": [
    "fx.fetch_descriptives(df, \"hours-per-week\")\n",
    "\n",
    "fx.plot_hist(df, \"hours-per-week\", True)"
   ]
  },
  {
   "cell_type": "markdown",
   "id": "eda8f27d",
   "metadata": {},
   "source": [
    "La variable hours-per-week es una variable del tipo continua  \n",
    "Se aprecia que tiene forma de una distribución normaly se puede apreciar que tanto la media, mediana y moda rondan las 40 hrs."
   ]
  },
  {
   "cell_type": "code",
   "execution_count": 133,
   "id": "663dc30d",
   "metadata": {},
   "outputs": [
    {
     "name": "stdout",
     "output_type": "stream",
     "text": [
      "Husband           0.412764\n",
      "Not-in-family     0.258768\n",
      "Own-child         0.146522\n",
      "Unmarried         0.105878\n",
      "Wife              0.046239\n",
      "Other-relative    0.029831\n",
      "Name: relationship, dtype: float64\n"
     ]
    },
    {
     "data": {
      "image/png": "[encoded data removed]",
      "text/plain": [
       "<Figure size 432x288 with 1 Axes>"
      ]
     },
     "metadata": {
      "needs_background": "light"
     },
     "output_type": "display_data"
    }
   ],
   "source": [
    "fx.grafico_barra(df, \"relationship\")\n",
    "\n",
    "print(df[\"relationship\"].value_counts('%'))"
   ]
  },
  {
   "cell_type": "markdown",
   "id": "cdbccbfd",
   "metadata": {},
   "source": [
    "Se aprecia que la mayor frecuencia en la serie relationship es la categoria Husband correspondiente a un 0.41"
   ]
  },
  {
   "cell_type": "code",
   "execution_count": 134,
   "id": "f7e3218f",
   "metadata": {},
   "outputs": [
    {
     "name": "stdout",
     "output_type": "stream",
     "text": [
      "White                 0.860267\n",
      "Black                 0.093494\n",
      "Asian-Pac-Islander    0.028813\n",
      "Amer-Indian-Eskimo    0.009619\n",
      "Other                 0.007806\n",
      "Name: race, dtype: float64\n"
     ]
    },
    {
     "data": {
      "image/png": "[encoded data removed]",
      "text/plain": [
       "<Figure size 432x288 with 1 Axes>"
      ]
     },
     "metadata": {
      "needs_background": "light"
     },
     "output_type": "display_data"
    }
   ],
   "source": [
    "#Se aprecia la variable race es del tipo categorica y que la mayor frecuencia la tiene la raza blanca con 86% del total.\n",
    "\n",
    "fx.grafico_barra(df, \"race\")\n",
    "\n",
    "print(df[\"race\"].value_counts('%'))\n"
   ]
  },
  {
   "cell_type": "code",
   "execution_count": 135,
   "id": "82f7afe5",
   "metadata": {},
   "outputs": [
    {
     "name": "stdout",
     "output_type": "stream",
     "text": [
      "Male      0.675048\n",
      "Female    0.324952\n",
      "Name: gender, dtype: float64\n"
     ]
    },
    {
     "data": {
      "image/png": "[encoded data removed]",
      "text/plain": [
       "<Figure size 432x288 with 1 Axes>"
      ]
     },
     "metadata": {
      "needs_background": "light"
     },
     "output_type": "display_data"
    }
   ],
   "source": [
    "fx.grafico_barra(df, \"gender\")\n",
    "\n",
    "print(df[\"gender\"].value_counts('%'))"
   ]
  },
  {
   "cell_type": "markdown",
   "id": "1029d570",
   "metadata": {},
   "source": [
    "Se aprecia que la serie gender es binaria y que la mayor frecuencia de personas es del tipo Male, equivalente un 68% del total."
   ]
  },
  {
   "cell_type": "code",
   "execution_count": 136,
   "id": "dd00047d",
   "metadata": {},
   "outputs": [
    {
     "data": {
      "image/png": "[encoded data removed]",
      "text/plain": [
       "<Figure size 432x288 with 2 Axes>"
      ]
     },
     "metadata": {
      "needs_background": "light"
     },
     "output_type": "display_data"
    }
   ],
   "source": [
    "corr_mat = df.corr()\n",
    "\n",
    "sns.heatmap(\n",
    "    corr_mat,\n",
    "    cmap=\"Blues\",\n",
    "    annot=True\n",
    ");"
   ]
  },
  {
   "cell_type": "markdown",
   "id": "e6115df3",
   "metadata": {},
   "source": [
    "Se aprecia que las variables no tienen una fuerte correlación entre ellas a excepción de las variables log_capital y las capital que en cierta forma es una redundancia de información.\n",
    "Se decide sacar del modelo la variable \"fnlwgt\" ya que su correlación con el vector objetivo \"menor_o_iugal_50000\" es muy baja.\n",
    "\n",
    "Respecto a la interpretación de los coeficientes se dará una muestra debido a la cantidad de variables.\n",
    "Nuestra variable objetivo como ya se menciono son las personas tiene un ingreso menor o igual a 50.000 dolares.\n",
    "Se aprecia que en su mayoria las variables analizadas relacionadas con el vector objetivo son negativas, lo cual indica una relación inversamente proporcional, a modo de ejemplo si aumenta la edad de una persona el vector objetivo debiese disminuir y asi lo mismo para el resto de las variables que se muestran en el gráfico."
   ]
  },
  {
   "cell_type": "code",
   "execution_count": 137,
   "id": "d07bbebf",
   "metadata": {},
   "outputs": [],
   "source": [
    "#Transformación de las variables discretas\n",
    "\n",
    "df_relationship = pd.get_dummies(df[\"relationship\"], drop_first = True)\n",
    "df_race = pd.get_dummies(df[\"race\"], drop_first = True)\n",
    "df_gender = pd.get_dummies(df[\"gender\"], drop_first = True)\n",
    "df_collars = pd.get_dummies(df[\"collars\"], drop_first = True)\n",
    "df_workclass_recod = pd.get_dummies(df[\"workclass_recod\"], drop_first = True)\n",
    "df_edu_recod = pd.get_dummies(df[\"edu_recod\"], drop_first = True)\n",
    "df_civstatus = pd.get_dummies(df[\"civstatus\"], drop_first = True)\n",
    "df_region = pd.get_dummies(df[\"region\"], drop_first = True)"
   ]
  },
  {
   "cell_type": "code",
   "execution_count": 138,
   "id": "2a5d985f",
   "metadata": {},
   "outputs": [
    {
     "data": {
      "text/html": [
       "<div>\n",
       "<style scoped>\n",
       "    .dataframe tbody tr th:only-of-type {\n",
       "        vertical-align: middle;\n",
       "    }\n",
       "\n",
       "    .dataframe tbody tr th {\n",
       "        vertical-align: top;\n",
       "    }\n",
       "\n",
       "    .dataframe thead th {\n",
       "        text-align: right;\n",
       "    }\n",
       "</style>\n",
       "<table border=\"1\" class=\"dataframe\">\n",
       "  <thead>\n",
       "    <tr style=\"text-align: right;\">\n",
       "      <th></th>\n",
       "      <th>age</th>\n",
       "      <th>fnlwgt</th>\n",
       "      <th>educational-num</th>\n",
       "      <th>relationship</th>\n",
       "      <th>race</th>\n",
       "      <th>gender</th>\n",
       "      <th>capital-gain</th>\n",
       "      <th>capital-loss</th>\n",
       "      <th>hours-per-week</th>\n",
       "      <th>menor_o_igual_50000</th>\n",
       "      <th>...</th>\n",
       "      <th>college</th>\n",
       "      <th>elementary-school</th>\n",
       "      <th>high-school</th>\n",
       "      <th>university</th>\n",
       "      <th>divorced</th>\n",
       "      <th>married</th>\n",
       "      <th>separated</th>\n",
       "      <th>widowed</th>\n",
       "      <th>Asia</th>\n",
       "      <th>Europa</th>\n",
       "    </tr>\n",
       "  </thead>\n",
       "  <tbody>\n",
       "    <tr>\n",
       "      <th>0</th>\n",
       "      <td>25</td>\n",
       "      <td>226802</td>\n",
       "      <td>7</td>\n",
       "      <td>Own-child</td>\n",
       "      <td>Black</td>\n",
       "      <td>Male</td>\n",
       "      <td>0</td>\n",
       "      <td>0</td>\n",
       "      <td>40</td>\n",
       "      <td>1</td>\n",
       "      <td>...</td>\n",
       "      <td>0</td>\n",
       "      <td>0</td>\n",
       "      <td>1</td>\n",
       "      <td>0</td>\n",
       "      <td>0</td>\n",
       "      <td>0</td>\n",
       "      <td>0</td>\n",
       "      <td>0</td>\n",
       "      <td>0</td>\n",
       "      <td>0</td>\n",
       "    </tr>\n",
       "    <tr>\n",
       "      <th>1</th>\n",
       "      <td>38</td>\n",
       "      <td>89814</td>\n",
       "      <td>9</td>\n",
       "      <td>Husband</td>\n",
       "      <td>White</td>\n",
       "      <td>Male</td>\n",
       "      <td>0</td>\n",
       "      <td>0</td>\n",
       "      <td>50</td>\n",
       "      <td>1</td>\n",
       "      <td>...</td>\n",
       "      <td>0</td>\n",
       "      <td>0</td>\n",
       "      <td>1</td>\n",
       "      <td>0</td>\n",
       "      <td>0</td>\n",
       "      <td>1</td>\n",
       "      <td>0</td>\n",
       "      <td>0</td>\n",
       "      <td>0</td>\n",
       "      <td>0</td>\n",
       "    </tr>\n",
       "    <tr>\n",
       "      <th>2</th>\n",
       "      <td>28</td>\n",
       "      <td>336951</td>\n",
       "      <td>12</td>\n",
       "      <td>Husband</td>\n",
       "      <td>White</td>\n",
       "      <td>Male</td>\n",
       "      <td>0</td>\n",
       "      <td>0</td>\n",
       "      <td>40</td>\n",
       "      <td>0</td>\n",
       "      <td>...</td>\n",
       "      <td>1</td>\n",
       "      <td>0</td>\n",
       "      <td>0</td>\n",
       "      <td>0</td>\n",
       "      <td>0</td>\n",
       "      <td>1</td>\n",
       "      <td>0</td>\n",
       "      <td>0</td>\n",
       "      <td>0</td>\n",
       "      <td>0</td>\n",
       "    </tr>\n",
       "    <tr>\n",
       "      <th>3</th>\n",
       "      <td>44</td>\n",
       "      <td>160323</td>\n",
       "      <td>10</td>\n",
       "      <td>Husband</td>\n",
       "      <td>Black</td>\n",
       "      <td>Male</td>\n",
       "      <td>7688</td>\n",
       "      <td>0</td>\n",
       "      <td>40</td>\n",
       "      <td>0</td>\n",
       "      <td>...</td>\n",
       "      <td>1</td>\n",
       "      <td>0</td>\n",
       "      <td>0</td>\n",
       "      <td>0</td>\n",
       "      <td>0</td>\n",
       "      <td>1</td>\n",
       "      <td>0</td>\n",
       "      <td>0</td>\n",
       "      <td>0</td>\n",
       "      <td>0</td>\n",
       "    </tr>\n",
       "    <tr>\n",
       "      <th>5</th>\n",
       "      <td>34</td>\n",
       "      <td>198693</td>\n",
       "      <td>6</td>\n",
       "      <td>Not-in-family</td>\n",
       "      <td>White</td>\n",
       "      <td>Male</td>\n",
       "      <td>0</td>\n",
       "      <td>0</td>\n",
       "      <td>30</td>\n",
       "      <td>1</td>\n",
       "      <td>...</td>\n",
       "      <td>0</td>\n",
       "      <td>0</td>\n",
       "      <td>1</td>\n",
       "      <td>0</td>\n",
       "      <td>0</td>\n",
       "      <td>0</td>\n",
       "      <td>0</td>\n",
       "      <td>0</td>\n",
       "      <td>0</td>\n",
       "      <td>0</td>\n",
       "    </tr>\n",
       "  </tbody>\n",
       "</table>\n",
       "<p>5 rows × 43 columns</p>\n",
       "</div>"
      ],
      "text/plain": [
       "   age  fnlwgt  educational-num   relationship   race gender  capital-gain  \\\n",
       "0   25  226802                7      Own-child  Black   Male             0   \n",
       "1   38   89814                9        Husband  White   Male             0   \n",
       "2   28  336951               12        Husband  White   Male             0   \n",
       "3   44  160323               10        Husband  Black   Male          7688   \n",
       "5   34  198693                6  Not-in-family  White   Male             0   \n",
       "\n",
       "   capital-loss  hours-per-week  menor_o_igual_50000  ... college  \\\n",
       "0             0              40                    1  ...       0   \n",
       "1             0              50                    1  ...       0   \n",
       "2             0              40                    0  ...       1   \n",
       "3             0              40                    0  ...       1   \n",
       "5             0              30                    1  ...       0   \n",
       "\n",
       "  elementary-school high-school university divorced  married  separated  \\\n",
       "0                 0           1          0        0        0          0   \n",
       "1                 0           1          0        0        1          0   \n",
       "2                 0           0          0        0        1          0   \n",
       "3                 0           0          0        0        1          0   \n",
       "5                 0           1          0        0        0          0   \n",
       "\n",
       "   widowed  Asia  Europa  \n",
       "0        0     0       0  \n",
       "1        0     0       0  \n",
       "2        0     0       0  \n",
       "3        0     0       0  \n",
       "5        0     0       0  \n",
       "\n",
       "[5 rows x 43 columns]"
      ]
     },
     "execution_count": 138,
     "metadata": {},
     "output_type": "execute_result"
    }
   ],
   "source": [
    "#Se concatenan los nuevos df al original\n",
    "\n",
    "df = pd.concat(\n",
    "    [df, df_relationship, df_race, df_gender, df_collars, df_workclass_recod, df_edu_recod, df_civstatus, df_region], \n",
    "    axis = 1\n",
    ")\n",
    "\n",
    "df.head()"
   ]
  },
  {
   "cell_type": "code",
   "execution_count": 139,
   "id": "849361a3",
   "metadata": {},
   "outputs": [
    {
     "data": {
      "text/plain": [
       "Index(['age', 'fnlwgt', 'educational-num', 'relationship', 'race', 'gender',\n",
       "       'capital-gain', 'capital-loss', 'hours-per-week', 'menor_o_igual_50000',\n",
       "       'collars', 'workclass_recod', 'edu_recod', 'civstatus', 'region',\n",
       "       'log_capital_gain', 'log_capital_loss', 'Not-in-family',\n",
       "       'Other-relative', 'Own-child', 'Unmarried', 'Wife',\n",
       "       'Asian-Pac-Islander', 'Black', 'Other', 'White', 'Male', 'others',\n",
       "       'white-collar', 'federal-gov', 'self-employed', 'state-level-gov',\n",
       "       'unemployed', 'college', 'elementary-school', 'high-school',\n",
       "       'university', 'divorced', 'married', 'separated', 'widowed', 'Asia',\n",
       "       'Europa'],\n",
       "      dtype='object')"
      ]
     },
     "execution_count": 139,
     "metadata": {},
     "output_type": "execute_result"
    }
   ],
   "source": [
    "df.columns"
   ]
  },
  {
   "cell_type": "code",
   "execution_count": 140,
   "id": "7d219e83",
   "metadata": {},
   "outputs": [],
   "source": [
    "#Se renombran las series por problemas a la hora de generar el modelo \n",
    "\n",
    "df[\"educational_num\"] = df[\"educational-num\"]\n",
    "df[\"capital_gain\"] = df[\"capital-gain\"]\n",
    "df[\"capital_loss\"] = df[\"capital-loss\"]\n",
    "df[\"Not_in_family\"] = df[\"Not-in-family\"]\n",
    "df[\"Other_relative\"] = df[\"Other-relative\"]\n",
    "df[\"Asian_Pac_Islander\"] = df[\"Asian-Pac-Islander\"]\n",
    "df[\"white_collar\"] = df[\"white-collar\"]\n",
    "df[\"federal_gov\"] = df[\"federal-gov\"]\n",
    "df[\"self_employed\"] = df[\"self-employed\"]\n",
    "df[\"state_level_gov\"] = df[\"state-level-gov\"]\n",
    "df[\"elementary_school\"] = df[\"elementary-school\"]\n",
    "df[\"high_school\"] = df[\"high-school\"]"
   ]
  },
  {
   "cell_type": "code",
   "execution_count": 141,
   "id": "f875e485",
   "metadata": {},
   "outputs": [
    {
     "data": {
      "text/plain": [
       "Index(['age', 'fnlwgt', 'educational-num', 'relationship', 'race', 'gender',\n",
       "       'capital-gain', 'capital-loss', 'hours-per-week', 'menor_o_igual_50000',\n",
       "       'collars', 'workclass_recod', 'edu_recod', 'civstatus', 'region',\n",
       "       'log_capital_gain', 'log_capital_loss', 'Not-in-family',\n",
       "       'Other-relative', 'Own-child', 'Unmarried', 'Wife',\n",
       "       'Asian-Pac-Islander', 'Black', 'Other', 'White', 'Male', 'others',\n",
       "       'white-collar', 'federal-gov', 'self-employed', 'state-level-gov',\n",
       "       'unemployed', 'college', 'elementary-school', 'high-school',\n",
       "       'university', 'divorced', 'married', 'separated', 'widowed', 'Asia',\n",
       "       'Europa', 'educational_num', 'capital_gain', 'capital_loss',\n",
       "       'Not_in_family', 'Other_relative', 'Asian_Pac_Islander', 'white_collar',\n",
       "       'federal_gov', 'self_employed', 'state_level_gov', 'elementary_school',\n",
       "       'high_school'],\n",
       "      dtype='object')"
      ]
     },
     "execution_count": 141,
     "metadata": {},
     "output_type": "execute_result"
    }
   ],
   "source": [
    "df.columns"
   ]
  },
  {
   "cell_type": "code",
   "execution_count": 142,
   "id": "9f67c3ea",
   "metadata": {},
   "outputs": [],
   "source": [
    "#df_binarizado sin logs\n",
    "\n",
    "df_binarizado = df[['age', 'menor_o_igual_50000',\n",
    "       'Unmarried', 'Wife',\n",
    "       'Black', 'Other', 'White', 'Male', 'others',\n",
    "       'unemployed', 'college',\n",
    "       'university', 'divorced', 'married', 'separated', 'widowed', 'Asia',\n",
    "       'Europa', 'educational_num', 'capital_gain', 'capital_loss',\n",
    "       'Not_in_family', 'Other_relative', 'Asian_Pac_Islander', 'white_collar',\n",
    "       'federal_gov', 'self_employed', 'state_level_gov', 'elementary_school',\n",
    "       'high_school']]"
   ]
  },
  {
   "cell_type": "code",
   "execution_count": 143,
   "id": "dc1daff9",
   "metadata": {},
   "outputs": [
    {
     "data": {
      "text/plain": [
       "\"\\ndf_binarizado = df[['age', 'menor_o_igual_50000',\\n       'log_capital_gain', 'log_capital_loss', 'Unmarried', 'Wife',\\n       'Black', 'Other', 'White', 'Male', 'others',\\n       'unemployed', 'college',\\n       'university', 'divorced', 'married', 'separated', 'widowed', 'Asia',\\n       'Europa', 'educational_num', 'capital_gain', 'capital_loss',\\n       'Not_in_family', 'Other_relative', 'Asian_Pac_Islander', 'white_collar',\\n       'federal_gov', 'self_employed', 'state_level_gov', 'elementary_school',\\n       'high_school']]\\n\""
      ]
     },
     "execution_count": 143,
     "metadata": {},
     "output_type": "execute_result"
    }
   ],
   "source": [
    "#df_binarizado con logs\n",
    "\n",
    "\"\"\"\n",
    "df_binarizado = df[['age', 'menor_o_igual_50000',\n",
    "       'log_capital_gain', 'log_capital_loss', 'Unmarried', 'Wife',\n",
    "       'Black', 'Other', 'White', 'Male', 'others',\n",
    "       'unemployed', 'college',\n",
    "       'university', 'divorced', 'married', 'separated', 'widowed', 'Asia',\n",
    "       'Europa', 'educational_num', 'capital_gain', 'capital_loss',\n",
    "       'Not_in_family', 'Other_relative', 'Asian_Pac_Islander', 'white_collar',\n",
    "       'federal_gov', 'self_employed', 'state_level_gov', 'elementary_school',\n",
    "       'high_school']]\n",
    "\"\"\""
   ]
  },
  {
   "cell_type": "code",
   "execution_count": 144,
   "id": "61256d91",
   "metadata": {},
   "outputs": [
    {
     "data": {
      "text/plain": [
       "Index(['age', 'menor_o_igual_50000', 'Unmarried', 'Wife', 'Black', 'Other',\n",
       "       'White', 'Male', 'others', 'unemployed', 'college', 'university',\n",
       "       'divorced', 'married', 'separated', 'widowed', 'Asia', 'Europa',\n",
       "       'educational_num', 'capital_gain', 'capital_loss', 'Not_in_family',\n",
       "       'Other_relative', 'Asian_Pac_Islander', 'white_collar', 'federal_gov',\n",
       "       'self_employed', 'state_level_gov', 'elementary_school', 'high_school'],\n",
       "      dtype='object')"
      ]
     },
     "execution_count": 144,
     "metadata": {},
     "output_type": "execute_result"
    }
   ],
   "source": [
    "df_binarizado.columns"
   ]
  },
  {
   "cell_type": "code",
   "execution_count": 145,
   "id": "f26792bc",
   "metadata": {},
   "outputs": [
    {
     "name": "stdout",
     "output_type": "stream",
     "text": [
      "Optimization terminated successfully.\n",
      "         Current function value: 0.339800\n",
      "         Iterations 12\n"
     ]
    }
   ],
   "source": [
    "#Se crea modelo con todas las variables independientes\n",
    "\n",
    "modelo_saturado = smf.logit('menor_o_igual_50000 ~ age + Unmarried + Wife + Black + Other + White + Male + others + unemployed + college + university + divorced + married + separated + widowed + Asia + Europa + educational_num + capital_gain + capital_loss + Not_in_family + Other_relative + Asian_Pac_Islander + white_collar + federal_gov + self_employed + state_level_gov + elementary_school + high_school', data = df_binarizado).fit()"
   ]
  },
  {
   "cell_type": "markdown",
   "id": "59d8c7bb",
   "metadata": {},
   "source": [
    "En esta primera instancia se creo un modelo econometrico con todas las variables independientes que pueden incidir en el vector objetivo."
   ]
  },
  {
   "cell_type": "code",
   "execution_count": 146,
   "id": "adeaa396",
   "metadata": {},
   "outputs": [
    {
     "data": {
      "text/html": [
       "<div>\n",
       "<style scoped>\n",
       "    .dataframe tbody tr th:only-of-type {\n",
       "        vertical-align: middle;\n",
       "    }\n",
       "\n",
       "    .dataframe tbody tr th {\n",
       "        vertical-align: top;\n",
       "    }\n",
       "\n",
       "    .dataframe thead th {\n",
       "        text-align: right;\n",
       "    }\n",
       "</style>\n",
       "<table border=\"1\" class=\"dataframe\">\n",
       "  <thead>\n",
       "    <tr style=\"text-align: right;\">\n",
       "      <th></th>\n",
       "      <th>Coef.</th>\n",
       "      <th>Std.Err.</th>\n",
       "      <th>z</th>\n",
       "      <th>P&gt;|z|</th>\n",
       "      <th>[0.025</th>\n",
       "      <th>0.975]</th>\n",
       "    </tr>\n",
       "  </thead>\n",
       "  <tbody>\n",
       "    <tr>\n",
       "      <th>Intercept</th>\n",
       "      <td>13.534019</td>\n",
       "      <td>5.540065</td>\n",
       "      <td>2.442935</td>\n",
       "      <td>1.456836e-02</td>\n",
       "      <td>2.675691</td>\n",
       "      <td>24.392347</td>\n",
       "    </tr>\n",
       "    <tr>\n",
       "      <th>age</th>\n",
       "      <td>-0.021977</td>\n",
       "      <td>0.001307</td>\n",
       "      <td>-16.812747</td>\n",
       "      <td>1.968332e-63</td>\n",
       "      <td>-0.024539</td>\n",
       "      <td>-0.019415</td>\n",
       "    </tr>\n",
       "    <tr>\n",
       "      <th>Unmarried</th>\n",
       "      <td>-0.023804</td>\n",
       "      <td>0.102125</td>\n",
       "      <td>-0.233085</td>\n",
       "      <td>8.156958e-01</td>\n",
       "      <td>-0.223965</td>\n",
       "      <td>0.176357</td>\n",
       "    </tr>\n",
       "    <tr>\n",
       "      <th>Wife</th>\n",
       "      <td>-1.098921</td>\n",
       "      <td>0.081172</td>\n",
       "      <td>-13.538106</td>\n",
       "      <td>9.316059e-42</td>\n",
       "      <td>-1.258016</td>\n",
       "      <td>-0.939826</td>\n",
       "    </tr>\n",
       "    <tr>\n",
       "      <th>Black</th>\n",
       "      <td>-0.350245</td>\n",
       "      <td>0.187386</td>\n",
       "      <td>-1.869112</td>\n",
       "      <td>6.160725e-02</td>\n",
       "      <td>-0.717514</td>\n",
       "      <td>0.017024</td>\n",
       "    </tr>\n",
       "    <tr>\n",
       "      <th>Other</th>\n",
       "      <td>-0.210700</td>\n",
       "      <td>0.269873</td>\n",
       "      <td>-0.780738</td>\n",
       "      <td>4.349564e-01</td>\n",
       "      <td>-0.739642</td>\n",
       "      <td>0.318241</td>\n",
       "    </tr>\n",
       "    <tr>\n",
       "      <th>White</th>\n",
       "      <td>-0.590149</td>\n",
       "      <td>0.178667</td>\n",
       "      <td>-3.303057</td>\n",
       "      <td>9.563698e-04</td>\n",
       "      <td>-0.940330</td>\n",
       "      <td>-0.239967</td>\n",
       "    </tr>\n",
       "    <tr>\n",
       "      <th>Male</th>\n",
       "      <td>-0.998107</td>\n",
       "      <td>0.061724</td>\n",
       "      <td>-16.170597</td>\n",
       "      <td>8.130722e-59</td>\n",
       "      <td>-1.119083</td>\n",
       "      <td>-0.877131</td>\n",
       "    </tr>\n",
       "    <tr>\n",
       "      <th>others</th>\n",
       "      <td>0.827962</td>\n",
       "      <td>0.085743</td>\n",
       "      <td>9.656327</td>\n",
       "      <td>4.621378e-22</td>\n",
       "      <td>0.659909</td>\n",
       "      <td>0.996016</td>\n",
       "    </tr>\n",
       "    <tr>\n",
       "      <th>unemployed</th>\n",
       "      <td>1.350559</td>\n",
       "      <td>0.782169</td>\n",
       "      <td>1.726683</td>\n",
       "      <td>8.422459e-02</td>\n",
       "      <td>-0.182465</td>\n",
       "      <td>2.883583</td>\n",
       "    </tr>\n",
       "    <tr>\n",
       "      <th>college</th>\n",
       "      <td>-4.626658</td>\n",
       "      <td>5.537593</td>\n",
       "      <td>-0.835500</td>\n",
       "      <td>4.034363e-01</td>\n",
       "      <td>-15.480140</td>\n",
       "      <td>6.226824</td>\n",
       "    </tr>\n",
       "    <tr>\n",
       "      <th>university</th>\n",
       "      <td>-4.704071</td>\n",
       "      <td>5.539094</td>\n",
       "      <td>-0.849249</td>\n",
       "      <td>3.957427e-01</td>\n",
       "      <td>-15.560496</td>\n",
       "      <td>6.152355</td>\n",
       "    </tr>\n",
       "    <tr>\n",
       "      <th>divorced</th>\n",
       "      <td>-0.669782</td>\n",
       "      <td>0.071447</td>\n",
       "      <td>-9.374471</td>\n",
       "      <td>6.952376e-21</td>\n",
       "      <td>-0.809816</td>\n",
       "      <td>-0.529748</td>\n",
       "    </tr>\n",
       "    <tr>\n",
       "      <th>married</th>\n",
       "      <td>-2.639580</td>\n",
       "      <td>0.075108</td>\n",
       "      <td>-35.143753</td>\n",
       "      <td>1.448098e-270</td>\n",
       "      <td>-2.786789</td>\n",
       "      <td>-2.492371</td>\n",
       "    </tr>\n",
       "    <tr>\n",
       "      <th>separated</th>\n",
       "      <td>-0.613010</td>\n",
       "      <td>0.133539</td>\n",
       "      <td>-4.590490</td>\n",
       "      <td>4.422076e-06</td>\n",
       "      <td>-0.874743</td>\n",
       "      <td>-0.351278</td>\n",
       "    </tr>\n",
       "    <tr>\n",
       "      <th>widowed</th>\n",
       "      <td>-0.702896</td>\n",
       "      <td>0.131802</td>\n",
       "      <td>-5.332954</td>\n",
       "      <td>9.662780e-08</td>\n",
       "      <td>-0.961224</td>\n",
       "      <td>-0.444568</td>\n",
       "    </tr>\n",
       "    <tr>\n",
       "      <th>Asia</th>\n",
       "      <td>0.478862</td>\n",
       "      <td>0.147529</td>\n",
       "      <td>3.245877</td>\n",
       "      <td>1.170895e-03</td>\n",
       "      <td>0.189710</td>\n",
       "      <td>0.768014</td>\n",
       "    </tr>\n",
       "    <tr>\n",
       "      <th>Europa</th>\n",
       "      <td>-0.169759</td>\n",
       "      <td>0.104619</td>\n",
       "      <td>-1.622644</td>\n",
       "      <td>1.046655e-01</td>\n",
       "      <td>-0.374808</td>\n",
       "      <td>0.035290</td>\n",
       "    </tr>\n",
       "    <tr>\n",
       "      <th>educational_num</th>\n",
       "      <td>-0.288286</td>\n",
       "      <td>0.015973</td>\n",
       "      <td>-18.047966</td>\n",
       "      <td>8.184946e-73</td>\n",
       "      <td>-0.319593</td>\n",
       "      <td>-0.256979</td>\n",
       "    </tr>\n",
       "    <tr>\n",
       "      <th>capital_gain</th>\n",
       "      <td>-0.000321</td>\n",
       "      <td>0.000009</td>\n",
       "      <td>-37.569732</td>\n",
       "      <td>6.710715e-309</td>\n",
       "      <td>-0.000338</td>\n",
       "      <td>-0.000304</td>\n",
       "    </tr>\n",
       "    <tr>\n",
       "      <th>capital_loss</th>\n",
       "      <td>-0.000668</td>\n",
       "      <td>0.000030</td>\n",
       "      <td>-21.937698</td>\n",
       "      <td>1.135037e-106</td>\n",
       "      <td>-0.000727</td>\n",
       "      <td>-0.000608</td>\n",
       "    </tr>\n",
       "    <tr>\n",
       "      <th>Not_in_family</th>\n",
       "      <td>-0.310666</td>\n",
       "      <td>0.075312</td>\n",
       "      <td>-4.125074</td>\n",
       "      <td>3.706156e-05</td>\n",
       "      <td>-0.458274</td>\n",
       "      <td>-0.163058</td>\n",
       "    </tr>\n",
       "    <tr>\n",
       "      <th>Other_relative</th>\n",
       "      <td>0.756243</td>\n",
       "      <td>0.173838</td>\n",
       "      <td>4.350284</td>\n",
       "      <td>1.359613e-05</td>\n",
       "      <td>0.415528</td>\n",
       "      <td>1.096958</td>\n",
       "    </tr>\n",
       "    <tr>\n",
       "      <th>Asian_Pac_Islander</th>\n",
       "      <td>-0.742278</td>\n",
       "      <td>0.221111</td>\n",
       "      <td>-3.357045</td>\n",
       "      <td>7.878022e-04</td>\n",
       "      <td>-1.175647</td>\n",
       "      <td>-0.308909</td>\n",
       "    </tr>\n",
       "    <tr>\n",
       "      <th>white_collar</th>\n",
       "      <td>-0.598977</td>\n",
       "      <td>0.034892</td>\n",
       "      <td>-17.166766</td>\n",
       "      <td>4.709421e-66</td>\n",
       "      <td>-0.667364</td>\n",
       "      <td>-0.530591</td>\n",
       "    </tr>\n",
       "    <tr>\n",
       "      <th>federal_gov</th>\n",
       "      <td>-0.441187</td>\n",
       "      <td>0.074683</td>\n",
       "      <td>-5.907497</td>\n",
       "      <td>3.473457e-09</td>\n",
       "      <td>-0.587563</td>\n",
       "      <td>-0.294812</td>\n",
       "    </tr>\n",
       "    <tr>\n",
       "      <th>self_employed</th>\n",
       "      <td>0.218672</td>\n",
       "      <td>0.041270</td>\n",
       "      <td>5.298539</td>\n",
       "      <td>1.167328e-07</td>\n",
       "      <td>0.137784</td>\n",
       "      <td>0.299560</td>\n",
       "    </tr>\n",
       "    <tr>\n",
       "      <th>state_level_gov</th>\n",
       "      <td>0.086567</td>\n",
       "      <td>0.045403</td>\n",
       "      <td>1.906624</td>\n",
       "      <td>5.656927e-02</td>\n",
       "      <td>-0.002422</td>\n",
       "      <td>0.175555</td>\n",
       "    </tr>\n",
       "    <tr>\n",
       "      <th>elementary_school</th>\n",
       "      <td>-4.822460</td>\n",
       "      <td>5.539153</td>\n",
       "      <td>-0.870613</td>\n",
       "      <td>3.839653e-01</td>\n",
       "      <td>-15.679001</td>\n",
       "      <td>6.034080</td>\n",
       "    </tr>\n",
       "    <tr>\n",
       "      <th>high_school</th>\n",
       "      <td>-4.579635</td>\n",
       "      <td>5.536855</td>\n",
       "      <td>-0.827119</td>\n",
       "      <td>4.081698e-01</td>\n",
       "      <td>-15.431671</td>\n",
       "      <td>6.272400</td>\n",
       "    </tr>\n",
       "  </tbody>\n",
       "</table>\n",
       "</div>"
      ],
      "text/plain": [
       "                        Coef.  Std.Err.          z          P>|z|     [0.025  \\\n",
       "Intercept           13.534019  5.540065   2.442935   1.456836e-02   2.675691   \n",
       "age                 -0.021977  0.001307 -16.812747   1.968332e-63  -0.024539   \n",
       "Unmarried           -0.023804  0.102125  -0.233085   8.156958e-01  -0.223965   \n",
       "Wife                -1.098921  0.081172 -13.538106   9.316059e-42  -1.258016   \n",
       "Black               -0.350245  0.187386  -1.869112   6.160725e-02  -0.717514   \n",
       "Other               -0.210700  0.269873  -0.780738   4.349564e-01  -0.739642   \n",
       "White               -0.590149  0.178667  -3.303057   9.563698e-04  -0.940330   \n",
       "Male                -0.998107  0.061724 -16.170597   8.130722e-59  -1.119083   \n",
       "others               0.827962  0.085743   9.656327   4.621378e-22   0.659909   \n",
       "unemployed           1.350559  0.782169   1.726683   8.422459e-02  -0.182465   \n",
       "college             -4.626658  5.537593  -0.835500   4.034363e-01 -15.480140   \n",
       "university          -4.704071  5.539094  -0.849249   3.957427e-01 -15.560496   \n",
       "divorced            -0.669782  0.071447  -9.374471   6.952376e-21  -0.809816   \n",
       "married             -2.639580  0.075108 -35.143753  1.448098e-270  -2.786789   \n",
       "separated           -0.613010  0.133539  -4.590490   4.422076e-06  -0.874743   \n",
       "widowed             -0.702896  0.131802  -5.332954   9.662780e-08  -0.961224   \n",
       "Asia                 0.478862  0.147529   3.245877   1.170895e-03   0.189710   \n",
       "Europa              -0.169759  0.104619  -1.622644   1.046655e-01  -0.374808   \n",
       "educational_num     -0.288286  0.015973 -18.047966   8.184946e-73  -0.319593   \n",
       "capital_gain        -0.000321  0.000009 -37.569732  6.710715e-309  -0.000338   \n",
       "capital_loss        -0.000668  0.000030 -21.937698  1.135037e-106  -0.000727   \n",
       "Not_in_family       -0.310666  0.075312  -4.125074   3.706156e-05  -0.458274   \n",
       "Other_relative       0.756243  0.173838   4.350284   1.359613e-05   0.415528   \n",
       "Asian_Pac_Islander  -0.742278  0.221111  -3.357045   7.878022e-04  -1.175647   \n",
       "white_collar        -0.598977  0.034892 -17.166766   4.709421e-66  -0.667364   \n",
       "federal_gov         -0.441187  0.074683  -5.907497   3.473457e-09  -0.587563   \n",
       "self_employed        0.218672  0.041270   5.298539   1.167328e-07   0.137784   \n",
       "state_level_gov      0.086567  0.045403   1.906624   5.656927e-02  -0.002422   \n",
       "elementary_school   -4.822460  5.539153  -0.870613   3.839653e-01 -15.679001   \n",
       "high_school         -4.579635  5.536855  -0.827119   4.081698e-01 -15.431671   \n",
       "\n",
       "                       0.975]  \n",
       "Intercept           24.392347  \n",
       "age                 -0.019415  \n",
       "Unmarried            0.176357  \n",
       "Wife                -0.939826  \n",
       "Black                0.017024  \n",
       "Other                0.318241  \n",
       "White               -0.239967  \n",
       "Male                -0.877131  \n",
       "others               0.996016  \n",
       "unemployed           2.883583  \n",
       "college              6.226824  \n",
       "university           6.152355  \n",
       "divorced            -0.529748  \n",
       "married             -2.492371  \n",
       "separated           -0.351278  \n",
       "widowed             -0.444568  \n",
       "Asia                 0.768014  \n",
       "Europa               0.035290  \n",
       "educational_num     -0.256979  \n",
       "capital_gain        -0.000304  \n",
       "capital_loss        -0.000608  \n",
       "Not_in_family       -0.163058  \n",
       "Other_relative       1.096958  \n",
       "Asian_Pac_Islander  -0.308909  \n",
       "white_collar        -0.530591  \n",
       "federal_gov         -0.294812  \n",
       "self_employed        0.299560  \n",
       "state_level_gov      0.175555  \n",
       "elementary_school    6.034080  \n",
       "high_school          6.272400  "
      ]
     },
     "execution_count": 146,
     "metadata": {},
     "output_type": "execute_result"
    }
   ],
   "source": [
    "#Codigo para ver los coeficientes de las variables independientes y su significancia\n",
    "\n",
    "coefs_saturado = modelo_saturado.summary2().tables[1]\n",
    "coefs_saturado"
   ]
  },
  {
   "cell_type": "markdown",
   "id": "9c77cbc5",
   "metadata": {},
   "source": [
    "Interpretación de los coeficientes"
   ]
  },
  {
   "cell_type": "markdown",
   "id": "87281f3e",
   "metadata": {},
   "source": [
    "Realice las transformaciones a las variables capital con logaritmo pero desconozco el problema que no las puede utilzar en el modelo debido que me daba error.\n",
    "\n",
    "Respecto de los modelos utilizaré los siguientes modelos:  \n",
    "\n",
    "1) Modelo Depurado sin intercepto\n",
    "\n",
    "2) Modelo Depurado con Intercepto  \n",
    "\n",
    "3) Modelo Depurado con intercepto estandarizado  \n"
   ]
  },
  {
   "cell_type": "code",
   "execution_count": 147,
   "id": "e7d2eaba",
   "metadata": {},
   "outputs": [
    {
     "data": {
      "text/html": [
       "<div>\n",
       "<style scoped>\n",
       "    .dataframe tbody tr th:only-of-type {\n",
       "        vertical-align: middle;\n",
       "    }\n",
       "\n",
       "    .dataframe tbody tr th {\n",
       "        vertical-align: top;\n",
       "    }\n",
       "\n",
       "    .dataframe thead th {\n",
       "        text-align: right;\n",
       "    }\n",
       "</style>\n",
       "<table border=\"1\" class=\"dataframe\">\n",
       "  <thead>\n",
       "    <tr style=\"text-align: right;\">\n",
       "      <th></th>\n",
       "      <th>Coef.</th>\n",
       "      <th>Std.Err.</th>\n",
       "      <th>z</th>\n",
       "      <th>P&gt;|z|</th>\n",
       "      <th>[0.025</th>\n",
       "      <th>0.975]</th>\n",
       "    </tr>\n",
       "  </thead>\n",
       "  <tbody>\n",
       "    <tr>\n",
       "      <th>Intercept</th>\n",
       "      <td>13.534019</td>\n",
       "      <td>5.540065</td>\n",
       "      <td>2.442935</td>\n",
       "      <td>1.456836e-02</td>\n",
       "      <td>2.675691</td>\n",
       "      <td>24.392347</td>\n",
       "    </tr>\n",
       "    <tr>\n",
       "      <th>age</th>\n",
       "      <td>-0.021977</td>\n",
       "      <td>0.001307</td>\n",
       "      <td>-16.812747</td>\n",
       "      <td>1.968332e-63</td>\n",
       "      <td>-0.024539</td>\n",
       "      <td>-0.019415</td>\n",
       "    </tr>\n",
       "    <tr>\n",
       "      <th>Wife</th>\n",
       "      <td>-1.098921</td>\n",
       "      <td>0.081172</td>\n",
       "      <td>-13.538106</td>\n",
       "      <td>9.316059e-42</td>\n",
       "      <td>-1.258016</td>\n",
       "      <td>-0.939826</td>\n",
       "    </tr>\n",
       "    <tr>\n",
       "      <th>White</th>\n",
       "      <td>-0.590149</td>\n",
       "      <td>0.178667</td>\n",
       "      <td>-3.303057</td>\n",
       "      <td>9.563698e-04</td>\n",
       "      <td>-0.940330</td>\n",
       "      <td>-0.239967</td>\n",
       "    </tr>\n",
       "    <tr>\n",
       "      <th>Male</th>\n",
       "      <td>-0.998107</td>\n",
       "      <td>0.061724</td>\n",
       "      <td>-16.170597</td>\n",
       "      <td>8.130722e-59</td>\n",
       "      <td>-1.119083</td>\n",
       "      <td>-0.877131</td>\n",
       "    </tr>\n",
       "    <tr>\n",
       "      <th>others</th>\n",
       "      <td>0.827962</td>\n",
       "      <td>0.085743</td>\n",
       "      <td>9.656327</td>\n",
       "      <td>4.621378e-22</td>\n",
       "      <td>0.659909</td>\n",
       "      <td>0.996016</td>\n",
       "    </tr>\n",
       "    <tr>\n",
       "      <th>divorced</th>\n",
       "      <td>-0.669782</td>\n",
       "      <td>0.071447</td>\n",
       "      <td>-9.374471</td>\n",
       "      <td>6.952376e-21</td>\n",
       "      <td>-0.809816</td>\n",
       "      <td>-0.529748</td>\n",
       "    </tr>\n",
       "    <tr>\n",
       "      <th>married</th>\n",
       "      <td>-2.639580</td>\n",
       "      <td>0.075108</td>\n",
       "      <td>-35.143753</td>\n",
       "      <td>1.448098e-270</td>\n",
       "      <td>-2.786789</td>\n",
       "      <td>-2.492371</td>\n",
       "    </tr>\n",
       "    <tr>\n",
       "      <th>separated</th>\n",
       "      <td>-0.613010</td>\n",
       "      <td>0.133539</td>\n",
       "      <td>-4.590490</td>\n",
       "      <td>4.422076e-06</td>\n",
       "      <td>-0.874743</td>\n",
       "      <td>-0.351278</td>\n",
       "    </tr>\n",
       "    <tr>\n",
       "      <th>widowed</th>\n",
       "      <td>-0.702896</td>\n",
       "      <td>0.131802</td>\n",
       "      <td>-5.332954</td>\n",
       "      <td>9.662780e-08</td>\n",
       "      <td>-0.961224</td>\n",
       "      <td>-0.444568</td>\n",
       "    </tr>\n",
       "    <tr>\n",
       "      <th>Asia</th>\n",
       "      <td>0.478862</td>\n",
       "      <td>0.147529</td>\n",
       "      <td>3.245877</td>\n",
       "      <td>1.170895e-03</td>\n",
       "      <td>0.189710</td>\n",
       "      <td>0.768014</td>\n",
       "    </tr>\n",
       "    <tr>\n",
       "      <th>educational_num</th>\n",
       "      <td>-0.288286</td>\n",
       "      <td>0.015973</td>\n",
       "      <td>-18.047966</td>\n",
       "      <td>8.184946e-73</td>\n",
       "      <td>-0.319593</td>\n",
       "      <td>-0.256979</td>\n",
       "    </tr>\n",
       "    <tr>\n",
       "      <th>capital_gain</th>\n",
       "      <td>-0.000321</td>\n",
       "      <td>0.000009</td>\n",
       "      <td>-37.569732</td>\n",
       "      <td>6.710715e-309</td>\n",
       "      <td>-0.000338</td>\n",
       "      <td>-0.000304</td>\n",
       "    </tr>\n",
       "    <tr>\n",
       "      <th>capital_loss</th>\n",
       "      <td>-0.000668</td>\n",
       "      <td>0.000030</td>\n",
       "      <td>-21.937698</td>\n",
       "      <td>1.135037e-106</td>\n",
       "      <td>-0.000727</td>\n",
       "      <td>-0.000608</td>\n",
       "    </tr>\n",
       "    <tr>\n",
       "      <th>Not_in_family</th>\n",
       "      <td>-0.310666</td>\n",
       "      <td>0.075312</td>\n",
       "      <td>-4.125074</td>\n",
       "      <td>3.706156e-05</td>\n",
       "      <td>-0.458274</td>\n",
       "      <td>-0.163058</td>\n",
       "    </tr>\n",
       "    <tr>\n",
       "      <th>Other_relative</th>\n",
       "      <td>0.756243</td>\n",
       "      <td>0.173838</td>\n",
       "      <td>4.350284</td>\n",
       "      <td>1.359613e-05</td>\n",
       "      <td>0.415528</td>\n",
       "      <td>1.096958</td>\n",
       "    </tr>\n",
       "    <tr>\n",
       "      <th>Asian_Pac_Islander</th>\n",
       "      <td>-0.742278</td>\n",
       "      <td>0.221111</td>\n",
       "      <td>-3.357045</td>\n",
       "      <td>7.878022e-04</td>\n",
       "      <td>-1.175647</td>\n",
       "      <td>-0.308909</td>\n",
       "    </tr>\n",
       "    <tr>\n",
       "      <th>white_collar</th>\n",
       "      <td>-0.598977</td>\n",
       "      <td>0.034892</td>\n",
       "      <td>-17.166766</td>\n",
       "      <td>4.709421e-66</td>\n",
       "      <td>-0.667364</td>\n",
       "      <td>-0.530591</td>\n",
       "    </tr>\n",
       "    <tr>\n",
       "      <th>federal_gov</th>\n",
       "      <td>-0.441187</td>\n",
       "      <td>0.074683</td>\n",
       "      <td>-5.907497</td>\n",
       "      <td>3.473457e-09</td>\n",
       "      <td>-0.587563</td>\n",
       "      <td>-0.294812</td>\n",
       "    </tr>\n",
       "    <tr>\n",
       "      <th>self_employed</th>\n",
       "      <td>0.218672</td>\n",
       "      <td>0.041270</td>\n",
       "      <td>5.298539</td>\n",
       "      <td>1.167328e-07</td>\n",
       "      <td>0.137784</td>\n",
       "      <td>0.299560</td>\n",
       "    </tr>\n",
       "  </tbody>\n",
       "</table>\n",
       "</div>"
      ],
      "text/plain": [
       "                        Coef.  Std.Err.          z          P>|z|    [0.025  \\\n",
       "Intercept           13.534019  5.540065   2.442935   1.456836e-02  2.675691   \n",
       "age                 -0.021977  0.001307 -16.812747   1.968332e-63 -0.024539   \n",
       "Wife                -1.098921  0.081172 -13.538106   9.316059e-42 -1.258016   \n",
       "White               -0.590149  0.178667  -3.303057   9.563698e-04 -0.940330   \n",
       "Male                -0.998107  0.061724 -16.170597   8.130722e-59 -1.119083   \n",
       "others               0.827962  0.085743   9.656327   4.621378e-22  0.659909   \n",
       "divorced            -0.669782  0.071447  -9.374471   6.952376e-21 -0.809816   \n",
       "married             -2.639580  0.075108 -35.143753  1.448098e-270 -2.786789   \n",
       "separated           -0.613010  0.133539  -4.590490   4.422076e-06 -0.874743   \n",
       "widowed             -0.702896  0.131802  -5.332954   9.662780e-08 -0.961224   \n",
       "Asia                 0.478862  0.147529   3.245877   1.170895e-03  0.189710   \n",
       "educational_num     -0.288286  0.015973 -18.047966   8.184946e-73 -0.319593   \n",
       "capital_gain        -0.000321  0.000009 -37.569732  6.710715e-309 -0.000338   \n",
       "capital_loss        -0.000668  0.000030 -21.937698  1.135037e-106 -0.000727   \n",
       "Not_in_family       -0.310666  0.075312  -4.125074   3.706156e-05 -0.458274   \n",
       "Other_relative       0.756243  0.173838   4.350284   1.359613e-05  0.415528   \n",
       "Asian_Pac_Islander  -0.742278  0.221111  -3.357045   7.878022e-04 -1.175647   \n",
       "white_collar        -0.598977  0.034892 -17.166766   4.709421e-66 -0.667364   \n",
       "federal_gov         -0.441187  0.074683  -5.907497   3.473457e-09 -0.587563   \n",
       "self_employed        0.218672  0.041270   5.298539   1.167328e-07  0.137784   \n",
       "\n",
       "                       0.975]  \n",
       "Intercept           24.392347  \n",
       "age                 -0.019415  \n",
       "Wife                -0.939826  \n",
       "White               -0.239967  \n",
       "Male                -0.877131  \n",
       "others               0.996016  \n",
       "divorced            -0.529748  \n",
       "married             -2.492371  \n",
       "separated           -0.351278  \n",
       "widowed             -0.444568  \n",
       "Asia                 0.768014  \n",
       "educational_num     -0.256979  \n",
       "capital_gain        -0.000304  \n",
       "capital_loss        -0.000608  \n",
       "Not_in_family       -0.163058  \n",
       "Other_relative       1.096958  \n",
       "Asian_Pac_Islander  -0.308909  \n",
       "white_collar        -0.530591  \n",
       "federal_gov         -0.294812  \n",
       "self_employed        0.299560  "
      ]
     },
     "execution_count": 147,
     "metadata": {},
     "output_type": "execute_result"
    }
   ],
   "source": [
    "#Filtrar por pvalue estadisticamente significativo\n",
    "\n",
    "coefs_saturado[coefs_saturado[\"P>|z|\"] < 0.05]"
   ]
  },
  {
   "cell_type": "code",
   "execution_count": 148,
   "id": "77d915f0",
   "metadata": {},
   "outputs": [
    {
     "name": "stdout",
     "output_type": "stream",
     "text": [
      "Optimization terminated successfully.\n",
      "         Current function value: 0.340039\n",
      "         Iterations 8\n"
     ]
    }
   ],
   "source": [
    "#Modelo depurado\n",
    "\n",
    "modelo_depurado = smf.logit('menor_o_igual_50000 ~ age + Wife + White + Male + others + divorced + married + separated + widowed + Asia + educational_num + capital_gain + capital_loss + Not_in_family + Other_relative + Asian_Pac_Islander + white_collar + federal_gov + self_employed', data = df_binarizado).fit()"
   ]
  },
  {
   "cell_type": "code",
   "execution_count": 149,
   "id": "3c0451f5",
   "metadata": {},
   "outputs": [
    {
     "data": {
      "text/html": [
       "<div>\n",
       "<style scoped>\n",
       "    .dataframe tbody tr th:only-of-type {\n",
       "        vertical-align: middle;\n",
       "    }\n",
       "\n",
       "    .dataframe tbody tr th {\n",
       "        vertical-align: top;\n",
       "    }\n",
       "\n",
       "    .dataframe thead th {\n",
       "        text-align: right;\n",
       "    }\n",
       "</style>\n",
       "<table border=\"1\" class=\"dataframe\">\n",
       "  <thead>\n",
       "    <tr style=\"text-align: right;\">\n",
       "      <th></th>\n",
       "      <th>Coef.</th>\n",
       "      <th>Std.Err.</th>\n",
       "      <th>z</th>\n",
       "      <th>P&gt;|z|</th>\n",
       "      <th>[0.025</th>\n",
       "      <th>0.975]</th>\n",
       "    </tr>\n",
       "  </thead>\n",
       "  <tbody>\n",
       "    <tr>\n",
       "      <th>Intercept</th>\n",
       "      <td>8.780205</td>\n",
       "      <td>0.123907</td>\n",
       "      <td>70.861165</td>\n",
       "      <td>0.000000e+00</td>\n",
       "      <td>8.537351</td>\n",
       "      <td>9.023058</td>\n",
       "    </tr>\n",
       "    <tr>\n",
       "      <th>age</th>\n",
       "      <td>-0.021895</td>\n",
       "      <td>0.001297</td>\n",
       "      <td>-16.878603</td>\n",
       "      <td>6.465695e-64</td>\n",
       "      <td>-0.024437</td>\n",
       "      <td>-0.019352</td>\n",
       "    </tr>\n",
       "    <tr>\n",
       "      <th>Wife</th>\n",
       "      <td>-1.092625</td>\n",
       "      <td>0.079417</td>\n",
       "      <td>-13.758107</td>\n",
       "      <td>4.552909e-43</td>\n",
       "      <td>-1.248279</td>\n",
       "      <td>-0.936971</td>\n",
       "    </tr>\n",
       "    <tr>\n",
       "      <th>White</th>\n",
       "      <td>-0.291832</td>\n",
       "      <td>0.056584</td>\n",
       "      <td>-5.157470</td>\n",
       "      <td>2.503093e-07</td>\n",
       "      <td>-0.402736</td>\n",
       "      <td>-0.180929</td>\n",
       "    </tr>\n",
       "    <tr>\n",
       "      <th>Male</th>\n",
       "      <td>-0.999476</td>\n",
       "      <td>0.059678</td>\n",
       "      <td>-16.747899</td>\n",
       "      <td>5.866183e-63</td>\n",
       "      <td>-1.116442</td>\n",
       "      <td>-0.882510</td>\n",
       "    </tr>\n",
       "    <tr>\n",
       "      <th>others</th>\n",
       "      <td>0.822645</td>\n",
       "      <td>0.085686</td>\n",
       "      <td>9.600741</td>\n",
       "      <td>7.937145e-22</td>\n",
       "      <td>0.654704</td>\n",
       "      <td>0.990586</td>\n",
       "    </tr>\n",
       "    <tr>\n",
       "      <th>divorced</th>\n",
       "      <td>-0.666739</td>\n",
       "      <td>0.068648</td>\n",
       "      <td>-9.712402</td>\n",
       "      <td>2.669715e-22</td>\n",
       "      <td>-0.801287</td>\n",
       "      <td>-0.532191</td>\n",
       "    </tr>\n",
       "    <tr>\n",
       "      <th>married</th>\n",
       "      <td>-2.627688</td>\n",
       "      <td>0.068444</td>\n",
       "      <td>-38.391840</td>\n",
       "      <td>0.000000e+00</td>\n",
       "      <td>-2.761836</td>\n",
       "      <td>-2.493540</td>\n",
       "    </tr>\n",
       "    <tr>\n",
       "      <th>separated</th>\n",
       "      <td>-0.610689</td>\n",
       "      <td>0.131525</td>\n",
       "      <td>-4.643122</td>\n",
       "      <td>3.431834e-06</td>\n",
       "      <td>-0.868474</td>\n",
       "      <td>-0.352903</td>\n",
       "    </tr>\n",
       "    <tr>\n",
       "      <th>widowed</th>\n",
       "      <td>-0.698276</td>\n",
       "      <td>0.130140</td>\n",
       "      <td>-5.365557</td>\n",
       "      <td>8.070000e-08</td>\n",
       "      <td>-0.953346</td>\n",
       "      <td>-0.443205</td>\n",
       "    </tr>\n",
       "    <tr>\n",
       "      <th>Asia</th>\n",
       "      <td>0.480879</td>\n",
       "      <td>0.146967</td>\n",
       "      <td>3.272022</td>\n",
       "      <td>1.067812e-03</td>\n",
       "      <td>0.192829</td>\n",
       "      <td>0.768930</td>\n",
       "    </tr>\n",
       "    <tr>\n",
       "      <th>educational_num</th>\n",
       "      <td>-0.304987</td>\n",
       "      <td>0.007100</td>\n",
       "      <td>-42.953286</td>\n",
       "      <td>0.000000e+00</td>\n",
       "      <td>-0.318904</td>\n",
       "      <td>-0.291070</td>\n",
       "    </tr>\n",
       "    <tr>\n",
       "      <th>capital_gain</th>\n",
       "      <td>-0.000321</td>\n",
       "      <td>0.000009</td>\n",
       "      <td>-37.598864</td>\n",
       "      <td>2.243531e-309</td>\n",
       "      <td>-0.000338</td>\n",
       "      <td>-0.000304</td>\n",
       "    </tr>\n",
       "    <tr>\n",
       "      <th>capital_loss</th>\n",
       "      <td>-0.000668</td>\n",
       "      <td>0.000030</td>\n",
       "      <td>-21.960869</td>\n",
       "      <td>6.818269e-107</td>\n",
       "      <td>-0.000728</td>\n",
       "      <td>-0.000608</td>\n",
       "    </tr>\n",
       "    <tr>\n",
       "      <th>Not_in_family</th>\n",
       "      <td>-0.304503</td>\n",
       "      <td>0.060461</td>\n",
       "      <td>-5.036368</td>\n",
       "      <td>4.744472e-07</td>\n",
       "      <td>-0.423005</td>\n",
       "      <td>-0.186002</td>\n",
       "    </tr>\n",
       "    <tr>\n",
       "      <th>Other_relative</th>\n",
       "      <td>0.754124</td>\n",
       "      <td>0.172458</td>\n",
       "      <td>4.372802</td>\n",
       "      <td>1.226619e-05</td>\n",
       "      <td>0.416113</td>\n",
       "      <td>1.092135</td>\n",
       "    </tr>\n",
       "    <tr>\n",
       "      <th>Asian_Pac_Islander</th>\n",
       "      <td>-0.446200</td>\n",
       "      <td>0.141621</td>\n",
       "      <td>-3.150669</td>\n",
       "      <td>1.628973e-03</td>\n",
       "      <td>-0.723771</td>\n",
       "      <td>-0.168628</td>\n",
       "    </tr>\n",
       "    <tr>\n",
       "      <th>white_collar</th>\n",
       "      <td>-0.607541</td>\n",
       "      <td>0.034569</td>\n",
       "      <td>-17.574681</td>\n",
       "      <td>3.850502e-69</td>\n",
       "      <td>-0.675296</td>\n",
       "      <td>-0.539787</td>\n",
       "    </tr>\n",
       "    <tr>\n",
       "      <th>federal_gov</th>\n",
       "      <td>-0.453805</td>\n",
       "      <td>0.074148</td>\n",
       "      <td>-6.120270</td>\n",
       "      <td>9.341715e-10</td>\n",
       "      <td>-0.599132</td>\n",
       "      <td>-0.308478</td>\n",
       "    </tr>\n",
       "    <tr>\n",
       "      <th>self_employed</th>\n",
       "      <td>0.205279</td>\n",
       "      <td>0.040578</td>\n",
       "      <td>5.058812</td>\n",
       "      <td>4.218764e-07</td>\n",
       "      <td>0.125746</td>\n",
       "      <td>0.284811</td>\n",
       "    </tr>\n",
       "  </tbody>\n",
       "</table>\n",
       "</div>"
      ],
      "text/plain": [
       "                       Coef.  Std.Err.          z          P>|z|    [0.025  \\\n",
       "Intercept           8.780205  0.123907  70.861165   0.000000e+00  8.537351   \n",
       "age                -0.021895  0.001297 -16.878603   6.465695e-64 -0.024437   \n",
       "Wife               -1.092625  0.079417 -13.758107   4.552909e-43 -1.248279   \n",
       "White              -0.291832  0.056584  -5.157470   2.503093e-07 -0.402736   \n",
       "Male               -0.999476  0.059678 -16.747899   5.866183e-63 -1.116442   \n",
       "others              0.822645  0.085686   9.600741   7.937145e-22  0.654704   \n",
       "divorced           -0.666739  0.068648  -9.712402   2.669715e-22 -0.801287   \n",
       "married            -2.627688  0.068444 -38.391840   0.000000e+00 -2.761836   \n",
       "separated          -0.610689  0.131525  -4.643122   3.431834e-06 -0.868474   \n",
       "widowed            -0.698276  0.130140  -5.365557   8.070000e-08 -0.953346   \n",
       "Asia                0.480879  0.146967   3.272022   1.067812e-03  0.192829   \n",
       "educational_num    -0.304987  0.007100 -42.953286   0.000000e+00 -0.318904   \n",
       "capital_gain       -0.000321  0.000009 -37.598864  2.243531e-309 -0.000338   \n",
       "capital_loss       -0.000668  0.000030 -21.960869  6.818269e-107 -0.000728   \n",
       "Not_in_family      -0.304503  0.060461  -5.036368   4.744472e-07 -0.423005   \n",
       "Other_relative      0.754124  0.172458   4.372802   1.226619e-05  0.416113   \n",
       "Asian_Pac_Islander -0.446200  0.141621  -3.150669   1.628973e-03 -0.723771   \n",
       "white_collar       -0.607541  0.034569 -17.574681   3.850502e-69 -0.675296   \n",
       "federal_gov        -0.453805  0.074148  -6.120270   9.341715e-10 -0.599132   \n",
       "self_employed       0.205279  0.040578   5.058812   4.218764e-07  0.125746   \n",
       "\n",
       "                      0.975]  \n",
       "Intercept           9.023058  \n",
       "age                -0.019352  \n",
       "Wife               -0.936971  \n",
       "White              -0.180929  \n",
       "Male               -0.882510  \n",
       "others              0.990586  \n",
       "divorced           -0.532191  \n",
       "married            -2.493540  \n",
       "separated          -0.352903  \n",
       "widowed            -0.443205  \n",
       "Asia                0.768930  \n",
       "educational_num    -0.291070  \n",
       "capital_gain       -0.000304  \n",
       "capital_loss       -0.000608  \n",
       "Not_in_family      -0.186002  \n",
       "Other_relative      1.092135  \n",
       "Asian_Pac_Islander -0.168628  \n",
       "white_collar       -0.539787  \n",
       "federal_gov        -0.308478  \n",
       "self_employed       0.284811  "
      ]
     },
     "execution_count": 149,
     "metadata": {},
     "output_type": "execute_result"
    }
   ],
   "source": [
    "coefs_depurado = modelo_depurado.summary2().tables[1]\n",
    "coefs_depurado"
   ]
  },
  {
   "cell_type": "markdown",
   "id": "f5d18d8a",
   "metadata": {},
   "source": [
    "Realice las transformaciones a las variables capital con logaritmo pero desconozco el problema que no las puede utilzar en el modelo debido que me daba error.\n",
    "\n",
    "Respecto de los modelos utilizaré los siguientes modelos:\n",
    "\n",
    "1) Modelo Depurado sin intercepto\n",
    "\n",
    "2) Modelo Depurado con Intercepto\n",
    "\n",
    "3) Modelo Depurado con intercepto estandarizado"
   ]
  },
  {
   "cell_type": "markdown",
   "id": "70a03b2c",
   "metadata": {},
   "source": [
    "<img src=\"hito4.png\" width=\"900\" height=\"900\"/>\n"
   ]
  },
  {
   "cell_type": "markdown",
   "id": "eba21ae2",
   "metadata": {},
   "source": [
    "Se realiza un filtro para reducir el numero de variable independientes considerando las que son estadisticamente significativas"
   ]
  },
  {
   "cell_type": "code",
   "execution_count": 151,
   "id": "39ed414e",
   "metadata": {},
   "outputs": [
    {
     "data": {
      "text/html": [
       "<div>\n",
       "<style scoped>\n",
       "    .dataframe tbody tr th:only-of-type {\n",
       "        vertical-align: middle;\n",
       "    }\n",
       "\n",
       "    .dataframe tbody tr th {\n",
       "        vertical-align: top;\n",
       "    }\n",
       "\n",
       "    .dataframe thead th {\n",
       "        text-align: right;\n",
       "    }\n",
       "</style>\n",
       "<table border=\"1\" class=\"dataframe\">\n",
       "  <thead>\n",
       "    <tr style=\"text-align: right;\">\n",
       "      <th></th>\n",
       "      <th>menor_o_igual_50000</th>\n",
       "      <th>age</th>\n",
       "      <th>Wife</th>\n",
       "      <th>White</th>\n",
       "      <th>Male</th>\n",
       "      <th>others</th>\n",
       "      <th>divorced</th>\n",
       "      <th>married</th>\n",
       "      <th>separated</th>\n",
       "      <th>widowed</th>\n",
       "      <th>Asia</th>\n",
       "      <th>educational_num</th>\n",
       "      <th>capital_gain</th>\n",
       "      <th>capital_loss</th>\n",
       "      <th>Not_in_family</th>\n",
       "      <th>Other_relative</th>\n",
       "      <th>Asian_Pac_Islander</th>\n",
       "      <th>white_collar</th>\n",
       "      <th>federal_gov</th>\n",
       "      <th>self_employed</th>\n",
       "    </tr>\n",
       "  </thead>\n",
       "  <tbody>\n",
       "    <tr>\n",
       "      <th>0</th>\n",
       "      <td>1</td>\n",
       "      <td>25</td>\n",
       "      <td>0</td>\n",
       "      <td>0</td>\n",
       "      <td>1</td>\n",
       "      <td>0</td>\n",
       "      <td>0</td>\n",
       "      <td>0</td>\n",
       "      <td>0</td>\n",
       "      <td>0</td>\n",
       "      <td>0</td>\n",
       "      <td>7</td>\n",
       "      <td>0</td>\n",
       "      <td>0</td>\n",
       "      <td>0</td>\n",
       "      <td>0</td>\n",
       "      <td>0</td>\n",
       "      <td>0</td>\n",
       "      <td>0</td>\n",
       "      <td>0</td>\n",
       "    </tr>\n",
       "    <tr>\n",
       "      <th>1</th>\n",
       "      <td>1</td>\n",
       "      <td>38</td>\n",
       "      <td>0</td>\n",
       "      <td>1</td>\n",
       "      <td>1</td>\n",
       "      <td>0</td>\n",
       "      <td>0</td>\n",
       "      <td>1</td>\n",
       "      <td>0</td>\n",
       "      <td>0</td>\n",
       "      <td>0</td>\n",
       "      <td>9</td>\n",
       "      <td>0</td>\n",
       "      <td>0</td>\n",
       "      <td>0</td>\n",
       "      <td>0</td>\n",
       "      <td>0</td>\n",
       "      <td>0</td>\n",
       "      <td>0</td>\n",
       "      <td>0</td>\n",
       "    </tr>\n",
       "    <tr>\n",
       "      <th>2</th>\n",
       "      <td>0</td>\n",
       "      <td>28</td>\n",
       "      <td>0</td>\n",
       "      <td>1</td>\n",
       "      <td>1</td>\n",
       "      <td>0</td>\n",
       "      <td>0</td>\n",
       "      <td>1</td>\n",
       "      <td>0</td>\n",
       "      <td>0</td>\n",
       "      <td>0</td>\n",
       "      <td>12</td>\n",
       "      <td>0</td>\n",
       "      <td>0</td>\n",
       "      <td>0</td>\n",
       "      <td>0</td>\n",
       "      <td>0</td>\n",
       "      <td>0</td>\n",
       "      <td>0</td>\n",
       "      <td>0</td>\n",
       "    </tr>\n",
       "    <tr>\n",
       "      <th>3</th>\n",
       "      <td>0</td>\n",
       "      <td>44</td>\n",
       "      <td>0</td>\n",
       "      <td>0</td>\n",
       "      <td>1</td>\n",
       "      <td>0</td>\n",
       "      <td>0</td>\n",
       "      <td>1</td>\n",
       "      <td>0</td>\n",
       "      <td>0</td>\n",
       "      <td>0</td>\n",
       "      <td>10</td>\n",
       "      <td>7688</td>\n",
       "      <td>0</td>\n",
       "      <td>0</td>\n",
       "      <td>0</td>\n",
       "      <td>0</td>\n",
       "      <td>0</td>\n",
       "      <td>0</td>\n",
       "      <td>0</td>\n",
       "    </tr>\n",
       "    <tr>\n",
       "      <th>5</th>\n",
       "      <td>1</td>\n",
       "      <td>34</td>\n",
       "      <td>0</td>\n",
       "      <td>1</td>\n",
       "      <td>1</td>\n",
       "      <td>1</td>\n",
       "      <td>0</td>\n",
       "      <td>0</td>\n",
       "      <td>0</td>\n",
       "      <td>0</td>\n",
       "      <td>0</td>\n",
       "      <td>6</td>\n",
       "      <td>0</td>\n",
       "      <td>0</td>\n",
       "      <td>1</td>\n",
       "      <td>0</td>\n",
       "      <td>0</td>\n",
       "      <td>0</td>\n",
       "      <td>0</td>\n",
       "      <td>0</td>\n",
       "    </tr>\n",
       "    <tr>\n",
       "      <th>...</th>\n",
       "      <td>...</td>\n",
       "      <td>...</td>\n",
       "      <td>...</td>\n",
       "      <td>...</td>\n",
       "      <td>...</td>\n",
       "      <td>...</td>\n",
       "      <td>...</td>\n",
       "      <td>...</td>\n",
       "      <td>...</td>\n",
       "      <td>...</td>\n",
       "      <td>...</td>\n",
       "      <td>...</td>\n",
       "      <td>...</td>\n",
       "      <td>...</td>\n",
       "      <td>...</td>\n",
       "      <td>...</td>\n",
       "      <td>...</td>\n",
       "      <td>...</td>\n",
       "      <td>...</td>\n",
       "      <td>...</td>\n",
       "    </tr>\n",
       "    <tr>\n",
       "      <th>48837</th>\n",
       "      <td>1</td>\n",
       "      <td>27</td>\n",
       "      <td>1</td>\n",
       "      <td>1</td>\n",
       "      <td>0</td>\n",
       "      <td>0</td>\n",
       "      <td>0</td>\n",
       "      <td>1</td>\n",
       "      <td>0</td>\n",
       "      <td>0</td>\n",
       "      <td>0</td>\n",
       "      <td>12</td>\n",
       "      <td>0</td>\n",
       "      <td>0</td>\n",
       "      <td>0</td>\n",
       "      <td>0</td>\n",
       "      <td>0</td>\n",
       "      <td>1</td>\n",
       "      <td>0</td>\n",
       "      <td>0</td>\n",
       "    </tr>\n",
       "    <tr>\n",
       "      <th>48838</th>\n",
       "      <td>0</td>\n",
       "      <td>40</td>\n",
       "      <td>0</td>\n",
       "      <td>1</td>\n",
       "      <td>1</td>\n",
       "      <td>0</td>\n",
       "      <td>0</td>\n",
       "      <td>1</td>\n",
       "      <td>0</td>\n",
       "      <td>0</td>\n",
       "      <td>0</td>\n",
       "      <td>9</td>\n",
       "      <td>0</td>\n",
       "      <td>0</td>\n",
       "      <td>0</td>\n",
       "      <td>0</td>\n",
       "      <td>0</td>\n",
       "      <td>0</td>\n",
       "      <td>0</td>\n",
       "      <td>0</td>\n",
       "    </tr>\n",
       "    <tr>\n",
       "      <th>48839</th>\n",
       "      <td>1</td>\n",
       "      <td>58</td>\n",
       "      <td>0</td>\n",
       "      <td>1</td>\n",
       "      <td>0</td>\n",
       "      <td>0</td>\n",
       "      <td>0</td>\n",
       "      <td>0</td>\n",
       "      <td>0</td>\n",
       "      <td>1</td>\n",
       "      <td>0</td>\n",
       "      <td>9</td>\n",
       "      <td>0</td>\n",
       "      <td>0</td>\n",
       "      <td>0</td>\n",
       "      <td>0</td>\n",
       "      <td>0</td>\n",
       "      <td>1</td>\n",
       "      <td>0</td>\n",
       "      <td>0</td>\n",
       "    </tr>\n",
       "    <tr>\n",
       "      <th>48840</th>\n",
       "      <td>1</td>\n",
       "      <td>22</td>\n",
       "      <td>0</td>\n",
       "      <td>1</td>\n",
       "      <td>1</td>\n",
       "      <td>0</td>\n",
       "      <td>0</td>\n",
       "      <td>0</td>\n",
       "      <td>0</td>\n",
       "      <td>0</td>\n",
       "      <td>0</td>\n",
       "      <td>9</td>\n",
       "      <td>0</td>\n",
       "      <td>0</td>\n",
       "      <td>0</td>\n",
       "      <td>0</td>\n",
       "      <td>0</td>\n",
       "      <td>1</td>\n",
       "      <td>0</td>\n",
       "      <td>0</td>\n",
       "    </tr>\n",
       "    <tr>\n",
       "      <th>48841</th>\n",
       "      <td>0</td>\n",
       "      <td>52</td>\n",
       "      <td>1</td>\n",
       "      <td>1</td>\n",
       "      <td>0</td>\n",
       "      <td>0</td>\n",
       "      <td>0</td>\n",
       "      <td>1</td>\n",
       "      <td>0</td>\n",
       "      <td>0</td>\n",
       "      <td>0</td>\n",
       "      <td>9</td>\n",
       "      <td>15024</td>\n",
       "      <td>0</td>\n",
       "      <td>0</td>\n",
       "      <td>0</td>\n",
       "      <td>0</td>\n",
       "      <td>1</td>\n",
       "      <td>0</td>\n",
       "      <td>1</td>\n",
       "    </tr>\n",
       "  </tbody>\n",
       "</table>\n",
       "<p>45222 rows × 20 columns</p>\n",
       "</div>"
      ],
      "text/plain": [
       "       menor_o_igual_50000  age  Wife  White  Male  others  divorced  married  \\\n",
       "0                        1   25     0      0     1       0         0        0   \n",
       "1                        1   38     0      1     1       0         0        1   \n",
       "2                        0   28     0      1     1       0         0        1   \n",
       "3                        0   44     0      0     1       0         0        1   \n",
       "5                        1   34     0      1     1       1         0        0   \n",
       "...                    ...  ...   ...    ...   ...     ...       ...      ...   \n",
       "48837                    1   27     1      1     0       0         0        1   \n",
       "48838                    0   40     0      1     1       0         0        1   \n",
       "48839                    1   58     0      1     0       0         0        0   \n",
       "48840                    1   22     0      1     1       0         0        0   \n",
       "48841                    0   52     1      1     0       0         0        1   \n",
       "\n",
       "       separated  widowed  Asia  educational_num  capital_gain  capital_loss  \\\n",
       "0              0        0     0                7             0             0   \n",
       "1              0        0     0                9             0             0   \n",
       "2              0        0     0               12             0             0   \n",
       "3              0        0     0               10          7688             0   \n",
       "5              0        0     0                6             0             0   \n",
       "...          ...      ...   ...              ...           ...           ...   \n",
       "48837          0        0     0               12             0             0   \n",
       "48838          0        0     0                9             0             0   \n",
       "48839          0        1     0                9             0             0   \n",
       "48840          0        0     0                9             0             0   \n",
       "48841          0        0     0                9         15024             0   \n",
       "\n",
       "       Not_in_family  Other_relative  Asian_Pac_Islander  white_collar  \\\n",
       "0                  0               0                   0             0   \n",
       "1                  0               0                   0             0   \n",
       "2                  0               0                   0             0   \n",
       "3                  0               0                   0             0   \n",
       "5                  1               0                   0             0   \n",
       "...              ...             ...                 ...           ...   \n",
       "48837              0               0                   0             1   \n",
       "48838              0               0                   0             0   \n",
       "48839              0               0                   0             1   \n",
       "48840              0               0                   0             1   \n",
       "48841              0               0                   0             1   \n",
       "\n",
       "       federal_gov  self_employed  \n",
       "0                0              0  \n",
       "1                0              0  \n",
       "2                0              0  \n",
       "3                0              0  \n",
       "5                0              0  \n",
       "...            ...            ...  \n",
       "48837            0              0  \n",
       "48838            0              0  \n",
       "48839            0              0  \n",
       "48840            0              0  \n",
       "48841            0              1  \n",
       "\n",
       "[45222 rows x 20 columns]"
      ]
     },
     "execution_count": 151,
     "metadata": {},
     "output_type": "execute_result"
    }
   ],
   "source": [
    "#DF con las variables estadisticamente significante\n",
    "\n",
    "df_bin_dep = df[[\"menor_o_igual_50000\" , \"age\" , \"Wife\" , \"White\" , \"Male\" , \"others\" , \"divorced\" , \"married\" , \"separated\" , \"widowed\" , \"Asia\" , \"educational_num\" , \"capital_gain\" , \"capital_loss\" , \"Not_in_family\" , \"Other_relative\" , \"Asian_Pac_Islander\" , \"white_collar\" , \"federal_gov\" , \"self_employed\"]]\n",
    "\n",
    "df_bin_dep"
   ]
  },
  {
   "cell_type": "markdown",
   "id": "501faea7",
   "metadata": {},
   "source": [
    "Se realizo un nuevo df con todas las variables independientes y el vector obnjetivo de acuerdo al modelo depurado econometrico, osea solo con aquellas variables independientes estadisticamente significante."
   ]
  },
  {
   "cell_type": "markdown",
   "id": "eb0b4580",
   "metadata": {},
   "source": [
    "<h2> MODELO DEPURADO ESTANDARIZADO SIN INTERCEPTO </h2>"
   ]
  },
  {
   "cell_type": "code",
   "execution_count": 152,
   "id": "455a20f3",
   "metadata": {},
   "outputs": [
    {
     "data": {
      "text/plain": [
       "((30298, 19), (14924, 19), (30298,), (14924,))"
      ]
     },
     "execution_count": 152,
     "metadata": {},
     "output_type": "execute_result"
    }
   ],
   "source": [
    "#Se crean los 4 subset\n",
    "\n",
    "X = df_bin_dep.copy()\n",
    "y = X.pop(\"menor_o_igual_50000\")\n",
    "\n",
    "X_train, X_test, y_train, y_test = train_test_split(X, y, test_size=0.33, random_state=10)\n",
    "X_train.shape, X_test.shape, y_train.shape, y_test.shape"
   ]
  },
  {
   "cell_type": "code",
   "execution_count": 153,
   "id": "563a6e30",
   "metadata": {},
   "outputs": [],
   "source": [
    "#Estandarización de las variables independientes tanto para train como test\n",
    "\n",
    "X_train_std = StandardScaler().fit_transform(X_train)\n",
    "\n",
    "X_test_std = StandardScaler().fit_transform(X_test)"
   ]
  },
  {
   "cell_type": "code",
   "execution_count": 154,
   "id": "9442c296",
   "metadata": {},
   "outputs": [],
   "source": [
    "#Entrenamiento del modelo\n",
    "\n",
    "mod_dep_est_sin_int = LogisticRegression(fit_intercept=False).fit(X_train_std, y_train)"
   ]
  },
  {
   "cell_type": "code",
   "execution_count": 155,
   "id": "78a8a9d6",
   "metadata": {},
   "outputs": [
    {
     "data": {
      "text/plain": [
       "array([[-0.20024782, -0.1409293 , -0.06629151, -0.29686677,  0.02430491,\n",
       "        -0.06744837, -0.79501419, -0.04623687, -0.04804363,  0.04831293,\n",
       "        -0.60587105, -8.11598387, -0.26301745,  0.05189848,  0.05251384,\n",
       "        -0.03895669, -0.26578543, -0.06833656,  0.04592444]])"
      ]
     },
     "execution_count": 155,
     "metadata": {},
     "output_type": "execute_result"
    }
   ],
   "source": [
    "#Coeficientes del modelo mod_dep_est_sin_int \n",
    "\n",
    "mod_dep_est_sin_int.coef_"
   ]
  },
  {
   "cell_type": "code",
   "execution_count": 156,
   "id": "10cf7887",
   "metadata": {},
   "outputs": [
    {
     "data": {
      "text/plain": [
       "array([0.])"
      ]
     },
     "execution_count": 156,
     "metadata": {},
     "output_type": "execute_result"
    }
   ],
   "source": [
    "#Intercepeto del modelo mod_dep_est_sin_int \n",
    "\n",
    "mod_dep_est_sin_int.intercept_"
   ]
  },
  {
   "cell_type": "code",
   "execution_count": 157,
   "id": "b68c5162",
   "metadata": {},
   "outputs": [
    {
     "data": {
      "text/plain": [
       "array([1, 1, 1, 1, 1, 1, 1, 1, 1, 1], dtype=int64)"
      ]
     },
     "execution_count": 157,
     "metadata": {},
     "output_type": "execute_result"
    }
   ],
   "source": [
    "#Se genera y almacena las predicciones de clase y de probabilidad\n",
    "\n",
    "yhat = mod_dep_est_sin_int.predict(X_test_std) \n",
    "yhat[:10]"
   ]
  },
  {
   "cell_type": "code",
   "execution_count": 158,
   "id": "06b692ee",
   "metadata": {},
   "outputs": [
    {
     "data": {
      "text/plain": [
       "array([0.51090012, 0.53408781, 0.90092845, ..., 0.90740643, 0.76679299,\n",
       "       0.9017451 ])"
      ]
     },
     "execution_count": 158,
     "metadata": {},
     "output_type": "execute_result"
    }
   ],
   "source": [
    "#La probabilidad entre 0 y 1\n",
    "\n",
    "yhat_prob = mod_dep_est_sin_int.predict_proba(X_test_std)[:,1] \n",
    "yhat_prob"
   ]
  },
  {
   "cell_type": "code",
   "execution_count": 159,
   "id": "265dd7ea",
   "metadata": {},
   "outputs": [
    {
     "name": "stdout",
     "output_type": "stream",
     "text": [
      "[[2516 1216]\n",
      " [1402 9790]]\n"
     ]
    }
   ],
   "source": [
    "#Matriz de confusión \n",
    "\n",
    "print(confusion_matrix(y_test, yhat))"
   ]
  },
  {
   "cell_type": "code",
   "execution_count": 160,
   "id": "69dc4bff",
   "metadata": {},
   "outputs": [
    {
     "name": "stdout",
     "output_type": "stream",
     "text": [
      "1    34014\n",
      "0    11208\n",
      "Name: menor_o_igual_50000, dtype: int64\n"
     ]
    },
    {
     "data": {
      "text/plain": [
       "0.8245778611632271"
      ]
     },
     "execution_count": 160,
     "metadata": {},
     "output_type": "execute_result"
    }
   ],
   "source": [
    "#con accuracy_score obtendremos la exactitud de obtener casos predichos correctamente\n",
    "\n",
    "#Hay que tener en consideración que las clases de menor_o_igual_50000 esta desbalanceado\n",
    "\n",
    "print(df[\"menor_o_igual_50000\"].value_counts())\n",
    "\n",
    "m1_acc = accuracy_score(y_test, yhat)\n",
    "\n",
    "m1_acc"
   ]
  },
  {
   "cell_type": "code",
   "execution_count": 161,
   "id": "2b509a3b",
   "metadata": {},
   "outputs": [
    {
     "data": {
      "text/plain": [
       "0.8747319513938527"
      ]
     },
     "execution_count": 161,
     "metadata": {},
     "output_type": "execute_result"
    }
   ],
   "source": [
    "recall_model = recall_score(y_test, yhat)\n",
    "\n",
    "recall_model"
   ]
  },
  {
   "cell_type": "code",
   "execution_count": 162,
   "id": "84f75a2d",
   "metadata": {},
   "outputs": [
    {
     "data": {
      "text/plain": [
       "0.8820614469772051"
      ]
     },
     "execution_count": 162,
     "metadata": {},
     "output_type": "execute_result"
    }
   ],
   "source": [
    "f1_spore_model = f1_score(y_test, yhat)\n",
    "\n",
    "f1_spore_model"
   ]
  },
  {
   "cell_type": "code",
   "execution_count": 163,
   "id": "64e1ef91",
   "metadata": {},
   "outputs": [
    {
     "name": "stdout",
     "output_type": "stream",
     "text": [
      "              precision    recall  f1-score   support\n",
      "\n",
      "           0       0.64      0.67      0.66      3732\n",
      "           1       0.89      0.87      0.88     11192\n",
      "\n",
      "    accuracy                           0.82     14924\n",
      "   macro avg       0.77      0.77      0.77     14924\n",
      "weighted avg       0.83      0.82      0.83     14924\n",
      "\n"
     ]
    }
   ],
   "source": [
    "# Utiliza esta celda para reportar las métricas solicitadas utilizando classification_report\n",
    "\n",
    "print(classification_report(y_test, yhat))"
   ]
  },
  {
   "cell_type": "code",
   "execution_count": 164,
   "id": "39bfa1ad",
   "metadata": {},
   "outputs": [
    {
     "data": {
      "image/png": "[encoded data removed]",
      "text/plain": [
       "<Figure size 432x288 with 1 Axes>"
      ]
     },
     "metadata": {
      "needs_background": "light"
     },
     "output_type": "display_data"
    }
   ],
   "source": [
    "# Utiliza esta celda para graficar la curva ROC\n",
    "\n",
    "false_positive, true_positive, threshold = roc_curve(y_test, yhat_prob)\n",
    "\n",
    "plt.plot(false_positive, true_positive);\n",
    "plt.plot([0,1], ls=\"--\", lw=1, color=\"tomato\");\n",
    "plt.ylabel(\"Verdaderos Positivos\");\n",
    "plt.xlabel(\"Falsos Positivos\");"
   ]
  },
  {
   "cell_type": "code",
   "execution_count": 165,
   "id": "72e3e811",
   "metadata": {},
   "outputs": [
    {
     "data": {
      "text/plain": [
       "0.7744506487944613"
      ]
     },
     "execution_count": 165,
     "metadata": {},
     "output_type": "execute_result"
    }
   ],
   "source": [
    "roc_auc_score(y_test, yhat)"
   ]
  },
  {
   "cell_type": "markdown",
   "id": "0a8de0f1",
   "metadata": {},
   "source": [
    "<h2> MODELO DEPURADO ESTANDARIZADO CON INTERCEPTO </h2>"
   ]
  },
  {
   "cell_type": "markdown",
   "id": "6bfcfc99",
   "metadata": {},
   "source": [
    "df_binarizado.columns"
   ]
  },
  {
   "cell_type": "code",
   "execution_count": 166,
   "id": "7eaa5dd2",
   "metadata": {},
   "outputs": [
    {
     "data": {
      "text/plain": [
       "((30298, 29), (14924, 29), (30298,), (14924,))"
      ]
     },
     "execution_count": 166,
     "metadata": {},
     "output_type": "execute_result"
    }
   ],
   "source": [
    "X1 = df_binarizado.copy()\n",
    "y1 = X1.pop(\"menor_o_igual_50000\")\n",
    "\n",
    "X1_train, X1_test, y1_train, y1_test = train_test_split(X1, y1, test_size=.33, random_state=10)\n",
    "X1_train.shape, X1_test.shape, y1_train.shape, y1_test.shape"
   ]
  },
  {
   "cell_type": "code",
   "execution_count": 167,
   "id": "6870a3b8",
   "metadata": {},
   "outputs": [],
   "source": [
    "# Utiliza esta celda para estandarizar la matriz de atributos de entrenamiento y aplicar dicha estandarización tanto en train como test\n",
    "\n",
    "X1_train_std = StandardScaler().fit_transform(X1_train)\n",
    "\n",
    "X1_test_std = StandardScaler().fit_transform(X1_test)"
   ]
  },
  {
   "cell_type": "code",
   "execution_count": 168,
   "id": "86076384",
   "metadata": {},
   "outputs": [],
   "source": [
    "mod_dep_est_con_int = LogisticRegression(fit_intercept=True).fit(X1_train_std, y1_train)"
   ]
  },
  {
   "cell_type": "code",
   "execution_count": 169,
   "id": "414b8215",
   "metadata": {},
   "outputs": [
    {
     "data": {
      "text/plain": [
       "array([[-0.28787192, -0.00350691, -0.23846237, -0.11551141, -0.01090399,\n",
       "        -0.21978467, -0.48724949,  0.24098978,  0.02352793, -0.78628714,\n",
       "        -0.80329071, -0.23423755, -1.32486362, -0.12485907, -0.13728358,\n",
       "         0.07742022, -0.01235651, -0.70637181, -2.38479755, -0.27522693,\n",
       "        -0.14588226,  0.1704927 , -0.1317191 , -0.2855178 , -0.08248916,\n",
       "         0.07680129,  0.02723354, -0.21927898, -0.85099146]])"
      ]
     },
     "execution_count": 169,
     "metadata": {},
     "output_type": "execute_result"
    }
   ],
   "source": [
    "mod_dep_est_con_int.coef_"
   ]
  },
  {
   "cell_type": "code",
   "execution_count": 170,
   "id": "aa0377b1",
   "metadata": {},
   "outputs": [
    {
     "data": {
      "text/plain": [
       "array([1.79582526])"
      ]
     },
     "execution_count": 170,
     "metadata": {},
     "output_type": "execute_result"
    }
   ],
   "source": [
    "mod_dep_est_con_int.intercept_"
   ]
  },
  {
   "cell_type": "code",
   "execution_count": 171,
   "id": "20d2770a",
   "metadata": {},
   "outputs": [
    {
     "data": {
      "text/plain": [
       "array([1, 1, 1, 1, 1, 1, 1, 1, 1, 1], dtype=int64)"
      ]
     },
     "execution_count": 171,
     "metadata": {},
     "output_type": "execute_result"
    }
   ],
   "source": [
    "# Utiliza esta celda para generar y almacenar predicciones de clase y de probabilidad\n",
    "\n",
    "y1_hat = mod_dep_est_con_int.predict(X1_test_std) \n",
    "yhat[:10]"
   ]
  },
  {
   "cell_type": "code",
   "execution_count": 172,
   "id": "12c5ebb1",
   "metadata": {},
   "outputs": [
    {
     "data": {
      "text/plain": [
       "array([0.51090012, 0.53408781, 0.90092845, 0.70786332, 0.70703091,\n",
       "       0.54019729, 0.90119114, 0.80550323, 0.5481459 , 0.91971689])"
      ]
     },
     "execution_count": 172,
     "metadata": {},
     "output_type": "execute_result"
    }
   ],
   "source": [
    "y1_hat_prob = mod_dep_est_con_int.predict_proba(X1_test_std)[:,1] #Nos indica la probabilidad entre 0 y 1\n",
    "yhat_prob[:10]"
   ]
  },
  {
   "cell_type": "code",
   "execution_count": 173,
   "id": "56e0fdc8",
   "metadata": {},
   "outputs": [
    {
     "name": "stdout",
     "output_type": "stream",
     "text": [
      "[[ 2136  1596]\n",
      " [  778 10414]]\n"
     ]
    }
   ],
   "source": [
    "#Matriz de confusión permite observar las predicciones predichas\n",
    "\n",
    "print(confusion_matrix(y1_test, y1_hat))"
   ]
  },
  {
   "cell_type": "code",
   "execution_count": 174,
   "id": "d52ce2fe",
   "metadata": {},
   "outputs": [
    {
     "name": "stdout",
     "output_type": "stream",
     "text": [
      "1    34014\n",
      "0    11208\n",
      "Name: menor_o_igual_50000, dtype: int64\n"
     ]
    },
    {
     "data": {
      "text/plain": [
       "0.8409273653176093"
      ]
     },
     "execution_count": 174,
     "metadata": {},
     "output_type": "execute_result"
    }
   ],
   "source": [
    "#con accuracy_score obtendremos la exactitud de obtener casos predichos correctamente\n",
    "\n",
    "#Hay que tener en consideración que las clases de menor_o_igual_50000 esta desbalanceado\n",
    "\n",
    "print(df[\"menor_o_igual_50000\"].value_counts())\n",
    "\n",
    "m1_acc = accuracy_score(y1_test, y1_hat)\n",
    "\n",
    "m1_acc"
   ]
  },
  {
   "cell_type": "code",
   "execution_count": 175,
   "id": "4995dfb5",
   "metadata": {},
   "outputs": [
    {
     "data": {
      "text/plain": [
       "0.9304860614724804"
      ]
     },
     "execution_count": 175,
     "metadata": {},
     "output_type": "execute_result"
    }
   ],
   "source": [
    "recall_model = recall_score(y1_test, y1_hat)\n",
    "\n",
    "recall_model"
   ]
  },
  {
   "cell_type": "code",
   "execution_count": 176,
   "id": "73c2645c",
   "metadata": {},
   "outputs": [
    {
     "data": {
      "text/plain": [
       "0.897681234376347"
      ]
     },
     "execution_count": 176,
     "metadata": {},
     "output_type": "execute_result"
    }
   ],
   "source": [
    "f1_spore_model = f1_score(y1_test, y1_hat)\n",
    "\n",
    "f1_spore_model"
   ]
  },
  {
   "cell_type": "code",
   "execution_count": 177,
   "id": "fd9e49fe",
   "metadata": {},
   "outputs": [
    {
     "name": "stdout",
     "output_type": "stream",
     "text": [
      "              precision    recall  f1-score   support\n",
      "\n",
      "           0       0.73      0.57      0.64      3732\n",
      "           1       0.87      0.93      0.90     11192\n",
      "\n",
      "    accuracy                           0.84     14924\n",
      "   macro avg       0.80      0.75      0.77     14924\n",
      "weighted avg       0.83      0.84      0.83     14924\n",
      "\n"
     ]
    }
   ],
   "source": [
    "# Utiliza esta celda para reportar las métricas solicitadas utilizando classification_report\n",
    "\n",
    "print(classification_report(y1_test, y1_hat))"
   ]
  },
  {
   "cell_type": "code",
   "execution_count": 178,
   "id": "39cf71ee",
   "metadata": {},
   "outputs": [
    {
     "data": {
      "image/png": "[encoded data removed]",
      "text/plain": [
       "<Figure size 432x288 with 1 Axes>"
      ]
     },
     "metadata": {
      "needs_background": "light"
     },
     "output_type": "display_data"
    }
   ],
   "source": [
    "# Utiliza esta celda para graficar la curva ROC\n",
    "\n",
    "\n",
    "false_positive, true_positive, threshold = roc_curve(y1_test, y1_hat_prob)\n",
    "\n",
    "plt.plot(false_positive, true_positive);\n",
    "plt.plot([0,1], ls=\"--\", lw=1, color=\"tomato\");\n",
    "plt.ylabel(\"Verdaderos Positivos\");\n",
    "plt.xlabel(\"Falsos Positivos\");"
   ]
  },
  {
   "cell_type": "code",
   "execution_count": 179,
   "id": "c65063cd",
   "metadata": {},
   "outputs": [
    {
     "data": {
      "text/plain": [
       "0.7514166641767548"
      ]
     },
     "execution_count": 179,
     "metadata": {},
     "output_type": "execute_result"
    }
   ],
   "source": [
    "roc_auc_score(y1_test, y1_hat)"
   ]
  },
  {
   "cell_type": "markdown",
   "id": "0bf1fcff",
   "metadata": {},
   "source": [
    "<h2> MODELO DEPURADO ESTANDARIZADO CON INTERCEPTO SIN CAPITAL</h2>"
   ]
  },
  {
   "cell_type": "code",
   "execution_count": 180,
   "id": "446faaae",
   "metadata": {},
   "outputs": [
    {
     "data": {
      "text/plain": [
       "((30298, 27), (14924, 27), (30298,), (14924,))"
      ]
     },
     "execution_count": 180,
     "metadata": {},
     "output_type": "execute_result"
    }
   ],
   "source": [
    "X2 = df_binarizado.copy()\n",
    "X2.pop(\"capital_gain\")\n",
    "X2.pop(\"capital_loss\")\n",
    "\n",
    "y2 = X2.pop(\"menor_o_igual_50000\")\n",
    "\n",
    "X2_train, X2_test, y2_train, y2_test = train_test_split(X2, y2, test_size=.33, random_state=10)\n",
    "X2_train.shape, X2_test.shape, y2_train.shape, y2_test.shape"
   ]
  },
  {
   "cell_type": "code",
   "execution_count": 181,
   "id": "42d0d113",
   "metadata": {},
   "outputs": [],
   "source": [
    "#Estandarización de las variables independientes tanto para train como test\n",
    "\n",
    "X2_train_std = StandardScaler().fit_transform(X2_train)\n",
    "\n",
    "X2_test_std = StandardScaler().fit_transform(X2_test)"
   ]
  },
  {
   "cell_type": "code",
   "execution_count": 182,
   "id": "cc5d169b",
   "metadata": {},
   "outputs": [],
   "source": [
    "#Entrenamiento del modelo\n",
    "\n",
    "mod_dep_est_con_int_sin_capital = LogisticRegression(fit_intercept=True).fit(X2_train_std, y2_train)"
   ]
  },
  {
   "cell_type": "code",
   "execution_count": 183,
   "id": "5cd3d005",
   "metadata": {},
   "outputs": [
    {
     "data": {
      "text/plain": [
       "array([[-0.33450451, -0.00491033, -0.23881179, -0.10528383, -0.00643029,\n",
       "        -0.19772348, -0.49493273,  0.25050834,  0.02650789, -0.27001547,\n",
       "        -0.31635174, -0.23261044, -1.29484672, -0.12820892, -0.14021242,\n",
       "         0.07861334, -0.00851493, -0.77158028, -0.17507562,  0.15902048,\n",
       "        -0.11402365, -0.30255565, -0.07582384,  0.0587782 ,  0.04215696,\n",
       "        -0.10226057, -0.30447822]])"
      ]
     },
     "execution_count": 183,
     "metadata": {},
     "output_type": "execute_result"
    }
   ],
   "source": [
    "#Coeficientes del modelo mod_dep_est_sin_int \n",
    "\n",
    "mod_dep_est_con_int_sin_capital.coef_\n"
   ]
  },
  {
   "cell_type": "code",
   "execution_count": 184,
   "id": "1876dac5",
   "metadata": {},
   "outputs": [
    {
     "data": {
      "text/plain": [
       "array([1.90876817])"
      ]
     },
     "execution_count": 184,
     "metadata": {},
     "output_type": "execute_result"
    }
   ],
   "source": [
    "#Intercepeto del modelo mod_dep_est_sin_int\n",
    "\n",
    "mod_dep_est_con_int_sin_capital.intercept_\n"
   ]
  },
  {
   "cell_type": "code",
   "execution_count": 185,
   "id": "32493333",
   "metadata": {},
   "outputs": [
    {
     "data": {
      "text/plain": [
       "array([1, 1, 1, 1, 1, 1, 1, 1, 1, 1], dtype=int64)"
      ]
     },
     "execution_count": 185,
     "metadata": {},
     "output_type": "execute_result"
    }
   ],
   "source": [
    "#Se genera y almacena las predicciones de clase y de probabilidad\n",
    "\n",
    "y2_hat = mod_dep_est_con_int_sin_capital.predict(X2_test_std) \n",
    "y2_hat[:10]\n"
   ]
  },
  {
   "cell_type": "code",
   "execution_count": 186,
   "id": "1935e6ee",
   "metadata": {},
   "outputs": [
    {
     "data": {
      "text/plain": [
       "array([0.50520429, 0.57108197, 0.96490413, ..., 0.93297902, 0.84296375,\n",
       "       0.95467368])"
      ]
     },
     "execution_count": 186,
     "metadata": {},
     "output_type": "execute_result"
    }
   ],
   "source": [
    "#La probabilidad entre 0 y 1\n",
    "\n",
    "y2_hat_prob = mod_dep_est_con_int_sin_capital.predict_proba(X2_test_std)[:,1] \n",
    "y2_hat_prob\n"
   ]
  },
  {
   "cell_type": "code",
   "execution_count": 187,
   "id": "3274a4ec",
   "metadata": {},
   "outputs": [
    {
     "name": "stdout",
     "output_type": "stream",
     "text": [
      "[[ 1925  1807]\n",
      " [  856 10336]]\n"
     ]
    }
   ],
   "source": [
    "#Matriz de confusión \n",
    "\n",
    "print(confusion_matrix(y2_test, y2_hat))"
   ]
  },
  {
   "cell_type": "code",
   "execution_count": 188,
   "id": "f5f76d3a",
   "metadata": {},
   "outputs": [
    {
     "name": "stdout",
     "output_type": "stream",
     "text": [
      "1    34014\n",
      "0    11208\n",
      "Name: menor_o_igual_50000, dtype: int64\n"
     ]
    },
    {
     "data": {
      "text/plain": [
       "0.8215625837577057"
      ]
     },
     "execution_count": 188,
     "metadata": {},
     "output_type": "execute_result"
    }
   ],
   "source": [
    "#con accuracy_score obtendremos la exactitud de obtener casos predichos correctamente\n",
    "\n",
    "#Hay que tener en consideración que las clases de menor_o_igual_50000 esta desbalanceado\n",
    "\n",
    "print(df[\"menor_o_igual_50000\"].value_counts())\n",
    "\n",
    "m1_acc = accuracy_score(y2_test, y2_hat)\n",
    "\n",
    "m1_acc"
   ]
  },
  {
   "cell_type": "code",
   "execution_count": 189,
   "id": "2e3e3515",
   "metadata": {},
   "outputs": [
    {
     "data": {
      "text/plain": [
       "0.9235167977126519"
      ]
     },
     "execution_count": 189,
     "metadata": {},
     "output_type": "execute_result"
    }
   ],
   "source": [
    "recall_model = recall_score(y2_test, y2_hat)\n",
    "\n",
    "recall_model"
   ]
  },
  {
   "cell_type": "code",
   "execution_count": 190,
   "id": "db4b7484",
   "metadata": {},
   "outputs": [
    {
     "data": {
      "text/plain": [
       "0.885879580029998"
      ]
     },
     "execution_count": 190,
     "metadata": {},
     "output_type": "execute_result"
    }
   ],
   "source": [
    "f1_spore_model = f1_score(y2_test, y2_hat)\n",
    "\n",
    "f1_spore_model"
   ]
  },
  {
   "cell_type": "code",
   "execution_count": 191,
   "id": "fa4ab801",
   "metadata": {},
   "outputs": [
    {
     "name": "stdout",
     "output_type": "stream",
     "text": [
      "              precision    recall  f1-score   support\n",
      "\n",
      "           0       0.69      0.52      0.59      3732\n",
      "           1       0.85      0.92      0.89     11192\n",
      "\n",
      "    accuracy                           0.82     14924\n",
      "   macro avg       0.77      0.72      0.74     14924\n",
      "weighted avg       0.81      0.82      0.81     14924\n",
      "\n"
     ]
    }
   ],
   "source": [
    "# Utiliza esta celda para reportar las métricas solicitadas utilizando classification_report\n",
    "\n",
    "print(classification_report(y2_test, y2_hat))"
   ]
  },
  {
   "cell_type": "code",
   "execution_count": 192,
   "id": "38ce7898",
   "metadata": {},
   "outputs": [
    {
     "data": {
      "image/png": "[encoded data removed]",
      "text/plain": [
       "<Figure size 432x288 with 1 Axes>"
      ]
     },
     "metadata": {
      "needs_background": "light"
     },
     "output_type": "display_data"
    }
   ],
   "source": [
    "# Utiliza esta celda para graficar la curva ROC\n",
    "\n",
    "false_positive, true_positive, threshold = roc_curve(y_test, yhat_prob)\n",
    "\n",
    "plt.plot(false_positive, true_positive);\n",
    "plt.plot([0,1], ls=\"--\", lw=1, color=\"tomato\");\n",
    "plt.ylabel(\"Verdaderos Positivos\");\n",
    "plt.xlabel(\"Falsos Positivos\");"
   ]
  },
  {
   "cell_type": "code",
   "execution_count": 193,
   "id": "c8c81fe4",
   "metadata": {},
   "outputs": [
    {
     "data": {
      "text/plain": [
       "0.7196630076451791"
      ]
     },
     "execution_count": 193,
     "metadata": {},
     "output_type": "execute_result"
    }
   ],
   "source": [
    "roc_auc_score(y2_test, y2_hat)"
   ]
  },
  {
   "cell_type": "code",
   "execution_count": null,
   "id": "e3308d69",
   "metadata": {},
   "outputs": [],
   "source": []
  },
  {
   "cell_type": "markdown",
   "id": "c0b93a3f",
   "metadata": {},
   "source": [
    "<h2> RESUMENES DE LOS 3 MODELOS PREDICTIVOS </h2>"
   ]
  },
  {
   "cell_type": "code",
   "execution_count": 194,
   "id": "c32ac81a",
   "metadata": {},
   "outputs": [
    {
     "name": "stdout",
     "output_type": "stream",
     "text": [
      "              precision    recall  f1-score   support\n",
      "\n",
      "           0       0.64      0.67      0.66      3732\n",
      "           1       0.89      0.87      0.88     11192\n",
      "\n",
      "    accuracy                           0.82     14924\n",
      "   macro avg       0.77      0.77      0.77     14924\n",
      "weighted avg       0.83      0.82      0.83     14924\n",
      "\n"
     ]
    }
   ],
   "source": [
    "# Utiliza esta celda para reportar las métricas solicitadas utilizando classification_report\n",
    "# MODELO DEPURADO ESTANDARIZADO SIN INTERCEPTO\n",
    "\n",
    "print(classification_report(y_test, yhat))"
   ]
  },
  {
   "cell_type": "code",
   "execution_count": 197,
   "id": "80ebfc90",
   "metadata": {},
   "outputs": [
    {
     "name": "stdout",
     "output_type": "stream",
     "text": [
      "              precision    recall  f1-score   support\n",
      "\n",
      "           0       0.73      0.57      0.64      3732\n",
      "           1       0.87      0.93      0.90     11192\n",
      "\n",
      "    accuracy                           0.84     14924\n",
      "   macro avg       0.80      0.75      0.77     14924\n",
      "weighted avg       0.83      0.84      0.83     14924\n",
      "\n"
     ]
    }
   ],
   "source": [
    "# Utiliza esta celda para reportar las métricas solicitadas utilizando classification_report\n",
    "# MODELO DEPURADO ESTANDARIZADO CON INTERCEPTO\n",
    "\n",
    "print(classification_report(y1_test, y1_hat))"
   ]
  },
  {
   "cell_type": "code",
   "execution_count": 198,
   "id": "a4529b61",
   "metadata": {},
   "outputs": [
    {
     "name": "stdout",
     "output_type": "stream",
     "text": [
      "              precision    recall  f1-score   support\n",
      "\n",
      "           0       0.69      0.52      0.59      3732\n",
      "           1       0.85      0.92      0.89     11192\n",
      "\n",
      "    accuracy                           0.82     14924\n",
      "   macro avg       0.77      0.72      0.74     14924\n",
      "weighted avg       0.81      0.82      0.81     14924\n",
      "\n"
     ]
    }
   ],
   "source": [
    "# Utiliza esta celda para reportar las métricas solicitadas utilizando classification_report\n",
    "# MODELO DEPURADO ESTANDARIZADO CON INTERCEPTO SIN VARIABLES CAPITAL\n",
    "\n",
    "print(classification_report(y2_test, y2_hat))"
   ]
  },
  {
   "cell_type": "code",
   "execution_count": null,
   "id": "d3faa76e",
   "metadata": {},
   "outputs": [],
   "source": [
    "#Se considera el mejor Modelo el MODELO DEPURADO ESTANDARIZADO CON INTERCEPTO"
   ]
  },
  {
   "cell_type": "code",
   "execution_count": 199,
   "id": "a2f43846",
   "metadata": {},
   "outputs": [
    {
     "name": "stdout",
     "output_type": "stream",
     "text": [
      "[[ 2136  1596]\n",
      " [  778 10414]]\n"
     ]
    }
   ],
   "source": [
    "#Matriz de confusión modelo depurado estandarizado con intercepto.\n",
    "\n",
    "print(confusion_matrix(y1_test, y1_hat))"
   ]
  },
  {
   "cell_type": "markdown",
   "id": "367876de",
   "metadata": {},
   "source": [
    "Se considera que el modelo depurado estandarizado con intercepto es el modelo con mejor ajuste, esto debido que su Accuracy que mide los casos correctamente predichos del total de predicciones es de 0.84, mejor que de los dos modelos restantes, pero cabe destacar, que esta medida en sí no es del todo confiable, ya que como se vio en el analisis exploratorio las clases del vector objetivo estan desbalanceadas. Por otro lado comentar que el modelo tiene un desepeño 34% superior que una predicción si esta fuera al azar que es de un 50%.\n",
    "\n",
    "Respecto a la medida de precisión se puede apreciar que el modelo depurado estandarizado con intercepto es levemento inferior respecto al modelo depurado estandarizado sin intercepto cuando se trata de ver la proporcion de predicciones positivas fue correcta respecto a la clase 1 que son las personas que tienen un ingreso menor o igual a 50.000 dolares pero muy superior cuando se trata de la clase 0.\n",
    "Cabe destacar que este indicador nos sugiere el desempeño del modelo a la hora de medir las predicciones positivas.\n",
    "\n",
    "Respecto a la medida recall se puede apreciar que en promedio el modelo depurado estandarizado sin intercepto es mejor que el con interceto cuando se consideran ambas clases, pero para este caso en particular como se trata de una ONG que busca determinar la desigualdad del ingreso y la erradicación de la pobreza considero que es relevante considerar la proporción de predicciones reales se identifico sobretodo cuando se trata de la clase 1 que son las personas que tienen un ingreso menor o igual a 50.000 dolares ya que a la hora de tomar desiciones para afrontar la problematica no se estarían considerando todo el grupo objetivo y que en el caso del modelo seleccionado es de 0.92 lo cual es bastante bueno.\n",
    "\n",
    "Respecto a la metrica F1 que en cierta forma es la mejor medida ya que realiza una especie de ponderaciones entre las 2 medidas anteriores. Para el caso, para el modelo seleccionado y para la clase objetivo tiene un desempeño de 0.9 que es superior al de los otros modelos.\n",
    "\n",
    "Finalmente respecto la curva ROC y su área bajo la curva, si bien es ligeramente inferior el modelo con intercepto que el sin intercepto, pero hay que destacar que esta medida esta asociado a predecir mas verdaderos positivos que falsos positivos lo cual va relacionado con la medida de precisión pero entendiendo el contexto por el cual se realiza el estudio se considera que las metricas recall y F1 son las principales a la hora de tomar aquella decisión de elegir el modelo considerando el grupo objetivo.\n"
   ]
  },
  {
   "cell_type": "code",
   "execution_count": null,
   "id": "cab0c666",
   "metadata": {},
   "outputs": [],
   "source": []
  }
 ],
 "metadata": {
  "hide_input": false,
  "kernelspec": {
   "display_name": "Python 3 (ipykernel)",
   "language": "python",
   "name": "python3"
  },
  "language_info": {
   "codemirror_mode": {
    "name": "ipython",
    "version": 3
   },
   "file_extension": ".py",
   "mimetype": "text/x-python",
   "name": "python",
   "nbconvert_exporter": "python",
   "pygments_lexer": "ipython3",
   "version": "3.9.12"
  },
  "toc": {
   "base_numbering": 1,
   "nav_menu": {},
   "number_sections": true,
   "sideBar": true,
   "skip_h1_title": false,
   "title_cell": "Table of Contents",
   "title_sidebar": "Contents",
   "toc_cell": false,
   "toc_position": {},
   "toc_section_display": true,
   "toc_window_display": false
  },
  "varInspector": {
   "cols": {
    "lenName": 16,
    "lenType": 16,
    "lenVar": 40
   },
   "kernels_config": {
    "python": {
     "delete_cmd_postfix": "",
     "delete_cmd_prefix": "del ",
     "library": "var_list.py",
     "varRefreshCmd": "print(var_dic_list())"
    },
    "r": {
     "delete_cmd_postfix": ") ",
     "delete_cmd_prefix": "rm(",
     "library": "var_list.r",
     "varRefreshCmd": "cat(var_dic_list()) "
    }
   },
   "types_to_exclude": [
    "module",
    "function",
    "builtin_function_or_method",
    "instance",
    "_Feature"
   ],
   "window_display": false
  }
 },
 "nbformat": 4,
 "nbformat_minor": 5
}
