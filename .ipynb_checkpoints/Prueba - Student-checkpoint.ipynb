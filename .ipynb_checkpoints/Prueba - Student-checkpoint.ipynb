{
 "cells": [
  {
   "cell_type": "markdown",
   "id": "49ecc418",
   "metadata": {},
   "source": [
    "<img src=https://desafiolatam.com/assets/home/logo-academia-bla-790873cdf66b0e681dfbe640ace8a602f5330bec301c409744c358330e823ae3.png>"
   ]
  },
  {
   "cell_type": "markdown",
   "id": "af3ce9d9",
   "metadata": {},
   "source": [
    "   ###### Nombre Alumno: Ramiro Silva   \n",
    "   ###### Generación: G48\n",
    "   ###### Profesores: Geanina Salomó  /  Gonzalo Peña\n",
    "   ###### Fecha : 18-08-2022"
   ]
  },
  {
   "cell_type": "markdown",
   "id": "065826a9",
   "metadata": {},
   "source": [
    "<img src=\"prueba.png\" width=\"900\" height=\"900\"/>\n"
   ]
  },
  {
   "cell_type": "markdown",
   "id": "babd26ba",
   "metadata": {},
   "source": [
    "<img src=\"condiciones_generales.png\" width=\"900\" height=\"900\"/>\n"
   ]
  },
  {
   "cell_type": "markdown",
   "id": "7eea432d",
   "metadata": {},
   "source": [
    "<img src=\"puntuacion_y_correccion.png\" width=\"900\" height=\"900\"/>\n"
   ]
  },
  {
   "cell_type": "markdown",
   "id": "fa79dfff",
   "metadata": {},
   "source": [
    "<img src=\"condiciones_generales.png\" width=\"900\" height=\"900\"/>\n"
   ]
  },
  {
   "cell_type": "markdown",
   "id": "08a5f810",
   "metadata": {},
   "source": [
    "# Hito 1 Determinantes del ingreso"
   ]
  },
  {
   "cell_type": "markdown",
   "id": "dd91a89c",
   "metadata": {},
   "source": [
    "<img src=\"rendimiento_escolar.png\" width=\"900\" height=\"900\"/>\n",
    "\n"
   ]
  },
  {
   "cell_type": "markdown",
   "id": "9467a263",
   "metadata": {},
   "source": [
    "<img src=\"aspectos_adicionales_rendimiento_escolar.png\" width=\"900\" height=\"900\"/>\n"
   ]
  },
  {
   "cell_type": "markdown",
   "id": "c4172932",
   "metadata": {},
   "source": [
    "## Descripción de la DB\n",
    "\n",
    "\n",
    "<p> Para desarrollar este desafío se debe utilizar la base de datos income-db.csv. </p>\n",
    "\n",
    "<p> Las variables que componen esta base se detallan a continuación: </p>\n",
    "\n",
    "\n",
    "* `school:` Escuela del estudiante. (binaria: 'GP' - Gabriel Pereira o 'MS' - Mousinho da Silveira).\n",
    "* `sex:` Sexo del estudiante. (binaria: 'F' - Mujer o 'M' - Hombre).\n",
    "* `age:` Edad del estudiante. (numérica: de 15 a 22).\n",
    "* `address:` Ubicación de la casa del estudiante. (binaria: 'U' - urbana o 'R' - rural).\n",
    "* `famsize:` Tamaño de la familia. (binaria: 'LE3' - less or equal to 3 or 'GT3' - greaterthan 3).\n",
    "* `Pstatus:` Estado cohabitacional de los padres. (binaria: 'T' - cohabitando juntos o 'A' - viviendo separados).\n",
    "* `Medu:` Nivel educacional de la madre. (numérica: 0 - ninguno, 1 - educación básica (4to), 2 - de 5to a 9, 3 - educación media, o 4 - educación superior).\n",
    "* `Fedu:` Nivel educacional del padre. (numérica: 0 - ninguno, 1 - educación básica (4to), 2 - de 5to a 9, 3 - educación media, o 4 - educación superior).\n",
    "* `Mjob:` Ocupación de la madre. (nominal: 'teacher' profesora, 'health' relacionada a salud, 'services' (e.g. administración pública o policía), 'at_home' en casa u 'other'\n",
    "otra)\n",
    "* `job:` Ocupación del padre (nominal: 'teacher' profesor, 'health' relacionado a salud,'services' (e.g. administración pública o policía), 'at_home' en casa u 'other' otra).\n",
    "* `reason:` Razón para escoger la escuela (nominal: 'home' cercano a casa, 'reputation'reputación de la escuela, 'course' preferencia de cursos u 'other' otra).\n",
    "* `guardian:` Apoderado del estudiante (nominal: 'mother' madre, 'father' padre u 'other'otro).\n",
    "* `traveltime:` Tiempo de viaje entre hogar y colegio. Se debe codificar como:\n",
    "     * `1` si es menos de 15 min,\n",
    "     * `2` si es de 15 a 30 min,\n",
    "     * `3` si es de 30 min. a 1 hora,\n",
    "     * `4` - si es más de 1 hora).\n",
    "* studytime: Horas semanales dedicadas al estudio. Se debe codificar como:\n",
    "     * `1` si es menos de 2 horas,\n",
    "     * `2` si es de 2 a 5 horas,\n",
    "     * `3` si es de 5 a 10 horas,\n",
    "     * `o` 4 si es más de 10 horas.\n",
    "* `failures:` Número de clases reprobadas. (numérica: n si 1<=n<3, de lo contrario 4).\n",
    "* `schoolsup:` Apoyo educacional del colegio. (binaria: si o no).\n",
    "* `famsup:` Apoyo educacional familiar. (binaria: si o no).\n",
    "* `paid:` Clases particulares pagadas (matemáticas o portugués) (binaria: sí o no).\n",
    "* `activities:` Actividades extracurriculares. (binaria: si o no).\n",
    "* `nursery:` Asistió a guardería infantil. (binaria: si o no).\n",
    "* `higher:` Desea proseguir estudios superiores (binaria: si o no).\n",
    "* `internet:` Acceso a internet desde el hogar (binaria: si o no).\n",
    "* `romantic:` Relación romántica (binaria: si o no).\n",
    "* `famrel:` Calidad de las relaciones familiares. (numérica: de 1 - muy malas a 5 -excelentes).\n",
    "* `freetime:` Tiempo libre fuera del colegio (numérica: de 1 - muy poco a 5 - mucho).\n",
    "* `goout:` Salidas con amigos (numérica: de 1 - muy pocas a 5 - muchas).\n",
    "* `Dalc:` Consumo de alcohol en día de semana (numérica: de 1 - muy bajo a 5 - muy alto).\n",
    "* `Walc:` Consumo de alcohol en fines de semana (numérica: de 1 - muy bajo a 5 - muy alto).\n",
    "* `health:` Estado de salud actual (numérica: from 1 - muy malo to 5 - muy bueno).\n",
    "* `absences:` Cantidad de ausencias escolares (numérica: de 0 a 93).\n",
    "* `G1:` Notas durante el primer semestre (numérica: de 0 a 20). Este es uno de sus vectores objetivos para el modelo descriptivo.\n",
    "* `G2:` Notas durante el segundo semestre (numérica: de 0 a 20). Este es uno de sus vectores objetivos para el modelo descriptivo.\n",
    "* `G3:` Promedio final (numérica: de 0 a 20). Este es uno de sus vectores objetivos para el modelo descriptivo y el vector a predecir en el modelo predictivo.\n"
   ]
  },
  {
   "cell_type": "markdown",
   "id": "2ea8c196",
   "metadata": {},
   "source": [
    "# Preliminares\n",
    "\n",
    "## Descripción del problema\n",
    "\n",
    "\n",
    "\n",
    "Para el caso de \"Rendimiento Escolar\" se considera que los Vectores Objetivos son las variables \"G1\", \"G2\" y \"G3\" las cuales son variables continuas y es en base a la variable objetivo que es un problema de regresión.\n",
    "\n",
    "Ya teniendo en cuentas que las variables objetivos son del tipo continuas se realizarán modelos desde el punto econometrico y del machine learning ya que en punto se considera un modelo que explique para los vectores objetivos G1, G2 y G3 y por otro lado de un modelo que para predecir las notas de G3.\n",
    "\n",
    "Cabe destacar que existen variables en df que son del tipo discreta y deben ser recodificadas ejemplo address, Pstatus entre otras ya que al tratarse de una función matematica estas variables deben ser trabnsformadas a números.\n",
    "\n",
    "Respecto a los datos nulos si existiesen se evaluará si borrarlos o utilizar un promedio debido a que este df a diferencia del determiante del ingreso cuenta con pocos registros lo cual podría afectar en nuestros modelos.\n",
    "\n",
    "Respecto al modelo de machine learning se debe deben generar 4subset para el entreamiento del modelo y su respectivo testeo.\n",
    "\n",
    "Para el modelo de regresion lineal desde el punto de la econometria se utilizarán las metricas de R si se trata de una variable independiente que se utilizará en el modelo, el r2 si se trata de 3 o mas variables independientes que se utilizarán en el modelo y finalmente el Metodo de Minicos Cuadrados Ordinarios,\n",
    "\n"
   ]
  },
  {
   "cell_type": "markdown",
   "id": "eb2da28c",
   "metadata": {},
   "source": [
    "# Aspectos Computacionales\n",
    "\n",
    "\n",
    "Para el desarrollo de la regresión lineal se deben considerar las siguientes librerías\n",
    "\n",
    "**import pandas as pd** # Es una librería orientada a la manipulación y limpieza de estructuras de datos.                       \n",
    "**import numpy as np**  # Es una librería orientada a la computación científica.                                               \n",
    "**import scipy.stats as stats** # Esta librería contiene un y nos ayuda a generar distribuciones\n",
    "\n",
    "**import matplotlib.pyplot as plt**   # Esta librería nos ayudará a generar gráficos.  \n",
    "**import seaborn as sns** # Esta librería podremos generar gráficos elegantes y se complementa con matplotlib.\n",
    "\n",
    "**import scipy.stats as stats**  # Es una libreria que sirve para simular y generar distribuciones.                             \n",
    "**from sklearn.preprocessing import LabelEncoder** # Es una librería y podremos recodificar variables.                         \n",
    "**from sklearn.model_selection import train_test_split** # Generamos los subset para entrenamiento y testeo del modelo.         \n",
    "**from sklearn.preprocessing import StandardScaler** # Esta librería nos sirve para estendarizar datos. \n",
    "**from sklearn.metrics import confusion_matrix** # Esta librería nos sirve para generar la matriz de confusión, una metrica.   \n",
    "\n",
    "\n",
    "**import statsmodels.api as sm**   # podremos generar un modelo                                                                 \n",
    "**import statsmodels.formula.api as smf**  #  librería que sirve para crear modelos Logistico o Regresion \n",
    "\n",
    "**import warnings**  # Esta es una librería que muestra los warning.                                                           \n",
    "**warnings.filterwarnings(\"ignore\", category=DeprecationWarning)** # con esto se evita que genere warnings de metodos o funciones desactualizadas.                                                                                                     \n"
   ]
  },
  {
   "cell_type": "code",
   "execution_count": null,
   "id": "685ba900",
   "metadata": {},
   "outputs": [],
   "source": []
  },
  {
   "cell_type": "code",
   "execution_count": null,
   "id": "86abc070",
   "metadata": {},
   "outputs": [],
   "source": []
  }
 ],
 "metadata": {
  "hide_input": false,
  "kernelspec": {
   "display_name": "Python 3 (ipykernel)",
   "language": "python",
   "name": "python3"
  },
  "language_info": {
   "codemirror_mode": {
    "name": "ipython",
    "version": 3
   },
   "file_extension": ".py",
   "mimetype": "text/x-python",
   "name": "python",
   "nbconvert_exporter": "python",
   "pygments_lexer": "ipython3",
   "version": "3.9.12"
  },
  "toc": {
   "base_numbering": 1,
   "nav_menu": {},
   "number_sections": true,
   "sideBar": true,
   "skip_h1_title": false,
   "title_cell": "Table of Contents",
   "title_sidebar": "Contents",
   "toc_cell": false,
   "toc_position": {},
   "toc_section_display": true,
   "toc_window_display": false
  },
  "varInspector": {
   "cols": {
    "lenName": 16,
    "lenType": 16,
    "lenVar": 40
   },
   "kernels_config": {
    "python": {
     "delete_cmd_postfix": "",
     "delete_cmd_prefix": "del ",
     "library": "var_list.py",
     "varRefreshCmd": "print(var_dic_list())"
    },
    "r": {
     "delete_cmd_postfix": ") ",
     "delete_cmd_prefix": "rm(",
     "library": "var_list.r",
     "varRefreshCmd": "cat(var_dic_list()) "
    }
   },
   "types_to_exclude": [
    "module",
    "function",
    "builtin_function_or_method",
    "instance",
    "_Feature"
   ],
   "window_display": false
  }
 },
 "nbformat": 4,
 "nbformat_minor": 5
}
