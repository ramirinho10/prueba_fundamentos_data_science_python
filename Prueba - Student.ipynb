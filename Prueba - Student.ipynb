{
 "cells": [
  {
   "cell_type": "markdown",
   "id": "49ecc418",
   "metadata": {},
   "source": [
    "<img src=https://desafiolatam.com/assets/home/logo-academia-bla-790873cdf66b0e681dfbe640ace8a602f5330bec301c409744c358330e823ae3.png>"
   ]
  },
  {
   "cell_type": "markdown",
   "id": "af3ce9d9",
   "metadata": {},
   "source": [
    "   ###### Nombre Alumno: Ramiro Silva   \n",
    "   ###### Generación: G48\n",
    "   ###### Profesores: Geanina Salomó  /  Gonzalo Peña\n",
    "   ###### Fecha : 18-08-2022"
   ]
  },
  {
   "cell_type": "markdown",
   "id": "065826a9",
   "metadata": {},
   "source": [
    "<img src=\"prueba.png\" width=\"900\" height=\"900\"/>\n"
   ]
  },
  {
   "cell_type": "markdown",
   "id": "babd26ba",
   "metadata": {},
   "source": [
    "<img src=\"condiciones_generales.png\" width=\"900\" height=\"900\"/>\n"
   ]
  },
  {
   "cell_type": "markdown",
   "id": "7eea432d",
   "metadata": {},
   "source": [
    "<img src=\"puntuacion_y_correccion.png\" width=\"900\" height=\"900\"/>\n"
   ]
  },
  {
   "cell_type": "markdown",
   "id": "08a5f810",
   "metadata": {},
   "source": [
    "# Hito 1 Rendimiento Escolar"
   ]
  },
  {
   "cell_type": "markdown",
   "id": "dd91a89c",
   "metadata": {},
   "source": [
    "<img src=\"rendimiento_escolar.png\" width=\"900\" height=\"900\"/>\n",
    "\n"
   ]
  },
  {
   "cell_type": "markdown",
   "id": "9467a263",
   "metadata": {},
   "source": [
    "<img src=\"aspectos_adicionales_rendimiento_escolar.png\" width=\"900\" height=\"900\"/>\n"
   ]
  },
  {
   "cell_type": "markdown",
   "id": "c4172932",
   "metadata": {},
   "source": [
    "## Descripción de la DB\n",
    "\n",
    "\n",
    "<p> Para desarrollar este desafío se debe utilizar la base de datos income-db.csv. </p>\n",
    "\n",
    "<p> Las variables que componen esta base se detallan a continuación: </p>\n",
    "\n",
    "\n",
    "* `school:` Escuela del estudiante. (binaria: 'GP' - Gabriel Pereira o 'MS' - Mousinho da Silveira).\n",
    "* `sex:` Sexo del estudiante. (binaria: 'F' - Mujer o 'M' - Hombre).\n",
    "* `age:` Edad del estudiante. (numérica: de 15 a 22).\n",
    "* `address:` Ubicación de la casa del estudiante. (binaria: 'U' - urbana o 'R' - rural).\n",
    "* `famsize:` Tamaño de la familia. (binaria: 'LE3' - less or equal to 3 or 'GT3' - greaterthan 3).\n",
    "* `Pstatus:` Estado cohabitacional de los padres. (binaria: 'T' - cohabitando juntos o 'A' - viviendo separados).\n",
    "* `Medu:` Nivel educacional de la madre. (numérica: 0 - ninguno, 1 - educación básica (4to), 2 - de 5to a 9, 3 - educación media, o 4 - educación superior).\n",
    "* `Fedu:` Nivel educacional del padre. (numérica: 0 - ninguno, 1 - educación básica (4to), 2 - de 5to a 9, 3 - educación media, o 4 - educación superior).\n",
    "* `Mjob:` Ocupación de la madre. (nominal: 'teacher' profesora, 'health' relacionada a salud, 'services' (e.g. administración pública o policía), 'at_home' en casa u 'other'\n",
    "otra)\n",
    "* `job:` Ocupación del padre (nominal: 'teacher' profesor, 'health' relacionado a salud,'services' (e.g. administración pública o policía), 'at_home' en casa u 'other' otra).\n",
    "* `reason:` Razón para escoger la escuela (nominal: 'home' cercano a casa, 'reputation'reputación de la escuela, 'course' preferencia de cursos u 'other' otra).\n",
    "* `guardian:` Apoderado del estudiante (nominal: 'mother' madre, 'father' padre u 'other'otro).\n",
    "* `traveltime:` Tiempo de viaje entre hogar y colegio. Se debe codificar como:\n",
    "     * `1` si es menos de 15 min,\n",
    "     * `2` si es de 15 a 30 min,\n",
    "     * `3` si es de 30 min. a 1 hora,\n",
    "     * `4` - si es más de 1 hora).\n",
    "* studytime: Horas semanales dedicadas al estudio. Se debe codificar como:\n",
    "     * `1` si es menos de 2 horas,\n",
    "     * `2` si es de 2 a 5 horas,\n",
    "     * `3` si es de 5 a 10 horas,\n",
    "     * `o` 4 si es más de 10 horas.\n",
    "* `failures:` Número de clases reprobadas. (numérica: n si 1<=n<3, de lo contrario 4).\n",
    "* `schoolsup:` Apoyo educacional del colegio. (binaria: si o no).\n",
    "* `famsup:` Apoyo educacional familiar. (binaria: si o no).\n",
    "* `paid:` Clases particulares pagadas (matemáticas o portugués) (binaria: sí o no).\n",
    "* `activities:` Actividades extracurriculares. (binaria: si o no).\n",
    "* `nursery:` Asistió a guardería infantil. (binaria: si o no).\n",
    "* `higher:` Desea proseguir estudios superiores (binaria: si o no).\n",
    "* `internet:` Acceso a internet desde el hogar (binaria: si o no).\n",
    "* `romantic:` Relación romántica (binaria: si o no).\n",
    "* `famrel:` Calidad de las relaciones familiares. (numérica: de 1 - muy malas a 5 -excelentes).\n",
    "* `freetime:` Tiempo libre fuera del colegio (numérica: de 1 - muy poco a 5 - mucho).\n",
    "* `goout:` Salidas con amigos (numérica: de 1 - muy pocas a 5 - muchas).\n",
    "* `Dalc:` Consumo de alcohol en día de semana (numérica: de 1 - muy bajo a 5 - muy alto).\n",
    "* `Walc:` Consumo de alcohol en fines de semana (numérica: de 1 - muy bajo a 5 - muy alto).\n",
    "* `health:` Estado de salud actual (numérica: from 1 - muy malo to 5 - muy bueno).\n",
    "* `absences:` Cantidad de ausencias escolares (numérica: de 0 a 93).\n",
    "* `G1:` Notas durante el primer semestre (numérica: de 0 a 20). Este es uno de sus vectores objetivos para el modelo descriptivo.\n",
    "* `G2:` Notas durante el segundo semestre (numérica: de 0 a 20). Este es uno de sus vectores objetivos para el modelo descriptivo.\n",
    "* `G3:` Promedio final (numérica: de 0 a 20). Este es uno de sus vectores objetivos para el modelo descriptivo y el vector a predecir en el modelo predictivo.\n"
   ]
  },
  {
   "cell_type": "markdown",
   "id": "2ea8c196",
   "metadata": {},
   "source": [
    "# Preliminares\n",
    "\n",
    "## Descripción del problema\n",
    "\n",
    "\n",
    "\n",
    "Para el caso de \"Rendimiento Escolar\" se considera que los Vectores Objetivos son las variables \"G1\", \"G2\" y \"G3\" las cuales son variables continuas y es en base a la variable objetivo que es un problema de regresión.\n",
    "\n",
    "Ya teniendo en cuentas que las variables objetivos son del tipo continuas se realizarán modelos desde el punto econometrico y del machine learning ya que en punto se considera un modelo que explique para los vectores objetivos G1, G2 y G3 y por otro lado de un modelo que para predecir las notas de G3.\n",
    "\n",
    "Cabe destacar que existen variables en df que son del tipo discreta y deben ser recodificadas ejemplo address, Pstatus entre otras ya que al tratarse de una función matematica estas variables deben ser trabnsformadas a números.\n",
    "\n",
    "Respecto a los datos nulos si existiesen se evaluará si borrarlos o utilizar un promedio debido a que este df a diferencia del determiante del ingreso cuenta con pocos registros lo cual podría afectar en nuestros modelos.\n",
    "\n",
    "Respecto al modelo de machine learning se debe deben generar 4subset para el entreamiento del modelo y su respectivo testeo.\n",
    "\n",
    "Para el modelo de regresion lineal desde el punto de la econometria se utilizarán las metricas de R si se trata de una variable independiente que se utilizará en el modelo, el r2 si se trata de 3 o mas variables independientes que se utilizarán en el modelo y finalmente el Metodo de Minicos Cuadrados Ordinarios,\n",
    "\n"
   ]
  },
  {
   "cell_type": "markdown",
   "id": "eb2da28c",
   "metadata": {},
   "source": [
    "# Aspectos Computacionales\n",
    "\n",
    "\n",
    "Para el desarrollo de la regresión lineal se deben considerar las siguientes librerías\n",
    "\n",
    "**import pandas as pd** # Es una librería orientada a la manipulación y limpieza de estructuras de datos.                       \n",
    "**import numpy as np**  # Es una librería orientada a la computación científica.                                               \n",
    "**import scipy.stats as stats** # Esta librería contiene un y nos ayuda a generar distribuciones\n",
    "\n",
    "**import matplotlib.pyplot as plt**   # Esta librería nos ayudará a generar gráficos.  \n",
    "**import seaborn as sns** # Esta librería podremos generar gráficos elegantes y se complementa con matplotlib.\n",
    "\n",
    "**import scipy.stats as stats**  # Es una libreria que sirve para simular y generar distribuciones.                             \n",
    "**from sklearn.preprocessing import LabelEncoder** # Es una librería y podremos recodificar variables.                         \n",
    "**from sklearn.model_selection import train_test_split** # Generamos los subset para entrenamiento y testeo del modelo.         \n",
    "**from sklearn.preprocessing import StandardScaler** # Esta librería nos sirve para estendarizar datos. \n",
    "**from sklearn.metrics import confusion_matrix** # Esta librería nos sirve para generar la matriz de confusión, una metrica.   \n",
    "\n",
    "\n",
    "**import statsmodels.api as sm**   # podremos generar un modelo                                                                 \n",
    "**import statsmodels.formula.api as smf**  #  librería que sirve para crear modelos Logistico o Regresion \n",
    "\n",
    "**import warnings**  # Esta es una librería que muestra los warning.                                                           \n",
    "**warnings.filterwarnings(\"ignore\", category=DeprecationWarning)** # con esto se evita que genere warnings de metodos o funciones desactualizadas.                                                                                                     \n"
   ]
  },
  {
   "cell_type": "markdown",
   "id": "2d14c775",
   "metadata": {},
   "source": [
    "<img src=\"hito2.png\" width=\"900\" height=\"900\"/>\n"
   ]
  },
  {
   "cell_type": "code",
   "execution_count": 1,
   "id": "685ba900",
   "metadata": {},
   "outputs": [
    {
     "data": {
      "text/html": [
       "<div>\n",
       "<style scoped>\n",
       "    .dataframe tbody tr th:only-of-type {\n",
       "        vertical-align: middle;\n",
       "    }\n",
       "\n",
       "    .dataframe tbody tr th {\n",
       "        vertical-align: top;\n",
       "    }\n",
       "\n",
       "    .dataframe thead th {\n",
       "        text-align: right;\n",
       "    }\n",
       "</style>\n",
       "<table border=\"1\" class=\"dataframe\">\n",
       "  <thead>\n",
       "    <tr style=\"text-align: right;\">\n",
       "      <th></th>\n",
       "      <th>0</th>\n",
       "      <th>1</th>\n",
       "      <th>2</th>\n",
       "      <th>3</th>\n",
       "      <th>4</th>\n",
       "    </tr>\n",
       "  </thead>\n",
       "  <tbody>\n",
       "    <tr>\n",
       "      <th>school</th>\n",
       "      <td>GP</td>\n",
       "      <td>GP</td>\n",
       "      <td>GP</td>\n",
       "      <td>GP</td>\n",
       "      <td>GP</td>\n",
       "    </tr>\n",
       "    <tr>\n",
       "      <th>sex</th>\n",
       "      <td>F</td>\n",
       "      <td>F</td>\n",
       "      <td>F</td>\n",
       "      <td>F</td>\n",
       "      <td>F</td>\n",
       "    </tr>\n",
       "    <tr>\n",
       "      <th>age</th>\n",
       "      <td>nulidade</td>\n",
       "      <td>\"17\"</td>\n",
       "      <td>\"15\"</td>\n",
       "      <td>\"15\"</td>\n",
       "      <td>sem validade</td>\n",
       "    </tr>\n",
       "    <tr>\n",
       "      <th>address</th>\n",
       "      <td>U</td>\n",
       "      <td>U</td>\n",
       "      <td>U</td>\n",
       "      <td>U</td>\n",
       "      <td>U</td>\n",
       "    </tr>\n",
       "    <tr>\n",
       "      <th>famsize</th>\n",
       "      <td>GT3</td>\n",
       "      <td>GT3</td>\n",
       "      <td>LE3</td>\n",
       "      <td>GT3</td>\n",
       "      <td>GT3</td>\n",
       "    </tr>\n",
       "    <tr>\n",
       "      <th>Pstatus</th>\n",
       "      <td>A</td>\n",
       "      <td>T</td>\n",
       "      <td>T</td>\n",
       "      <td>T</td>\n",
       "      <td>T</td>\n",
       "    </tr>\n",
       "    <tr>\n",
       "      <th>Medu</th>\n",
       "      <td>4</td>\n",
       "      <td>1</td>\n",
       "      <td>1</td>\n",
       "      <td>4</td>\n",
       "      <td>3</td>\n",
       "    </tr>\n",
       "    <tr>\n",
       "      <th>Fedu</th>\n",
       "      <td>4</td>\n",
       "      <td>1</td>\n",
       "      <td>1</td>\n",
       "      <td>2</td>\n",
       "      <td>3</td>\n",
       "    </tr>\n",
       "    <tr>\n",
       "      <th>Mjob</th>\n",
       "      <td>at_home</td>\n",
       "      <td>at_home</td>\n",
       "      <td>at_home</td>\n",
       "      <td>health</td>\n",
       "      <td>other</td>\n",
       "    </tr>\n",
       "    <tr>\n",
       "      <th>Fjob</th>\n",
       "      <td>teacher</td>\n",
       "      <td>other</td>\n",
       "      <td>other</td>\n",
       "      <td>services</td>\n",
       "      <td>other</td>\n",
       "    </tr>\n",
       "    <tr>\n",
       "      <th>reason</th>\n",
       "      <td>course</td>\n",
       "      <td>course</td>\n",
       "      <td>other</td>\n",
       "      <td>home</td>\n",
       "      <td>home</td>\n",
       "    </tr>\n",
       "    <tr>\n",
       "      <th>guardian</th>\n",
       "      <td>mother</td>\n",
       "      <td>father</td>\n",
       "      <td>mother</td>\n",
       "      <td>mother</td>\n",
       "      <td>father</td>\n",
       "    </tr>\n",
       "    <tr>\n",
       "      <th>traveltime</th>\n",
       "      <td>2</td>\n",
       "      <td>1</td>\n",
       "      <td>1</td>\n",
       "      <td>1</td>\n",
       "      <td>1</td>\n",
       "    </tr>\n",
       "    <tr>\n",
       "      <th>studytime</th>\n",
       "      <td>2</td>\n",
       "      <td>2</td>\n",
       "      <td>2</td>\n",
       "      <td>3</td>\n",
       "      <td>2</td>\n",
       "    </tr>\n",
       "    <tr>\n",
       "      <th>failures</th>\n",
       "      <td>0</td>\n",
       "      <td>0</td>\n",
       "      <td>3</td>\n",
       "      <td>0</td>\n",
       "      <td>0</td>\n",
       "    </tr>\n",
       "    <tr>\n",
       "      <th>schoolsup</th>\n",
       "      <td>yes</td>\n",
       "      <td>no</td>\n",
       "      <td>yes</td>\n",
       "      <td>no</td>\n",
       "      <td>no</td>\n",
       "    </tr>\n",
       "    <tr>\n",
       "      <th>famsup</th>\n",
       "      <td>no</td>\n",
       "      <td>yes</td>\n",
       "      <td>no</td>\n",
       "      <td>yes</td>\n",
       "      <td>yes</td>\n",
       "    </tr>\n",
       "    <tr>\n",
       "      <th>paid</th>\n",
       "      <td>no</td>\n",
       "      <td>no</td>\n",
       "      <td>yes</td>\n",
       "      <td>yes</td>\n",
       "      <td>yes</td>\n",
       "    </tr>\n",
       "    <tr>\n",
       "      <th>activities</th>\n",
       "      <td>no</td>\n",
       "      <td>no</td>\n",
       "      <td>no</td>\n",
       "      <td>yes</td>\n",
       "      <td>no</td>\n",
       "    </tr>\n",
       "    <tr>\n",
       "      <th>nursery</th>\n",
       "      <td>yes</td>\n",
       "      <td>no</td>\n",
       "      <td>yes</td>\n",
       "      <td>yes</td>\n",
       "      <td>yes</td>\n",
       "    </tr>\n",
       "    <tr>\n",
       "      <th>higher</th>\n",
       "      <td>yes</td>\n",
       "      <td>yes</td>\n",
       "      <td>yes</td>\n",
       "      <td>yes</td>\n",
       "      <td>yes</td>\n",
       "    </tr>\n",
       "    <tr>\n",
       "      <th>internet</th>\n",
       "      <td>no</td>\n",
       "      <td>yes</td>\n",
       "      <td>yes</td>\n",
       "      <td>yes</td>\n",
       "      <td>no</td>\n",
       "    </tr>\n",
       "    <tr>\n",
       "      <th>romantic</th>\n",
       "      <td>no</td>\n",
       "      <td>no</td>\n",
       "      <td>no</td>\n",
       "      <td>yes</td>\n",
       "      <td>no</td>\n",
       "    </tr>\n",
       "    <tr>\n",
       "      <th>famrel</th>\n",
       "      <td>4</td>\n",
       "      <td>5</td>\n",
       "      <td>4</td>\n",
       "      <td>3</td>\n",
       "      <td>4</td>\n",
       "    </tr>\n",
       "    <tr>\n",
       "      <th>freetime</th>\n",
       "      <td>3</td>\n",
       "      <td>3</td>\n",
       "      <td>3</td>\n",
       "      <td>2</td>\n",
       "      <td>3</td>\n",
       "    </tr>\n",
       "    <tr>\n",
       "      <th>goout</th>\n",
       "      <td>\"4\"</td>\n",
       "      <td>\"3\"</td>\n",
       "      <td>\"2\"</td>\n",
       "      <td>\"2\"</td>\n",
       "      <td>\"2\"</td>\n",
       "    </tr>\n",
       "    <tr>\n",
       "      <th>Dalc</th>\n",
       "      <td>1</td>\n",
       "      <td>1</td>\n",
       "      <td>2</td>\n",
       "      <td>1</td>\n",
       "      <td>1</td>\n",
       "    </tr>\n",
       "    <tr>\n",
       "      <th>Walc</th>\n",
       "      <td>1</td>\n",
       "      <td>1</td>\n",
       "      <td>3</td>\n",
       "      <td>1</td>\n",
       "      <td>2</td>\n",
       "    </tr>\n",
       "    <tr>\n",
       "      <th>health</th>\n",
       "      <td>\"3\"</td>\n",
       "      <td>\"3\"</td>\n",
       "      <td>\"3\"</td>\n",
       "      <td>\"5\"</td>\n",
       "      <td>\"5\"</td>\n",
       "    </tr>\n",
       "    <tr>\n",
       "      <th>absences</th>\n",
       "      <td>6</td>\n",
       "      <td>4</td>\n",
       "      <td>10</td>\n",
       "      <td>2</td>\n",
       "      <td>4</td>\n",
       "    </tr>\n",
       "    <tr>\n",
       "      <th>G1</th>\n",
       "      <td>5</td>\n",
       "      <td>5</td>\n",
       "      <td>zero</td>\n",
       "      <td>15</td>\n",
       "      <td>6</td>\n",
       "    </tr>\n",
       "    <tr>\n",
       "      <th>G2</th>\n",
       "      <td>6</td>\n",
       "      <td>5</td>\n",
       "      <td>8</td>\n",
       "      <td>14</td>\n",
       "      <td>10</td>\n",
       "    </tr>\n",
       "    <tr>\n",
       "      <th>G3</th>\n",
       "      <td>6</td>\n",
       "      <td>6</td>\n",
       "      <td>10</td>\n",
       "      <td>15</td>\n",
       "      <td>10</td>\n",
       "    </tr>\n",
       "  </tbody>\n",
       "</table>\n",
       "</div>"
      ],
      "text/plain": [
       "                   0        1        2         3             4\n",
       "school            GP       GP       GP        GP            GP\n",
       "sex                F        F        F         F             F\n",
       "age         nulidade     \"17\"     \"15\"      \"15\"  sem validade\n",
       "address            U        U        U         U             U\n",
       "famsize          GT3      GT3      LE3       GT3           GT3\n",
       "Pstatus            A        T        T         T             T\n",
       "Medu               4        1        1         4             3\n",
       "Fedu               4        1        1         2             3\n",
       "Mjob         at_home  at_home  at_home    health         other\n",
       "Fjob         teacher    other    other  services         other\n",
       "reason        course   course    other      home          home\n",
       "guardian      mother   father   mother    mother        father\n",
       "traveltime         2        1        1         1             1\n",
       "studytime          2        2        2         3             2\n",
       "failures           0        0        3         0             0\n",
       "schoolsup        yes       no      yes        no            no\n",
       "famsup            no      yes       no       yes           yes\n",
       "paid              no       no      yes       yes           yes\n",
       "activities        no       no       no       yes            no\n",
       "nursery          yes       no      yes       yes           yes\n",
       "higher           yes      yes      yes       yes           yes\n",
       "internet          no      yes      yes       yes            no\n",
       "romantic          no       no       no       yes            no\n",
       "famrel             4        5        4         3             4\n",
       "freetime           3        3        3         2             3\n",
       "goout            \"4\"      \"3\"      \"2\"       \"2\"           \"2\"\n",
       "Dalc               1        1        2         1             1\n",
       "Walc               1        1        3         1             2\n",
       "health           \"3\"      \"3\"      \"3\"       \"5\"           \"5\"\n",
       "absences           6        4       10         2             4\n",
       "G1                 5        5     zero        15             6\n",
       "G2                 6        5        8        14            10\n",
       "G3                 6        6       10        15            10"
      ]
     },
     "execution_count": 1,
     "metadata": {},
     "output_type": "execute_result"
    }
   ],
   "source": [
    "#Se revisa el df\n",
    "\n",
    "import pandas as pd # Es una librería orientada a la manipulación y limpieza de estructuras de datos.\n",
    "import numpy as np # Es una librería orientada a la computación científica.\n",
    "import scipy.stats as stats # Esta librería contiene un y nos ayuda a generar distribuciones\n",
    "\n",
    "import matplotlib.pyplot as plt # Esta librería nos ayudará a generar gráficos.\n",
    "import seaborn as sns # Esta librería podremos generar gráficos elegantes y se complementa con matplotlib.\n",
    "\n",
    "import scipy.stats as stats # Es una libreria que sirve para simular y generar distribuciones.\n",
    "from sklearn.preprocessing import LabelEncoder # Es una librería y podremos recodificar variables.\n",
    "from sklearn.model_selection import train_test_split # Generamos los subset para entrenamiento y testeo del modelo.\n",
    "from sklearn.preprocessing import StandardScaler # Esta librería nos sirve para estendarizar datos. from sklearn.metrics import confusion_matrix # Esta librería nos sirve para generar la matriz de confusión, una metrica.\n",
    "\n",
    "import statsmodels.api as sm # podremos generar un modelo\n",
    "import statsmodels.formula.api as smf # librería que sirve para crear modelos Logistico o Regresion\n",
    "\n",
    "import warnings # Esta es una librería que muestra los warning.\n",
    "warnings.filterwarnings(\"ignore\", category=DeprecationWarning) # con esto se evita que genere warnings de metodos o funciones desactualizadas.\n",
    "\n",
    "import missingno as msngo\n",
    "\n",
    "import funciones as fx\n",
    "\n",
    "from sklearn.linear_model import LinearRegression\n",
    "\n",
    "from sklearn.metrics import mean_squared_error\n",
    "\n",
    "df = pd.read_csv(\"students.csv\", delimiter='|', encoding='utf-8').drop(['Unnamed: 0'], axis=1)\n",
    "\n",
    "\n",
    "df.head().T"
   ]
  },
  {
   "cell_type": "code",
   "execution_count": 2,
   "id": "90fd1153",
   "metadata": {},
   "outputs": [],
   "source": [
    "def transform(df, var):\n",
    "    \n",
    "    #nan a una opcion random\n",
    "    df[var] = df[var].replace([np.nan], [df[var].sample(random_state = 10)])\n",
    "    \n",
    "    #Transformacion\n",
    "    df[var] = df[var].replace([\"0\",\"1\",\"2\",\"3\",\"4\",\"5\"], [var+\"0\", var+\"1\", var+\"2\", var+\"3\", var+\"4\", var+\"5\"])\n",
    "    \n",
    "    #grafico\n",
    "    fx.grafico_barra(df, var)"
   ]
  },
  {
   "cell_type": "code",
   "execution_count": 3,
   "id": "e34bf17b",
   "metadata": {},
   "outputs": [],
   "source": [
    "#Funcion para realizar graficos de barra para variables discretas de mi df\n",
    "\n",
    "def grafico_barra(df, var):\n",
    "    df[var].value_counts().plot(kind=\"bar\");\n",
    "    plt.ylabel(\"Frecuencia\");\n",
    "    plt.xlabel(\"Categoria\");\n",
    "    plt.title(f\"{var}\");"
   ]
  },
  {
   "cell_type": "code",
   "execution_count": 4,
   "id": "88b90c2f",
   "metadata": {},
   "outputs": [],
   "source": [
    "#Funcion para realizar graficos histogramas para variables continuas de mi df\n",
    "\n",
    "def plot_hist(df, var, true_mean=False):\n",
    "    plt.hist(df[var].dropna())\n",
    "    plt.title(var)\n",
    "    plt.xlabel(\"Valores\")                 \n",
    "    plt.ylabel(\"Frecuencia\")\n",
    "    \n",
    "    if true_mean:\n",
    "        plt.axvline(df[var].mean(), color=\"red\", label=f\"Promedio de {var}\")\n",
    "    \n",
    "    plt.legend()"
   ]
  },
  {
   "cell_type": "code",
   "execution_count": 5,
   "id": "74e34871",
   "metadata": {},
   "outputs": [],
   "source": [
    "def fetch_descriptives(df, var):\n",
    "    print(f\"La media de {var} es {df[var].mean()}\")\n",
    "    print(f\"La mediana de {var} es {df[var].median()}\")\n",
    "    print(f\"La moda de {var} es {stats.mode(df[var])[0]} y su frec es {stats.mode(df[var])[1]}\")\n",
    "    print(f\"La desviacion estandar es {np.std(df[var])}\")"
   ]
  },
  {
   "cell_type": "code",
   "execution_count": 6,
   "id": "86abc070",
   "metadata": {
    "scrolled": true
   },
   "outputs": [
    {
     "data": {
      "text/plain": [
       "school        0\n",
       "sex           0\n",
       "age           0\n",
       "address       0\n",
       "famsize       0\n",
       "Pstatus       0\n",
       "Medu          0\n",
       "Fedu          0\n",
       "Mjob          0\n",
       "Fjob          0\n",
       "reason        0\n",
       "guardian      0\n",
       "traveltime    0\n",
       "studytime     0\n",
       "failures      0\n",
       "schoolsup     0\n",
       "famsup        0\n",
       "paid          0\n",
       "activities    0\n",
       "nursery       0\n",
       "higher        0\n",
       "internet      0\n",
       "romantic      0\n",
       "famrel        0\n",
       "freetime      0\n",
       "goout         0\n",
       "Dalc          0\n",
       "Walc          0\n",
       "health        0\n",
       "absences      0\n",
       "G1            0\n",
       "G2            0\n",
       "G3            0\n",
       "dtype: int64"
      ]
     },
     "execution_count": 6,
     "metadata": {},
     "output_type": "execute_result"
    }
   ],
   "source": [
    "#Se revisa si existen valores nulos en cada una de las series, en este caso no existen al menos en esta revisión.\n",
    "\n",
    "df.isnull().sum()"
   ]
  },
  {
   "cell_type": "code",
   "execution_count": 7,
   "id": "d5cd8a72",
   "metadata": {},
   "outputs": [],
   "source": [
    "#Transformación de datos nulos a NaN\n",
    "\n",
    "df[\"school\"] = df[\"school\"].replace([\"nulidade\", \"zero\", \"sem validade\"], [np.nan]*3)\n",
    "df[\"sex\"] = df[\"sex\"].replace([\"nulidade\", \"zero\", \"sem validade\"], [np.nan]*3)\n",
    "df[\"age\"] = df[\"age\"].replace([\"nulidade\", \"zero\", \"sem validade\"], [np.nan]*3)\n",
    "df[\"address\"] = df[\"address\"].replace([\"nulidade\", \"zero\", \"sem validade\"], [np.nan]*3)\n",
    "df[\"famsize\"] = df[\"famsize\"].replace([\"nulidade\", \"zero\", \"sem validade\"], [np.nan]*3)\n",
    "df[\"Pstatus\"] = df[\"Pstatus\"].replace([\"nulidade\", \"zero\", \"sem validade\"], [np.nan]*3)\n",
    "df[\"Medu\"] = df[\"Medu\"].replace([\"nulidade\", \"zero\", \"sem validade\"], [np.nan]*3)\n",
    "df[\"Fedu\"] = df[\"Fedu\"].replace([\"nulidade\", \"zero\", \"sem validade\"], [np.nan]*3)\n",
    "df[\"Mjob\"] = df[\"Mjob\"].replace([\"nulidade\", \"zero\", \"sem validade\"], [np.nan]*3)\n",
    "df[\"Fjob\"] = df[\"Fjob\"].replace([\"nulidade\", \"zero\", \"sem validade\"], [np.nan]*3)\n",
    "df[\"reason\"] = df[\"reason\"].replace([\"nulidade\", \"zero\", \"sem validade\"], [np.nan]*3)\n",
    "df[\"guardian\"] = df[\"guardian\"].replace([\"nulidade\", \"zero\", \"sem validade\"], [np.nan]*3)\n",
    "df[\"traveltime\"] = df[\"traveltime\"].replace([\"nulidade\", \"zero\", \"sem validade\"], [np.nan]*3)\n",
    "df[\"studytime\"] = df[\"studytime\"].replace([\"nulidade\", \"zero\", \"sem validade\"], [np.nan]*3)\n",
    "df[\"failures\"] = df[\"failures\"].replace([\"nulidade\", \"zero\", \"sem validade\"], [np.nan]*3)\n",
    "df[\"schoolsup\"] = df[\"schoolsup\"].replace([\"nulidade\", \"zero\", \"sem validade\"], [np.nan]*3)\n",
    "df[\"famsup\"] = df[\"famsup\"].replace([\"nulidade\", \"zero\", \"sem validade\"], [np.nan]*3)\n",
    "df[\"paid\"] = df[\"paid\"].replace([\"nulidade\", \"zero\", \"sem validade\"], [np.nan]*3)\n",
    "df[\"activities\"] = df[\"activities\"].replace([\"nulidade\", \"zero\", \"sem validade\"], [np.nan]*3)\n",
    "df[\"nursery\"] = df[\"nursery\"].replace([\"nulidade\", \"zero\", \"sem validade\"], [np.nan]*3)\n",
    "df[\"higher\"] = df[\"higher\"].replace([\"nulidade\", \"zero\", \"sem validade\"], [np.nan]*3)\n",
    "df[\"internet\"] = df[\"internet\"].replace([\"nulidade\", \"zero\", \"sem validade\"], [np.nan]*3)\n",
    "df[\"romantic\"] = df[\"romantic\"].replace([\"nulidade\", \"zero\", \"sem validade\"], [np.nan]*3)\n",
    "df[\"famrel\"] = df[\"famrel\"].replace([\"nulidade\", \"zero\", \"sem validade\"], [np.nan]*3)\n",
    "df[\"freetime\"] = df[\"freetime\"].replace([\"nulidade\", \"zero\", \"sem validade\"], [np.nan]*3)\n",
    "df[\"goout\"] = df[\"goout\"].replace([\"nulidade\", \"zero\", \"sem validade\"], [np.nan]*3)\n",
    "df[\"Dalc\"] = df[\"Dalc\"].replace([\"nulidade\", \"zero\", \"sem validade\"], [np.nan]*3)\n",
    "df[\"Walc\"] = df[\"Walc\"].replace([\"nulidade\", \"zero\", \"sem validade\"], [np.nan]*3)\n",
    "df[\"health\"] = df[\"health\"].replace([\"nulidade\", \"zero\", \"sem validade\"], [np.nan]*3)\n",
    "df[\"absences\"] = df[\"absences\"].replace([\"nulidade\", \"zero\", \"sem validade\"], [np.nan]*3)\n",
    "df[\"G1\"] = df[\"G1\"].replace([\"nulidade\", \"zero\", \"sem validade\"], [np.nan]*3)\n",
    "df[\"G2\"] = df[\"G2\"].replace([\"nulidade\", \"zero\", \"sem validade\"], [np.nan]*3)\n",
    "df[\"G3\"] = df[\"G3\"].replace([\"nulidade\", \"zero\", \"sem validade\"], [np.nan]*3)\n"
   ]
  },
  {
   "cell_type": "code",
   "execution_count": 8,
   "id": "0c64d04c",
   "metadata": {},
   "outputs": [
    {
     "data": {
      "text/plain": [
       "school        5\n",
       "sex           3\n",
       "age           4\n",
       "address       2\n",
       "famsize       4\n",
       "Pstatus       6\n",
       "Medu          3\n",
       "Fedu          5\n",
       "Mjob          6\n",
       "Fjob          0\n",
       "reason        4\n",
       "guardian      4\n",
       "traveltime    3\n",
       "studytime     5\n",
       "failures      5\n",
       "schoolsup     8\n",
       "famsup        5\n",
       "paid          1\n",
       "activities    5\n",
       "nursery       6\n",
       "higher        6\n",
       "internet      3\n",
       "romantic      2\n",
       "famrel        5\n",
       "freetime      2\n",
       "goout         5\n",
       "Dalc          3\n",
       "Walc          5\n",
       "health        4\n",
       "absences      4\n",
       "G1            4\n",
       "G2            0\n",
       "G3            3\n",
       "dtype: int64"
      ]
     },
     "execution_count": 8,
     "metadata": {},
     "output_type": "execute_result"
    }
   ],
   "source": [
    "#Se revisa si existen valores nulos en cada una de las series.\n",
    "\n",
    "df.isnull().sum()"
   ]
  },
  {
   "cell_type": "code",
   "execution_count": 9,
   "id": "b07ac850",
   "metadata": {},
   "outputs": [
    {
     "data": {
      "image/png": "[encoded data removed]",
      "text/plain": [
       "<Figure size 1800x720 with 2 Axes>"
      ]
     },
     "metadata": {
      "needs_background": "light"
     },
     "output_type": "display_data"
    }
   ],
   "source": [
    "#Forma visual de ver los datos nulos\n",
    "\n",
    "msngo.matrix(df);"
   ]
  },
  {
   "cell_type": "markdown",
   "id": "92d47f44",
   "metadata": {},
   "source": [
    "Se aprecia que en casi todas las series existen datos nulos a expeción de las variables G2 y Fjob."
   ]
  },
  {
   "cell_type": "markdown",
   "id": "ddb804e9",
   "metadata": {},
   "source": [
    "**IMPORTANTE**  \n",
    "\n",
    "Debido que se esta trabajando con un df relativamente pequeño los distintos tipos nulos que se encuentran en el df seran imputados como un promedio de la variable que se encuentre el caso de las variables que sean continuas, por otro lado las variables que son del tipo discreta será a traves de un dato al azar."
   ]
  },
  {
   "cell_type": "code",
   "execution_count": 10,
   "id": "6e5b9732",
   "metadata": {},
   "outputs": [
    {
     "name": "stdout",
     "output_type": "stream",
     "text": [
      "<class 'pandas.core.frame.DataFrame'>\n",
      "RangeIndex: 395 entries, 0 to 394\n",
      "Data columns (total 33 columns):\n",
      " #   Column      Non-Null Count  Dtype \n",
      "---  ------      --------------  ----- \n",
      " 0   school      390 non-null    object\n",
      " 1   sex         392 non-null    object\n",
      " 2   age         391 non-null    object\n",
      " 3   address     393 non-null    object\n",
      " 4   famsize     391 non-null    object\n",
      " 5   Pstatus     389 non-null    object\n",
      " 6   Medu        392 non-null    object\n",
      " 7   Fedu        390 non-null    object\n",
      " 8   Mjob        389 non-null    object\n",
      " 9   Fjob        395 non-null    object\n",
      " 10  reason      391 non-null    object\n",
      " 11  guardian    391 non-null    object\n",
      " 12  traveltime  392 non-null    object\n",
      " 13  studytime   390 non-null    object\n",
      " 14  failures    390 non-null    object\n",
      " 15  schoolsup   387 non-null    object\n",
      " 16  famsup      390 non-null    object\n",
      " 17  paid        394 non-null    object\n",
      " 18  activities  390 non-null    object\n",
      " 19  nursery     389 non-null    object\n",
      " 20  higher      389 non-null    object\n",
      " 21  internet    392 non-null    object\n",
      " 22  romantic    393 non-null    object\n",
      " 23  famrel      390 non-null    object\n",
      " 24  freetime    393 non-null    object\n",
      " 25  goout       390 non-null    object\n",
      " 26  Dalc        392 non-null    object\n",
      " 27  Walc        390 non-null    object\n",
      " 28  health      391 non-null    object\n",
      " 29  absences    391 non-null    object\n",
      " 30  G1          391 non-null    object\n",
      " 31  G2          395 non-null    int64 \n",
      " 32  G3          392 non-null    object\n",
      "dtypes: int64(1), object(32)\n",
      "memory usage: 102.0+ KB\n"
     ]
    }
   ],
   "source": [
    "#Se aprecia que todas las series son del tipo object a pesar de que debiesen ser tipo numericas ya sea int o float por lo cual se debera transformar\n",
    "df.info()"
   ]
  },
  {
   "cell_type": "code",
   "execution_count": 11,
   "id": "2b1b7dec",
   "metadata": {},
   "outputs": [],
   "source": [
    "#Se recodifica la variable G1\n",
    "\n",
    "#Se convierte la serie a float\n",
    "df[['G1']] = df[['G1']].astype(float)\n",
    "\n",
    "#Converti los NaN al promedio de la serie\n",
    "media_g1 = round(df[\"G1\"].mean(), 0)\n",
    "df[\"G1\"] = df[\"G1\"].replace([np.nan], [media_g1])\n"
   ]
  },
  {
   "cell_type": "code",
   "execution_count": 12,
   "id": "7d0dde77",
   "metadata": {},
   "outputs": [],
   "source": [
    "#Se recodifica la variable\n",
    "\n",
    "#Se convierte la serie a float\n",
    "df[['G2']] = df[['G2']].astype(float)\n",
    "\n",
    "#Converti los NaN al promedio de la serie\n",
    "media_g2 = round(df[\"G2\"].mean(), 0)\n",
    "df[\"G2\"] = df[\"G2\"].replace([np.nan], [media_g1])\n"
   ]
  },
  {
   "cell_type": "code",
   "execution_count": 13,
   "id": "b2896bee",
   "metadata": {},
   "outputs": [],
   "source": [
    "#Se recodifica la variable\n",
    "\n",
    "#Se convierte la serie a float\n",
    "df[['G3']] = df[['G3']].astype(float)\n",
    "\n",
    "#Converti los NaN al promedio de la serie\n",
    "media_g3 = round(df[\"G3\"].mean(), 0)\n",
    "df[\"G3\"] = df[\"G3\"].replace([np.nan], [media_g1])"
   ]
  },
  {
   "cell_type": "code",
   "execution_count": 14,
   "id": "5b7da018",
   "metadata": {},
   "outputs": [
    {
     "name": "stdout",
     "output_type": "stream",
     "text": [
      "La media de G1 es 10.934177215189873\n",
      "La mediana de G1 es 11.0\n",
      "La moda de G1 es [10.] y su frec es [50]\n",
      "La desviacion estandar es 3.29951611626708\n"
     ]
    },
    {
     "data": {
      "image/png": "[encoded data removed]",
      "text/plain": [
       "<Figure size 432x288 with 1 Axes>"
      ]
     },
     "metadata": {
      "needs_background": "light"
     },
     "output_type": "display_data"
    }
   ],
   "source": [
    "#Se aprecia que el vector objetivo G1 es del tipo continuo por lo cual se graficara a traves de un histograma.\n",
    "#A priori se ve que la distrución tiene forma normal con una media de 10.91 y una desviacion estandar de 3.35,\n",
    "#ademas se aprecia que los valores se concentran entre 7.5 y 12.5\n",
    "\n",
    "\n",
    "fetch_descriptives(df, \"G1\")\n",
    "\n",
    "fx.plot_hist(df, \"G1\", True)"
   ]
  },
  {
   "cell_type": "code",
   "execution_count": 15,
   "id": "0e2ed0eb",
   "metadata": {},
   "outputs": [
    {
     "name": "stdout",
     "output_type": "stream",
     "text": [
      "La media de G2 es 10.713924050632912\n",
      "La mediana de G2 es 11.0\n",
      "La moda de G2 es [9.] y su frec es [50]\n",
      "La desviacion estandar es 3.7567402438889106\n"
     ]
    },
    {
     "data": {
      "image/png": "[encoded data removed]",
      "text/plain": [
       "<Figure size 432x288 with 1 Axes>"
      ]
     },
     "metadata": {
      "needs_background": "light"
     },
     "output_type": "display_data"
    }
   ],
   "source": [
    "#Se aprecia que el vector objetivo G2 es del tipo continuo por lo cual se graficara a traves de un histograma.\n",
    "#A priori se ve que la distrución tiene forma normal pero a diferencia G1 no es tan clara con una media de 10.71 y una \n",
    "#desviacion estandar de 3.75, ademas se aprecia que los valores se concentran entre 7.5 y 12.5\n",
    "\n",
    "\n",
    "fetch_descriptives(df, \"G2\")\n",
    "\n",
    "fx.plot_hist(df, \"G2\", True)"
   ]
  },
  {
   "cell_type": "code",
   "execution_count": 16,
   "id": "5074c821",
   "metadata": {},
   "outputs": [
    {
     "name": "stdout",
     "output_type": "stream",
     "text": [
      "La media de G3 es 10.450632911392406\n",
      "La mediana de G3 es 11.0\n",
      "La moda de G3 es [10.] y su frec es [55]\n",
      "La desviacion estandar es 4.545073098734581\n"
     ]
    },
    {
     "data": {
      "image/png": "[encoded data removed]",
      "text/plain": [
       "<Figure size 432x288 with 1 Axes>"
      ]
     },
     "metadata": {
      "needs_background": "light"
     },
     "output_type": "display_data"
    }
   ],
   "source": [
    "#Se aprecia al igual que en los otros 2 vectores objetivos que G3 tiene una distribución al menos de forma visual que tiende a una normal.\n",
    "#Se aprecia que su media, moda y mediana son valores muy cercanos lo cual indica lo anterior de que estamos hablando de una distribució normal.\n",
    "#Por ultimo comentar que su desviación estandar es de 4.56 que es superior al de los otros dos vectores objetivos lo cual indica\n",
    "#la dispersion respecto a la media es mayor.\n",
    "\n",
    "fetch_descriptives(df, \"G3\")\n",
    "\n",
    "fx.plot_hist(df, \"G3\", True)"
   ]
  },
  {
   "cell_type": "code",
   "execution_count": 17,
   "id": "a7f78a94",
   "metadata": {},
   "outputs": [
    {
     "data": {
      "text/plain": [
       "Index(['school', 'sex', 'age', 'address', 'famsize', 'Pstatus', 'Medu', 'Fedu',\n",
       "       'Mjob', 'Fjob', 'reason', 'guardian', 'traveltime', 'studytime',\n",
       "       'failures', 'schoolsup', 'famsup', 'paid', 'activities', 'nursery',\n",
       "       'higher', 'internet', 'romantic', 'famrel', 'freetime', 'goout', 'Dalc',\n",
       "       'Walc', 'health', 'absences', 'G1', 'G2', 'G3'],\n",
       "      dtype='object')"
      ]
     },
     "execution_count": 17,
     "metadata": {},
     "output_type": "execute_result"
    }
   ],
   "source": [
    "df.columns"
   ]
  },
  {
   "cell_type": "code",
   "execution_count": 18,
   "id": "8fbf20ce",
   "metadata": {},
   "outputs": [
    {
     "data": {
      "image/png": "[encoded data removed]",
      "text/plain": [
       "<Figure size 432x288 with 1 Axes>"
      ]
     },
     "metadata": {
      "needs_background": "light"
     },
     "output_type": "display_data"
    }
   ],
   "source": [
    "df[\"school\"].value_counts(dropna=False)\n",
    "\n",
    "df[\"school_GP\"] = df[\"school\"].replace([\"GP\", \"MS\"], [1, 0])\n",
    "\n",
    "df = df.drop(['school'], axis=1)\n",
    "\n",
    "df[\"school_GP\"] = df[\"school_GP\"].replace([np.nan], [df[\"school_GP\"].sample(random_state=10)])\n",
    "\n",
    "df[\"school_GP\"].value_counts(dropna=False)\n",
    "\n",
    "fx.grafico_barra(df, \"school_GP\")"
   ]
  },
  {
   "cell_type": "code",
   "execution_count": 19,
   "id": "1d2b353a",
   "metadata": {},
   "outputs": [
    {
     "data": {
      "image/png": "[encoded data removed]",
      "text/plain": [
       "<Figure size 432x288 with 1 Axes>"
      ]
     },
     "metadata": {
      "needs_background": "light"
     },
     "output_type": "display_data"
    }
   ],
   "source": [
    "df[\"sex\"].value_counts(dropna=False)\n",
    "\n",
    "df[\"male\"] = df[\"sex\"].replace([\"M\", \"F\"], [1, 0])\n",
    "\n",
    "df = df.drop(['sex'], axis=1)\n",
    "\n",
    "df[\"male\"] = df[\"male\"].replace([np.nan], [df[\"male\"].sample(random_state=10)])\n",
    "\n",
    "df[\"male\"].value_counts(dropna=False) \n",
    "\n",
    "fx.grafico_barra(df, \"male\")"
   ]
  },
  {
   "cell_type": "code",
   "execution_count": 20,
   "id": "4c1fd37b",
   "metadata": {},
   "outputs": [
    {
     "data": {
      "image/png": "[encoded data removed]",
      "text/plain": [
       "<Figure size 432x288 with 1 Axes>"
      ]
     },
     "metadata": {
      "needs_background": "light"
     },
     "output_type": "display_data"
    }
   ],
   "source": [
    "#Se convierte la serie a float\n",
    "df['age'] = df['age'].str.replace('\\\"','')\n",
    "\n",
    "df[['age']] = df[['age']].astype(float)\n",
    "\n",
    "#Converti los NaN al promedio de la serie\n",
    "media_age = round(df[\"age\"].mean(), 0)\n",
    "df[\"age\"] = df[\"age\"].replace([np.nan], [media_age])\n",
    "\n",
    "fx.plot_hist(df, \"age\", True)"
   ]
  },
  {
   "cell_type": "code",
   "execution_count": 21,
   "id": "4ea228c7",
   "metadata": {},
   "outputs": [
    {
     "data": {
      "image/png": "[encoded data removed]",
      "text/plain": [
       "<Figure size 432x288 with 1 Axes>"
      ]
     },
     "metadata": {
      "needs_background": "light"
     },
     "output_type": "display_data"
    }
   ],
   "source": [
    "df[\"address\"].value_counts(dropna=False)\n",
    "\n",
    "df[\"urban\"] = df[\"address\"].replace([\"U\", \"R\"], [1, 0])\n",
    "\n",
    "df = df.drop(['address'], axis=1)\n",
    "\n",
    "df[\"urban\"] = df[\"urban\"].replace([np.nan], [df[\"urban\"].sample(random_state=10)])\n",
    "\n",
    "df[\"urban\"].value_counts(dropna=False) \n",
    "\n",
    "fx.grafico_barra(df, \"urban\")"
   ]
  },
  {
   "cell_type": "code",
   "execution_count": 22,
   "id": "332e2463",
   "metadata": {},
   "outputs": [
    {
     "data": {
      "image/png": "[encoded data removed]",
      "text/plain": [
       "<Figure size 432x288 with 1 Axes>"
      ]
     },
     "metadata": {
      "needs_background": "light"
     },
     "output_type": "display_data"
    }
   ],
   "source": [
    "df[\"famsize\"].value_counts(dropna=False)\n",
    "\n",
    "df[\"LE3\"] = df[\"famsize\"].replace([\"GT3\", \"LE3\"], [1, 0])\n",
    "\n",
    "df = df.drop(['famsize'], axis=1)\n",
    "\n",
    "df[\"LE3\"] = df[\"LE3\"].replace([np.nan], [df[\"LE3\"].sample(random_state=10)])\n",
    "\n",
    "df[\"LE3\"].value_counts(dropna=False) \n",
    "\n",
    "fx.grafico_barra(df, \"LE3\")"
   ]
  },
  {
   "cell_type": "code",
   "execution_count": 23,
   "id": "ce387bc3",
   "metadata": {},
   "outputs": [
    {
     "data": {
      "image/png": "[encoded data removed]",
      "text/plain": [
       "<Figure size 432x288 with 1 Axes>"
      ]
     },
     "metadata": {
      "needs_background": "light"
     },
     "output_type": "display_data"
    }
   ],
   "source": [
    "df[\"Pstatus\"].value_counts(dropna=False)\n",
    "\n",
    "df[\"cohab_juntos\"] = df[\"Pstatus\"].replace([\"GT3\", \"LE3\"], [1, 0])\n",
    "\n",
    "df = df.drop(['Pstatus'], axis=1)\n",
    "\n",
    "df[\"cohab_juntos\"] = df[\"cohab_juntos\"].replace([np.nan], [df[\"cohab_juntos\"].sample(random_state=10)])\n",
    "\n",
    "df[\"cohab_juntos\"] = df[\"cohab_juntos\"].replace([\"T\", \"A\"], [1, 0])\n",
    "\n",
    "df[\"cohab_juntos\"].value_counts(dropna=False) \n",
    "\n",
    "fx.grafico_barra(df, \"cohab_juntos\")"
   ]
  },
  {
   "cell_type": "code",
   "execution_count": 24,
   "id": "e8ee9c68",
   "metadata": {},
   "outputs": [
    {
     "data": {
      "image/png": "[encoded data removed]",
      "text/plain": [
       "<Figure size 432x288 with 1 Axes>"
      ]
     },
     "metadata": {
      "needs_background": "light"
     },
     "output_type": "display_data"
    }
   ],
   "source": [
    "df[\"Medu\"].value_counts(dropna=False)\n",
    "\n",
    "df[\"Medu\"] = df[\"Medu\"].replace([np.nan], [df[\"Medu\"].sample(random_state=10)])\n",
    "\n",
    "df[\"Medu\"].value_counts(dropna=False) \n",
    "\n",
    "transform(df, \"Medu\")\n",
    "\n",
    "fx.grafico_barra(df, \"Medu\")"
   ]
  },
  {
   "cell_type": "code",
   "execution_count": 25,
   "id": "2886af3c",
   "metadata": {},
   "outputs": [
    {
     "data": {
      "image/png": "[encoded data removed]",
      "text/plain": [
       "<Figure size 432x288 with 1 Axes>"
      ]
     },
     "metadata": {
      "needs_background": "light"
     },
     "output_type": "display_data"
    }
   ],
   "source": [
    "df[\"Fedu\"].value_counts(dropna=False)\n",
    "\n",
    "df[\"Fedu\"] = df[\"Fedu\"].replace([np.nan], [df[\"Fedu\"].sample(random_state=10)])\n",
    "\n",
    "df[\"Fedu\"].value_counts(dropna=False) \n",
    "\n",
    "transform(df, \"Fedu\")\n",
    "\n",
    "fx.grafico_barra(df, \"Fedu\")"
   ]
  },
  {
   "cell_type": "code",
   "execution_count": 26,
   "id": "5d0d01d6",
   "metadata": {},
   "outputs": [
    {
     "data": {
      "image/png": "[encoded data removed]",
      "text/plain": [
       "<Figure size 432x288 with 1 Axes>"
      ]
     },
     "metadata": {
      "needs_background": "light"
     },
     "output_type": "display_data"
    }
   ],
   "source": [
    "df[\"Mjob\"].value_counts(dropna=False)\n",
    "\n",
    "df[\"Mjob\"] = df[\"Mjob\"].replace([np.nan], [df[\"Mjob\"].sample(random_state=10)])\n",
    "\n",
    "df[\"Mjob\"] = df[\"Mjob\"].replace([\"other\", \"services\", \"at_home\", \"teacher\", \"health\"], [\"mjob_other\", \"mjob_services\", \"mjob_at_home\", \"mjob_teacher\", \"mjob_health\"])\n",
    "\n",
    "df[\"Mjob\"].value_counts(dropna=False) \n",
    "\n",
    "fx.grafico_barra(df, \"Mjob\")"
   ]
  },
  {
   "cell_type": "code",
   "execution_count": 27,
   "id": "a4ac24b4",
   "metadata": {},
   "outputs": [
    {
     "data": {
      "image/png": "[encoded data removed]",
      "text/plain": [
       "<Figure size 432x288 with 1 Axes>"
      ]
     },
     "metadata": {
      "needs_background": "light"
     },
     "output_type": "display_data"
    }
   ],
   "source": [
    "df[\"Fjob\"].value_counts(dropna=False)\n",
    "\n",
    "df[\"Fjob\"] = df[\"Fjob\"].replace([np.nan], [df[\"Fjob\"].sample(random_state=10)])\n",
    "\n",
    "df[\"Fjob\"] = df[\"Fjob\"].replace([\"other\", \"services\", \"at_home\", \"teacher\", \"health\"], [\"fjob_other\", \"fjob_services\", \"fjob_at_home\", \"fjob_teacher\", \"fjob_health\"])\n",
    "\n",
    "df[\"Fjob\"].value_counts(dropna=False) \n",
    "\n",
    "fx.grafico_barra(df, \"Fjob\")"
   ]
  },
  {
   "cell_type": "code",
   "execution_count": 28,
   "id": "616ee785",
   "metadata": {},
   "outputs": [
    {
     "data": {
      "image/png": "[encoded data removed]",
      "text/plain": [
       "<Figure size 432x288 with 1 Axes>"
      ]
     },
     "metadata": {
      "needs_background": "light"
     },
     "output_type": "display_data"
    }
   ],
   "source": [
    "df[\"reason\"].value_counts(dropna=False)\n",
    "\n",
    "df[\"reason\"] = df[\"reason\"].replace([np.nan], [df[\"reason\"].sample(random_state=10)])\n",
    "\n",
    "df[\"reason\"] = df[\"reason\"].replace([\"other\"], [\"reason_other\"])\n",
    "\n",
    "df[\"reason\"].value_counts(dropna=False) \n",
    "\n",
    "fx.grafico_barra(df, \"reason\")"
   ]
  },
  {
   "cell_type": "code",
   "execution_count": 29,
   "id": "7f3ce0fb",
   "metadata": {},
   "outputs": [
    {
     "data": {
      "image/png": "[encoded data removed]",
      "text/plain": [
       "<Figure size 432x288 with 1 Axes>"
      ]
     },
     "metadata": {
      "needs_background": "light"
     },
     "output_type": "display_data"
    }
   ],
   "source": [
    "df[\"guardian\"].value_counts(dropna=False)\n",
    "\n",
    "df[\"guardian\"] = df[\"guardian\"].replace([np.nan], [df[\"guardian\"].sample(random_state=10)])\n",
    "\n",
    "df[\"guardian\"] = df[\"guardian\"].replace([\"other\"], [\"guardian_other\"])\n",
    "\n",
    "df[\"guardian\"].value_counts(dropna=False) \n",
    "\n",
    "fx.grafico_barra(df, \"guardian\")"
   ]
  },
  {
   "cell_type": "code",
   "execution_count": 30,
   "id": "9676c1f4",
   "metadata": {},
   "outputs": [
    {
     "data": {
      "image/png": "[encoded data removed]",
      "text/plain": [
       "<Figure size 432x288 with 1 Axes>"
      ]
     },
     "metadata": {
      "needs_background": "light"
     },
     "output_type": "display_data"
    }
   ],
   "source": [
    "df[\"traveltime\"].value_counts(dropna=False)\n",
    "\n",
    "df[\"traveltime\"] = df[\"traveltime\"].replace([np.nan], [df[\"traveltime\"].sample(random_state=10)])\n",
    "\n",
    "df[\"traveltime\"] = df[\"traveltime\"].replace([\"1\",\"2\",\"3\",\"4\"], [\"travel_menos_15\", \"travel_15_30\", \"travel_30_60\", \"travel_mas_60\"])\n",
    "\n",
    "fx.grafico_barra(df, \"traveltime\")"
   ]
  },
  {
   "cell_type": "code",
   "execution_count": 31,
   "id": "3dc6b19d",
   "metadata": {},
   "outputs": [
    {
     "data": {
      "image/png": "[encoded data removed]",
      "text/plain": [
       "<Figure size 432x288 with 1 Axes>"
      ]
     },
     "metadata": {
      "needs_background": "light"
     },
     "output_type": "display_data"
    }
   ],
   "source": [
    "df[\"studytime\"].value_counts(dropna=False)\n",
    "\n",
    "df[\"studytime\"] = df[\"studytime\"].replace([np.nan], [df[\"studytime\"].sample(random_state=10)])\n",
    "\n",
    "df[\"studytime\"] = df[\"studytime\"].replace([\"1\",\"2\",\"3\",\"4\"], [\"study_menos_2\", \"studytime_2_5\", \"studytime_5_10\", \"studytime_mas_10\"])\n",
    "\n",
    "fx.grafico_barra(df, \"traveltime\")"
   ]
  },
  {
   "cell_type": "code",
   "execution_count": 32,
   "id": "77ba59c0",
   "metadata": {},
   "outputs": [
    {
     "data": {
      "image/png": "[encoded data removed]",
      "text/plain": [
       "<Figure size 432x288 with 1 Axes>"
      ]
     },
     "metadata": {
      "needs_background": "light"
     },
     "output_type": "display_data"
    }
   ],
   "source": [
    "df[\"failures\"].value_counts(dropna=False)\n",
    "\n",
    "df[\"failures\"] = df[\"failures\"].replace([np.nan], [df[\"failures\"].sample(random_state=10)])\n",
    "\n",
    "df[\"failures\"] = df[\"failures\"].replace([\"0\",\"1\",\"2\",\"3\",\"4\"], [\"failures_0\",\"failures_1\", \"failures_2\", \"failures_3\", \"failures_sin\"])\n",
    "\n",
    "fx.grafico_barra(df, \"failures\")"
   ]
  },
  {
   "cell_type": "code",
   "execution_count": 33,
   "id": "593442f4",
   "metadata": {},
   "outputs": [
    {
     "data": {
      "image/png": "[encoded data removed]",
      "text/plain": [
       "<Figure size 432x288 with 1 Axes>"
      ]
     },
     "metadata": {
      "needs_background": "light"
     },
     "output_type": "display_data"
    }
   ],
   "source": [
    "df[\"schoolsup\"].value_counts(dropna=False)\n",
    "\n",
    "df[\"schoolsup\"] = df[\"schoolsup\"].replace([np.nan], [df[\"schoolsup\"].sample(random_state=10)])\n",
    "\n",
    "df[\"schoolsup\"] = df[\"schoolsup\"].replace([\"yes\", \"no\"], [1, 0])\n",
    "\n",
    "fx.grafico_barra(df, \"schoolsup\")"
   ]
  },
  {
   "cell_type": "code",
   "execution_count": 34,
   "id": "54d922d1",
   "metadata": {},
   "outputs": [
    {
     "data": {
      "image/png": "[encoded data removed]",
      "text/plain": [
       "<Figure size 432x288 with 1 Axes>"
      ]
     },
     "metadata": {
      "needs_background": "light"
     },
     "output_type": "display_data"
    }
   ],
   "source": [
    "df[\"famsup\"].value_counts(dropna=False)\n",
    "\n",
    "df[\"famsup\"] = df[\"famsup\"].replace([np.nan], [df[\"famsup\"].sample(random_state=10)])\n",
    "\n",
    "df[\"famsup\"] = df[\"famsup\"].replace([\"yes\", \"no\"], [1, 0])\n",
    "\n",
    "fx.grafico_barra(df, \"famsup\")"
   ]
  },
  {
   "cell_type": "code",
   "execution_count": 35,
   "id": "cbea1d88",
   "metadata": {},
   "outputs": [
    {
     "data": {
      "image/png": "[encoded data removed]",
      "text/plain": [
       "<Figure size 432x288 with 1 Axes>"
      ]
     },
     "metadata": {
      "needs_background": "light"
     },
     "output_type": "display_data"
    }
   ],
   "source": [
    "df[\"paid\"].value_counts(dropna=False)\n",
    "\n",
    "df[\"paid\"] = df[\"paid\"].replace([np.nan], [df[\"paid\"].sample(random_state=10)])\n",
    "\n",
    "df[\"paid\"] = df[\"paid\"].replace([\"yes\", \"no\"], [1, 0])\n",
    "\n",
    "fx.grafico_barra(df, \"paid\")"
   ]
  },
  {
   "cell_type": "code",
   "execution_count": 36,
   "id": "1a52ed4c",
   "metadata": {},
   "outputs": [
    {
     "data": {
      "image/png": "[encoded data removed]",
      "text/plain": [
       "<Figure size 432x288 with 1 Axes>"
      ]
     },
     "metadata": {
      "needs_background": "light"
     },
     "output_type": "display_data"
    }
   ],
   "source": [
    "df[\"activities\"].value_counts(dropna=False)\n",
    "\n",
    "df[\"activities\"] = df[\"activities\"].replace([np.nan], [df[\"activities\"].sample(random_state=10)])\n",
    "\n",
    "df[\"activities\"] = df[\"activities\"].replace([\"yes\", \"no\"], [1, 0])\n",
    "\n",
    "fx.grafico_barra(df, \"activities\")"
   ]
  },
  {
   "cell_type": "code",
   "execution_count": 37,
   "id": "a190bcff",
   "metadata": {},
   "outputs": [
    {
     "data": {
      "image/png": "[encoded data removed]",
      "text/plain": [
       "<Figure size 432x288 with 1 Axes>"
      ]
     },
     "metadata": {
      "needs_background": "light"
     },
     "output_type": "display_data"
    }
   ],
   "source": [
    "df[\"nursery\"].value_counts(dropna=False)\n",
    "\n",
    "df[\"nursery\"] = df[\"nursery\"].replace([np.nan], [df[\"nursery\"].sample(random_state=10)])\n",
    "\n",
    "df[\"nursery\"] = df[\"nursery\"].replace([\"yes\", \"no\"], [1, 0])\n",
    "\n",
    "fx.grafico_barra(df, \"nursery\")"
   ]
  },
  {
   "cell_type": "code",
   "execution_count": 38,
   "id": "20613d38",
   "metadata": {},
   "outputs": [
    {
     "data": {
      "image/png": "[encoded data removed]",
      "text/plain": [
       "<Figure size 432x288 with 1 Axes>"
      ]
     },
     "metadata": {
      "needs_background": "light"
     },
     "output_type": "display_data"
    }
   ],
   "source": [
    "df[\"higher\"].value_counts(dropna=False)\n",
    "\n",
    "df[\"higher\"] = df[\"higher\"].replace([np.nan], [df[\"higher\"].sample(random_state=10)])\n",
    "\n",
    "df[\"higher\"] = df[\"higher\"].replace([\"yes\", \"no\"], [1, 0])\n",
    "\n",
    "fx.grafico_barra(df, \"higher\")"
   ]
  },
  {
   "cell_type": "code",
   "execution_count": 39,
   "id": "149232ba",
   "metadata": {},
   "outputs": [
    {
     "data": {
      "image/png": "[encoded data removed]",
      "text/plain": [
       "<Figure size 432x288 with 1 Axes>"
      ]
     },
     "metadata": {
      "needs_background": "light"
     },
     "output_type": "display_data"
    }
   ],
   "source": [
    "df[\"internet\"].value_counts(dropna=False)\n",
    "\n",
    "df[\"internet\"] = df[\"internet\"].replace([np.nan], [df[\"internet\"].sample(random_state=10)])\n",
    "\n",
    "df[\"internet\"] = df[\"internet\"].replace([\"yes\", \"no\"], [1, 0])\n",
    "\n",
    "fx.grafico_barra(df, \"internet\")"
   ]
  },
  {
   "cell_type": "code",
   "execution_count": 40,
   "id": "095bae21",
   "metadata": {},
   "outputs": [
    {
     "data": {
      "image/png": "[encoded data removed]",
      "text/plain": [
       "<Figure size 432x288 with 1 Axes>"
      ]
     },
     "metadata": {
      "needs_background": "light"
     },
     "output_type": "display_data"
    }
   ],
   "source": [
    "df[\"romantic\"].value_counts(dropna=False)\n",
    "\n",
    "df[\"romantic\"] = df[\"romantic\"].replace([np.nan], [df[\"romantic\"].sample(random_state=10)])\n",
    "\n",
    "df[\"romantic\"] = df[\"romantic\"].replace([\"yes\", \"no\"], [1, 0])\n",
    "\n",
    "fx.grafico_barra(df, \"romantic\")"
   ]
  },
  {
   "cell_type": "code",
   "execution_count": 41,
   "id": "ba5ae207",
   "metadata": {},
   "outputs": [
    {
     "data": {
      "image/png": "[encoded data removed]",
      "text/plain": [
       "<Figure size 432x288 with 1 Axes>"
      ]
     },
     "metadata": {
      "needs_background": "light"
     },
     "output_type": "display_data"
    }
   ],
   "source": [
    "#Se recodifica la variable absences\n",
    "\n",
    "#Se convierte la serie a float\n",
    "df[['absences']] = df[['absences']].astype(float)\n",
    "\n",
    "#Converti los NaN al promedio de la serie\n",
    "media_absences = round(df[\"absences\"].mean(), 0)\n",
    "df[\"absences\"] = df[\"absences\"].replace([np.nan], [media_absences])\n",
    "\n",
    "\n",
    "fx.plot_hist(df, \"absences\", True)"
   ]
  },
  {
   "cell_type": "code",
   "execution_count": null,
   "id": "c94d24f1",
   "metadata": {},
   "outputs": [],
   "source": []
  },
  {
   "cell_type": "code",
   "execution_count": 42,
   "id": "69daa1fb",
   "metadata": {},
   "outputs": [],
   "source": [
    "def transform_2(df, var):\n",
    "    \n",
    "    #nan a una opcion random\n",
    "    df[var] = df[var].replace([np.nan], [df[var].sample(random_state = 10)])\n",
    "    \n",
    "    #Transformacion\n",
    "    df[var] = df[var].replace([\"0\",\"1\",\"2\",\"3\",\"4\",\"5\"], [0,1,2,3,4,5])\n",
    "    \n",
    "    #grafico\n",
    "    fx.grafico_barra(df, var)"
   ]
  },
  {
   "cell_type": "code",
   "execution_count": 43,
   "id": "a851d380",
   "metadata": {},
   "outputs": [
    {
     "data": {
      "image/png": "[encoded data removed]",
      "text/plain": [
       "<Figure size 432x288 with 1 Axes>"
      ]
     },
     "metadata": {
      "needs_background": "light"
     },
     "output_type": "display_data"
    }
   ],
   "source": [
    "transform_2(df, \"famrel\")"
   ]
  },
  {
   "cell_type": "code",
   "execution_count": 44,
   "id": "a33c551c",
   "metadata": {},
   "outputs": [
    {
     "data": {
      "image/png": "[encoded data removed]",
      "text/plain": [
       "<Figure size 432x288 with 1 Axes>"
      ]
     },
     "metadata": {
      "needs_background": "light"
     },
     "output_type": "display_data"
    }
   ],
   "source": [
    "transform_2(df, \"freetime\")"
   ]
  },
  {
   "cell_type": "code",
   "execution_count": 45,
   "id": "18a62d01",
   "metadata": {},
   "outputs": [
    {
     "data": {
      "image/png": "[encoded data removed]",
      "text/plain": [
       "<Figure size 432x288 with 1 Axes>"
      ]
     },
     "metadata": {
      "needs_background": "light"
     },
     "output_type": "display_data"
    }
   ],
   "source": [
    "df['goout'] = df['goout'].str.replace('\\\"','')\n",
    "\n",
    "transform_2(df, \"goout\")"
   ]
  },
  {
   "cell_type": "code",
   "execution_count": 46,
   "id": "ea442457",
   "metadata": {},
   "outputs": [
    {
     "data": {
      "image/png": "[encoded data removed]",
      "text/plain": [
       "<Figure size 432x288 with 1 Axes>"
      ]
     },
     "metadata": {
      "needs_background": "light"
     },
     "output_type": "display_data"
    }
   ],
   "source": [
    "transform_2(df, \"Dalc\")"
   ]
  },
  {
   "cell_type": "code",
   "execution_count": 47,
   "id": "2a671620",
   "metadata": {},
   "outputs": [
    {
     "data": {
      "image/png": "[encoded data removed]",
      "text/plain": [
       "<Figure size 432x288 with 1 Axes>"
      ]
     },
     "metadata": {
      "needs_background": "light"
     },
     "output_type": "display_data"
    }
   ],
   "source": [
    "transform_2(df, \"Walc\")"
   ]
  },
  {
   "cell_type": "code",
   "execution_count": 48,
   "id": "40ed76c4",
   "metadata": {},
   "outputs": [
    {
     "data": {
      "image/png": "[encoded data removed]",
      "text/plain": [
       "<Figure size 432x288 with 1 Axes>"
      ]
     },
     "metadata": {
      "needs_background": "light"
     },
     "output_type": "display_data"
    }
   ],
   "source": [
    "df['health'] = df['health'].str.replace('\\\"','')\n",
    "\n",
    "transform_2(df, \"health\")"
   ]
  },
  {
   "cell_type": "markdown",
   "id": "9fc191be",
   "metadata": {},
   "source": [
    "**IMPORTANTE**  \n",
    "\n",
    "La interpretación de los gráficos lo realice en el hito 2. Ahora debido que reinicie el analisis del caso del rendimiento escolar por tiempo no he podido hacer el analisis descriptivo univariado de las variables pero para el hito 4 si lo estarán."
   ]
  },
  {
   "cell_type": "code",
   "execution_count": 49,
   "id": "31682916",
   "metadata": {},
   "outputs": [
    {
     "data": {
      "image/png": "[encoded data removed]",
      "text/plain": [
       "<Figure size 432x288 with 2 Axes>"
      ]
     },
     "metadata": {
      "needs_background": "light"
     },
     "output_type": "display_data"
    }
   ],
   "source": [
    "corr_mat = df.corr()\n",
    "\n",
    "sns.heatmap(\n",
    "    corr_mat,\n",
    "    cmap=\"Blues\",\n",
    "    annot=False\n",
    ");"
   ]
  },
  {
   "cell_type": "markdown",
   "id": "a58363c8",
   "metadata": {},
   "source": [
    "Se puede apreciar en el grafico de correlaciones que existe una alta correlación entre las 3 variables objetivos, en este caso G1, G2 y G3"
   ]
  },
  {
   "cell_type": "code",
   "execution_count": 50,
   "id": "3625778c",
   "metadata": {},
   "outputs": [
    {
     "data": {
      "text/plain": [
       "Index(['age', 'Medu', 'Fedu', 'Mjob', 'Fjob', 'reason', 'guardian',\n",
       "       'traveltime', 'studytime', 'failures', 'schoolsup', 'famsup', 'paid',\n",
       "       'activities', 'nursery', 'higher', 'internet', 'romantic', 'famrel',\n",
       "       'freetime', 'goout', 'Dalc', 'Walc', 'health', 'absences', 'G1', 'G2',\n",
       "       'G3', 'school_GP', 'male', 'urban', 'LE3', 'cohab_juntos'],\n",
       "      dtype='object')"
      ]
     },
     "execution_count": 50,
     "metadata": {},
     "output_type": "execute_result"
    }
   ],
   "source": [
    "df.columns"
   ]
  },
  {
   "cell_type": "code",
   "execution_count": 51,
   "id": "eb4877cc",
   "metadata": {},
   "outputs": [],
   "source": [
    "#Binarización variables discretas\n",
    "df_Fedu = pd.get_dummies(df[\"Fedu\"], drop_first = True)\n",
    "df_Medu = pd.get_dummies(df[\"Medu\"], drop_first = True)\n",
    "df_Mjob = pd.get_dummies(df[\"Mjob\"], drop_first = True)\n",
    "df_Fjob = pd.get_dummies(df[\"Fjob\"], drop_first = True)\n",
    "df_reason = pd.get_dummies(df[\"reason\"], drop_first = True)\n",
    "df_guardian = pd.get_dummies(df[\"guardian\"], drop_first = True)\n",
    "df_traveltime = pd.get_dummies(df[\"traveltime\"], drop_first = True)\n",
    "df_studytime = pd.get_dummies(df[\"studytime\"], drop_first = True)\n",
    "df_failures = pd.get_dummies(df[\"failures\"], drop_first = True)\n",
    "\n",
    "\n",
    "#Encuesta // #Binarización variables discretas\n",
    "\n",
    "#df_famrel = pd.get_dummies(df[\"famrel\"], drop_first = True)\n",
    "#df_freetime = pd.get_dummies(df[\"freetime\"], drop_first = True)\n",
    "#df_goout = pd.get_dummies(df[\"goout\"], drop_first = True)\n",
    "#df_Dalc = pd.get_dummies(df[\"Dalc\"], drop_first = True)\n",
    "#df_Walc = pd.get_dummies(df[\"Walc\"], drop_first = True)\n",
    "#df_health = pd.get_dummies(df[\"health\"], drop_first = True)"
   ]
  },
  {
   "cell_type": "code",
   "execution_count": 52,
   "id": "037f8e02",
   "metadata": {},
   "outputs": [],
   "source": [
    "df_g1 = df"
   ]
  },
  {
   "cell_type": "code",
   "execution_count": 53,
   "id": "39d3fe70",
   "metadata": {},
   "outputs": [],
   "source": [
    "df_g2 = df"
   ]
  },
  {
   "cell_type": "code",
   "execution_count": 54,
   "id": "ab921a80",
   "metadata": {},
   "outputs": [],
   "source": [
    "df_g3 = df"
   ]
  },
  {
   "cell_type": "code",
   "execution_count": null,
   "id": "57c97b9e",
   "metadata": {},
   "outputs": [],
   "source": []
  },
  {
   "cell_type": "code",
   "execution_count": 55,
   "id": "0e7e9b37",
   "metadata": {},
   "outputs": [
    {
     "ename": "PatsyError",
     "evalue": "Error evaluating factor: NameError: name 'fjob_health' is not defined\n    G1 ~ age + absences + schoolsup + famsup + paid + activities + nursery + higher + internet + romantic + school_GP + male + urban + LE3 + cohab_juntos + Fedu1 + Fedu2 + Fedu3 + Fedu4 + Medu1 + Medu2 + Medu3 + Medu4 + mjob_health + mjob_other + mjob_services + mjob_teacher + fjob_health + fjob_other + fjob_services + fjob_teacher + home + reason_other + reputation + guardian_other + mother + travel_30_60 + travel_mas_60 + travel_menos_15 + studytime_2_5 + studytime_5_10 + studytime_mas_10 + failures_1 + failures_2 + failures_3\n                                                                                                                                                                                                                                                                                      ^^^^^^^^^^^",
     "output_type": "error",
     "traceback": [
      "\u001b[1;31m---------------------------------------------------------------------------\u001b[0m",
      "\u001b[1;31mNameError\u001b[0m                                 Traceback (most recent call last)",
      "File \u001b[1;32m~\\anaconda3\\lib\\site-packages\\patsy\\compat.py:36\u001b[0m, in \u001b[0;36mcall_and_wrap_exc\u001b[1;34m(msg, origin, f, *args, **kwargs)\u001b[0m\n\u001b[0;32m     35\u001b[0m \u001b[38;5;28;01mtry\u001b[39;00m:\n\u001b[1;32m---> 36\u001b[0m     \u001b[38;5;28;01mreturn\u001b[39;00m f(\u001b[38;5;241m*\u001b[39margs, \u001b[38;5;241m*\u001b[39m\u001b[38;5;241m*\u001b[39mkwargs)\n\u001b[0;32m     37\u001b[0m \u001b[38;5;28;01mexcept\u001b[39;00m \u001b[38;5;167;01mException\u001b[39;00m \u001b[38;5;28;01mas\u001b[39;00m e:\n",
      "File \u001b[1;32m~\\anaconda3\\lib\\site-packages\\patsy\\eval.py:165\u001b[0m, in \u001b[0;36mEvalEnvironment.eval\u001b[1;34m(self, expr, source_name, inner_namespace)\u001b[0m\n\u001b[0;32m    164\u001b[0m code \u001b[38;5;241m=\u001b[39m \u001b[38;5;28mcompile\u001b[39m(expr, source_name, \u001b[38;5;124m\"\u001b[39m\u001b[38;5;124meval\u001b[39m\u001b[38;5;124m\"\u001b[39m, \u001b[38;5;28mself\u001b[39m\u001b[38;5;241m.\u001b[39mflags, \u001b[38;5;28;01mFalse\u001b[39;00m)\n\u001b[1;32m--> 165\u001b[0m \u001b[38;5;28;01mreturn\u001b[39;00m \u001b[38;5;28;43meval\u001b[39;49m\u001b[43m(\u001b[49m\u001b[43mcode\u001b[49m\u001b[43m,\u001b[49m\u001b[43m \u001b[49m\u001b[43m{\u001b[49m\u001b[43m}\u001b[49m\u001b[43m,\u001b[49m\u001b[43m \u001b[49m\u001b[43mVarLookupDict\u001b[49m\u001b[43m(\u001b[49m\u001b[43m[\u001b[49m\u001b[43minner_namespace\u001b[49m\u001b[43m]\u001b[49m\n\u001b[0;32m    166\u001b[0m \u001b[43m                                    \u001b[49m\u001b[38;5;241;43m+\u001b[39;49m\u001b[43m \u001b[49m\u001b[38;5;28;43mself\u001b[39;49m\u001b[38;5;241;43m.\u001b[39;49m\u001b[43m_namespaces\u001b[49m\u001b[43m)\u001b[49m\u001b[43m)\u001b[49m\n",
      "File \u001b[1;32m<string>:1\u001b[0m, in \u001b[0;36m<module>\u001b[1;34m\u001b[0m\n",
      "\u001b[1;31mNameError\u001b[0m: name 'fjob_health' is not defined",
      "\nThe above exception was the direct cause of the following exception:\n",
      "\u001b[1;31mPatsyError\u001b[0m                                Traceback (most recent call last)",
      "Input \u001b[1;32mIn [55]\u001b[0m, in \u001b[0;36m<cell line: 1>\u001b[1;34m()\u001b[0m\n\u001b[1;32m----> 1\u001b[0m model_g1 \u001b[38;5;241m=\u001b[39m \u001b[43msmf\u001b[49m\u001b[38;5;241;43m.\u001b[39;49m\u001b[43mols\u001b[49m\u001b[43m(\u001b[49m\u001b[43m  \u001b[49m\n\u001b[0;32m      2\u001b[0m \u001b[43m    \u001b[49m\u001b[38;5;124;43m'\u001b[39;49m\u001b[38;5;124;43mG1 ~ age + absences + schoolsup + famsup + paid + activities + nursery + higher + internet + romantic + school_GP + male + urban + LE3 + cohab_juntos + Fedu1 + Fedu2 + Fedu3 + Fedu4 + Medu1 + Medu2 + Medu3 + Medu4 + mjob_health + mjob_other + mjob_services + mjob_teacher + fjob_health + fjob_other + fjob_services + fjob_teacher + home + reason_other + reputation + guardian_other + mother + travel_30_60 + travel_mas_60 + travel_menos_15 + studytime_2_5 + studytime_5_10 + studytime_mas_10 + failures_1 + failures_2 + failures_3\u001b[39;49m\u001b[38;5;124;43m'\u001b[39;49m\u001b[43m,\u001b[49m\n\u001b[0;32m      3\u001b[0m \u001b[43m    \u001b[49m\u001b[43mdata\u001b[49m\u001b[43m \u001b[49m\u001b[38;5;241;43m=\u001b[39;49m\u001b[43m \u001b[49m\u001b[43mdf_g1\u001b[49m\u001b[43m         \u001b[49m\n\u001b[0;32m      4\u001b[0m \u001b[43m)\u001b[49m\u001b[38;5;241m.\u001b[39mfit()\n",
      "File \u001b[1;32m~\\anaconda3\\lib\\site-packages\\statsmodels\\base\\model.py:200\u001b[0m, in \u001b[0;36mModel.from_formula\u001b[1;34m(cls, formula, data, subset, drop_cols, *args, **kwargs)\u001b[0m\n\u001b[0;32m    197\u001b[0m \u001b[38;5;28;01mif\u001b[39;00m missing \u001b[38;5;241m==\u001b[39m \u001b[38;5;124m'\u001b[39m\u001b[38;5;124mnone\u001b[39m\u001b[38;5;124m'\u001b[39m:  \u001b[38;5;66;03m# with patsy it's drop or raise. let's raise.\u001b[39;00m\n\u001b[0;32m    198\u001b[0m     missing \u001b[38;5;241m=\u001b[39m \u001b[38;5;124m'\u001b[39m\u001b[38;5;124mraise\u001b[39m\u001b[38;5;124m'\u001b[39m\n\u001b[1;32m--> 200\u001b[0m tmp \u001b[38;5;241m=\u001b[39m \u001b[43mhandle_formula_data\u001b[49m\u001b[43m(\u001b[49m\u001b[43mdata\u001b[49m\u001b[43m,\u001b[49m\u001b[43m \u001b[49m\u001b[38;5;28;43;01mNone\u001b[39;49;00m\u001b[43m,\u001b[49m\u001b[43m \u001b[49m\u001b[43mformula\u001b[49m\u001b[43m,\u001b[49m\u001b[43m \u001b[49m\u001b[43mdepth\u001b[49m\u001b[38;5;241;43m=\u001b[39;49m\u001b[43meval_env\u001b[49m\u001b[43m,\u001b[49m\n\u001b[0;32m    201\u001b[0m \u001b[43m                          \u001b[49m\u001b[43mmissing\u001b[49m\u001b[38;5;241;43m=\u001b[39;49m\u001b[43mmissing\u001b[49m\u001b[43m)\u001b[49m\n\u001b[0;32m    202\u001b[0m ((endog, exog), missing_idx, design_info) \u001b[38;5;241m=\u001b[39m tmp\n\u001b[0;32m    203\u001b[0m max_endog \u001b[38;5;241m=\u001b[39m \u001b[38;5;28mcls\u001b[39m\u001b[38;5;241m.\u001b[39m_formula_max_endog\n",
      "File \u001b[1;32m~\\anaconda3\\lib\\site-packages\\statsmodels\\formula\\formulatools.py:63\u001b[0m, in \u001b[0;36mhandle_formula_data\u001b[1;34m(Y, X, formula, depth, missing)\u001b[0m\n\u001b[0;32m     61\u001b[0m \u001b[38;5;28;01melse\u001b[39;00m:\n\u001b[0;32m     62\u001b[0m     \u001b[38;5;28;01mif\u001b[39;00m data_util\u001b[38;5;241m.\u001b[39m_is_using_pandas(Y, \u001b[38;5;28;01mNone\u001b[39;00m):\n\u001b[1;32m---> 63\u001b[0m         result \u001b[38;5;241m=\u001b[39m \u001b[43mdmatrices\u001b[49m\u001b[43m(\u001b[49m\u001b[43mformula\u001b[49m\u001b[43m,\u001b[49m\u001b[43m \u001b[49m\u001b[43mY\u001b[49m\u001b[43m,\u001b[49m\u001b[43m \u001b[49m\u001b[43mdepth\u001b[49m\u001b[43m,\u001b[49m\u001b[43m \u001b[49m\u001b[43mreturn_type\u001b[49m\u001b[38;5;241;43m=\u001b[39;49m\u001b[38;5;124;43m'\u001b[39;49m\u001b[38;5;124;43mdataframe\u001b[39;49m\u001b[38;5;124;43m'\u001b[39;49m\u001b[43m,\u001b[49m\n\u001b[0;32m     64\u001b[0m \u001b[43m                           \u001b[49m\u001b[43mNA_action\u001b[49m\u001b[38;5;241;43m=\u001b[39;49m\u001b[43mna_action\u001b[49m\u001b[43m)\u001b[49m\n\u001b[0;32m     65\u001b[0m     \u001b[38;5;28;01melse\u001b[39;00m:\n\u001b[0;32m     66\u001b[0m         result \u001b[38;5;241m=\u001b[39m dmatrices(formula, Y, depth, return_type\u001b[38;5;241m=\u001b[39m\u001b[38;5;124m'\u001b[39m\u001b[38;5;124mdataframe\u001b[39m\u001b[38;5;124m'\u001b[39m,\n\u001b[0;32m     67\u001b[0m                            NA_action\u001b[38;5;241m=\u001b[39mna_action)\n",
      "File \u001b[1;32m~\\anaconda3\\lib\\site-packages\\patsy\\highlevel.py:309\u001b[0m, in \u001b[0;36mdmatrices\u001b[1;34m(formula_like, data, eval_env, NA_action, return_type)\u001b[0m\n\u001b[0;32m    299\u001b[0m \u001b[38;5;124;03m\"\"\"Construct two design matrices given a formula_like and data.\u001b[39;00m\n\u001b[0;32m    300\u001b[0m \n\u001b[0;32m    301\u001b[0m \u001b[38;5;124;03mThis function is identical to :func:`dmatrix`, except that it requires\u001b[39;00m\n\u001b[1;32m   (...)\u001b[0m\n\u001b[0;32m    306\u001b[0m \u001b[38;5;124;03mSee :func:`dmatrix` for details.\u001b[39;00m\n\u001b[0;32m    307\u001b[0m \u001b[38;5;124;03m\"\"\"\u001b[39;00m\n\u001b[0;32m    308\u001b[0m eval_env \u001b[38;5;241m=\u001b[39m EvalEnvironment\u001b[38;5;241m.\u001b[39mcapture(eval_env, reference\u001b[38;5;241m=\u001b[39m\u001b[38;5;241m1\u001b[39m)\n\u001b[1;32m--> 309\u001b[0m (lhs, rhs) \u001b[38;5;241m=\u001b[39m \u001b[43m_do_highlevel_design\u001b[49m\u001b[43m(\u001b[49m\u001b[43mformula_like\u001b[49m\u001b[43m,\u001b[49m\u001b[43m \u001b[49m\u001b[43mdata\u001b[49m\u001b[43m,\u001b[49m\u001b[43m \u001b[49m\u001b[43meval_env\u001b[49m\u001b[43m,\u001b[49m\n\u001b[0;32m    310\u001b[0m \u001b[43m                                  \u001b[49m\u001b[43mNA_action\u001b[49m\u001b[43m,\u001b[49m\u001b[43m \u001b[49m\u001b[43mreturn_type\u001b[49m\u001b[43m)\u001b[49m\n\u001b[0;32m    311\u001b[0m \u001b[38;5;28;01mif\u001b[39;00m lhs\u001b[38;5;241m.\u001b[39mshape[\u001b[38;5;241m1\u001b[39m] \u001b[38;5;241m==\u001b[39m \u001b[38;5;241m0\u001b[39m:\n\u001b[0;32m    312\u001b[0m     \u001b[38;5;28;01mraise\u001b[39;00m PatsyError(\u001b[38;5;124m\"\u001b[39m\u001b[38;5;124mmodel is missing required outcome variables\u001b[39m\u001b[38;5;124m\"\u001b[39m)\n",
      "File \u001b[1;32m~\\anaconda3\\lib\\site-packages\\patsy\\highlevel.py:164\u001b[0m, in \u001b[0;36m_do_highlevel_design\u001b[1;34m(formula_like, data, eval_env, NA_action, return_type)\u001b[0m\n\u001b[0;32m    162\u001b[0m \u001b[38;5;28;01mdef\u001b[39;00m \u001b[38;5;21mdata_iter_maker\u001b[39m():\n\u001b[0;32m    163\u001b[0m     \u001b[38;5;28;01mreturn\u001b[39;00m \u001b[38;5;28miter\u001b[39m([data])\n\u001b[1;32m--> 164\u001b[0m design_infos \u001b[38;5;241m=\u001b[39m \u001b[43m_try_incr_builders\u001b[49m\u001b[43m(\u001b[49m\u001b[43mformula_like\u001b[49m\u001b[43m,\u001b[49m\u001b[43m \u001b[49m\u001b[43mdata_iter_maker\u001b[49m\u001b[43m,\u001b[49m\u001b[43m \u001b[49m\u001b[43meval_env\u001b[49m\u001b[43m,\u001b[49m\n\u001b[0;32m    165\u001b[0m \u001b[43m                                  \u001b[49m\u001b[43mNA_action\u001b[49m\u001b[43m)\u001b[49m\n\u001b[0;32m    166\u001b[0m \u001b[38;5;28;01mif\u001b[39;00m design_infos \u001b[38;5;129;01mis\u001b[39;00m \u001b[38;5;129;01mnot\u001b[39;00m \u001b[38;5;28;01mNone\u001b[39;00m:\n\u001b[0;32m    167\u001b[0m     \u001b[38;5;28;01mreturn\u001b[39;00m build_design_matrices(design_infos, data,\n\u001b[0;32m    168\u001b[0m                                  NA_action\u001b[38;5;241m=\u001b[39mNA_action,\n\u001b[0;32m    169\u001b[0m                                  return_type\u001b[38;5;241m=\u001b[39mreturn_type)\n",
      "File \u001b[1;32m~\\anaconda3\\lib\\site-packages\\patsy\\highlevel.py:66\u001b[0m, in \u001b[0;36m_try_incr_builders\u001b[1;34m(formula_like, data_iter_maker, eval_env, NA_action)\u001b[0m\n\u001b[0;32m     64\u001b[0m \u001b[38;5;28;01mif\u001b[39;00m \u001b[38;5;28misinstance\u001b[39m(formula_like, ModelDesc):\n\u001b[0;32m     65\u001b[0m     \u001b[38;5;28;01massert\u001b[39;00m \u001b[38;5;28misinstance\u001b[39m(eval_env, EvalEnvironment)\n\u001b[1;32m---> 66\u001b[0m     \u001b[38;5;28;01mreturn\u001b[39;00m \u001b[43mdesign_matrix_builders\u001b[49m\u001b[43m(\u001b[49m\u001b[43m[\u001b[49m\u001b[43mformula_like\u001b[49m\u001b[38;5;241;43m.\u001b[39;49m\u001b[43mlhs_termlist\u001b[49m\u001b[43m,\u001b[49m\n\u001b[0;32m     67\u001b[0m \u001b[43m                                   \u001b[49m\u001b[43mformula_like\u001b[49m\u001b[38;5;241;43m.\u001b[39;49m\u001b[43mrhs_termlist\u001b[49m\u001b[43m]\u001b[49m\u001b[43m,\u001b[49m\n\u001b[0;32m     68\u001b[0m \u001b[43m                                  \u001b[49m\u001b[43mdata_iter_maker\u001b[49m\u001b[43m,\u001b[49m\n\u001b[0;32m     69\u001b[0m \u001b[43m                                  \u001b[49m\u001b[43meval_env\u001b[49m\u001b[43m,\u001b[49m\n\u001b[0;32m     70\u001b[0m \u001b[43m                                  \u001b[49m\u001b[43mNA_action\u001b[49m\u001b[43m)\u001b[49m\n\u001b[0;32m     71\u001b[0m \u001b[38;5;28;01melse\u001b[39;00m:\n\u001b[0;32m     72\u001b[0m     \u001b[38;5;28;01mreturn\u001b[39;00m \u001b[38;5;28;01mNone\u001b[39;00m\n",
      "File \u001b[1;32m~\\anaconda3\\lib\\site-packages\\patsy\\build.py:693\u001b[0m, in \u001b[0;36mdesign_matrix_builders\u001b[1;34m(termlists, data_iter_maker, eval_env, NA_action)\u001b[0m\n\u001b[0;32m    689\u001b[0m factor_states \u001b[38;5;241m=\u001b[39m _factors_memorize(all_factors, data_iter_maker, eval_env)\n\u001b[0;32m    690\u001b[0m \u001b[38;5;66;03m# Now all the factors have working eval methods, so we can evaluate them\u001b[39;00m\n\u001b[0;32m    691\u001b[0m \u001b[38;5;66;03m# on some data to find out what type of data they return.\u001b[39;00m\n\u001b[0;32m    692\u001b[0m (num_column_counts,\n\u001b[1;32m--> 693\u001b[0m  cat_levels_contrasts) \u001b[38;5;241m=\u001b[39m \u001b[43m_examine_factor_types\u001b[49m\u001b[43m(\u001b[49m\u001b[43mall_factors\u001b[49m\u001b[43m,\u001b[49m\n\u001b[0;32m    694\u001b[0m \u001b[43m                                               \u001b[49m\u001b[43mfactor_states\u001b[49m\u001b[43m,\u001b[49m\n\u001b[0;32m    695\u001b[0m \u001b[43m                                               \u001b[49m\u001b[43mdata_iter_maker\u001b[49m\u001b[43m,\u001b[49m\n\u001b[0;32m    696\u001b[0m \u001b[43m                                               \u001b[49m\u001b[43mNA_action\u001b[49m\u001b[43m)\u001b[49m\n\u001b[0;32m    697\u001b[0m \u001b[38;5;66;03m# Now we need the factor infos, which encapsulate the knowledge of\u001b[39;00m\n\u001b[0;32m    698\u001b[0m \u001b[38;5;66;03m# how to turn any given factor into a chunk of data:\u001b[39;00m\n\u001b[0;32m    699\u001b[0m factor_infos \u001b[38;5;241m=\u001b[39m {}\n",
      "File \u001b[1;32m~\\anaconda3\\lib\\site-packages\\patsy\\build.py:443\u001b[0m, in \u001b[0;36m_examine_factor_types\u001b[1;34m(factors, factor_states, data_iter_maker, NA_action)\u001b[0m\n\u001b[0;32m    441\u001b[0m \u001b[38;5;28;01mfor\u001b[39;00m data \u001b[38;5;129;01min\u001b[39;00m data_iter_maker():\n\u001b[0;32m    442\u001b[0m     \u001b[38;5;28;01mfor\u001b[39;00m factor \u001b[38;5;129;01min\u001b[39;00m \u001b[38;5;28mlist\u001b[39m(examine_needed):\n\u001b[1;32m--> 443\u001b[0m         value \u001b[38;5;241m=\u001b[39m \u001b[43mfactor\u001b[49m\u001b[38;5;241;43m.\u001b[39;49m\u001b[43meval\u001b[49m\u001b[43m(\u001b[49m\u001b[43mfactor_states\u001b[49m\u001b[43m[\u001b[49m\u001b[43mfactor\u001b[49m\u001b[43m]\u001b[49m\u001b[43m,\u001b[49m\u001b[43m \u001b[49m\u001b[43mdata\u001b[49m\u001b[43m)\u001b[49m\n\u001b[0;32m    444\u001b[0m         \u001b[38;5;28;01mif\u001b[39;00m factor \u001b[38;5;129;01min\u001b[39;00m cat_sniffers \u001b[38;5;129;01mor\u001b[39;00m guess_categorical(value):\n\u001b[0;32m    445\u001b[0m             \u001b[38;5;28;01mif\u001b[39;00m factor \u001b[38;5;129;01mnot\u001b[39;00m \u001b[38;5;129;01min\u001b[39;00m cat_sniffers:\n",
      "File \u001b[1;32m~\\anaconda3\\lib\\site-packages\\patsy\\eval.py:564\u001b[0m, in \u001b[0;36mEvalFactor.eval\u001b[1;34m(self, memorize_state, data)\u001b[0m\n\u001b[0;32m    563\u001b[0m \u001b[38;5;28;01mdef\u001b[39;00m \u001b[38;5;21meval\u001b[39m(\u001b[38;5;28mself\u001b[39m, memorize_state, data):\n\u001b[1;32m--> 564\u001b[0m     \u001b[38;5;28;01mreturn\u001b[39;00m \u001b[38;5;28;43mself\u001b[39;49m\u001b[38;5;241;43m.\u001b[39;49m\u001b[43m_eval\u001b[49m\u001b[43m(\u001b[49m\u001b[43mmemorize_state\u001b[49m\u001b[43m[\u001b[49m\u001b[38;5;124;43m\"\u001b[39;49m\u001b[38;5;124;43meval_code\u001b[39;49m\u001b[38;5;124;43m\"\u001b[39;49m\u001b[43m]\u001b[49m\u001b[43m,\u001b[49m\n\u001b[0;32m    565\u001b[0m \u001b[43m                      \u001b[49m\u001b[43mmemorize_state\u001b[49m\u001b[43m,\u001b[49m\n\u001b[0;32m    566\u001b[0m \u001b[43m                      \u001b[49m\u001b[43mdata\u001b[49m\u001b[43m)\u001b[49m\n",
      "File \u001b[1;32m~\\anaconda3\\lib\\site-packages\\patsy\\eval.py:547\u001b[0m, in \u001b[0;36mEvalFactor._eval\u001b[1;34m(self, code, memorize_state, data)\u001b[0m\n\u001b[0;32m    545\u001b[0m \u001b[38;5;28;01mdef\u001b[39;00m \u001b[38;5;21m_eval\u001b[39m(\u001b[38;5;28mself\u001b[39m, code, memorize_state, data):\n\u001b[0;32m    546\u001b[0m     inner_namespace \u001b[38;5;241m=\u001b[39m VarLookupDict([data, memorize_state[\u001b[38;5;124m\"\u001b[39m\u001b[38;5;124mtransforms\u001b[39m\u001b[38;5;124m\"\u001b[39m]])\n\u001b[1;32m--> 547\u001b[0m     \u001b[38;5;28;01mreturn\u001b[39;00m \u001b[43mcall_and_wrap_exc\u001b[49m\u001b[43m(\u001b[49m\u001b[38;5;124;43m\"\u001b[39;49m\u001b[38;5;124;43mError evaluating factor\u001b[39;49m\u001b[38;5;124;43m\"\u001b[39;49m\u001b[43m,\u001b[49m\n\u001b[0;32m    548\u001b[0m \u001b[43m                             \u001b[49m\u001b[38;5;28;43mself\u001b[39;49m\u001b[43m,\u001b[49m\n\u001b[0;32m    549\u001b[0m \u001b[43m                             \u001b[49m\u001b[43mmemorize_state\u001b[49m\u001b[43m[\u001b[49m\u001b[38;5;124;43m\"\u001b[39;49m\u001b[38;5;124;43meval_env\u001b[39;49m\u001b[38;5;124;43m\"\u001b[39;49m\u001b[43m]\u001b[49m\u001b[38;5;241;43m.\u001b[39;49m\u001b[43meval\u001b[49m\u001b[43m,\u001b[49m\n\u001b[0;32m    550\u001b[0m \u001b[43m                             \u001b[49m\u001b[43mcode\u001b[49m\u001b[43m,\u001b[49m\n\u001b[0;32m    551\u001b[0m \u001b[43m                             \u001b[49m\u001b[43minner_namespace\u001b[49m\u001b[38;5;241;43m=\u001b[39;49m\u001b[43minner_namespace\u001b[49m\u001b[43m)\u001b[49m\n",
      "File \u001b[1;32m~\\anaconda3\\lib\\site-packages\\patsy\\compat.py:43\u001b[0m, in \u001b[0;36mcall_and_wrap_exc\u001b[1;34m(msg, origin, f, *args, **kwargs)\u001b[0m\n\u001b[0;32m     39\u001b[0m     new_exc \u001b[38;5;241m=\u001b[39m PatsyError(\u001b[38;5;124m\"\u001b[39m\u001b[38;5;132;01m%s\u001b[39;00m\u001b[38;5;124m: \u001b[39m\u001b[38;5;132;01m%s\u001b[39;00m\u001b[38;5;124m: \u001b[39m\u001b[38;5;132;01m%s\u001b[39;00m\u001b[38;5;124m\"\u001b[39m\n\u001b[0;32m     40\u001b[0m                          \u001b[38;5;241m%\u001b[39m (msg, e\u001b[38;5;241m.\u001b[39m\u001b[38;5;18m__class__\u001b[39m\u001b[38;5;241m.\u001b[39m\u001b[38;5;18m__name__\u001b[39m, e),\n\u001b[0;32m     41\u001b[0m                          origin)\n\u001b[0;32m     42\u001b[0m     \u001b[38;5;66;03m# Use 'exec' to hide this syntax from the Python 2 parser:\u001b[39;00m\n\u001b[1;32m---> 43\u001b[0m     \u001b[43mexec\u001b[49m\u001b[43m(\u001b[49m\u001b[38;5;124;43m\"\u001b[39;49m\u001b[38;5;124;43mraise new_exc from e\u001b[39;49m\u001b[38;5;124;43m\"\u001b[39;49m\u001b[43m)\u001b[49m\n\u001b[0;32m     44\u001b[0m \u001b[38;5;28;01melse\u001b[39;00m:\n\u001b[0;32m     45\u001b[0m     \u001b[38;5;66;03m# In python 2, we just let the original exception escape -- better\u001b[39;00m\n\u001b[0;32m     46\u001b[0m     \u001b[38;5;66;03m# than destroying the traceback. But if it's a PatsyError, we can\u001b[39;00m\n\u001b[0;32m     47\u001b[0m     \u001b[38;5;66;03m# at least set the origin properly.\u001b[39;00m\n\u001b[0;32m     48\u001b[0m     \u001b[38;5;28;01mif\u001b[39;00m \u001b[38;5;28misinstance\u001b[39m(e, PatsyError):\n",
      "File \u001b[1;32m<string>:1\u001b[0m, in \u001b[0;36m<module>\u001b[1;34m\u001b[0m\n",
      "\u001b[1;31mPatsyError\u001b[0m: Error evaluating factor: NameError: name 'fjob_health' is not defined\n    G1 ~ age + absences + schoolsup + famsup + paid + activities + nursery + higher + internet + romantic + school_GP + male + urban + LE3 + cohab_juntos + Fedu1 + Fedu2 + Fedu3 + Fedu4 + Medu1 + Medu2 + Medu3 + Medu4 + mjob_health + mjob_other + mjob_services + mjob_teacher + fjob_health + fjob_other + fjob_services + fjob_teacher + home + reason_other + reputation + guardian_other + mother + travel_30_60 + travel_mas_60 + travel_menos_15 + studytime_2_5 + studytime_5_10 + studytime_mas_10 + failures_1 + failures_2 + failures_3\n                                                                                                                                                                                                                                                                                      ^^^^^^^^^^^"
     ]
    }
   ],
   "source": [
    "model_g1 = smf.ols(  \n",
    "    'G1 ~ age + absences + schoolsup + famsup + paid + activities + nursery + higher + internet + romantic + school_GP + male + urban + LE3 + cohab_juntos + Fedu1 + Fedu2 + Fedu3 + Fedu4 + Medu1 + Medu2 + Medu3 + Medu4 + mjob_health + mjob_other + mjob_services + mjob_teacher + fjob_health + fjob_other + fjob_services + fjob_teacher + home + reason_other + reputation + guardian_other + mother + travel_30_60 + travel_mas_60 + travel_menos_15 + studytime_2_5 + studytime_5_10 + studytime_mas_10 + failures_1 + failures_2 + failures_3',\n",
    "    data = df_g1         \n",
    ").fit()               "
   ]
  },
  {
   "cell_type": "code",
   "execution_count": null,
   "id": "3886ce0d",
   "metadata": {},
   "outputs": [],
   "source": [
    "print(f\"El modelo explica en un  {round(model_g1.rsquared_adj * 100)}% la variabilidad de las notas del primer semestre\")"
   ]
  },
  {
   "cell_type": "markdown",
   "id": "d29eeba5",
   "metadata": {},
   "source": [
    "Se utiliza como metica de bonda de ajuste el r cuadrado ajustado esto debido que se utilizaron para generar el modelo mas de variables independientes.\n",
    "Por otro lado comentar que el modelo \"model_g1\" explica en un  22% la variabilidad de las notas del primer semestre\n"
   ]
  },
  {
   "cell_type": "code",
   "execution_count": null,
   "id": "44ea9fe2",
   "metadata": {},
   "outputs": [],
   "source": [
    "model_g2 = smf.ols(  \n",
    "    'G2 ~ age + absences + schoolsup + famsup + paid + activities + nursery + higher + internet + romantic + school_GP + male + urban + LE3 + cohab_juntos + Fedu1 + Fedu2 + Fedu3 + Fedu4 + Medu1 + Medu2 + Medu3 + Medu4 + mjob_health + mjob_other + mjob_services + mjob_teacher + fjob_health + fjob_other + fjob_services + fjob_teacher + home + reason_other + reputation + guardian_other + mother + travel_30_60 + travel_mas_60 + travel_menos_15 + studytime_2_5 + studytime_5_10 + studytime_mas_10 + failures_1 + failures_2 + failures_3',\n",
    "    data = df_g2         \n",
    ").fit()       "
   ]
  },
  {
   "cell_type": "code",
   "execution_count": null,
   "id": "9fddfa39",
   "metadata": {},
   "outputs": [],
   "source": [
    "print(f\"El modelo explica en un  {round(model_g2.rsquared_adj * 100)}% la variabilidad de las notas del segundo semestre\")"
   ]
  },
  {
   "cell_type": "markdown",
   "id": "fda82d75",
   "metadata": {},
   "source": [
    "Se utiliza como metica de bonda de ajuste el r cuadrado ajustado esto debido que se utilizaron para generar el modelo mas de variables independientes.\n",
    "Por otro lado comentar que el modelo \"model_g2\" explica en un  18% la variabilidad de las notas del segundo semestre"
   ]
  },
  {
   "cell_type": "code",
   "execution_count": null,
   "id": "d06568ec",
   "metadata": {},
   "outputs": [],
   "source": [
    "model_g3 = smf.ols(  \n",
    "    'G3 ~ age + absences + schoolsup + famsup + paid + activities + nursery + higher + internet + romantic + school_GP + male + urban + LE3 + cohab_juntos + Fedu1 + Fedu2 + Fedu3 + Fedu4 + Medu1 + Medu2 + Medu3 + Medu4 + mjob_health + mjob_other + mjob_services + mjob_teacher + fjob_health + fjob_other + fjob_services + fjob_teacher + home + reason_other + reputation + guardian_other + mother + travel_30_60 + travel_mas_60 + travel_menos_15 + studytime_2_5 + studytime_5_10 + studytime_mas_10 + failures_1 + failures_2 + failures_3',\n",
    "    data = df_g3         \n",
    ").fit()   "
   ]
  },
  {
   "cell_type": "code",
   "execution_count": null,
   "id": "1f242864",
   "metadata": {},
   "outputs": [],
   "source": [
    "print(f\"El modelo explica en un  {round(model_g2.rsquared_adj * 100)}% la variabilidad del promedio final\")"
   ]
  },
  {
   "cell_type": "markdown",
   "id": "64d108e3",
   "metadata": {},
   "source": [
    "Se utiliza como metica de bonda de ajuste el r cuadrado ajustado esto debido que se utilizaron para generar el modelo mas de variables independientes.\n",
    "Por otro lado comentar que el modelo \"model_g3\" explica  en un  18% la variabilidad del promedio final"
   ]
  },
  {
   "cell_type": "code",
   "execution_count": null,
   "id": "966a4b20",
   "metadata": {},
   "outputs": [],
   "source": [
    "df[\"schoolsup\"].value_counts()"
   ]
  },
  {
   "cell_type": "code",
   "execution_count": null,
   "id": "ed9387d3",
   "metadata": {},
   "outputs": [],
   "source": [
    "coefs_saturado_g1 = model_g1.summary2().tables[1][\"Coef.\"]\n",
    "coefs_saturado_g1"
   ]
  },
  {
   "cell_type": "markdown",
   "id": "1af191bd",
   "metadata": {},
   "source": [
    "El coeficiente de age indica que existe una relación negativa entre la edad y el vector objetivo de este modelo G1, a medida que aumenta en una unidad la edad su incide negativamente en -0.15 en el promedio del primer semestre.\n",
    "\n",
    "El coeficiente de absences indica que existe una relación postiva entre la cantidad de ausencias y en el rendimiento, lo que resulta totalmente curioso ya que estaría indicando que a medida que falte aumentaría positivamente en el promedio del primer semestre aunque este factor es muy bajo y es estadisticamente no significante.\n",
    "\n",
    "El coeficiente de schoolsup indica que existe una relación negativa entre apoyo educacional del colegio y el promedio del primer semestre. Infiero que son estudiantes que necesitan apoyo como una especie de reforzamiento y es debido a esto incide negativamente en el promedio del primer semestre.\n",
    "\n",
    "El coeficiente school_GP indica que hay una diferencia de -0.65 en el promedio del primer semestre entre un estudiante de la escuela Gabriel Pereira y Mousinho da Silveira\n",
    "\n",
    "El coeficiente male indica que el hecho de ser hombre infiere positivamamente en un 1.10 en el promedio del primer semestre.\n",
    "\n",
    "El coeficiente urban indica que si la ubicación de la casa del estudiante es en una zona urbana incide positivamamente en un 0.33 en el promedio del primer semestre.\n",
    "\n",
    "El coeficiente LE3 indica que si el tamaño de la familia del estudiante es menor o igual a 3 incide negativamente en un -0.64 en el primedio del primer semestre.\n",
    "\n"
   ]
  },
  {
   "cell_type": "code",
   "execution_count": null,
   "id": "0b4adef5",
   "metadata": {},
   "outputs": [],
   "source": [
    "coefs_saturado_g2 = model_g2.summary2().tables[1]\n",
    "coefs_saturado_g2"
   ]
  },
  {
   "cell_type": "code",
   "execution_count": null,
   "id": "97ade2aa",
   "metadata": {},
   "outputs": [],
   "source": [
    "coefs_saturado_g3 = model_g3.summary2().tables[1]\n",
    "coefs_saturado_g3"
   ]
  },
  {
   "cell_type": "markdown",
   "id": "2c67b6b5",
   "metadata": {},
   "source": [
    "Se realizo la interpretación de los coeficientes del modelo g1 a una muestra de variables ya que eran demasiadas y era redundar la logica de la interpretación. \n",
    "Por otro lado me queda la duda si el df coefs_saturado_g3 para ver si las variables son estadisticamente significativas se utiliza la columna P>|t|. Si lo anterior es lo correcto mis variables para realizar un modelo mas depurado es el que esta a continuación.\n",
    "Ademas me falto agregar que las variables que son tipo discreta numerica famrel, freetime, goout, Dalc, Walc y health se utilizaran en el siguiente hito para agruparlas.\n",
    "Cabe mencionar que estas las habia binarizado por lo cual el numero de variables eran demasiadas alrededor de 87 columnas por lo cual decidi sacarlas de este primer analisis."
   ]
  },
  {
   "cell_type": "code",
   "execution_count": null,
   "id": "0992f015",
   "metadata": {},
   "outputs": [],
   "source": [
    "coefs_saturado_g3[coefs_saturado_g3[\"P>|t|\"] < 0.05]"
   ]
  },
  {
   "cell_type": "markdown",
   "id": "d6918fe8",
   "metadata": {},
   "source": [
    "Se genererará un modelo solo con aquellas variables independientes que son estadisticamente significante."
   ]
  },
  {
   "cell_type": "code",
   "execution_count": null,
   "id": "b13a146f",
   "metadata": {},
   "outputs": [],
   "source": [
    "model_g3_depurado = smf.ols(  \n",
    "    'G3 ~ age + absences + schoolsup + romantic + male + studytime_5_10 + failures_1 + failures_2 + failures_3',\n",
    "    data = df         \n",
    ").fit()   "
   ]
  },
  {
   "cell_type": "code",
   "execution_count": null,
   "id": "8159ea53",
   "metadata": {},
   "outputs": [],
   "source": [
    "print(f\"El hecho de ser hombre explica en un {round(model_g3_depurado.rsquared_adj * 100)}% la variabilidad de los ingresos\")"
   ]
  },
  {
   "cell_type": "code",
   "execution_count": null,
   "id": "bc0da406",
   "metadata": {},
   "outputs": [],
   "source": [
    "#df_famrel = pd.get_dummies(df[\"famrel\"], drop_first = True)\n",
    "#df_freetime = pd.get_dummies(df[\"freetime\"], drop_first = True)\n",
    "#df_goout = pd.get_dummies(df[\"goout\"], drop_first = True)\n",
    "#df_Dalc = pd.get_dummies(df[\"Dalc\"], drop_first = True)\n",
    "#df_Walc = pd.get_dummies(df[\"Walc\"], drop_first = True)\n",
    "#df_health = pd.get_dummies(df[\"health\"], drop_first = True)"
   ]
  },
  {
   "cell_type": "markdown",
   "id": "52baeb56",
   "metadata": {},
   "source": [
    "<img src=\"hito4.png\" width=\"900\" height=\"900\"/>\n"
   ]
  },
  {
   "cell_type": "markdown",
   "id": "a42ea87d",
   "metadata": {},
   "source": [
    "<h2> PRIMER MODELO APRENDIZAJE NO SUPERVISADO</h2>"
   ]
  },
  {
   "cell_type": "code",
   "execution_count": null,
   "id": "d32a91cc",
   "metadata": {},
   "outputs": [],
   "source": [
    "trust_df = df[[\"famrel\", \"freetime\", \"goout\", \"Dalc\", \"Walc\", \"health\" ]]"
   ]
  },
  {
   "cell_type": "markdown",
   "id": "891d0700",
   "metadata": {},
   "source": [
    "De acuerdo al enunciado de la prueba, se sugiere inspeccionar una batería de asociadas a aspectos ambientales del alumno (de famrel a health) y ver si éstas se pueden abstraer en categorías latentes.\n",
    "Para ello se crea un df con las variables que tienen las preguntas."
   ]
  },
  {
   "cell_type": "code",
   "execution_count": null,
   "id": "83a3d405",
   "metadata": {},
   "outputs": [],
   "source": [
    "trust_df.head()"
   ]
  },
  {
   "cell_type": "code",
   "execution_count": null,
   "id": "67c7cd56",
   "metadata": {},
   "outputs": [],
   "source": [
    "msngo.matrix(trust_df);"
   ]
  },
  {
   "cell_type": "markdown",
   "id": "575e1872",
   "metadata": {},
   "source": [
    "Se explora para ver si las preguntas tienen datos nulos, se coforma que no hay debido que se realizo una imputación de datos nulos por una de las categorias al azar."
   ]
  },
  {
   "cell_type": "code",
   "execution_count": null,
   "id": "9196fec9",
   "metadata": {},
   "outputs": [],
   "source": [
    "### Prueba de Esferacidad de Bartlett\n",
    "import factor_analyzer as fact\n",
    "estadistico, pvalor = fact.calculate_bartlett_sphericity(trust_df)\n",
    "\n",
    "print(f\"{'Es' if pvalor > 0.05 else 'No es'} una matriz de identidad\")"
   ]
  },
  {
   "cell_type": "markdown",
   "id": "bca2033b",
   "metadata": {},
   "source": [
    "En primera instancia se evalúa que las series de preguntas tengan una relación entre sí, lo cual según esta prueba lo confirma como se aprecia"
   ]
  },
  {
   "cell_type": "code",
   "execution_count": null,
   "id": "41284813",
   "metadata": {},
   "outputs": [],
   "source": [
    "## Prueba Kaiser-Meyer-Olkin\n",
    "\n",
    "kmos_individuales, kmo_general = fact.calculate_kmo(trust_df)\n",
    "\n",
    "print(f\"El KMO general es de {kmo_general}\")\n",
    "print(f\"Los KMO individuales son {kmos_individuales}\")"
   ]
  },
  {
   "cell_type": "markdown",
   "id": "775c8b4e",
   "metadata": {},
   "source": [
    "Por otro lado se aplica  la prueba de Kaiser-Meyer-Olkin (KMO) y se puede apreciar que tanto para \"KMO general\" como para los \"KMO individuales\" estos son menores a 0.7 y por ende no se continua con el analisis."
   ]
  },
  {
   "cell_type": "code",
   "execution_count": null,
   "id": "19dc4171",
   "metadata": {},
   "outputs": [],
   "source": []
  },
  {
   "cell_type": "markdown",
   "id": "81292d4b",
   "metadata": {},
   "source": [
    "<h2> SEGUNDO MODELO APRENDIZAJE SUPERVISADO</h2>"
   ]
  },
  {
   "cell_type": "code",
   "execution_count": null,
   "id": "b6e01266",
   "metadata": {},
   "outputs": [],
   "source": [
    "df_depurado = df[[\"G3\", \"age\", \"absences\", \"schoolsup\", \"romantic\", \"male\", \"studytime_5_10\", \"failures_1\", \"failures_2\", \"failures_3\"]]"
   ]
  },
  {
   "cell_type": "markdown",
   "id": "0d2b7115",
   "metadata": {},
   "source": [
    "Se crea un df con las la variable objetivo y las variables estadisticamente significativas"
   ]
  },
  {
   "cell_type": "code",
   "execution_count": null,
   "id": "e4f5eb0f",
   "metadata": {},
   "outputs": [],
   "source": [
    "#Se crean los subset\n",
    "\n",
    "X_train, X_test, y_train, y_test = train_test_split(\n",
    "    df_depurado[[\"age\", \"absences\", \"schoolsup\", \"romantic\", \"male\", \"studytime_5_10\", \"failures_1\", \"failures_2\", \"failures_3\"]],     # Entregamos los atributos\n",
    "    df_depurado[\"G3\"],            \n",
    "    test_size=0.33,                 \n",
    "    random_state=10,\n",
    ")"
   ]
  },
  {
   "cell_type": "code",
   "execution_count": null,
   "id": "0582df65",
   "metadata": {},
   "outputs": [],
   "source": [
    "# Exploramos las dimensiones de cada conjunto generado\n",
    "\n",
    "X_train.shape, X_test.shape, y_train.shape, y_test.shape"
   ]
  },
  {
   "cell_type": "code",
   "execution_count": null,
   "id": "5192eab7",
   "metadata": {},
   "outputs": [],
   "source": [
    "# Se crea el model de regresión lineal con intercepto\n",
    "\n",
    "modelo_rl_con_intercepto = LinearRegression(fit_intercept=True).fit(X_train, y_train)"
   ]
  },
  {
   "cell_type": "code",
   "execution_count": null,
   "id": "a2e82e01",
   "metadata": {},
   "outputs": [],
   "source": [
    "# Se realiza predicciones del G3 (Promedio Final)\n",
    "\n",
    "y_hat = modelo_rl_con_intercepto.predict(X_test)"
   ]
  },
  {
   "cell_type": "code",
   "execution_count": null,
   "id": "5d0344a9",
   "metadata": {},
   "outputs": [],
   "source": [
    "# Visualización más ordenada\n",
    "errores_pred = pd.DataFrame({\n",
    "    \"y_test\": y_test.values,\n",
    "    \"y_hat\": y_hat\n",
    "})\n",
    "\n",
    "errores_pred[\"y_test - y_hat\"] = errores_pred[\"y_test\"] - errores_pred[\"y_hat\"]\n"
   ]
  },
  {
   "cell_type": "code",
   "execution_count": null,
   "id": "2a5d5a70",
   "metadata": {},
   "outputs": [],
   "source": [
    "errores_pred[\"y_test - y_hat\"].mean()"
   ]
  },
  {
   "cell_type": "markdown",
   "id": "30894db0",
   "metadata": {},
   "source": [
    "Aquí se puede apreciar que en promedio el modelo se equivoca en un 0.14 la estimación del promedio final (G3), pero este es una mala medida ya que al existir predicciones positivas y negativas estas se cancelan. La solución a esta problematica es elevar al cuadrado estas diferencias muy similar a la solución de la varianza."
   ]
  },
  {
   "cell_type": "code",
   "execution_count": null,
   "id": "e6adfa53",
   "metadata": {},
   "outputs": [],
   "source": [
    "# Se eleva las diferencias al cuadrado\n",
    "\n",
    "errores_pred[r\"(y_test - y_hat)$^2$\"] = errores_pred[\"y_test - y_hat\"] ** 2"
   ]
  },
  {
   "cell_type": "code",
   "execution_count": null,
   "id": "5d6991e3",
   "metadata": {},
   "outputs": [],
   "source": [
    "# Se calcula el promedio de las diferencias al cuadrado\n",
    "errores_pred[r\"(y_test - y_hat)$^2$\"].mean()\n",
    "\n",
    "np.sqrt(errores_pred[r\"(y_test - y_hat)$^2$\"].mean())"
   ]
  },
  {
   "cell_type": "markdown",
   "id": "9bac2242",
   "metadata": {},
   "source": [
    "En promedio nuestro modelo se equivoca en 4 puntos en predecir el promedio final a partir de todas las variables consideradas en el modelo."
   ]
  },
  {
   "cell_type": "code",
   "execution_count": null,
   "id": "a4da85b5",
   "metadata": {},
   "outputs": [],
   "source": []
  },
  {
   "cell_type": "markdown",
   "id": "64fed61f",
   "metadata": {},
   "source": [
    "<h2> TERCER MODELO APRENDIZAJE SUPERVISADO</h2>"
   ]
  },
  {
   "cell_type": "code",
   "execution_count": null,
   "id": "a39f2303",
   "metadata": {},
   "outputs": [],
   "source": [
    "#Se crean los subset\n",
    "\n",
    "X1_train, X1_test, y1_train, y1_test = train_test_split(\n",
    "    df_depurado[[\"age\", \"absences\", \"schoolsup\", \"romantic\", \"male\", \"studytime_5_10\", \"failures_1\", \"failures_2\", \"failures_3\"]],     # Entregamos los atributos\n",
    "    df_depurado[\"G3\"],            \n",
    "    test_size=0.33,                 \n",
    "    random_state=10,\n",
    ")"
   ]
  },
  {
   "cell_type": "code",
   "execution_count": null,
   "id": "34649604",
   "metadata": {},
   "outputs": [],
   "source": [
    "# Exploramos las dimensiones de cada conjunto generado\n",
    "\n",
    "X1_train.shape, X1_test.shape, y1_train.shape, y1_test.shape"
   ]
  },
  {
   "cell_type": "code",
   "execution_count": null,
   "id": "456894d2",
   "metadata": {},
   "outputs": [],
   "source": [
    "# Se crea el model de regresión lineal sin intercepto\n",
    "\n",
    "modelo_rl_sin_intercepto = LinearRegression(fit_intercept=False).fit(X1_train, y1_train)"
   ]
  },
  {
   "cell_type": "code",
   "execution_count": null,
   "id": "3d0b0cc0",
   "metadata": {},
   "outputs": [],
   "source": [
    "# Se realiza predicciones del G3 (Promedio Final)\n",
    "\n",
    "y1_hat = modelo_rl_sin_intercepto.predict(X1_test)"
   ]
  },
  {
   "cell_type": "code",
   "execution_count": null,
   "id": "ee6c136d",
   "metadata": {},
   "outputs": [],
   "source": [
    "# Visualización más ordenada\n",
    "errores_pred_1 = pd.DataFrame({\n",
    "    \"y1_test\": y1_test.values,\n",
    "    \"y1_hat\": y1_hat\n",
    "})\n",
    "\n",
    "errores_pred_1[\"y1_test - y1_hat\"] = errores_pred_1[\"y1_test\"] - errores_pred_1[\"y1_hat\"]"
   ]
  },
  {
   "cell_type": "code",
   "execution_count": null,
   "id": "0d8730b8",
   "metadata": {},
   "outputs": [],
   "source": [
    "errores_pred_1[\"y1_test - y1_hat\"].mean()"
   ]
  },
  {
   "cell_type": "markdown",
   "id": "f6cc00c1",
   "metadata": {},
   "source": [
    "Aquí se puede apreciar que en promedio el modelo se equivoca en un 0.37 la estimación del promedio final (G3), pero este es una mala medida ya que al existir predicciones positivas y negativas estas se cancelan. La solución a esta problematica es elevar al cuadrado estas diferencias muy similar a la solución de la varianza."
   ]
  },
  {
   "cell_type": "code",
   "execution_count": null,
   "id": "fd9a1cb5",
   "metadata": {},
   "outputs": [],
   "source": [
    "# Se eleva las diferencias al cuadrado\n",
    "\n",
    "errores_pred_1[r\"(y1_test - y1_hat)$^2$\"] = errores_pred_1[\"y1_test - y1_hat\"] ** 2"
   ]
  },
  {
   "cell_type": "code",
   "execution_count": null,
   "id": "fbea607e",
   "metadata": {},
   "outputs": [],
   "source": [
    "# Se calcula el promedio de las diferencias al cuadrado\n",
    "errores_pred_1[r\"(y1_test - y1_hat)$^2$\"].mean()\n",
    "\n",
    "np.sqrt(errores_pred_1[r\"(y1_test - y1_hat)$^2$\"].mean())"
   ]
  },
  {
   "cell_type": "markdown",
   "id": "0d008063",
   "metadata": {},
   "source": [
    "En promedio nuestro modelo se equivoca en 4.26 puntos en predecir el promedio final a partir de todas las variables consideradas en el modelo."
   ]
  },
  {
   "cell_type": "markdown",
   "id": "8a7f4ddd",
   "metadata": {},
   "source": [
    "Considerando tanto el Error Cuadratico Medio y la Raiz del error cuadratico medio ya analizados para los modelos. Se selecciona el modelo de regresión lineal con intercepto puesto que estas medidas son menores lo cual indica que se equiva menos en las predicciones de la variable objetivo."
   ]
  },
  {
   "cell_type": "code",
   "execution_count": null,
   "id": "11f0a30c",
   "metadata": {},
   "outputs": [],
   "source": []
  }
 ],
 "metadata": {
  "hide_input": false,
  "kernelspec": {
   "display_name": "Python 3 (ipykernel)",
   "language": "python",
   "name": "python3"
  },
  "language_info": {
   "codemirror_mode": {
    "name": "ipython",
    "version": 3
   },
   "file_extension": ".py",
   "mimetype": "text/x-python",
   "name": "python",
   "nbconvert_exporter": "python",
   "pygments_lexer": "ipython3",
   "version": "3.9.12"
  },
  "toc": {
   "base_numbering": 1,
   "nav_menu": {},
   "number_sections": true,
   "sideBar": true,
   "skip_h1_title": false,
   "title_cell": "Table of Contents",
   "title_sidebar": "Contents",
   "toc_cell": false,
   "toc_position": {},
   "toc_section_display": true,
   "toc_window_display": false
  },
  "varInspector": {
   "cols": {
    "lenName": 16,
    "lenType": 16,
    "lenVar": 40
   },
   "kernels_config": {
    "python": {
     "delete_cmd_postfix": "",
     "delete_cmd_prefix": "del ",
     "library": "var_list.py",
     "varRefreshCmd": "print(var_dic_list())"
    },
    "r": {
     "delete_cmd_postfix": ") ",
     "delete_cmd_prefix": "rm(",
     "library": "var_list.r",
     "varRefreshCmd": "cat(var_dic_list()) "
    }
   },
   "types_to_exclude": [
    "module",
    "function",
    "builtin_function_or_method",
    "instance",
    "_Feature"
   ],
   "window_display": false
  }
 },
 "nbformat": 4,
 "nbformat_minor": 5
}
